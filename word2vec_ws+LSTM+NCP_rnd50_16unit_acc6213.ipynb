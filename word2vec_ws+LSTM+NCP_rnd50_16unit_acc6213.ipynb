{
  "nbformat": 4,
  "nbformat_minor": 0,
  "metadata": {
    "colab": {
      "provenance": [],
      "authorship_tag": "ABX9TyPC0fGn65Q3unAmgJPeXhky",
      "include_colab_link": true
    },
    "kernelspec": {
      "name": "python3",
      "display_name": "Python 3"
    },
    "language_info": {
      "name": "python"
    }
  },
  "cells": [
    {
      "cell_type": "markdown",
      "metadata": {
        "id": "view-in-github",
        "colab_type": "text"
      },
      "source": [
        "<a href=\"https://colab.research.google.com/github/macgyver121/IS_DADS/blob/main/word2vec_ws%2BLSTM%2BNCP_rnd50_16unit_acc6213.ipynb\" target=\"_parent\"><img src=\"https://colab.research.google.com/assets/colab-badge.svg\" alt=\"Open In Colab\"/></a>"
      ]
    },
    {
      "cell_type": "markdown",
      "source": [
        "https://github.com/RaRe-Technologies/gensim/wiki/Migrating-from-Gensim-3.x-to-4"
      ],
      "metadata": {
        "id": "ZOL5LrxfqGjB"
      }
    },
    {
      "cell_type": "markdown",
      "source": [
        "# Install Library"
      ],
      "metadata": {
        "id": "TwCgcCEjaaIC"
      }
    },
    {
      "cell_type": "code",
      "source": [
        "pip install pythainlp"
      ],
      "metadata": {
        "colab": {
          "base_uri": "https://localhost:8080/"
        },
        "id": "nciBDatAaZt4",
        "outputId": "40dd45c8-4e8d-4900-84ad-fce12e000bfa"
      },
      "execution_count": 1,
      "outputs": [
        {
          "output_type": "stream",
          "name": "stdout",
          "text": [
            "Looking in indexes: https://pypi.org/simple, https://us-python.pkg.dev/colab-wheels/public/simple/\n",
            "Collecting pythainlp\n",
            "  Downloading pythainlp-4.0.1-py3-none-any.whl (13.4 MB)\n",
            "\u001b[2K     \u001b[90m━━━━━━━━━━━━━━━━━━━━━━━━━━━━━━━━━━━━━━━━\u001b[0m \u001b[32m13.4/13.4 MB\u001b[0m \u001b[31m92.8 MB/s\u001b[0m eta \u001b[36m0:00:00\u001b[0m\n",
            "\u001b[?25hRequirement already satisfied: requests>=2.22.0 in /usr/local/lib/python3.10/dist-packages (from pythainlp) (2.27.1)\n",
            "Requirement already satisfied: urllib3<1.27,>=1.21.1 in /usr/local/lib/python3.10/dist-packages (from requests>=2.22.0->pythainlp) (1.26.15)\n",
            "Requirement already satisfied: certifi>=2017.4.17 in /usr/local/lib/python3.10/dist-packages (from requests>=2.22.0->pythainlp) (2022.12.7)\n",
            "Requirement already satisfied: charset-normalizer~=2.0.0 in /usr/local/lib/python3.10/dist-packages (from requests>=2.22.0->pythainlp) (2.0.12)\n",
            "Requirement already satisfied: idna<4,>=2.5 in /usr/local/lib/python3.10/dist-packages (from requests>=2.22.0->pythainlp) (3.4)\n",
            "Installing collected packages: pythainlp\n",
            "Successfully installed pythainlp-4.0.1\n"
          ]
        }
      ]
    },
    {
      "cell_type": "code",
      "execution_count": 2,
      "metadata": {
        "colab": {
          "base_uri": "https://localhost:8080/"
        },
        "id": "CKY_yhYiaODS",
        "outputId": "6f912f8f-3097-4797-e0d6-66c32d92f493"
      },
      "outputs": [
        {
          "output_type": "stream",
          "name": "stdout",
          "text": [
            "Looking in indexes: https://pypi.org/simple, https://us-python.pkg.dev/colab-wheels/public/simple/\n",
            "Collecting emoji\n",
            "  Downloading emoji-2.2.0.tar.gz (240 kB)\n",
            "\u001b[2K     \u001b[90m━━━━━━━━━━━━━━━━━━━━━━━━━━━━━━━━━━━━━━━\u001b[0m \u001b[32m240.9/240.9 kB\u001b[0m \u001b[31m9.7 MB/s\u001b[0m eta \u001b[36m0:00:00\u001b[0m\n",
            "\u001b[?25h  Preparing metadata (setup.py) ... \u001b[?25l\u001b[?25hdone\n",
            "Building wheels for collected packages: emoji\n",
            "  Building wheel for emoji (setup.py) ... \u001b[?25l\u001b[?25hdone\n",
            "  Created wheel for emoji: filename=emoji-2.2.0-py3-none-any.whl size=234911 sha256=a2caa6f35f1190fb02f8344680555bdd8b8b9ca8d751ed5a1dfa954318a23a94\n",
            "  Stored in directory: /root/.cache/pip/wheels/02/3d/88/51a592b9ad17e7899126563698b4e3961983ebe85747228ba6\n",
            "Successfully built emoji\n",
            "Installing collected packages: emoji\n",
            "Successfully installed emoji-2.2.0\n"
          ]
        }
      ],
      "source": [
        "pip install emoji"
      ]
    },
    {
      "cell_type": "code",
      "source": [
        "!pip install gensim"
      ],
      "metadata": {
        "id": "zpJJ3lVwbVWp",
        "colab": {
          "base_uri": "https://localhost:8080/"
        },
        "outputId": "72a5dbba-5f93-4d50-a5a6-a356963034ea"
      },
      "execution_count": 3,
      "outputs": [
        {
          "output_type": "stream",
          "name": "stdout",
          "text": [
            "Looking in indexes: https://pypi.org/simple, https://us-python.pkg.dev/colab-wheels/public/simple/\n",
            "Requirement already satisfied: gensim in /usr/local/lib/python3.10/dist-packages (4.3.1)\n",
            "Requirement already satisfied: numpy>=1.18.5 in /usr/local/lib/python3.10/dist-packages (from gensim) (1.22.4)\n",
            "Requirement already satisfied: scipy>=1.7.0 in /usr/local/lib/python3.10/dist-packages (from gensim) (1.10.1)\n",
            "Requirement already satisfied: smart-open>=1.8.1 in /usr/local/lib/python3.10/dist-packages (from gensim) (6.3.0)\n"
          ]
        }
      ]
    },
    {
      "cell_type": "code",
      "source": [
        "import pandas as pd\n",
        "import numpy as np\n",
        "import re\n",
        "import emoji\n",
        "\n",
        "from pythainlp.tokenize import word_tokenize\n",
        "from keras.preprocessing.text import Tokenizer\n",
        "from keras.utils import pad_sequences\n",
        "\n",
        "from gensim.test.utils import common_texts\n",
        "from gensim.models import Word2Vec\n",
        "\n",
        "from keras.layers import Embedding\n",
        "from keras.models import Sequential\n",
        "from keras.layers import LSTM, Dense, Dropout\n",
        "from keras.metrics import Precision, Recall\n",
        "from keras.callbacks import History\n",
        "\n",
        "import tensorflow as tf\n",
        "\n",
        "from sklearn.model_selection import train_test_split\n",
        "from imblearn.over_sampling import SMOTE\n",
        "\n",
        "import matplotlib.pyplot as plt\n",
        "\n",
        "from datetime import datetime\n",
        "from keras import callbacks\n",
        "\n",
        "import keras.backend as K"
      ],
      "metadata": {
        "id": "dBo6iDSfagPi"
      },
      "execution_count": 4,
      "outputs": []
    },
    {
      "cell_type": "markdown",
      "source": [
        "# Import file"
      ],
      "metadata": {
        "id": "h-mDrdOSamlA"
      }
    },
    {
      "cell_type": "code",
      "source": [
        "from google.colab import drive\n",
        "drive.mount('/content/drive')"
      ],
      "metadata": {
        "colab": {
          "base_uri": "https://localhost:8080/"
        },
        "id": "QpRBwP_nvB0X",
        "outputId": "69fd17ef-c74f-459c-9e89-3f2092f65124"
      },
      "execution_count": 5,
      "outputs": [
        {
          "output_type": "stream",
          "name": "stdout",
          "text": [
            "Mounted at /content/drive\n"
          ]
        }
      ]
    },
    {
      "cell_type": "code",
      "source": [
        "# import csv file\n",
        "df = pd.read_csv('/content/drive/MyDrive/wsdata_all.csv', delimiter=',')"
      ],
      "metadata": {
        "id": "ZIw44sCVanmY"
      },
      "execution_count": 6,
      "outputs": []
    },
    {
      "cell_type": "code",
      "source": [
        "df.loc[:,'text'] = df.loc[:,'text'].map(word_tokenize)"
      ],
      "metadata": {
        "id": "C5x-zshqazP1"
      },
      "execution_count": 7,
      "outputs": []
    },
    {
      "cell_type": "code",
      "source": [
        "df"
      ],
      "metadata": {
        "colab": {
          "base_uri": "https://localhost:8080/",
          "height": 0
        },
        "id": "QaM7YZzBa0rX",
        "outputId": "f345d84a-7fc0-4da6-d5be-eb1b99fbb181"
      },
      "execution_count": 8,
      "outputs": [
        {
          "output_type": "execute_result",
          "data": {
            "text/plain": [
              "       label                                               text\n",
              "0          1  [จองแล้ว, นา, จา,  , Mitsubishi,  , Attrage,  ...\n",
              "1          1  [ศักราช, !,  , นายกฯ,  , แถลงข่าว, การแข่งขัน,...\n",
              "2          1                         [บัตรสมาชิก, ลด, ไหม, คับ]\n",
              "3          1                        [สนใจ,  , new,  , mazda, 2]\n",
              "4          0  [,,  , Juke,  , :,  , รถ, วะ,  , ประหลาด,  , C...\n",
              "...      ...                                                ...\n",
              "26608      0  [ลงมา,  , ดี, เท่าเดิม,   , แวะ, มาหา, เซเว่น,...\n",
              "26609      1  [แพนด้า, ซิ่ง,  , มุมมอง, แตกต่าง, ลงตัว, สไตล...\n",
              "26610      0                                              [ดอม]\n",
              "26611      1  [เจมส์,  , บอนด์,  , ขับ, โตโยต้า, อัลติส,  , ...\n",
              "26612      1                            [สิ,  , บาร์, บี, ก้อน]\n",
              "\n",
              "[26613 rows x 2 columns]"
            ],
            "text/html": [
              "\n",
              "  <div id=\"df-17f7ee04-2fd7-49cc-a500-76ded913b5e4\">\n",
              "    <div class=\"colab-df-container\">\n",
              "      <div>\n",
              "<style scoped>\n",
              "    .dataframe tbody tr th:only-of-type {\n",
              "        vertical-align: middle;\n",
              "    }\n",
              "\n",
              "    .dataframe tbody tr th {\n",
              "        vertical-align: top;\n",
              "    }\n",
              "\n",
              "    .dataframe thead th {\n",
              "        text-align: right;\n",
              "    }\n",
              "</style>\n",
              "<table border=\"1\" class=\"dataframe\">\n",
              "  <thead>\n",
              "    <tr style=\"text-align: right;\">\n",
              "      <th></th>\n",
              "      <th>label</th>\n",
              "      <th>text</th>\n",
              "    </tr>\n",
              "  </thead>\n",
              "  <tbody>\n",
              "    <tr>\n",
              "      <th>0</th>\n",
              "      <td>1</td>\n",
              "      <td>[จองแล้ว, นา, จา,  , Mitsubishi,  , Attrage,  ...</td>\n",
              "    </tr>\n",
              "    <tr>\n",
              "      <th>1</th>\n",
              "      <td>1</td>\n",
              "      <td>[ศักราช, !,  , นายกฯ,  , แถลงข่าว, การแข่งขัน,...</td>\n",
              "    </tr>\n",
              "    <tr>\n",
              "      <th>2</th>\n",
              "      <td>1</td>\n",
              "      <td>[บัตรสมาชิก, ลด, ไหม, คับ]</td>\n",
              "    </tr>\n",
              "    <tr>\n",
              "      <th>3</th>\n",
              "      <td>1</td>\n",
              "      <td>[สนใจ,  , new,  , mazda, 2]</td>\n",
              "    </tr>\n",
              "    <tr>\n",
              "      <th>4</th>\n",
              "      <td>0</td>\n",
              "      <td>[,,  , Juke,  , :,  , รถ, วะ,  , ประหลาด,  , C...</td>\n",
              "    </tr>\n",
              "    <tr>\n",
              "      <th>...</th>\n",
              "      <td>...</td>\n",
              "      <td>...</td>\n",
              "    </tr>\n",
              "    <tr>\n",
              "      <th>26608</th>\n",
              "      <td>0</td>\n",
              "      <td>[ลงมา,  , ดี, เท่าเดิม,   , แวะ, มาหา, เซเว่น,...</td>\n",
              "    </tr>\n",
              "    <tr>\n",
              "      <th>26609</th>\n",
              "      <td>1</td>\n",
              "      <td>[แพนด้า, ซิ่ง,  , มุมมอง, แตกต่าง, ลงตัว, สไตล...</td>\n",
              "    </tr>\n",
              "    <tr>\n",
              "      <th>26610</th>\n",
              "      <td>0</td>\n",
              "      <td>[ดอม]</td>\n",
              "    </tr>\n",
              "    <tr>\n",
              "      <th>26611</th>\n",
              "      <td>1</td>\n",
              "      <td>[เจมส์,  , บอนด์,  , ขับ, โตโยต้า, อัลติส,  , ...</td>\n",
              "    </tr>\n",
              "    <tr>\n",
              "      <th>26612</th>\n",
              "      <td>1</td>\n",
              "      <td>[สิ,  , บาร์, บี, ก้อน]</td>\n",
              "    </tr>\n",
              "  </tbody>\n",
              "</table>\n",
              "<p>26613 rows × 2 columns</p>\n",
              "</div>\n",
              "      <button class=\"colab-df-convert\" onclick=\"convertToInteractive('df-17f7ee04-2fd7-49cc-a500-76ded913b5e4')\"\n",
              "              title=\"Convert this dataframe to an interactive table.\"\n",
              "              style=\"display:none;\">\n",
              "        \n",
              "  <svg xmlns=\"http://www.w3.org/2000/svg\" height=\"24px\"viewBox=\"0 0 24 24\"\n",
              "       width=\"24px\">\n",
              "    <path d=\"M0 0h24v24H0V0z\" fill=\"none\"/>\n",
              "    <path d=\"M18.56 5.44l.94 2.06.94-2.06 2.06-.94-2.06-.94-.94-2.06-.94 2.06-2.06.94zm-11 1L8.5 8.5l.94-2.06 2.06-.94-2.06-.94L8.5 2.5l-.94 2.06-2.06.94zm10 10l.94 2.06.94-2.06 2.06-.94-2.06-.94-.94-2.06-.94 2.06-2.06.94z\"/><path d=\"M17.41 7.96l-1.37-1.37c-.4-.4-.92-.59-1.43-.59-.52 0-1.04.2-1.43.59L10.3 9.45l-7.72 7.72c-.78.78-.78 2.05 0 2.83L4 21.41c.39.39.9.59 1.41.59.51 0 1.02-.2 1.41-.59l7.78-7.78 2.81-2.81c.8-.78.8-2.07 0-2.86zM5.41 20L4 18.59l7.72-7.72 1.47 1.35L5.41 20z\"/>\n",
              "  </svg>\n",
              "      </button>\n",
              "      \n",
              "  <style>\n",
              "    .colab-df-container {\n",
              "      display:flex;\n",
              "      flex-wrap:wrap;\n",
              "      gap: 12px;\n",
              "    }\n",
              "\n",
              "    .colab-df-convert {\n",
              "      background-color: #E8F0FE;\n",
              "      border: none;\n",
              "      border-radius: 50%;\n",
              "      cursor: pointer;\n",
              "      display: none;\n",
              "      fill: #1967D2;\n",
              "      height: 32px;\n",
              "      padding: 0 0 0 0;\n",
              "      width: 32px;\n",
              "    }\n",
              "\n",
              "    .colab-df-convert:hover {\n",
              "      background-color: #E2EBFA;\n",
              "      box-shadow: 0px 1px 2px rgba(60, 64, 67, 0.3), 0px 1px 3px 1px rgba(60, 64, 67, 0.15);\n",
              "      fill: #174EA6;\n",
              "    }\n",
              "\n",
              "    [theme=dark] .colab-df-convert {\n",
              "      background-color: #3B4455;\n",
              "      fill: #D2E3FC;\n",
              "    }\n",
              "\n",
              "    [theme=dark] .colab-df-convert:hover {\n",
              "      background-color: #434B5C;\n",
              "      box-shadow: 0px 1px 3px 1px rgba(0, 0, 0, 0.15);\n",
              "      filter: drop-shadow(0px 1px 2px rgba(0, 0, 0, 0.3));\n",
              "      fill: #FFFFFF;\n",
              "    }\n",
              "  </style>\n",
              "\n",
              "      <script>\n",
              "        const buttonEl =\n",
              "          document.querySelector('#df-17f7ee04-2fd7-49cc-a500-76ded913b5e4 button.colab-df-convert');\n",
              "        buttonEl.style.display =\n",
              "          google.colab.kernel.accessAllowed ? 'block' : 'none';\n",
              "\n",
              "        async function convertToInteractive(key) {\n",
              "          const element = document.querySelector('#df-17f7ee04-2fd7-49cc-a500-76ded913b5e4');\n",
              "          const dataTable =\n",
              "            await google.colab.kernel.invokeFunction('convertToInteractive',\n",
              "                                                     [key], {});\n",
              "          if (!dataTable) return;\n",
              "\n",
              "          const docLinkHtml = 'Like what you see? Visit the ' +\n",
              "            '<a target=\"_blank\" href=https://colab.research.google.com/notebooks/data_table.ipynb>data table notebook</a>'\n",
              "            + ' to learn more about interactive tables.';\n",
              "          element.innerHTML = '';\n",
              "          dataTable['output_type'] = 'display_data';\n",
              "          await google.colab.output.renderOutput(dataTable, element);\n",
              "          const docLink = document.createElement('div');\n",
              "          docLink.innerHTML = docLinkHtml;\n",
              "          element.appendChild(docLink);\n",
              "        }\n",
              "      </script>\n",
              "    </div>\n",
              "  </div>\n",
              "  "
            ]
          },
          "metadata": {},
          "execution_count": 8
        }
      ]
    },
    {
      "cell_type": "markdown",
      "source": [
        "## create list of text"
      ],
      "metadata": {
        "id": "P6iE5yv0a4dR"
      }
    },
    {
      "cell_type": "code",
      "source": [
        "sent = [row for row in df['text']]"
      ],
      "metadata": {
        "id": "0fGheMYJa3Vz"
      },
      "execution_count": 9,
      "outputs": []
    },
    {
      "cell_type": "code",
      "source": [
        "# Average String lengths in list\n",
        "# using map() + sum() + len()\n",
        "res = sum(map(len, sent))/float(len(sent))\n",
        " \n",
        "# printing result\n",
        "print(\"The Average length of String in list is : \" + str(res))"
      ],
      "metadata": {
        "colab": {
          "base_uri": "https://localhost:8080/"
        },
        "id": "_7CKV5q0dSpQ",
        "outputId": "8050eb0d-4af2-4d96-8229-bcb022fbdb7a"
      },
      "execution_count": 10,
      "outputs": [
        {
          "output_type": "stream",
          "name": "stdout",
          "text": [
            "The Average length of String in list is : 18.96629466801939\n"
          ]
        }
      ]
    },
    {
      "cell_type": "code",
      "source": [
        "sent[2]"
      ],
      "metadata": {
        "colab": {
          "base_uri": "https://localhost:8080/"
        },
        "id": "TEuYfxmXeY2S",
        "outputId": "c88fbd6b-db37-4156-c9e9-50e384da1522"
      },
      "execution_count": 11,
      "outputs": [
        {
          "output_type": "execute_result",
          "data": {
            "text/plain": [
              "['บัตรสมาชิก', 'ลด', 'ไหม', 'คับ']"
            ]
          },
          "metadata": {},
          "execution_count": 11
        }
      ]
    },
    {
      "cell_type": "code",
      "source": [
        "#len(max(sent))"
      ],
      "metadata": {
        "id": "LodFZCWjeqwE"
      },
      "execution_count": 12,
      "outputs": []
    },
    {
      "cell_type": "markdown",
      "source": [
        "## Tokenize and pad sequence"
      ],
      "metadata": {
        "id": "G9iQPFgna-dD"
      }
    },
    {
      "cell_type": "code",
      "source": [
        "tokenizer = Tokenizer()\n",
        "tokenizer.fit_on_texts(df.text)"
      ],
      "metadata": {
        "id": "Bam1i31QbBa3"
      },
      "execution_count": 13,
      "outputs": []
    },
    {
      "cell_type": "code",
      "source": [
        "# create X\n",
        "X = pad_sequences(tokenizer.texts_to_sequences(df.text), maxlen=40)\n",
        "X"
      ],
      "metadata": {
        "colab": {
          "base_uri": "https://localhost:8080/"
        },
        "id": "vB2-Kx73bC1l",
        "outputId": "f06bca68-443d-4cb0-f008-d38dbecd40e8"
      },
      "execution_count": 14,
      "outputs": [
        {
          "output_type": "execute_result",
          "data": {
            "text/plain": [
              "array([[   0,    0,    0, ...,    1,  350, 3862],\n",
              "       [   0,    0,    0, ...,    1,  770, 3047],\n",
              "       [   0,    0,    0, ...,   76,   40,   56],\n",
              "       ...,\n",
              "       [   0,    0,    0, ...,    0,    0, 8041],\n",
              "       [   0,    0,    0, ..., 1043,    1, 3983],\n",
              "       [   0,    0,    0, ...,  588,  330,   39]], dtype=int32)"
            ]
          },
          "metadata": {},
          "execution_count": 14
        }
      ]
    },
    {
      "cell_type": "code",
      "source": [
        "# create y\n",
        "y = df['label']\n",
        "y.shape"
      ],
      "metadata": {
        "colab": {
          "base_uri": "https://localhost:8080/"
        },
        "id": "v8oFFUKBcZhi",
        "outputId": "970a2454-5a96-47ef-926b-e733c8fb64d7"
      },
      "execution_count": 15,
      "outputs": [
        {
          "output_type": "execute_result",
          "data": {
            "text/plain": [
              "(26613,)"
            ]
          },
          "metadata": {},
          "execution_count": 15
        }
      ]
    },
    {
      "cell_type": "markdown",
      "source": [
        "# Load Word2Vec(TNCc5model)"
      ],
      "metadata": {
        "id": "MQ3L6jt0bHkH"
      }
    },
    {
      "cell_type": "code",
      "source": [
        "# load pretrained model\n",
        "model = Word2Vec.load(\"http://www.arts.chula.ac.th/ling/wp-content/uploads/TNCc5model.bin\") "
      ],
      "metadata": {
        "id": "f6UYLwSWbFU2"
      },
      "execution_count": 16,
      "outputs": []
    },
    {
      "cell_type": "code",
      "source": [
        "# model.save(\"TNCc5model.model\")"
      ],
      "metadata": {
        "id": "_tgHSsMylxAB"
      },
      "execution_count": 17,
      "outputs": []
    },
    {
      "cell_type": "code",
      "source": [
        "# model = Word2Vec.load(\"TNCc5model.model\")"
      ],
      "metadata": {
        "id": "853UbEKTlyXp"
      },
      "execution_count": 18,
      "outputs": []
    },
    {
      "cell_type": "code",
      "source": [
        "# create vocab_size, embedding_dim and embedding_matrix\n",
        "vocab_size = len(model.wv)\n",
        "embedding_dim = model.vector_size\n",
        "embedding_matrix = np.zeros((vocab_size, embedding_dim))"
      ],
      "metadata": {
        "id": "KsMBJPPNbYqS"
      },
      "execution_count": 19,
      "outputs": []
    },
    {
      "cell_type": "code",
      "source": [
        "for i, word in enumerate(model.wv):\n",
        "    embedding_matrix[i] = word"
      ],
      "metadata": {
        "id": "Qytn5MUgbxxi"
      },
      "execution_count": null,
      "outputs": []
    },
    {
      "cell_type": "code",
      "source": [
        "embedding_matrix[31077]"
      ],
      "metadata": {
        "colab": {
          "base_uri": "https://localhost:8080/"
        },
        "id": "i2A5tQDHbyZJ",
        "outputId": "394f2e64-cd4f-45b6-f85d-5af5ca077a59"
      },
      "execution_count": 21,
      "outputs": [
        {
          "output_type": "execute_result",
          "data": {
            "text/plain": [
              "array([-0.08747477, -0.03003867,  0.0696032 ,  0.03697103, -0.04840473,\n",
              "        0.04570374,  0.08035568,  0.09319719,  0.0328302 ,  0.0205396 ,\n",
              "        0.05725439,  0.07493409, -0.05307385,  0.06657625,  0.02432919,\n",
              "       -0.01523621, -0.03918364,  0.00505913,  0.09474613,  0.07713508,\n",
              "        0.01310679,  0.01618158,  0.03159253, -0.05961249, -0.00540888,\n",
              "        0.01102536,  0.03336877, -0.09733387, -0.0455462 ,  0.00984617,\n",
              "        0.0461374 ,  0.04063138, -0.01614906,  0.02336541, -0.05779864,\n",
              "       -0.01610914, -0.09162895, -0.06487005, -0.01570138,  0.01779037,\n",
              "       -0.01921744, -0.01817694,  0.12782034,  0.0127709 , -0.00602525,\n",
              "       -0.03969072,  0.01731815,  0.00555995,  0.04609034,  0.05480786,\n",
              "        0.05582551, -0.02981856, -0.01753935, -0.03173018,  0.03811059,\n",
              "        0.08742324, -0.03593688, -0.08428604,  0.00821297, -0.03246153,\n",
              "       -0.04117111,  0.11976431, -0.02667627, -0.03977206, -0.01023334,\n",
              "        0.09782189,  0.02933291, -0.05686831,  0.0734435 , -0.03232438,\n",
              "        0.03366319,  0.02777745, -0.01323282,  0.04059448,  0.01851271,\n",
              "        0.02541859, -0.01944041, -0.00204206, -0.02037049,  0.09079952,\n",
              "        0.06050802, -0.0402979 ,  0.06670228,  0.09467505, -0.00335809,\n",
              "       -0.01529406, -0.05300978, -0.00702781, -0.0264109 , -0.04785226,\n",
              "        0.07884577,  0.05271694, -0.05227912, -0.06690811,  0.03541892,\n",
              "       -0.03044322,  0.03644468, -0.03583029,  0.00813333,  0.00560054])"
            ]
          },
          "metadata": {},
          "execution_count": 21
        }
      ]
    },
    {
      "cell_type": "markdown",
      "source": [
        "# Create model"
      ],
      "metadata": {
        "id": "T7e4AD-Rb3u-"
      }
    },
    {
      "cell_type": "code",
      "source": [
        "embedding_layer = Embedding(vocab_size, embedding_dim, weights=[embedding_matrix], input_length=40, trainable=False)"
      ],
      "metadata": {
        "id": "RegMnGBtb0Q-"
      },
      "execution_count": 22,
      "outputs": []
    },
    {
      "cell_type": "code",
      "source": [
        "import keras\n",
        "from tensorflow.keras.layers import SpatialDropout1D"
      ],
      "metadata": {
        "id": "WdgivC151MN1"
      },
      "execution_count": 23,
      "outputs": []
    },
    {
      "cell_type": "code",
      "source": [
        "!pip install seaborn ncps"
      ],
      "metadata": {
        "colab": {
          "base_uri": "https://localhost:8080/"
        },
        "id": "54Frc9nvvU_p",
        "outputId": "9e8ac719-a1c3-4d67-c7fe-550915e0598b"
      },
      "execution_count": 24,
      "outputs": [
        {
          "output_type": "stream",
          "name": "stdout",
          "text": [
            "Looking in indexes: https://pypi.org/simple, https://us-python.pkg.dev/colab-wheels/public/simple/\n",
            "Requirement already satisfied: seaborn in /usr/local/lib/python3.10/dist-packages (0.12.2)\n",
            "Collecting ncps\n",
            "  Downloading ncps-0.0.7-py3-none-any.whl (44 kB)\n",
            "\u001b[2K     \u001b[90m━━━━━━━━━━━━━━━━━━━━━━━━━━━━━━━━━━━━━━━━\u001b[0m \u001b[32m44.8/44.8 kB\u001b[0m \u001b[31m6.2 MB/s\u001b[0m eta \u001b[36m0:00:00\u001b[0m\n",
            "\u001b[?25hRequirement already satisfied: numpy!=1.24.0,>=1.17 in /usr/local/lib/python3.10/dist-packages (from seaborn) (1.22.4)\n",
            "Requirement already satisfied: pandas>=0.25 in /usr/local/lib/python3.10/dist-packages (from seaborn) (1.5.3)\n",
            "Requirement already satisfied: matplotlib!=3.6.1,>=3.1 in /usr/local/lib/python3.10/dist-packages (from seaborn) (3.7.1)\n",
            "Requirement already satisfied: future in /usr/local/lib/python3.10/dist-packages (from ncps) (0.18.3)\n",
            "Requirement already satisfied: packaging in /usr/local/lib/python3.10/dist-packages (from ncps) (23.1)\n",
            "Requirement already satisfied: contourpy>=1.0.1 in /usr/local/lib/python3.10/dist-packages (from matplotlib!=3.6.1,>=3.1->seaborn) (1.0.7)\n",
            "Requirement already satisfied: cycler>=0.10 in /usr/local/lib/python3.10/dist-packages (from matplotlib!=3.6.1,>=3.1->seaborn) (0.11.0)\n",
            "Requirement already satisfied: fonttools>=4.22.0 in /usr/local/lib/python3.10/dist-packages (from matplotlib!=3.6.1,>=3.1->seaborn) (4.39.3)\n",
            "Requirement already satisfied: kiwisolver>=1.0.1 in /usr/local/lib/python3.10/dist-packages (from matplotlib!=3.6.1,>=3.1->seaborn) (1.4.4)\n",
            "Requirement already satisfied: pillow>=6.2.0 in /usr/local/lib/python3.10/dist-packages (from matplotlib!=3.6.1,>=3.1->seaborn) (8.4.0)\n",
            "Requirement already satisfied: pyparsing>=2.3.1 in /usr/local/lib/python3.10/dist-packages (from matplotlib!=3.6.1,>=3.1->seaborn) (3.0.9)\n",
            "Requirement already satisfied: python-dateutil>=2.7 in /usr/local/lib/python3.10/dist-packages (from matplotlib!=3.6.1,>=3.1->seaborn) (2.8.2)\n",
            "Requirement already satisfied: pytz>=2020.1 in /usr/local/lib/python3.10/dist-packages (from pandas>=0.25->seaborn) (2022.7.1)\n",
            "Requirement already satisfied: six>=1.5 in /usr/local/lib/python3.10/dist-packages (from python-dateutil>=2.7->matplotlib!=3.6.1,>=3.1->seaborn) (1.16.0)\n",
            "Installing collected packages: ncps\n",
            "Successfully installed ncps-0.0.7\n"
          ]
        }
      ]
    },
    {
      "cell_type": "code",
      "source": [
        "import numpy as np\n",
        "import os\n",
        "from tensorflow import keras\n",
        "from ncps import wirings\n",
        "from ncps.tf import LTC\n",
        "import matplotlib.pyplot as plt\n",
        "import seaborn as sns"
      ],
      "metadata": {
        "id": "iGzRl_50vSK4"
      },
      "execution_count": 25,
      "outputs": []
    },
    {
      "cell_type": "code",
      "source": [
        "fc_wiring = wirings.FullyConnected(8, 3)  # 8 units, 1 of which is a motor neuron\n",
        "rnd_wiring = wirings.Random(16, 3,sparsity_level=0.5)  # 8 units, 1 motor neuron\n",
        "ncp_arch = wirings.AutoNCP(8,3) # 8 units, 1 motor neuron"
      ],
      "metadata": {
        "id": "FOfgPjMkvNS8"
      },
      "execution_count": 45,
      "outputs": []
    },
    {
      "cell_type": "code",
      "source": [
        "model = Sequential()\n",
        "model.add(embedding_layer)\n",
        "model.add(Dropout(0.1))\n",
        "model.add(LSTM(128, return_sequences=True))\n",
        "model.add(Dropout(0.1))\n",
        "#model.add(LTC(fc_wiring, return_sequences=True))\n",
        "#model.add(LSTM(128, return_sequences=True))\n",
        "#model.add(LTC(rnd_wiring))\n",
        "#model.add(LTC(fc_wiring, return_sequences=True))\n",
        "#model.add(Dropout(0.1))\n",
        "#model.add(LSTM(128))\n",
        "model.add(LTC(rnd_wiring))\n",
        "#model.add(LTC(rnd_wiring, return_sequences=True))\n",
        "model.add(Dropout(0.2))\n",
        "model.add(Dense(3, activation='softmax'))\n",
        "#model.add(LTC(rnd_wiring))\n",
        "\n",
        "model.compile(optimizer='adamax', loss='categorical_crossentropy', metrics=['accuracy', Precision(), Recall()])\n",
        "print(model.summary())"
      ],
      "metadata": {
        "colab": {
          "base_uri": "https://localhost:8080/"
        },
        "id": "NBnkmoUccBwR",
        "outputId": "566c6c21-5b21-49e3-9a7e-ec400b0a9b03"
      },
      "execution_count": 46,
      "outputs": [
        {
          "output_type": "stream",
          "name": "stdout",
          "text": [
            "Model: \"sequential_1\"\n",
            "_________________________________________________________________\n",
            " Layer (type)                Output Shape              Param #   \n",
            "=================================================================\n",
            " embedding (Embedding)       (None, 40, 100)           3107800   \n",
            "                                                                 \n",
            " dropout_3 (Dropout)         (None, 40, 100)           0         \n",
            "                                                                 \n",
            " lstm_1 (LSTM)               (None, 40, 128)           117248    \n",
            "                                                                 \n",
            " dropout_4 (Dropout)         (None, 40, 128)           0         \n",
            "                                                                 \n",
            " ltc_1 (LTC)                 (None, 3)                 9526      \n",
            "                                                                 \n",
            " dropout_5 (Dropout)         (None, 3)                 0         \n",
            "                                                                 \n",
            " dense_1 (Dense)             (None, 3)                 12        \n",
            "                                                                 \n",
            "=================================================================\n",
            "Total params: 3,234,586\n",
            "Trainable params: 126,786\n",
            "Non-trainable params: 3,107,800\n",
            "_________________________________________________________________\n",
            "None\n"
          ]
        }
      ]
    },
    {
      "cell_type": "code",
      "source": [
        "tf.keras.utils.plot_model(model, show_shapes=True)"
      ],
      "metadata": {
        "colab": {
          "base_uri": "https://localhost:8080/",
          "height": 865
        },
        "id": "t03HOARhcIb1",
        "outputId": "3a6e72e5-9899-4927-f71a-d4f600af0643"
      },
      "execution_count": 47,
      "outputs": [
        {
          "output_type": "execute_result",
          "data": {
            "image/png": "[encoded data removed]",
            "text/plain": [
              "<IPython.core.display.Image object>"
            ]
          },
          "metadata": {},
          "execution_count": 47
        }
      ]
    },
    {
      "cell_type": "markdown",
      "source": [
        "# Splitting Data and prepare X and y"
      ],
      "metadata": {
        "id": "rRWdXZimclOE"
      }
    },
    {
      "cell_type": "code",
      "source": [
        "# Split the data into training and testing sets\n",
        "X_train, X_test, y_train, y_test = train_test_split(X, y, test_size=0.2, random_state=42)"
      ],
      "metadata": {
        "id": "6ai4XKN3cP2O"
      },
      "execution_count": 48,
      "outputs": []
    },
    {
      "cell_type": "code",
      "source": [
        "# Apply SMOTE to the training data\n",
        "smote = SMOTE()\n",
        "X_train_oversampled, y_train_oversampled = smote.fit_resample(X_train, y_train)"
      ],
      "metadata": {
        "id": "nY8UOEWncs10"
      },
      "execution_count": 49,
      "outputs": []
    },
    {
      "cell_type": "code",
      "source": [
        "X_train, X_val, y_train, y_val = train_test_split(X_train_oversampled, y_train_oversampled, test_size=0.25, random_state=1)\n",
        "print('Train Set ->', X_train.shape, y_train.shape)\n",
        "print('Validation Set ->', X_val.shape, y_val.shape)\n",
        "print('Test Set ->', X_test.shape, y_test.shape)"
      ],
      "metadata": {
        "colab": {
          "base_uri": "https://localhost:8080/"
        },
        "id": "kX3ExR2qcuuc",
        "outputId": "823c84a7-95f7-48c5-dd7e-f99e27feeeab"
      },
      "execution_count": 50,
      "outputs": [
        {
          "output_type": "stream",
          "name": "stdout",
          "text": [
            "Train Set -> (27240, 40) (27240,)\n",
            "Validation Set -> (9081, 40) (9081,)\n",
            "Test Set -> (5323, 40) (5323,)\n"
          ]
        }
      ]
    },
    {
      "cell_type": "markdown",
      "source": [
        "## Data distribution"
      ],
      "metadata": {
        "id": "1yT0l_ggcybn"
      }
    },
    {
      "cell_type": "code",
      "source": [
        "CountStatus = pd.value_counts(y_train.values)\n",
        "CountStatus.plot.bar()"
      ],
      "metadata": {
        "colab": {
          "base_uri": "https://localhost:8080/",
          "height": 0
        },
        "id": "wDoKDBTjcwWh",
        "outputId": "a90a3a60-42c6-426c-ed80-47c335b172de"
      },
      "execution_count": 51,
      "outputs": [
        {
          "output_type": "execute_result",
          "data": {
            "text/plain": [
              "<Axes: >"
            ]
          },
          "metadata": {},
          "execution_count": 51
        },
        {
          "output_type": "display_data",
          "data": {
            "text/plain": [
              "<Figure size 640x480 with 1 Axes>"
            ],
            "image/png": "[encoded data removed]"
          },
          "metadata": {}
        }
      ]
    },
    {
      "cell_type": "code",
      "source": [
        "#CountStatus = pd.value_counts(y_val.values)\n",
        "#CountStatus.plot.bar()"
      ],
      "metadata": {
        "id": "1R7kruwdc1cu"
      },
      "execution_count": 52,
      "outputs": []
    },
    {
      "cell_type": "code",
      "source": [
        "CountStatus = pd.value_counts(y_test.values)\n",
        "CountStatus.plot.bar()"
      ],
      "metadata": {
        "colab": {
          "base_uri": "https://localhost:8080/",
          "height": 0
        },
        "id": "sLqJiC4Pc7HN",
        "outputId": "b0bfd2f1-fc4a-4774-b4cd-3a9e19a0b84d"
      },
      "execution_count": 53,
      "outputs": [
        {
          "output_type": "execute_result",
          "data": {
            "text/plain": [
              "<Axes: >"
            ]
          },
          "metadata": {},
          "execution_count": 53
        },
        {
          "output_type": "display_data",
          "data": {
            "text/plain": [
              "<Figure size 640x480 with 1 Axes>"
            ],
            "image/png": "[encoded data removed]"
          },
          "metadata": {}
        }
      ]
    },
    {
      "cell_type": "markdown",
      "source": [
        "## create y to 3 output"
      ],
      "metadata": {
        "id": "P1lpVh22dAv1"
      }
    },
    {
      "cell_type": "code",
      "source": [
        "y_train = pd.get_dummies(y_train)\n",
        "y_val = pd.get_dummies(y_val)\n",
        "y_test = pd.get_dummies(y_test)"
      ],
      "metadata": {
        "id": "k36qeckOc-iV"
      },
      "execution_count": 54,
      "outputs": []
    },
    {
      "cell_type": "code",
      "source": [
        "print('Train Set ->', X_train.shape, y_train.shape)\n",
        "print('Validation Set ->', X_val.shape, y_val.shape)\n",
        "print('Test Set ->', X_test.shape, y_test.shape)"
      ],
      "metadata": {
        "colab": {
          "base_uri": "https://localhost:8080/"
        },
        "id": "AHpCNw3rdMUD",
        "outputId": "29007b7e-d37d-4b41-cfe8-1a9e0023e3dc"
      },
      "execution_count": 55,
      "outputs": [
        {
          "output_type": "stream",
          "name": "stdout",
          "text": [
            "Train Set -> (27240, 40) (27240, 3)\n",
            "Validation Set -> (9081, 40) (9081, 3)\n",
            "Test Set -> (5323, 40) (5323, 3)\n"
          ]
        }
      ]
    },
    {
      "cell_type": "markdown",
      "source": [
        "# Train Data"
      ],
      "metadata": {
        "id": "ocHjThyJdQA4"
      }
    },
    {
      "cell_type": "code",
      "source": [
        "start_time = datetime.now()\n",
        "\n",
        "checkpointer = tf.keras.callbacks.ModelCheckpoint(filepath=\"weights.hdf5\", monitor = 'val_accuracy', verbose=1, save_best_only=True)\n",
        "\n",
        "history = model.fit(X_train, y_train, validation_data=(X_val, y_val), epochs=15, batch_size=8, callbacks=[checkpointer])\n",
        "\n",
        "model.load_weights('weights.hdf5')\n",
        "\n",
        "end_time = datetime.now()\n",
        "print('Duration: {}'.format(end_time - start_time))"
      ],
      "metadata": {
        "colab": {
          "base_uri": "https://localhost:8080/"
        },
        "id": "Lv5wx0OidNXi",
        "outputId": "11574eff-a862-4f80-b496-d1ca1452dca3"
      },
      "execution_count": 56,
      "outputs": [
        {
          "output_type": "stream",
          "name": "stdout",
          "text": [
            "Epoch 1/15\n",
            "3405/3405 [==============================] - ETA: 0s - loss: 0.9846 - accuracy: 0.5107 - precision_1: 0.6016 - recall_1: 0.2370\n",
            "Epoch 1: val_accuracy improved from -inf to 0.55390, saving model to weights.hdf5\n",
            "3405/3405 [==============================] - 370s 106ms/step - loss: 0.9846 - accuracy: 0.5107 - precision_1: 0.6016 - recall_1: 0.2370 - val_loss: 0.9274 - val_accuracy: 0.5539 - val_precision_1: 0.6265 - val_recall_1: 0.3796\n",
            "Epoch 2/15\n",
            "3405/3405 [==============================] - ETA: 0s - loss: 0.9318 - accuracy: 0.5423 - precision_1: 0.6129 - recall_1: 0.3533\n",
            "Epoch 2: val_accuracy improved from 0.55390 to 0.57284, saving model to weights.hdf5\n",
            "3405/3405 [==============================] - 360s 106ms/step - loss: 0.9318 - accuracy: 0.5423 - precision_1: 0.6129 - recall_1: 0.3533 - val_loss: 0.8984 - val_accuracy: 0.5728 - val_precision_1: 0.6349 - val_recall_1: 0.4103\n",
            "Epoch 3/15\n",
            "3405/3405 [==============================] - ETA: 0s - loss: 0.8994 - accuracy: 0.5594 - precision_1: 0.6274 - recall_1: 0.3980\n",
            "Epoch 3: val_accuracy improved from 0.57284 to 0.57593, saving model to weights.hdf5\n",
            "3405/3405 [==============================] - 360s 106ms/step - loss: 0.8994 - accuracy: 0.5594 - precision_1: 0.6274 - recall_1: 0.3980 - val_loss: 0.8788 - val_accuracy: 0.5759 - val_precision_1: 0.6423 - val_recall_1: 0.4299\n",
            "Epoch 4/15\n",
            "3405/3405 [==============================] - ETA: 0s - loss: 0.8733 - accuracy: 0.5735 - precision_1: 0.6406 - recall_1: 0.4299\n",
            "Epoch 4: val_accuracy improved from 0.57593 to 0.57890, saving model to weights.hdf5\n",
            "3405/3405 [==============================] - 360s 106ms/step - loss: 0.8733 - accuracy: 0.5735 - precision_1: 0.6406 - recall_1: 0.4299 - val_loss: 0.8651 - val_accuracy: 0.5789 - val_precision_1: 0.6404 - val_recall_1: 0.4578\n",
            "Epoch 5/15\n",
            "3405/3405 [==============================] - ETA: 0s - loss: 0.8485 - accuracy: 0.5938 - precision_1: 0.6550 - recall_1: 0.4566\n",
            "Epoch 5: val_accuracy improved from 0.57890 to 0.58540, saving model to weights.hdf5\n",
            "3405/3405 [==============================] - 348s 102ms/step - loss: 0.8485 - accuracy: 0.5938 - precision_1: 0.6550 - recall_1: 0.4566 - val_loss: 0.8625 - val_accuracy: 0.5854 - val_precision_1: 0.6354 - val_recall_1: 0.4732\n",
            "Epoch 6/15\n",
            "3405/3405 [==============================] - ETA: 0s - loss: 0.8214 - accuracy: 0.6144 - precision_1: 0.6746 - recall_1: 0.4937\n",
            "Epoch 6: val_accuracy did not improve from 0.58540\n",
            "3405/3405 [==============================] - 360s 106ms/step - loss: 0.8214 - accuracy: 0.6144 - precision_1: 0.6746 - recall_1: 0.4937 - val_loss: 0.8554 - val_accuracy: 0.5851 - val_precision_1: 0.6366 - val_recall_1: 0.4822\n",
            "Epoch 7/15\n",
            "3405/3405 [==============================] - ETA: 0s - loss: 0.8042 - accuracy: 0.6237 - precision_1: 0.6878 - recall_1: 0.5089\n",
            "Epoch 7: val_accuracy improved from 0.58540 to 0.58925, saving model to weights.hdf5\n",
            "3405/3405 [==============================] - 360s 106ms/step - loss: 0.8042 - accuracy: 0.6237 - precision_1: 0.6878 - recall_1: 0.5089 - val_loss: 0.8472 - val_accuracy: 0.5893 - val_precision_1: 0.6402 - val_recall_1: 0.4805\n",
            "Epoch 8/15\n",
            "3405/3405 [==============================] - ETA: 0s - loss: 0.7786 - accuracy: 0.6381 - precision_1: 0.6991 - recall_1: 0.5341\n",
            "Epoch 8: val_accuracy improved from 0.58925 to 0.59123, saving model to weights.hdf5\n",
            "3405/3405 [==============================] - 363s 107ms/step - loss: 0.7786 - accuracy: 0.6381 - precision_1: 0.6991 - recall_1: 0.5341 - val_loss: 0.8482 - val_accuracy: 0.5912 - val_precision_1: 0.6339 - val_recall_1: 0.5005\n",
            "Epoch 9/15\n",
            "3405/3405 [==============================] - ETA: 0s - loss: 0.7628 - accuracy: 0.6501 - precision_1: 0.7075 - recall_1: 0.5485\n",
            "Epoch 9: val_accuracy did not improve from 0.59123\n",
            "3405/3405 [==============================] - 360s 106ms/step - loss: 0.7628 - accuracy: 0.6501 - precision_1: 0.7075 - recall_1: 0.5485 - val_loss: 0.8552 - val_accuracy: 0.5907 - val_precision_1: 0.6356 - val_recall_1: 0.5047\n",
            "Epoch 10/15\n",
            "3405/3405 [==============================] - ETA: 0s - loss: 0.7435 - accuracy: 0.6597 - precision_1: 0.7162 - recall_1: 0.5672\n",
            "Epoch 10: val_accuracy did not improve from 0.59123\n",
            "3405/3405 [==============================] - 360s 106ms/step - loss: 0.7435 - accuracy: 0.6597 - precision_1: 0.7162 - recall_1: 0.5672 - val_loss: 0.8882 - val_accuracy: 0.5895 - val_precision_1: 0.6230 - val_recall_1: 0.5247\n",
            "Epoch 11/15\n",
            "3405/3405 [==============================] - ETA: 0s - loss: 0.7207 - accuracy: 0.6714 - precision_1: 0.7267 - recall_1: 0.5830\n",
            "Epoch 11: val_accuracy did not improve from 0.59123\n",
            "3405/3405 [==============================] - 361s 106ms/step - loss: 0.7207 - accuracy: 0.6714 - precision_1: 0.7267 - recall_1: 0.5830 - val_loss: 0.8960 - val_accuracy: 0.5862 - val_precision_1: 0.6141 - val_recall_1: 0.5225\n",
            "Epoch 12/15\n",
            "3405/3405 [==============================] - ETA: 0s - loss: 0.7049 - accuracy: 0.6799 - precision_1: 0.7316 - recall_1: 0.5932\n",
            "Epoch 12: val_accuracy did not improve from 0.59123\n",
            "3405/3405 [==============================] - 361s 106ms/step - loss: 0.7049 - accuracy: 0.6799 - precision_1: 0.7316 - recall_1: 0.5932 - val_loss: 0.8967 - val_accuracy: 0.5897 - val_precision_1: 0.6217 - val_recall_1: 0.5352\n",
            "Epoch 13/15\n",
            "3405/3405 [==============================] - ETA: 0s - loss: 0.6901 - accuracy: 0.6877 - precision_1: 0.7406 - recall_1: 0.6050\n",
            "Epoch 13: val_accuracy improved from 0.59123 to 0.59674, saving model to weights.hdf5\n",
            "3405/3405 [==============================] - 361s 106ms/step - loss: 0.6901 - accuracy: 0.6877 - precision_1: 0.7406 - recall_1: 0.6050 - val_loss: 0.9061 - val_accuracy: 0.5967 - val_precision_1: 0.6210 - val_recall_1: 0.5458\n",
            "Epoch 14/15\n",
            "3405/3405 [==============================] - ETA: 0s - loss: 0.6696 - accuracy: 0.7029 - precision_1: 0.7529 - recall_1: 0.6228\n",
            "Epoch 14: val_accuracy did not improve from 0.59674\n",
            "3405/3405 [==============================] - 348s 102ms/step - loss: 0.6696 - accuracy: 0.7029 - precision_1: 0.7529 - recall_1: 0.6228 - val_loss: 0.8983 - val_accuracy: 0.5907 - val_precision_1: 0.6212 - val_recall_1: 0.5418\n",
            "Epoch 15/15\n",
            "3405/3405 [==============================] - ETA: 0s - loss: 0.6573 - accuracy: 0.7065 - precision_1: 0.7563 - recall_1: 0.6283\n",
            "Epoch 15: val_accuracy did not improve from 0.59674\n",
            "3405/3405 [==============================] - 361s 106ms/step - loss: 0.6573 - accuracy: 0.7065 - precision_1: 0.7563 - recall_1: 0.6283 - val_loss: 0.9229 - val_accuracy: 0.5883 - val_precision_1: 0.6167 - val_recall_1: 0.5260\n",
            "Duration: 1:30:29.709415\n"
          ]
        }
      ]
    },
    {
      "cell_type": "markdown",
      "source": [
        "# Save model"
      ],
      "metadata": {
        "id": "2J9PRSxBeKVG"
      }
    },
    {
      "cell_type": "code",
      "source": [
        "# Save the model architecture & the weights\n",
        "model.save('w2v_ws_lstm.h5')\n",
        "print('Best model saved')"
      ],
      "metadata": {
        "colab": {
          "base_uri": "https://localhost:8080/"
        },
        "id": "Zl9WvBU8eGJw",
        "outputId": "6c4edd70-5c41-46d7-a057-bcb5760cdd3e"
      },
      "execution_count": null,
      "outputs": [
        {
          "output_type": "stream",
          "name": "stdout",
          "text": [
            "Best model saved\n"
          ]
        }
      ]
    },
    {
      "cell_type": "markdown",
      "source": [
        "# Evaluation"
      ],
      "metadata": {
        "id": "eMevlvowe1nZ"
      }
    },
    {
      "cell_type": "code",
      "source": [
        "def f1_score(precision, recall):\n",
        "    ''' Function to calculate f1 score '''\n",
        "    f1_val = 2*(precision*recall)/(precision+recall+K.epsilon())\n",
        "    return f1_val"
      ],
      "metadata": {
        "id": "bSnCB4aJe2jz"
      },
      "execution_count": 57,
      "outputs": []
    },
    {
      "cell_type": "code",
      "source": [
        "# Evaluate model on the test set\n",
        "loss, accuracy, precision, recall = model.evaluate(X_test, y_test, verbose=0)\n",
        "# Print metrics\n",
        "print('')\n",
        "print('Accuracy  : {:.4f}'.format(accuracy))\n",
        "print('Precision : {:.4f}'.format(precision))\n",
        "print('Recall    : {:.4f}'.format(recall))\n",
        "print('F1 Score  : {:.4f}'.format(f1_score(precision, recall)))"
      ],
      "metadata": {
        "colab": {
          "base_uri": "https://localhost:8080/"
        },
        "id": "-cYm57Uie7nQ",
        "outputId": "90e1e9af-4f37-4fb6-fa95-9b75e610796b"
      },
      "execution_count": 58,
      "outputs": [
        {
          "output_type": "stream",
          "name": "stdout",
          "text": [
            "\n",
            "Accuracy  : 0.6213\n",
            "Precision : 0.6594\n",
            "Recall    : 0.5700\n",
            "F1 Score  : 0.6114\n"
          ]
        }
      ]
    },
    {
      "cell_type": "code",
      "source": [
        "def plot_training_hist(history):\n",
        "    '''Function to plot history for accuracy and loss'''    \n",
        "    fig, ax = plt.subplots(1, 2, figsize=(10,4))\n",
        "    # first plot\n",
        "    ax[0].plot(history.history['accuracy'])\n",
        "    ax[0].plot(history.history['val_accuracy'])\n",
        "    ax[0].set_title('Model Accuracy')\n",
        "    ax[0].set_xlabel('epoch')\n",
        "    ax[0].set_ylabel('accuracy')\n",
        "    ax[0].legend(['train', 'validation'], loc='best')\n",
        "    # second plot\n",
        "    ax[1].plot(history.history['loss'])\n",
        "    ax[1].plot(history.history['val_loss'])\n",
        "    ax[1].set_title('Model Loss')\n",
        "    ax[1].set_xlabel('epoch')\n",
        "    ax[1].set_ylabel('loss')\n",
        "    ax[1].legend(['train', 'validation'], loc='best')\n",
        "    \n",
        "plot_training_hist(history)"
      ],
      "metadata": {
        "id": "-OdBkWCpe9pv",
        "colab": {
          "base_uri": "https://localhost:8080/",
          "height": 410
        },
        "outputId": "8a2e23f2-8e58-497b-bc31-fb99d6782c13"
      },
      "execution_count": 59,
      "outputs": [
        {
          "output_type": "display_data",
          "data": {
            "text/plain": [
              "<Figure size 1000x400 with 2 Axes>"
            ],
            "image/png": "[encoded data removed]"
          },
          "metadata": {}
        }
      ]
    },
    {
      "cell_type": "code",
      "source": [
        "from sklearn.metrics import confusion_matrix\n",
        "import seaborn as sns\n",
        "\n",
        "def plot_confusion_matrix(model, X_test, y_test):\n",
        "    '''Function to plot confusion matrix for the passed model and the data'''\n",
        "    \n",
        "    sentiment_classes = ['Positive', 'Neutral', 'Negative']\n",
        "    # use model to do the prediction\n",
        "    y_pred = model.predict(X_test)\n",
        "    # compute confusion matrix\n",
        "    cm = confusion_matrix(np.argmax(np.array(y_test),axis=1), np.argmax(y_pred, axis=1))\n",
        "    # plot confusion matrix\n",
        "    plt.figure(figsize=(8,6))\n",
        "    sns.heatmap(cm, cmap=plt.cm.Blues, annot=True, fmt='d', \n",
        "                xticklabels=sentiment_classes,\n",
        "                yticklabels=sentiment_classes)\n",
        "    plt.title('Confusion matrix', fontsize=16)\n",
        "    plt.xlabel('Predicted label', fontsize=12)\n",
        "    plt.ylabel('Actual label', fontsize=12)\n",
        "    \n",
        "plot_confusion_matrix(model, X_test, y_test)"
      ],
      "metadata": {
        "id": "9HkjfClNfBhy",
        "colab": {
          "base_uri": "https://localhost:8080/",
          "height": 587
        },
        "outputId": "961fd0cd-67af-4cb1-992c-4d4e9147dc10"
      },
      "execution_count": 60,
      "outputs": [
        {
          "output_type": "stream",
          "name": "stdout",
          "text": [
            "167/167 [==============================] - 13s 72ms/step\n"
          ]
        },
        {
          "output_type": "display_data",
          "data": {
            "text/plain": [
              "<Figure size 800x600 with 2 Axes>"
            ],
            "image/png": "[encoded data removed]"
          },
          "metadata": {}
        }
      ]
    },
    {
      "cell_type": "code",
      "source": [
        "from keras.models import load_model\n",
        "\n",
        "# Load model\n",
        "model = load_model('w2v_ws_lstm.h5')"
      ],
      "metadata": {
        "id": "7CxMSqKPp-fz",
        "colab": {
          "base_uri": "https://localhost:8080/"
        },
        "outputId": "dd01abf7-2068-4d82-dd65-4a17b37d4ae4"
      },
      "execution_count": null,
      "outputs": [
        {
          "output_type": "stream",
          "name": "stdout",
          "text": [
            "167/167 [==============================] - 14s 68ms/step\n"
          ]
        }
      ]
    },
    {
      "cell_type": "code",
      "source": [
        "y_pred = model.predict(X_test)\n",
        "y_pred_lst = np.argmax(np.array(y_pred),axis=1)"
      ],
      "metadata": {
        "id": "xf1Zd_xfz4N0",
        "colab": {
          "base_uri": "https://localhost:8080/"
        },
        "outputId": "2450898f-2ee5-45ca-f578-c534025357cd"
      },
      "execution_count": 61,
      "outputs": [
        {
          "output_type": "stream",
          "name": "stdout",
          "text": [
            "167/167 [==============================] - 11s 69ms/step\n"
          ]
        }
      ]
    },
    {
      "cell_type": "code",
      "source": [
        "# create y\n",
        "y = df['label']\n",
        "y.shape\n",
        "X_train, X_test, y_train, y_test = train_test_split(X, y, test_size=0.2, random_state=42)\n",
        "y_pred_lst = list(y_pred_lst)\n",
        "y_test = list(y_test.astype(int))"
      ],
      "metadata": {
        "id": "FyVq2Tvr03YN"
      },
      "execution_count": 62,
      "outputs": []
    },
    {
      "cell_type": "code",
      "source": [
        "# Print the precision and recall, among other metrics\n",
        "from sklearn import metrics\n",
        "# Print the confusion matrix\n",
        "print(confusion_matrix(y_test, y_pred_lst))\n",
        "\n",
        "# Print the precision and recall, among other metrics\n",
        "print(metrics.classification_report(y_test, y_pred_lst, digits=3))"
      ],
      "metadata": {
        "id": "w5TmPFDRqHFY",
        "colab": {
          "base_uri": "https://localhost:8080/"
        },
        "outputId": "2384d92c-90cc-4ee6-d8be-a72be10a4d43"
      },
      "execution_count": 63,
      "outputs": [
        {
          "output_type": "stream",
          "name": "stdout",
          "text": [
            "[[ 286  520  102]\n",
            " [ 416 2291  262]\n",
            " [ 155  561  730]]\n",
            "              precision    recall  f1-score   support\n",
            "\n",
            "           0      0.334     0.315     0.324       908\n",
            "           1      0.679     0.772     0.723      2969\n",
            "           2      0.667     0.505     0.575      1446\n",
            "\n",
            "    accuracy                          0.621      5323\n",
            "   macro avg      0.560     0.530     0.540      5323\n",
            "weighted avg      0.617     0.621     0.614      5323\n",
            "\n"
          ]
        }
      ]
    },
    {
      "cell_type": "markdown",
      "source": [
        "# Inference"
      ],
      "metadata": {
        "id": "OFzqvlqlfFLN"
      }
    },
    {
      "cell_type": "code",
      "source": [
        "from keras.models import load_model\n",
        "\n",
        "# Load model\n",
        "#model = load_model('w2v_ws_lstm.h5')\n",
        "\n",
        "def predict_class(text):\n",
        "    '''Function to predict sentiment class of the passed text'''\n",
        "    \n",
        "    sentiment_classes = ['Positive', 'Neutral', 'Negative']\n",
        "    max_len=40\n",
        "    \n",
        "    # Transforms text to a sequence of integers using a tokenizer object\n",
        "    t = [text]\n",
        "    df2 = pd.DataFrame(list(t), columns = ['text'])\n",
        "    df2.loc[:,'text'] = df2.loc[:,'text'].map(word_tokenize)\n",
        "    # Pad sequences to the same length\n",
        "    X = pad_sequences(tokenizer.texts_to_sequences(df2.text), maxlen=40)\n",
        "    # Do the prediction using the loaded model\n",
        "    yt = model.predict(X).argmax(axis=1)\n",
        "    # Print the predicted sentiment\n",
        "    print('The predicted sentiment is', sentiment_classes[yt[0]])"
      ],
      "metadata": {
        "id": "xv0add7Alvu3"
      },
      "execution_count": 42,
      "outputs": []
    },
    {
      "cell_type": "code",
      "source": [
        "predict_class('ดีครับ')"
      ],
      "metadata": {
        "colab": {
          "base_uri": "https://localhost:8080/"
        },
        "id": "W-yO6omwmAMM",
        "outputId": "d288020d-c9b7-4973-f104-45b9204de063"
      },
      "execution_count": 43,
      "outputs": [
        {
          "output_type": "stream",
          "name": "stdout",
          "text": [
            "1/1 [==============================] - 0s 60ms/step\n",
            "The predicted sentiment is Positive\n"
          ]
        }
      ]
    },
    {
      "cell_type": "code",
      "source": [
        "predict_class('ลุงตู่')"
      ],
      "metadata": {
        "colab": {
          "base_uri": "https://localhost:8080/"
        },
        "id": "Io4pSY7KjWU2",
        "outputId": "b0374ed7-3179-49ed-a71f-c2b613f66f90"
      },
      "execution_count": 44,
      "outputs": [
        {
          "output_type": "stream",
          "name": "stdout",
          "text": [
            "1/1 [==============================] - 0s 49ms/step\n",
            "The predicted sentiment is Neutral\n"
          ]
        }
      ]
    },
    {
      "cell_type": "code",
      "source": [
        "predict_class('คคคคค')"
      ],
      "metadata": {
        "colab": {
          "base_uri": "https://localhost:8080/"
        },
        "id": "hS7jg8gWmJpk",
        "outputId": "f049e26e-d51a-4620-b62e-3ebb45a6905d"
      },
      "execution_count": 45,
      "outputs": [
        {
          "output_type": "stream",
          "name": "stdout",
          "text": [
            "1/1 [==============================] - 0s 31ms/step\n",
            "The predicted sentiment is Neutral\n"
          ]
        }
      ]
    },
    {
      "cell_type": "code",
      "source": [
        "predict_class('สวัสดีวันจันทร์')"
      ],
      "metadata": {
        "colab": {
          "base_uri": "https://localhost:8080/"
        },
        "id": "Re5QShaKmLLs",
        "outputId": "45e1b1a3-2e57-4808-9783-3572da52b3bf"
      },
      "execution_count": 46,
      "outputs": [
        {
          "output_type": "stream",
          "name": "stdout",
          "text": [
            "1/1 [==============================] - 0s 36ms/step\n",
            "The predicted sentiment is Neutral\n"
          ]
        }
      ]
    },
    {
      "cell_type": "code",
      "source": [
        "predict_class('เยี่ยมไปเลย')"
      ],
      "metadata": {
        "id": "cCvW3XqFm396",
        "colab": {
          "base_uri": "https://localhost:8080/"
        },
        "outputId": "5cc1c6a9-f5f5-4578-99c8-d8502167ed9a"
      },
      "execution_count": 47,
      "outputs": [
        {
          "output_type": "stream",
          "name": "stdout",
          "text": [
            "1/1 [==============================] - 0s 33ms/step\n",
            "The predicted sentiment is Positive\n"
          ]
        }
      ]
    },
    {
      "cell_type": "code",
      "source": [
        "predict_class('สู้ๆครับ')"
      ],
      "metadata": {
        "colab": {
          "base_uri": "https://localhost:8080/"
        },
        "id": "xi5wpQaClF_6",
        "outputId": "31ceb92f-4aea-4e6e-c505-c612f57c9179"
      },
      "execution_count": 48,
      "outputs": [
        {
          "output_type": "stream",
          "name": "stdout",
          "text": [
            "1/1 [==============================] - 0s 38ms/step\n",
            "The predicted sentiment is Positive\n"
          ]
        }
      ]
    },
    {
      "cell_type": "code",
      "source": [
        "predict_class('แย่มาก')"
      ],
      "metadata": {
        "colab": {
          "base_uri": "https://localhost:8080/"
        },
        "id": "0FhZxj0dlHPl",
        "outputId": "b554b866-70c6-4622-bde4-b5dc2e50b078"
      },
      "execution_count": 49,
      "outputs": [
        {
          "output_type": "stream",
          "name": "stdout",
          "text": [
            "1/1 [==============================] - 0s 37ms/step\n",
            "The predicted sentiment is Positive\n"
          ]
        }
      ]
    },
    {
      "cell_type": "code",
      "source": [
        "predict_class('ไม่โอเค')"
      ],
      "metadata": {
        "colab": {
          "base_uri": "https://localhost:8080/"
        },
        "id": "y4BbpVkIlI6p",
        "outputId": "a73de80f-320a-4c1f-830b-09e2d3db0400"
      },
      "execution_count": 50,
      "outputs": [
        {
          "output_type": "stream",
          "name": "stdout",
          "text": [
            "1/1 [==============================] - 0s 34ms/step\n",
            "The predicted sentiment is Neutral\n"
          ]
        }
      ]
    },
    {
      "cell_type": "code",
      "source": [
        "predict_class('อย่างห่วย')"
      ],
      "metadata": {
        "colab": {
          "base_uri": "https://localhost:8080/"
        },
        "id": "yJjGK7QplKBk",
        "outputId": "2768c454-fbf2-4784-ad04-4808be9c1f28"
      },
      "execution_count": 51,
      "outputs": [
        {
          "output_type": "stream",
          "name": "stdout",
          "text": [
            "1/1 [==============================] - 0s 32ms/step\n",
            "The predicted sentiment is Positive\n"
          ]
        }
      ]
    },
    {
      "cell_type": "code",
      "source": [],
      "metadata": {
        "id": "wQZIStkslMTo"
      },
      "execution_count": null,
      "outputs": []
    }
  ]
}
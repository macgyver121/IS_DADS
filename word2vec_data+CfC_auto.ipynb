{
  "nbformat": 4,
  "nbformat_minor": 0,
  "metadata": {
    "colab": {
      "provenance": [],
      "collapsed_sections": [
        "TwCgcCEjaaIC",
        "rRWdXZimclOE"
      ],
      "toc_visible": true,
      "authorship_tag": "ABX9TyN0AUlcc4oKRD7tCNeU/QEi",
      "include_colab_link": true
    },
    "kernelspec": {
      "name": "python3",
      "display_name": "Python 3"
    },
    "language_info": {
      "name": "python"
    }
  },
  "cells": [
    {
      "cell_type": "markdown",
      "metadata": {
        "id": "view-in-github",
        "colab_type": "text"
      },
      "source": [
        "<a href=\"https://colab.research.google.com/github/macgyver121/IS_DADS/blob/main/word2vec_data%2BCfC_auto.ipynb\" target=\"_parent\"><img src=\"https://colab.research.google.com/assets/colab-badge.svg\" alt=\"Open In Colab\"/></a>"
      ]
    },
    {
      "cell_type": "markdown",
      "source": [
        "https://github.com/RaRe-Technologies/gensim/wiki/Migrating-from-Gensim-3.x-to-4"
      ],
      "metadata": {
        "id": "ZOL5LrxfqGjB"
      }
    },
    {
      "cell_type": "markdown",
      "source": [
        "# Install Library"
      ],
      "metadata": {
        "id": "TwCgcCEjaaIC"
      }
    },
    {
      "cell_type": "code",
      "source": [
        "pip install pythainlp"
      ],
      "metadata": {
        "colab": {
          "base_uri": "https://localhost:8080/"
        },
        "id": "nciBDatAaZt4",
        "outputId": "6f3e600b-4d24-4fe5-e4dd-3f669ff66873"
      },
      "execution_count": 1,
      "outputs": [
        {
          "output_type": "stream",
          "name": "stdout",
          "text": [
            "Looking in indexes: https://pypi.org/simple, https://us-python.pkg.dev/colab-wheels/public/simple/\n",
            "Collecting pythainlp\n",
            "  Downloading pythainlp-4.0.1-py3-none-any.whl (13.4 MB)\n",
            "\u001b[2K     \u001b[90m━━━━━━━━━━━━━━━━━━━━━━━━━━━━━━━━━━━━━━━━\u001b[0m \u001b[32m13.4/13.4 MB\u001b[0m \u001b[31m52.6 MB/s\u001b[0m eta \u001b[36m0:00:00\u001b[0m\n",
            "\u001b[?25hRequirement already satisfied: requests>=2.22.0 in /usr/local/lib/python3.10/dist-packages (from pythainlp) (2.27.1)\n",
            "Requirement already satisfied: urllib3<1.27,>=1.21.1 in /usr/local/lib/python3.10/dist-packages (from requests>=2.22.0->pythainlp) (1.26.15)\n",
            "Requirement already satisfied: certifi>=2017.4.17 in /usr/local/lib/python3.10/dist-packages (from requests>=2.22.0->pythainlp) (2022.12.7)\n",
            "Requirement already satisfied: charset-normalizer~=2.0.0 in /usr/local/lib/python3.10/dist-packages (from requests>=2.22.0->pythainlp) (2.0.12)\n",
            "Requirement already satisfied: idna<4,>=2.5 in /usr/local/lib/python3.10/dist-packages (from requests>=2.22.0->pythainlp) (3.4)\n",
            "Installing collected packages: pythainlp\n",
            "Successfully installed pythainlp-4.0.1\n"
          ]
        }
      ]
    },
    {
      "cell_type": "code",
      "execution_count": 2,
      "metadata": {
        "colab": {
          "base_uri": "https://localhost:8080/"
        },
        "id": "CKY_yhYiaODS",
        "outputId": "91a04e2b-6cb7-4f88-d08d-552767bc014e"
      },
      "outputs": [
        {
          "output_type": "stream",
          "name": "stdout",
          "text": [
            "Looking in indexes: https://pypi.org/simple, https://us-python.pkg.dev/colab-wheels/public/simple/\n",
            "Collecting emoji\n",
            "  Downloading emoji-2.2.0.tar.gz (240 kB)\n",
            "\u001b[2K     \u001b[90m━━━━━━━━━━━━━━━━━━━━━━━━━━━━━━━━━━━━━━━\u001b[0m \u001b[32m240.9/240.9 kB\u001b[0m \u001b[31m4.1 MB/s\u001b[0m eta \u001b[36m0:00:00\u001b[0m\n",
            "\u001b[?25h  Preparing metadata (setup.py) ... \u001b[?25l\u001b[?25hdone\n",
            "Building wheels for collected packages: emoji\n",
            "  Building wheel for emoji (setup.py) ... \u001b[?25l\u001b[?25hdone\n",
            "  Created wheel for emoji: filename=emoji-2.2.0-py3-none-any.whl size=234911 sha256=e8ff28f42668f2fd0a1109a3e821bdfd9c94f7b69ddee43087d23fe7526d90ef\n",
            "  Stored in directory: /root/.cache/pip/wheels/02/3d/88/51a592b9ad17e7899126563698b4e3961983ebe85747228ba6\n",
            "Successfully built emoji\n",
            "Installing collected packages: emoji\n",
            "Successfully installed emoji-2.2.0\n"
          ]
        }
      ],
      "source": [
        "pip install emoji"
      ]
    },
    {
      "cell_type": "code",
      "source": [
        "!pip install gensim"
      ],
      "metadata": {
        "id": "zpJJ3lVwbVWp",
        "colab": {
          "base_uri": "https://localhost:8080/"
        },
        "outputId": "2576eb97-607d-43df-8507-044ae8e60a39"
      },
      "execution_count": 3,
      "outputs": [
        {
          "output_type": "stream",
          "name": "stdout",
          "text": [
            "Looking in indexes: https://pypi.org/simple, https://us-python.pkg.dev/colab-wheels/public/simple/\n",
            "Requirement already satisfied: gensim in /usr/local/lib/python3.10/dist-packages (4.3.1)\n",
            "Requirement already satisfied: numpy>=1.18.5 in /usr/local/lib/python3.10/dist-packages (from gensim) (1.22.4)\n",
            "Requirement already satisfied: scipy>=1.7.0 in /usr/local/lib/python3.10/dist-packages (from gensim) (1.10.1)\n",
            "Requirement already satisfied: smart-open>=1.8.1 in /usr/local/lib/python3.10/dist-packages (from gensim) (6.3.0)\n"
          ]
        }
      ]
    },
    {
      "cell_type": "code",
      "source": [
        "import pandas as pd\n",
        "import numpy as np\n",
        "import re\n",
        "import emoji\n",
        "\n",
        "from pythainlp.tokenize import word_tokenize\n",
        "from keras.preprocessing.text import Tokenizer\n",
        "from keras.utils import pad_sequences\n",
        "\n",
        "from gensim.test.utils import common_texts\n",
        "from gensim.models import Word2Vec\n",
        "\n",
        "from keras.layers import Embedding\n",
        "from keras.models import Sequential\n",
        "from keras.layers import LSTM, Dense, Dropout\n",
        "from keras.metrics import Precision, Recall\n",
        "from keras.callbacks import History\n",
        "\n",
        "import tensorflow as tf\n",
        "\n",
        "from sklearn.model_selection import train_test_split\n",
        "from imblearn.over_sampling import SMOTE\n",
        "\n",
        "import matplotlib.pyplot as plt\n",
        "\n",
        "from datetime import datetime\n",
        "from keras import callbacks\n",
        "\n",
        "import keras.backend as K"
      ],
      "metadata": {
        "id": "dBo6iDSfagPi"
      },
      "execution_count": 4,
      "outputs": []
    },
    {
      "cell_type": "markdown",
      "source": [
        "# Import file"
      ],
      "metadata": {
        "id": "h-mDrdOSamlA"
      }
    },
    {
      "cell_type": "code",
      "source": [
        "from google.colab import drive\n",
        "drive.mount('/content/drive')"
      ],
      "metadata": {
        "colab": {
          "base_uri": "https://localhost:8080/"
        },
        "id": "QpRBwP_nvB0X",
        "outputId": "bffe7a7e-36d9-4dd6-e880-f37afd58d21a"
      },
      "execution_count": 5,
      "outputs": [
        {
          "output_type": "stream",
          "name": "stdout",
          "text": [
            "Mounted at /content/drive\n"
          ]
        }
      ]
    },
    {
      "cell_type": "code",
      "source": [
        "# import csv file\n",
        "df = pd.read_csv('/content/drive/MyDrive/data_all.csv', delimiter=',')"
      ],
      "metadata": {
        "id": "ZIw44sCVanmY"
      },
      "execution_count": 6,
      "outputs": []
    },
    {
      "cell_type": "code",
      "source": [
        "df.loc[:,'text'] = df.loc[:,'text'].map(word_tokenize)"
      ],
      "metadata": {
        "id": "C5x-zshqazP1"
      },
      "execution_count": 7,
      "outputs": []
    },
    {
      "cell_type": "code",
      "source": [
        "df"
      ],
      "metadata": {
        "colab": {
          "base_uri": "https://localhost:8080/",
          "height": 0
        },
        "id": "QaM7YZzBa0rX",
        "outputId": "5a87e2d3-0843-47d9-d8f6-6a9e0f2310bf"
      },
      "execution_count": 8,
      "outputs": [
        {
          "output_type": "execute_result",
          "data": {
            "text/plain": [
              "       label                                   text\n",
              "0        1.0                                    [1]\n",
              "1        1.0                               [สวัสดี]\n",
              "2        1.0             [อรุณสวัสดิ์,  , ดู, ข่าว]\n",
              "3        1.0                            [D,  , jai]\n",
              "4        1.0                       [สวัสดี, ชาวโลก]\n",
              "...      ...                                    ...\n",
              "11954    1.0    [จุดแข็ง, หัว,  , จุดอ่อน, ที่อยู่]\n",
              "11955    1.0                                     []\n",
              "11956    1.0  [เจอ, ไฟไหม้,  , โทร, แจ้ง,  , เบอร์]\n",
              "11957    0.0                         [แม่, ง, เก่ง]\n",
              "11958    1.0                                  [งัว]\n",
              "\n",
              "[11959 rows x 2 columns]"
            ],
            "text/html": [
              "\n",
              "  <div id=\"df-113824c3-f34b-4552-a796-a82495b4be3a\">\n",
              "    <div class=\"colab-df-container\">\n",
              "      <div>\n",
              "<style scoped>\n",
              "    .dataframe tbody tr th:only-of-type {\n",
              "        vertical-align: middle;\n",
              "    }\n",
              "\n",
              "    .dataframe tbody tr th {\n",
              "        vertical-align: top;\n",
              "    }\n",
              "\n",
              "    .dataframe thead th {\n",
              "        text-align: right;\n",
              "    }\n",
              "</style>\n",
              "<table border=\"1\" class=\"dataframe\">\n",
              "  <thead>\n",
              "    <tr style=\"text-align: right;\">\n",
              "      <th></th>\n",
              "      <th>label</th>\n",
              "      <th>text</th>\n",
              "    </tr>\n",
              "  </thead>\n",
              "  <tbody>\n",
              "    <tr>\n",
              "      <th>0</th>\n",
              "      <td>1.0</td>\n",
              "      <td>[1]</td>\n",
              "    </tr>\n",
              "    <tr>\n",
              "      <th>1</th>\n",
              "      <td>1.0</td>\n",
              "      <td>[สวัสดี]</td>\n",
              "    </tr>\n",
              "    <tr>\n",
              "      <th>2</th>\n",
              "      <td>1.0</td>\n",
              "      <td>[อรุณสวัสดิ์,  , ดู, ข่าว]</td>\n",
              "    </tr>\n",
              "    <tr>\n",
              "      <th>3</th>\n",
              "      <td>1.0</td>\n",
              "      <td>[D,  , jai]</td>\n",
              "    </tr>\n",
              "    <tr>\n",
              "      <th>4</th>\n",
              "      <td>1.0</td>\n",
              "      <td>[สวัสดี, ชาวโลก]</td>\n",
              "    </tr>\n",
              "    <tr>\n",
              "      <th>...</th>\n",
              "      <td>...</td>\n",
              "      <td>...</td>\n",
              "    </tr>\n",
              "    <tr>\n",
              "      <th>11954</th>\n",
              "      <td>1.0</td>\n",
              "      <td>[จุดแข็ง, หัว,  , จุดอ่อน, ที่อยู่]</td>\n",
              "    </tr>\n",
              "    <tr>\n",
              "      <th>11955</th>\n",
              "      <td>1.0</td>\n",
              "      <td>[]</td>\n",
              "    </tr>\n",
              "    <tr>\n",
              "      <th>11956</th>\n",
              "      <td>1.0</td>\n",
              "      <td>[เจอ, ไฟไหม้,  , โทร, แจ้ง,  , เบอร์]</td>\n",
              "    </tr>\n",
              "    <tr>\n",
              "      <th>11957</th>\n",
              "      <td>0.0</td>\n",
              "      <td>[แม่, ง, เก่ง]</td>\n",
              "    </tr>\n",
              "    <tr>\n",
              "      <th>11958</th>\n",
              "      <td>1.0</td>\n",
              "      <td>[งัว]</td>\n",
              "    </tr>\n",
              "  </tbody>\n",
              "</table>\n",
              "<p>11959 rows × 2 columns</p>\n",
              "</div>\n",
              "      <button class=\"colab-df-convert\" onclick=\"convertToInteractive('df-113824c3-f34b-4552-a796-a82495b4be3a')\"\n",
              "              title=\"Convert this dataframe to an interactive table.\"\n",
              "              style=\"display:none;\">\n",
              "        \n",
              "  <svg xmlns=\"http://www.w3.org/2000/svg\" height=\"24px\"viewBox=\"0 0 24 24\"\n",
              "       width=\"24px\">\n",
              "    <path d=\"M0 0h24v24H0V0z\" fill=\"none\"/>\n",
              "    <path d=\"M18.56 5.44l.94 2.06.94-2.06 2.06-.94-2.06-.94-.94-2.06-.94 2.06-2.06.94zm-11 1L8.5 8.5l.94-2.06 2.06-.94-2.06-.94L8.5 2.5l-.94 2.06-2.06.94zm10 10l.94 2.06.94-2.06 2.06-.94-2.06-.94-.94-2.06-.94 2.06-2.06.94z\"/><path d=\"M17.41 7.96l-1.37-1.37c-.4-.4-.92-.59-1.43-.59-.52 0-1.04.2-1.43.59L10.3 9.45l-7.72 7.72c-.78.78-.78 2.05 0 2.83L4 21.41c.39.39.9.59 1.41.59.51 0 1.02-.2 1.41-.59l7.78-7.78 2.81-2.81c.8-.78.8-2.07 0-2.86zM5.41 20L4 18.59l7.72-7.72 1.47 1.35L5.41 20z\"/>\n",
              "  </svg>\n",
              "      </button>\n",
              "      \n",
              "  <style>\n",
              "    .colab-df-container {\n",
              "      display:flex;\n",
              "      flex-wrap:wrap;\n",
              "      gap: 12px;\n",
              "    }\n",
              "\n",
              "    .colab-df-convert {\n",
              "      background-color: #E8F0FE;\n",
              "      border: none;\n",
              "      border-radius: 50%;\n",
              "      cursor: pointer;\n",
              "      display: none;\n",
              "      fill: #1967D2;\n",
              "      height: 32px;\n",
              "      padding: 0 0 0 0;\n",
              "      width: 32px;\n",
              "    }\n",
              "\n",
              "    .colab-df-convert:hover {\n",
              "      background-color: #E2EBFA;\n",
              "      box-shadow: 0px 1px 2px rgba(60, 64, 67, 0.3), 0px 1px 3px 1px rgba(60, 64, 67, 0.15);\n",
              "      fill: #174EA6;\n",
              "    }\n",
              "\n",
              "    [theme=dark] .colab-df-convert {\n",
              "      background-color: #3B4455;\n",
              "      fill: #D2E3FC;\n",
              "    }\n",
              "\n",
              "    [theme=dark] .colab-df-convert:hover {\n",
              "      background-color: #434B5C;\n",
              "      box-shadow: 0px 1px 3px 1px rgba(0, 0, 0, 0.15);\n",
              "      filter: drop-shadow(0px 1px 2px rgba(0, 0, 0, 0.3));\n",
              "      fill: #FFFFFF;\n",
              "    }\n",
              "  </style>\n",
              "\n",
              "      <script>\n",
              "        const buttonEl =\n",
              "          document.querySelector('#df-113824c3-f34b-4552-a796-a82495b4be3a button.colab-df-convert');\n",
              "        buttonEl.style.display =\n",
              "          google.colab.kernel.accessAllowed ? 'block' : 'none';\n",
              "\n",
              "        async function convertToInteractive(key) {\n",
              "          const element = document.querySelector('#df-113824c3-f34b-4552-a796-a82495b4be3a');\n",
              "          const dataTable =\n",
              "            await google.colab.kernel.invokeFunction('convertToInteractive',\n",
              "                                                     [key], {});\n",
              "          if (!dataTable) return;\n",
              "\n",
              "          const docLinkHtml = 'Like what you see? Visit the ' +\n",
              "            '<a target=\"_blank\" href=https://colab.research.google.com/notebooks/data_table.ipynb>data table notebook</a>'\n",
              "            + ' to learn more about interactive tables.';\n",
              "          element.innerHTML = '';\n",
              "          dataTable['output_type'] = 'display_data';\n",
              "          await google.colab.output.renderOutput(dataTable, element);\n",
              "          const docLink = document.createElement('div');\n",
              "          docLink.innerHTML = docLinkHtml;\n",
              "          element.appendChild(docLink);\n",
              "        }\n",
              "      </script>\n",
              "    </div>\n",
              "  </div>\n",
              "  "
            ]
          },
          "metadata": {},
          "execution_count": 8
        }
      ]
    },
    {
      "cell_type": "markdown",
      "source": [
        "## create list of text"
      ],
      "metadata": {
        "id": "P6iE5yv0a4dR"
      }
    },
    {
      "cell_type": "code",
      "source": [
        "sent = [row for row in df['text']]"
      ],
      "metadata": {
        "id": "0fGheMYJa3Vz"
      },
      "execution_count": 9,
      "outputs": []
    },
    {
      "cell_type": "code",
      "source": [
        "# Average String lengths in list\n",
        "# using map() + sum() + len()\n",
        "res = sum(map(len, sent))/float(len(sent))\n",
        " \n",
        "# printing result\n",
        "print(\"The Average length of String in list is : \" + str(res))"
      ],
      "metadata": {
        "colab": {
          "base_uri": "https://localhost:8080/"
        },
        "id": "_7CKV5q0dSpQ",
        "outputId": "5fe4a98b-8e37-45f4-9df5-a688ef4a0469"
      },
      "execution_count": 10,
      "outputs": [
        {
          "output_type": "stream",
          "name": "stdout",
          "text": [
            "The Average length of String in list is : 5.186804916799064\n"
          ]
        }
      ]
    },
    {
      "cell_type": "code",
      "source": [
        "sent[2]"
      ],
      "metadata": {
        "colab": {
          "base_uri": "https://localhost:8080/"
        },
        "id": "TEuYfxmXeY2S",
        "outputId": "67da9a00-e4ba-4489-a65c-de7be5e23513"
      },
      "execution_count": 11,
      "outputs": [
        {
          "output_type": "execute_result",
          "data": {
            "text/plain": [
              "['อรุณสวัสดิ์', ' ', 'ดู', 'ข่าว']"
            ]
          },
          "metadata": {},
          "execution_count": 11
        }
      ]
    },
    {
      "cell_type": "code",
      "source": [
        "#len(max(sent))"
      ],
      "metadata": {
        "id": "LodFZCWjeqwE"
      },
      "execution_count": 12,
      "outputs": []
    },
    {
      "cell_type": "markdown",
      "source": [
        "## Tokenize and pad sequence"
      ],
      "metadata": {
        "id": "G9iQPFgna-dD"
      }
    },
    {
      "cell_type": "code",
      "source": [
        "tokenizer = Tokenizer()\n",
        "tokenizer.fit_on_texts(df.text)"
      ],
      "metadata": {
        "id": "Bam1i31QbBa3"
      },
      "execution_count": 13,
      "outputs": []
    },
    {
      "cell_type": "code",
      "source": [
        "# create X\n",
        "X = pad_sequences(tokenizer.texts_to_sequences(df.text), maxlen=20)\n",
        "X"
      ],
      "metadata": {
        "colab": {
          "base_uri": "https://localhost:8080/"
        },
        "id": "vB2-Kx73bC1l",
        "outputId": "9fd4cec4-3a60-4135-93da-f3b4a6909b44"
      },
      "execution_count": 14,
      "outputs": [
        {
          "output_type": "execute_result",
          "data": {
            "text/plain": [
              "array([[   0,    0,    0, ...,    0,    0,  133],\n",
              "       [   0,    0,    0, ...,    0,    0,   39],\n",
              "       [   0,    0,    0, ...,    1,   25,   20],\n",
              "       ...,\n",
              "       [   0,    0,    0, ...,  692,    1,  891],\n",
              "       [   0,    0,    0, ...,   19,   71,   41],\n",
              "       [   0,    0,    0, ...,    0,    0, 3979]], dtype=int32)"
            ]
          },
          "metadata": {},
          "execution_count": 14
        }
      ]
    },
    {
      "cell_type": "code",
      "source": [
        "# create y\n",
        "y = df['label']\n",
        "y.shape"
      ],
      "metadata": {
        "colab": {
          "base_uri": "https://localhost:8080/"
        },
        "id": "v8oFFUKBcZhi",
        "outputId": "9ca895a9-b5db-479a-ea70-d6b81d8530fc"
      },
      "execution_count": 15,
      "outputs": [
        {
          "output_type": "execute_result",
          "data": {
            "text/plain": [
              "(11959,)"
            ]
          },
          "metadata": {},
          "execution_count": 15
        }
      ]
    },
    {
      "cell_type": "markdown",
      "source": [
        "# Load Word2Vec(TNCc5model)"
      ],
      "metadata": {
        "id": "MQ3L6jt0bHkH"
      }
    },
    {
      "cell_type": "code",
      "source": [
        "# load pretrained model\n",
        "model = Word2Vec.load(\"http://www.arts.chula.ac.th/ling/wp-content/uploads/TNCc5model.bin\") "
      ],
      "metadata": {
        "id": "f6UYLwSWbFU2"
      },
      "execution_count": 16,
      "outputs": []
    },
    {
      "cell_type": "code",
      "source": [
        "# model.save(\"TNCc5model.model\")"
      ],
      "metadata": {
        "id": "_tgHSsMylxAB"
      },
      "execution_count": 17,
      "outputs": []
    },
    {
      "cell_type": "code",
      "source": [
        "# model = Word2Vec.load(\"TNCc5model.model\")"
      ],
      "metadata": {
        "id": "853UbEKTlyXp"
      },
      "execution_count": 18,
      "outputs": []
    },
    {
      "cell_type": "code",
      "source": [
        "# create vocab_size, embedding_dim and embedding_matrix\n",
        "vocab_size = len(model.wv)\n",
        "embedding_dim = model.vector_size\n",
        "embedding_matrix = np.zeros((vocab_size, embedding_dim))"
      ],
      "metadata": {
        "id": "KsMBJPPNbYqS"
      },
      "execution_count": 19,
      "outputs": []
    },
    {
      "cell_type": "code",
      "source": [
        "for i, word in enumerate(model.wv):\n",
        "    embedding_matrix[i] = word"
      ],
      "metadata": {
        "id": "Qytn5MUgbxxi"
      },
      "execution_count": null,
      "outputs": []
    },
    {
      "cell_type": "code",
      "source": [
        "embedding_matrix[31077]"
      ],
      "metadata": {
        "colab": {
          "base_uri": "https://localhost:8080/"
        },
        "id": "i2A5tQDHbyZJ",
        "outputId": "cc89b2f6-1ac0-4d6a-fd1a-e0c715ea7c08"
      },
      "execution_count": 21,
      "outputs": [
        {
          "output_type": "execute_result",
          "data": {
            "text/plain": [
              "array([-0.08747477, -0.03003867,  0.0696032 ,  0.03697103, -0.04840473,\n",
              "        0.04570374,  0.08035568,  0.09319719,  0.0328302 ,  0.0205396 ,\n",
              "        0.05725439,  0.07493409, -0.05307385,  0.06657625,  0.02432919,\n",
              "       -0.01523621, -0.03918364,  0.00505913,  0.09474613,  0.07713508,\n",
              "        0.01310679,  0.01618158,  0.03159253, -0.05961249, -0.00540888,\n",
              "        0.01102536,  0.03336877, -0.09733387, -0.0455462 ,  0.00984617,\n",
              "        0.0461374 ,  0.04063138, -0.01614906,  0.02336541, -0.05779864,\n",
              "       -0.01610914, -0.09162895, -0.06487005, -0.01570138,  0.01779037,\n",
              "       -0.01921744, -0.01817694,  0.12782034,  0.0127709 , -0.00602525,\n",
              "       -0.03969072,  0.01731815,  0.00555995,  0.04609034,  0.05480786,\n",
              "        0.05582551, -0.02981856, -0.01753935, -0.03173018,  0.03811059,\n",
              "        0.08742324, -0.03593688, -0.08428604,  0.00821297, -0.03246153,\n",
              "       -0.04117111,  0.11976431, -0.02667627, -0.03977206, -0.01023334,\n",
              "        0.09782189,  0.02933291, -0.05686831,  0.0734435 , -0.03232438,\n",
              "        0.03366319,  0.02777745, -0.01323282,  0.04059448,  0.01851271,\n",
              "        0.02541859, -0.01944041, -0.00204206, -0.02037049,  0.09079952,\n",
              "        0.06050802, -0.0402979 ,  0.06670228,  0.09467505, -0.00335809,\n",
              "       -0.01529406, -0.05300978, -0.00702781, -0.0264109 , -0.04785226,\n",
              "        0.07884577,  0.05271694, -0.05227912, -0.06690811,  0.03541892,\n",
              "       -0.03044322,  0.03644468, -0.03583029,  0.00813333,  0.00560054])"
            ]
          },
          "metadata": {},
          "execution_count": 21
        }
      ]
    },
    {
      "cell_type": "markdown",
      "source": [
        "# Create model"
      ],
      "metadata": {
        "id": "T7e4AD-Rb3u-"
      }
    },
    {
      "cell_type": "code",
      "source": [
        "embedding_layer = Embedding(vocab_size, embedding_dim, weights=[embedding_matrix], input_length=20, trainable=False)"
      ],
      "metadata": {
        "id": "RegMnGBtb0Q-"
      },
      "execution_count": 22,
      "outputs": []
    },
    {
      "cell_type": "code",
      "source": [
        "import keras\n",
        "from tensorflow.keras.layers import SpatialDropout1D"
      ],
      "metadata": {
        "id": "WdgivC151MN1"
      },
      "execution_count": 23,
      "outputs": []
    },
    {
      "cell_type": "code",
      "source": [
        "!pip install seaborn ncps"
      ],
      "metadata": {
        "colab": {
          "base_uri": "https://localhost:8080/"
        },
        "id": "h3l3ZIioSM2P",
        "outputId": "12e253c1-2ef6-45c6-83d7-978f51881a06"
      },
      "execution_count": 24,
      "outputs": [
        {
          "output_type": "stream",
          "name": "stdout",
          "text": [
            "Looking in indexes: https://pypi.org/simple, https://us-python.pkg.dev/colab-wheels/public/simple/\n",
            "Requirement already satisfied: seaborn in /usr/local/lib/python3.10/dist-packages (0.12.2)\n",
            "Collecting ncps\n",
            "  Downloading ncps-0.0.7-py3-none-any.whl (44 kB)\n",
            "\u001b[2K     \u001b[90m━━━━━━━━━━━━━━━━━━━━━━━━━━━━━━━━━━━━━━━━\u001b[0m \u001b[32m44.8/44.8 kB\u001b[0m \u001b[31m2.3 MB/s\u001b[0m eta \u001b[36m0:00:00\u001b[0m\n",
            "\u001b[?25hRequirement already satisfied: numpy!=1.24.0,>=1.17 in /usr/local/lib/python3.10/dist-packages (from seaborn) (1.22.4)\n",
            "Requirement already satisfied: pandas>=0.25 in /usr/local/lib/python3.10/dist-packages (from seaborn) (1.5.3)\n",
            "Requirement already satisfied: matplotlib!=3.6.1,>=3.1 in /usr/local/lib/python3.10/dist-packages (from seaborn) (3.7.1)\n",
            "Requirement already satisfied: future in /usr/local/lib/python3.10/dist-packages (from ncps) (0.18.3)\n",
            "Requirement already satisfied: packaging in /usr/local/lib/python3.10/dist-packages (from ncps) (23.1)\n",
            "Requirement already satisfied: contourpy>=1.0.1 in /usr/local/lib/python3.10/dist-packages (from matplotlib!=3.6.1,>=3.1->seaborn) (1.0.7)\n",
            "Requirement already satisfied: cycler>=0.10 in /usr/local/lib/python3.10/dist-packages (from matplotlib!=3.6.1,>=3.1->seaborn) (0.11.0)\n",
            "Requirement already satisfied: fonttools>=4.22.0 in /usr/local/lib/python3.10/dist-packages (from matplotlib!=3.6.1,>=3.1->seaborn) (4.39.3)\n",
            "Requirement already satisfied: kiwisolver>=1.0.1 in /usr/local/lib/python3.10/dist-packages (from matplotlib!=3.6.1,>=3.1->seaborn) (1.4.4)\n",
            "Requirement already satisfied: pillow>=6.2.0 in /usr/local/lib/python3.10/dist-packages (from matplotlib!=3.6.1,>=3.1->seaborn) (8.4.0)\n",
            "Requirement already satisfied: pyparsing>=2.3.1 in /usr/local/lib/python3.10/dist-packages (from matplotlib!=3.6.1,>=3.1->seaborn) (3.0.9)\n",
            "Requirement already satisfied: python-dateutil>=2.7 in /usr/local/lib/python3.10/dist-packages (from matplotlib!=3.6.1,>=3.1->seaborn) (2.8.2)\n",
            "Requirement already satisfied: pytz>=2020.1 in /usr/local/lib/python3.10/dist-packages (from pandas>=0.25->seaborn) (2022.7.1)\n",
            "Requirement already satisfied: six>=1.5 in /usr/local/lib/python3.10/dist-packages (from python-dateutil>=2.7->matplotlib!=3.6.1,>=3.1->seaborn) (1.16.0)\n",
            "Installing collected packages: ncps\n",
            "Successfully installed ncps-0.0.7\n"
          ]
        }
      ]
    },
    {
      "cell_type": "code",
      "source": [
        "import numpy as np\n",
        "import os\n",
        "from tensorflow import keras\n",
        "from ncps import wirings\n",
        "from ncps.tf import LTC, CfC\n",
        "import matplotlib.pyplot as plt\n",
        "import seaborn as sns"
      ],
      "metadata": {
        "id": "1UadVAVoSPfZ"
      },
      "execution_count": 25,
      "outputs": []
    },
    {
      "cell_type": "code",
      "source": [
        "fc_wiring = wirings.FullyConnected(8, 3)  # 8 units, 1 of which is a motor neuron\n",
        "rnd_wiring = wirings.Random(8, 3,sparsity_level=0.5)  # 8 units, 1 motor neuron\n",
        "ncp_arch = wirings.AutoNCP(8,3) # 8 units, 1 motor neuron"
      ],
      "metadata": {
        "id": "l8rIt4c8SSNI"
      },
      "execution_count": 26,
      "outputs": []
    },
    {
      "cell_type": "code",
      "source": [
        "model = Sequential()\n",
        "model.add(embedding_layer)\n",
        "model.add(Dropout(0.1))\n",
        "#model.add(LSTM(128, return_sequences=True))\n",
        "#model.add(Dropout(0.1))\n",
        "#model.add(LTC(fc_wiring, return_sequences=True))\n",
        "#model.add(LSTM(128, return_sequences=True))\n",
        "#model.add(LTC(rnd_wiring))\n",
        "#model.add(LTC(fc_wiring, return_sequences=True))\n",
        "#model.add(Dropout(0.1))\n",
        "#model.add(LSTM(128))\n",
        "model.add(CfC(ncp_arch))\n",
        "#model.add(LTC(rnd_wiring, return_sequences=True))\n",
        "model.add(Dropout(0.2))\n",
        "model.add(Dense(3, activation='softmax'))\n",
        "#model.add(LTC(rnd_wiring))\n",
        "\n",
        "model.compile(optimizer='adamax', loss='categorical_crossentropy', metrics=['accuracy', Precision(), Recall()])\n",
        "print(model.summary())"
      ],
      "metadata": {
        "colab": {
          "base_uri": "https://localhost:8080/"
        },
        "id": "NBnkmoUccBwR",
        "outputId": "4d708399-0865-4cc3-83cd-de91d94e6731"
      },
      "execution_count": 27,
      "outputs": [
        {
          "output_type": "stream",
          "name": "stdout",
          "text": [
            "Model: \"sequential\"\n",
            "_________________________________________________________________\n",
            " Layer (type)                Output Shape              Param #   \n",
            "=================================================================\n",
            " embedding (Embedding)       (None, 20, 100)           3107800   \n",
            "                                                                 \n",
            " dropout (Dropout)           (None, 20, 100)           0         \n",
            "                                                                 \n",
            " cf_c (CfC)                  (None, 3)                 1368      \n",
            "                                                                 \n",
            " dropout_1 (Dropout)         (None, 3)                 0         \n",
            "                                                                 \n",
            " dense (Dense)               (None, 3)                 12        \n",
            "                                                                 \n",
            "=================================================================\n",
            "Total params: 3,109,180\n",
            "Trainable params: 1,380\n",
            "Non-trainable params: 3,107,800\n",
            "_________________________________________________________________\n",
            "None\n"
          ]
        }
      ]
    },
    {
      "cell_type": "code",
      "source": [
        "tf.keras.utils.plot_model(model, show_shapes=True)"
      ],
      "metadata": {
        "colab": {
          "base_uri": "https://localhost:8080/",
          "height": 644
        },
        "id": "t03HOARhcIb1",
        "outputId": "160e7732-b809-48c5-dc69-f8c5fd7cdb42"
      },
      "execution_count": 28,
      "outputs": [
        {
          "output_type": "execute_result",
          "data": {
            "image/png": "[encoded data removed]",
            "text/plain": [
              "<IPython.core.display.Image object>"
            ]
          },
          "metadata": {},
          "execution_count": 28
        }
      ]
    },
    {
      "cell_type": "markdown",
      "source": [
        "# Splitting Data and prepare X and y"
      ],
      "metadata": {
        "id": "rRWdXZimclOE"
      }
    },
    {
      "cell_type": "code",
      "source": [
        "# Split the data into training and testing sets\n",
        "X_train, X_test, y_train, y_test = train_test_split(X, y, test_size=0.2, random_state=42)"
      ],
      "metadata": {
        "id": "6ai4XKN3cP2O"
      },
      "execution_count": 29,
      "outputs": []
    },
    {
      "cell_type": "code",
      "source": [
        "# Apply SMOTE to the training data\n",
        "smote = SMOTE()\n",
        "X_train_oversampled, y_train_oversampled = smote.fit_resample(X_train, y_train)"
      ],
      "metadata": {
        "id": "nY8UOEWncs10"
      },
      "execution_count": 30,
      "outputs": []
    },
    {
      "cell_type": "code",
      "source": [
        "X_train, X_val, y_train, y_val = train_test_split(X_train_oversampled, y_train_oversampled, test_size=0.25, random_state=1)\n",
        "print('Train Set ->', X_train.shape, y_train.shape)\n",
        "print('Validation Set ->', X_val.shape, y_val.shape)\n",
        "print('Test Set ->', X_test.shape, y_test.shape)"
      ],
      "metadata": {
        "colab": {
          "base_uri": "https://localhost:8080/"
        },
        "id": "kX3ExR2qcuuc",
        "outputId": "a64b83ac-c17d-4aeb-e807-8d0f60a07564"
      },
      "execution_count": 31,
      "outputs": [
        {
          "output_type": "stream",
          "name": "stdout",
          "text": [
            "Train Set -> (13599, 20) (13599,)\n",
            "Validation Set -> (4533, 20) (4533,)\n",
            "Test Set -> (2392, 20) (2392,)\n"
          ]
        }
      ]
    },
    {
      "cell_type": "markdown",
      "source": [
        "## Data distribution"
      ],
      "metadata": {
        "id": "1yT0l_ggcybn"
      }
    },
    {
      "cell_type": "code",
      "source": [
        "CountStatus = pd.value_counts(y_train.values)\n",
        "CountStatus.plot.bar()"
      ],
      "metadata": {
        "colab": {
          "base_uri": "https://localhost:8080/",
          "height": 0
        },
        "id": "wDoKDBTjcwWh",
        "outputId": "f12d3a66-c0ea-46f7-e6ba-a03527ec86cb"
      },
      "execution_count": 32,
      "outputs": [
        {
          "output_type": "execute_result",
          "data": {
            "text/plain": [
              "<Axes: >"
            ]
          },
          "metadata": {},
          "execution_count": 32
        },
        {
          "output_type": "display_data",
          "data": {
            "text/plain": [
              "<Figure size 640x480 with 1 Axes>"
            ],
            "image/png": "[encoded data removed]"
          },
          "metadata": {}
        }
      ]
    },
    {
      "cell_type": "code",
      "source": [
        "#CountStatus = pd.value_counts(y_val.values)\n",
        "#CountStatus.plot.bar()"
      ],
      "metadata": {
        "id": "1R7kruwdc1cu"
      },
      "execution_count": 33,
      "outputs": []
    },
    {
      "cell_type": "code",
      "source": [
        "CountStatus = pd.value_counts(y_test.values)\n",
        "CountStatus.plot.bar()"
      ],
      "metadata": {
        "colab": {
          "base_uri": "https://localhost:8080/",
          "height": 0
        },
        "id": "sLqJiC4Pc7HN",
        "outputId": "221162c4-d279-460b-a486-97690f9531e9"
      },
      "execution_count": 34,
      "outputs": [
        {
          "output_type": "execute_result",
          "data": {
            "text/plain": [
              "<Axes: >"
            ]
          },
          "metadata": {},
          "execution_count": 34
        },
        {
          "output_type": "display_data",
          "data": {
            "text/plain": [
              "<Figure size 640x480 with 1 Axes>"
            ],
            "image/png": "[encoded data removed]"
          },
          "metadata": {}
        }
      ]
    },
    {
      "cell_type": "markdown",
      "source": [
        "## create y to 3 output"
      ],
      "metadata": {
        "id": "P1lpVh22dAv1"
      }
    },
    {
      "cell_type": "code",
      "source": [
        "y_train = pd.get_dummies(y_train)\n",
        "y_val = pd.get_dummies(y_val)\n",
        "y_test = pd.get_dummies(y_test)"
      ],
      "metadata": {
        "id": "k36qeckOc-iV"
      },
      "execution_count": 35,
      "outputs": []
    },
    {
      "cell_type": "code",
      "source": [
        "print('Train Set ->', X_train.shape, y_train.shape)\n",
        "print('Validation Set ->', X_val.shape, y_val.shape)\n",
        "print('Test Set ->', X_test.shape, y_test.shape)"
      ],
      "metadata": {
        "colab": {
          "base_uri": "https://localhost:8080/"
        },
        "id": "AHpCNw3rdMUD",
        "outputId": "a32a26f3-9358-4333-f576-d768a7c6e065"
      },
      "execution_count": 36,
      "outputs": [
        {
          "output_type": "stream",
          "name": "stdout",
          "text": [
            "Train Set -> (13599, 20) (13599, 3)\n",
            "Validation Set -> (4533, 20) (4533, 3)\n",
            "Test Set -> (2392, 20) (2392, 3)\n"
          ]
        }
      ]
    },
    {
      "cell_type": "markdown",
      "source": [
        "# Train Data"
      ],
      "metadata": {
        "id": "ocHjThyJdQA4"
      }
    },
    {
      "cell_type": "code",
      "source": [
        "start_time = datetime.now()\n",
        "\n",
        "history = model.fit(X_train, y_train, validation_data=(X_val, y_val), epochs=30, batch_size=8)\n",
        "#callbacks=[checkpointer]\n",
        "\n",
        "#model.load_weights('weights.hdf5')\n",
        "\n",
        "end_time = datetime.now()\n",
        "print('Duration: {}'.format(end_time - start_time))"
      ],
      "metadata": {
        "colab": {
          "base_uri": "https://localhost:8080/"
        },
        "id": "Lv5wx0OidNXi",
        "outputId": "96597e88-b3e5-4812-ea2d-b3e5d21c20b7"
      },
      "execution_count": 37,
      "outputs": [
        {
          "output_type": "stream",
          "name": "stdout",
          "text": [
            "Epoch 1/30\n",
            "1700/1700 [==============================] - 88s 43ms/step - loss: 1.1097 - accuracy: 0.3597 - precision: 0.3847 - recall: 0.0229 - val_loss: 1.0958 - val_accuracy: 0.3552 - val_precision: 0.4091 - val_recall: 0.0040\n",
            "Epoch 2/30\n",
            "1700/1700 [==============================] - 64s 38ms/step - loss: 1.0936 - accuracy: 0.3706 - precision: 0.4679 - recall: 0.0161 - val_loss: 1.0891 - val_accuracy: 0.3675 - val_precision: 0.5161 - val_recall: 0.0176\n",
            "Epoch 3/30\n",
            "1700/1700 [==============================] - 60s 35ms/step - loss: 1.0888 - accuracy: 0.3784 - precision: 0.5071 - recall: 0.0237 - val_loss: 1.0857 - val_accuracy: 0.3759 - val_precision: 0.5304 - val_recall: 0.0212\n",
            "Epoch 4/30\n",
            "1700/1700 [==============================] - 60s 35ms/step - loss: 1.0844 - accuracy: 0.3946 - precision: 0.5296 - recall: 0.0270 - val_loss: 1.0818 - val_accuracy: 0.3841 - val_precision: 0.5662 - val_recall: 0.0170\n",
            "Epoch 5/30\n",
            "1700/1700 [==============================] - 62s 37ms/step - loss: 1.0781 - accuracy: 0.4016 - precision: 0.5762 - recall: 0.0367 - val_loss: 1.0754 - val_accuracy: 0.3951 - val_precision: 0.5531 - val_recall: 0.0333\n",
            "Epoch 6/30\n",
            "1700/1700 [==============================] - 61s 36ms/step - loss: 1.0705 - accuracy: 0.4156 - precision: 0.5441 - recall: 0.0577 - val_loss: 1.0672 - val_accuracy: 0.4154 - val_precision: 0.5286 - val_recall: 0.0529\n",
            "Epoch 7/30\n",
            "1700/1700 [==============================] - 63s 37ms/step - loss: 1.0671 - accuracy: 0.4192 - precision: 0.5577 - recall: 0.0707 - val_loss: 1.0623 - val_accuracy: 0.4469 - val_precision: 0.5293 - val_recall: 0.0796\n",
            "Epoch 8/30\n",
            "1700/1700 [==============================] - 62s 37ms/step - loss: 1.0614 - accuracy: 0.4254 - precision: 0.5630 - recall: 0.0877 - val_loss: 1.0563 - val_accuracy: 0.4405 - val_precision: 0.5686 - val_recall: 0.0823\n",
            "Epoch 9/30\n",
            "1700/1700 [==============================] - 60s 35ms/step - loss: 1.0542 - accuracy: 0.4419 - precision: 0.5928 - recall: 0.1059 - val_loss: 1.0516 - val_accuracy: 0.4613 - val_precision: 0.5755 - val_recall: 0.1026\n",
            "Epoch 10/30\n",
            "1700/1700 [==============================] - 60s 35ms/step - loss: 1.0488 - accuracy: 0.4505 - precision: 0.5809 - recall: 0.1129 - val_loss: 1.0482 - val_accuracy: 0.4628 - val_precision: 0.5734 - val_recall: 0.1008\n",
            "Epoch 11/30\n",
            "1700/1700 [==============================] - 60s 35ms/step - loss: 1.0402 - accuracy: 0.4569 - precision: 0.5994 - recall: 0.1264 - val_loss: 1.0389 - val_accuracy: 0.4394 - val_precision: 0.5970 - val_recall: 0.1337\n",
            "Epoch 12/30\n",
            "1700/1700 [==============================] - 60s 35ms/step - loss: 1.0368 - accuracy: 0.4605 - precision: 0.5966 - recall: 0.1351 - val_loss: 1.0332 - val_accuracy: 0.4745 - val_precision: 0.5921 - val_recall: 0.1361\n",
            "Epoch 13/30\n",
            "1700/1700 [==============================] - 60s 35ms/step - loss: 1.0326 - accuracy: 0.4676 - precision: 0.5928 - recall: 0.1352 - val_loss: 1.0308 - val_accuracy: 0.4814 - val_precision: 0.5815 - val_recall: 0.1557\n",
            "Epoch 14/30\n",
            "1700/1700 [==============================] - 60s 35ms/step - loss: 1.0285 - accuracy: 0.4714 - precision: 0.6011 - recall: 0.1391 - val_loss: 1.0262 - val_accuracy: 0.4803 - val_precision: 0.5824 - val_recall: 0.1551\n",
            "Epoch 15/30\n",
            "1700/1700 [==============================] - 62s 37ms/step - loss: 1.0226 - accuracy: 0.4738 - precision: 0.6079 - recall: 0.1479 - val_loss: 1.0226 - val_accuracy: 0.4825 - val_precision: 0.5862 - val_recall: 0.1628\n",
            "Epoch 16/30\n",
            "1700/1700 [==============================] - 62s 37ms/step - loss: 1.0196 - accuracy: 0.4822 - precision: 0.6063 - recall: 0.1547 - val_loss: 1.0186 - val_accuracy: 0.4789 - val_precision: 0.5836 - val_recall: 0.1701\n",
            "Epoch 17/30\n",
            "1700/1700 [==============================] - 62s 37ms/step - loss: 1.0157 - accuracy: 0.4755 - precision: 0.6275 - recall: 0.1754 - val_loss: 1.0148 - val_accuracy: 0.4780 - val_precision: 0.6261 - val_recall: 0.1873\n",
            "Epoch 18/30\n",
            "1700/1700 [==============================] - 60s 35ms/step - loss: 1.0086 - accuracy: 0.4782 - precision: 0.6392 - recall: 0.1911 - val_loss: 1.0096 - val_accuracy: 0.4851 - val_precision: 0.6258 - val_recall: 0.2047\n",
            "Epoch 19/30\n",
            "1700/1700 [==============================] - 61s 36ms/step - loss: 1.0056 - accuracy: 0.4778 - precision: 0.6322 - recall: 0.1916 - val_loss: 1.0109 - val_accuracy: 0.4822 - val_precision: 0.6079 - val_recall: 0.2237\n",
            "Epoch 20/30\n",
            "1700/1700 [==============================] - 61s 36ms/step - loss: 1.0049 - accuracy: 0.4779 - precision: 0.6278 - recall: 0.1955 - val_loss: 1.0049 - val_accuracy: 0.4844 - val_precision: 0.6155 - val_recall: 0.2246\n",
            "Epoch 21/30\n",
            "1700/1700 [==============================] - 62s 37ms/step - loss: 1.0013 - accuracy: 0.4857 - precision: 0.6260 - recall: 0.1994 - val_loss: 1.0025 - val_accuracy: 0.4844 - val_precision: 0.6212 - val_recall: 0.2131\n",
            "Epoch 22/30\n",
            "1700/1700 [==============================] - 60s 35ms/step - loss: 0.9974 - accuracy: 0.4839 - precision: 0.6359 - recall: 0.2075 - val_loss: 1.0013 - val_accuracy: 0.4851 - val_precision: 0.6250 - val_recall: 0.2074\n",
            "Epoch 23/30\n",
            "1700/1700 [==============================] - 63s 37ms/step - loss: 0.9954 - accuracy: 0.4856 - precision: 0.6348 - recall: 0.2074 - val_loss: 1.0004 - val_accuracy: 0.4829 - val_precision: 0.6248 - val_recall: 0.2032\n",
            "Epoch 24/30\n",
            "1700/1700 [==============================] - 61s 36ms/step - loss: 0.9939 - accuracy: 0.4824 - precision: 0.6302 - recall: 0.2020 - val_loss: 0.9982 - val_accuracy: 0.4838 - val_precision: 0.6146 - val_recall: 0.2266\n",
            "Epoch 25/30\n",
            "1700/1700 [==============================] - 61s 36ms/step - loss: 0.9911 - accuracy: 0.4880 - precision: 0.6236 - recall: 0.2059 - val_loss: 0.9983 - val_accuracy: 0.4825 - val_precision: 0.6022 - val_recall: 0.2274\n",
            "Epoch 26/30\n",
            "1700/1700 [==============================] - 61s 36ms/step - loss: 0.9909 - accuracy: 0.4883 - precision: 0.6260 - recall: 0.2149 - val_loss: 0.9945 - val_accuracy: 0.4774 - val_precision: 0.6126 - val_recall: 0.2239\n",
            "Epoch 27/30\n",
            "1700/1700 [==============================] - 61s 36ms/step - loss: 0.9867 - accuracy: 0.4916 - precision: 0.6368 - recall: 0.2171 - val_loss: 0.9922 - val_accuracy: 0.4840 - val_precision: 0.6007 - val_recall: 0.2369\n",
            "Epoch 28/30\n",
            "1700/1700 [==============================] - 60s 36ms/step - loss: 0.9850 - accuracy: 0.4892 - precision: 0.6276 - recall: 0.2169 - val_loss: 0.9913 - val_accuracy: 0.4897 - val_precision: 0.6038 - val_recall: 0.2407\n",
            "Epoch 29/30\n",
            "1700/1700 [==============================] - 63s 37ms/step - loss: 0.9821 - accuracy: 0.4918 - precision: 0.6294 - recall: 0.2226 - val_loss: 0.9884 - val_accuracy: 0.4820 - val_precision: 0.6070 - val_recall: 0.2371\n",
            "Epoch 30/30\n",
            "1700/1700 [==============================] - 60s 35ms/step - loss: 0.9796 - accuracy: 0.4922 - precision: 0.6294 - recall: 0.2233 - val_loss: 0.9851 - val_accuracy: 0.4822 - val_precision: 0.6171 - val_recall: 0.2354\n",
            "Duration: 0:31:37.389432\n"
          ]
        }
      ]
    },
    {
      "cell_type": "code",
      "source": [
        "#model.load_weights('weights.hdf5')"
      ],
      "metadata": {
        "id": "NO__e9k6nUbw"
      },
      "execution_count": null,
      "outputs": []
    },
    {
      "cell_type": "markdown",
      "source": [
        "# Save model"
      ],
      "metadata": {
        "id": "2J9PRSxBeKVG"
      }
    },
    {
      "cell_type": "code",
      "source": [
        "# Save the model architecture & the weights\n",
        "#model.save('w2v_ws_lstm.h5')\n",
        "#print('Best model saved')"
      ],
      "metadata": {
        "colab": {
          "base_uri": "https://localhost:8080/"
        },
        "id": "Zl9WvBU8eGJw",
        "outputId": "6c4edd70-5c41-46d7-a057-bcb5760cdd3e"
      },
      "execution_count": null,
      "outputs": [
        {
          "output_type": "stream",
          "name": "stdout",
          "text": [
            "Best model saved\n"
          ]
        }
      ]
    },
    {
      "cell_type": "code",
      "source": [
        "def plot_training_hist(history):\n",
        "    '''Function to plot history for accuracy and loss'''    \n",
        "    fig, ax = plt.subplots(1, 2, figsize=(10,4))\n",
        "    # first plot\n",
        "    ax[0].plot(history.history['accuracy'])\n",
        "    ax[0].plot(history.history['val_accuracy'])\n",
        "    ax[0].set_title('Model Accuracy')\n",
        "    ax[0].set_xlabel('epoch')\n",
        "    ax[0].set_ylabel('accuracy')\n",
        "    ax[0].legend(['train', 'validation'], loc='best')\n",
        "    # second plot\n",
        "    ax[1].plot(history.history['loss'])\n",
        "    ax[1].plot(history.history['val_loss'])\n",
        "    ax[1].set_title('Model Loss')\n",
        "    ax[1].set_xlabel('epoch')\n",
        "    ax[1].set_ylabel('loss')\n",
        "    ax[1].legend(['train', 'validation'], loc='best')\n",
        "    \n",
        "plot_training_hist(history)"
      ],
      "metadata": {
        "id": "-OdBkWCpe9pv",
        "colab": {
          "base_uri": "https://localhost:8080/",
          "height": 410
        },
        "outputId": "c2f5e843-262f-4283-ba18-948343c06645"
      },
      "execution_count": 38,
      "outputs": [
        {
          "output_type": "display_data",
          "data": {
            "text/plain": [
              "<Figure size 1000x400 with 2 Axes>"
            ],
            "image/png": "[encoded data removed]"
          },
          "metadata": {}
        }
      ]
    },
    {
      "cell_type": "markdown",
      "source": [
        "epoch = 30"
      ],
      "metadata": {
        "id": "xLt4dhFr_GVr"
      }
    },
    {
      "cell_type": "markdown",
      "source": [
        "# Train Again from graph"
      ],
      "metadata": {
        "id": "9bpAorsEr8hs"
      }
    },
    {
      "cell_type": "code",
      "source": [
        "model = Sequential()\n",
        "model.add(embedding_layer)\n",
        "model.add(Dropout(0.1))\n",
        "model.add(LSTM(128, return_sequences=True))\n",
        "model.add(Dropout(0.1))\n",
        "#model.add(LTC(fc_wiring, return_sequences=True))\n",
        "#model.add(LSTM(128, return_sequences=True))\n",
        "#model.add(LTC(rnd_wiring))\n",
        "#model.add(LTC(fc_wiring, return_sequences=True))\n",
        "#model.add(Dropout(0.1))\n",
        "#model.add(LSTM(128))\n",
        "model.add(CfC(rnd_wiring))\n",
        "#model.add(LTC(rnd_wiring, return_sequences=True))\n",
        "model.add(Dropout(0.2))\n",
        "model.add(Dense(3, activation='softmax'))\n",
        "#model.add(LTC(rnd_wiring))\n",
        "\n",
        "model.compile(optimizer='adamax', loss='categorical_crossentropy', metrics=['accuracy', Precision(), Recall()])\n",
        "print(model.summary())"
      ],
      "metadata": {
        "colab": {
          "base_uri": "https://localhost:8080/"
        },
        "id": "eDuVavSpsD3d",
        "outputId": "631fabc5-cf73-4125-fa10-65dc111db9e2"
      },
      "execution_count": null,
      "outputs": [
        {
          "output_type": "stream",
          "name": "stdout",
          "text": [
            "Model: \"sequential_1\"\n",
            "_________________________________________________________________\n",
            " Layer (type)                Output Shape              Param #   \n",
            "=================================================================\n",
            " embedding (Embedding)       (None, 40, 100)           3107800   \n",
            "                                                                 \n",
            " dropout_3 (Dropout)         (None, 40, 100)           0         \n",
            "                                                                 \n",
            " lstm_1 (LSTM)               (None, 40, 128)           117248    \n",
            "                                                                 \n",
            " dropout_4 (Dropout)         (None, 40, 128)           0         \n",
            "                                                                 \n",
            " cf_c_1 (CfC)                (None, 3)                 4384      \n",
            "                                                                 \n",
            " dropout_5 (Dropout)         (None, 3)                 0         \n",
            "                                                                 \n",
            " dense_1 (Dense)             (None, 3)                 12        \n",
            "                                                                 \n",
            "=================================================================\n",
            "Total params: 3,229,444\n",
            "Trainable params: 121,644\n",
            "Non-trainable params: 3,107,800\n",
            "_________________________________________________________________\n",
            "None\n"
          ]
        }
      ]
    },
    {
      "cell_type": "code",
      "source": [
        "start_time = datetime.now()\n",
        "\n",
        "history = model.fit(X_train, y_train, validation_data=(X_val, y_val), epochs=7, batch_size=8)\n",
        "#callbacks=[checkpointer]\n",
        "\n",
        "#model.load_weights('weights.hdf5')\n",
        "\n",
        "end_time = datetime.now()\n",
        "print('Duration: {}'.format(end_time - start_time))"
      ],
      "metadata": {
        "colab": {
          "base_uri": "https://localhost:8080/"
        },
        "id": "HX04D70RsETZ",
        "outputId": "c4b8d9a4-ac28-4045-fb05-663d586a94a5"
      },
      "execution_count": null,
      "outputs": [
        {
          "output_type": "stream",
          "name": "stdout",
          "text": [
            "Epoch 1/7\n",
            "3405/3405 [==============================] - 140s 40ms/step - loss: 0.9743 - accuracy: 0.5180 - precision_1: 0.5999 - recall_1: 0.3004 - val_loss: 0.9166 - val_accuracy: 0.5619 - val_precision_1: 0.6345 - val_recall_1: 0.3723\n",
            "Epoch 2/7\n",
            "3405/3405 [==============================] - 143s 42ms/step - loss: 0.9133 - accuracy: 0.5545 - precision_1: 0.6298 - recall_1: 0.3672 - val_loss: 0.9021 - val_accuracy: 0.5525 - val_precision_1: 0.6058 - val_recall_1: 0.3885\n",
            "Epoch 3/7\n",
            "3405/3405 [==============================] - 144s 42ms/step - loss: 0.8815 - accuracy: 0.5753 - precision_1: 0.6523 - recall_1: 0.4091 - val_loss: 0.8766 - val_accuracy: 0.5743 - val_precision_1: 0.6272 - val_recall_1: 0.4551\n",
            "Epoch 4/7\n",
            "3405/3405 [==============================] - 135s 40ms/step - loss: 0.8421 - accuracy: 0.6039 - precision_1: 0.6719 - recall_1: 0.4504 - val_loss: 0.8588 - val_accuracy: 0.5840 - val_precision_1: 0.6281 - val_recall_1: 0.4766\n",
            "Epoch 5/7\n",
            "3405/3405 [==============================] - 134s 39ms/step - loss: 0.8145 - accuracy: 0.6205 - precision_1: 0.6886 - recall_1: 0.4820 - val_loss: 0.8558 - val_accuracy: 0.5862 - val_precision_1: 0.6309 - val_recall_1: 0.4783\n",
            "Epoch 6/7\n",
            "3405/3405 [==============================] - 133s 39ms/step - loss: 0.7915 - accuracy: 0.6342 - precision_1: 0.6982 - recall_1: 0.5063 - val_loss: 0.8520 - val_accuracy: 0.5941 - val_precision_1: 0.6388 - val_recall_1: 0.4922\n",
            "Epoch 7/7\n",
            "3405/3405 [==============================] - 133s 39ms/step - loss: 0.7670 - accuracy: 0.6468 - precision_1: 0.7121 - recall_1: 0.5325 - val_loss: 0.8518 - val_accuracy: 0.5906 - val_precision_1: 0.6297 - val_recall_1: 0.5099\n",
            "Duration: 0:16:25.274693\n"
          ]
        }
      ]
    },
    {
      "cell_type": "markdown",
      "source": [
        "# Evaluation"
      ],
      "metadata": {
        "id": "eMevlvowe1nZ"
      }
    },
    {
      "cell_type": "code",
      "source": [
        "def f1_score(precision, recall):\n",
        "    ''' Function to calculate f1 score '''\n",
        "    f1_val = 2*(precision*recall)/(precision+recall+K.epsilon())\n",
        "    return f1_val"
      ],
      "metadata": {
        "id": "bSnCB4aJe2jz"
      },
      "execution_count": 39,
      "outputs": []
    },
    {
      "cell_type": "code",
      "source": [
        "# Evaluate model on the test set\n",
        "loss, accuracy, precision, recall = model.evaluate(X_test, y_test, verbose=0)\n",
        "# Print metrics\n",
        "print('')\n",
        "print('Accuracy  : {:.4f}'.format(accuracy))\n",
        "print('Precision : {:.4f}'.format(precision))\n",
        "print('Recall    : {:.4f}'.format(recall))\n",
        "print('F1 Score  : {:.4f}'.format(f1_score(precision, recall)))"
      ],
      "metadata": {
        "id": "-cYm57Uie7nQ",
        "colab": {
          "base_uri": "https://localhost:8080/"
        },
        "outputId": "61bc971d-9a7b-4da5-85c4-20a6f7cc7d9e"
      },
      "execution_count": 40,
      "outputs": [
        {
          "output_type": "stream",
          "name": "stdout",
          "text": [
            "\n",
            "Accuracy  : 0.5819\n",
            "Precision : 0.7156\n",
            "Recall    : 0.2588\n",
            "F1 Score  : 0.3801\n"
          ]
        }
      ]
    },
    {
      "cell_type": "code",
      "source": [
        "from sklearn.metrics import confusion_matrix\n",
        "import seaborn as sns\n",
        "\n",
        "def plot_confusion_matrix(model, X_test, y_test):\n",
        "    '''Function to plot confusion matrix for the passed model and the data'''\n",
        "    \n",
        "    sentiment_classes = ['Positive', 'Neutral', 'Negative']\n",
        "    # use model to do the prediction\n",
        "    y_pred = model.predict(X_test)\n",
        "    # compute confusion matrix\n",
        "    cm = confusion_matrix(np.argmax(np.array(y_test),axis=1), np.argmax(y_pred, axis=1))\n",
        "    # plot confusion matrix\n",
        "    plt.figure(figsize=(8,6))\n",
        "    sns.heatmap(cm, cmap=plt.cm.Blues, annot=True, fmt='d', \n",
        "                xticklabels=sentiment_classes,\n",
        "                yticklabels=sentiment_classes)\n",
        "    plt.title('Confusion matrix', fontsize=16)\n",
        "    plt.xlabel('Predicted label', fontsize=12)\n",
        "    plt.ylabel('Actual label', fontsize=12)\n",
        "    \n",
        "plot_confusion_matrix(model, X_test, y_test)"
      ],
      "metadata": {
        "id": "9HkjfClNfBhy",
        "colab": {
          "base_uri": "https://localhost:8080/",
          "height": 587
        },
        "outputId": "19d52f52-5589-4c1d-9efa-85c79958aa2d"
      },
      "execution_count": null,
      "outputs": [
        {
          "output_type": "stream",
          "name": "stdout",
          "text": [
            "167/167 [==============================] - 1s 7ms/step\n"
          ]
        },
        {
          "output_type": "display_data",
          "data": {
            "text/plain": [
              "<Figure size 800x600 with 2 Axes>"
            ],
            "image/png": "[encoded data removed]"
          },
          "metadata": {}
        }
      ]
    },
    {
      "cell_type": "code",
      "source": [
        "from keras.models import load_model\n",
        "\n",
        "# Load model\n",
        "model = load_model('w2v_ws_lstm.h5')\n"
      ],
      "metadata": {
        "id": "7CxMSqKPp-fz",
        "colab": {
          "base_uri": "https://localhost:8080/"
        },
        "outputId": "dd01abf7-2068-4d82-dd65-4a17b37d4ae4"
      },
      "execution_count": null,
      "outputs": [
        {
          "output_type": "stream",
          "name": "stdout",
          "text": [
            "167/167 [==============================] - 14s 68ms/step\n"
          ]
        }
      ]
    },
    {
      "cell_type": "code",
      "source": [
        "y_pred = model.predict(X_test)\n",
        "y_pred_lst = np.argmax(np.array(y_pred),axis=1)"
      ],
      "metadata": {
        "id": "xf1Zd_xfz4N0",
        "colab": {
          "base_uri": "https://localhost:8080/"
        },
        "outputId": "f8e4473d-2fc6-479d-ec42-d0d9f7fc3d71"
      },
      "execution_count": null,
      "outputs": [
        {
          "output_type": "stream",
          "name": "stdout",
          "text": [
            "167/167 [==============================] - 1s 7ms/step\n"
          ]
        }
      ]
    },
    {
      "cell_type": "code",
      "source": [
        "# create y\n",
        "y = df['label']\n",
        "y.shape\n",
        "X_train, X_test, y_train, y_test = train_test_split(X, y, test_size=0.2, random_state=42)\n",
        "y_pred_lst = list(y_pred_lst)\n",
        "y_test = list(y_test.astype(int))"
      ],
      "metadata": {
        "id": "FyVq2Tvr03YN"
      },
      "execution_count": null,
      "outputs": []
    },
    {
      "cell_type": "code",
      "source": [
        "# Print the precision and recall, among other metrics\n",
        "from sklearn import metrics\n",
        "# Print the confusion matrix\n",
        "print(confusion_matrix(y_test, y_pred_lst))\n",
        "\n",
        "# Print the precision and recall, among other metrics\n",
        "print(metrics.classification_report(y_test, y_pred_lst, digits=3))"
      ],
      "metadata": {
        "id": "w5TmPFDRqHFY",
        "colab": {
          "base_uri": "https://localhost:8080/"
        },
        "outputId": "fde83687-49d1-44f0-9699-4ab005b26842"
      },
      "execution_count": null,
      "outputs": [
        {
          "output_type": "stream",
          "name": "stdout",
          "text": [
            "[[ 326  433  149]\n",
            " [ 671 1979  319]\n",
            " [ 163  634  649]]\n",
            "              precision    recall  f1-score   support\n",
            "\n",
            "           0      0.281     0.359     0.315       908\n",
            "           1      0.650     0.667     0.658      2969\n",
            "           2      0.581     0.449     0.506      1446\n",
            "\n",
            "    accuracy                          0.555      5323\n",
            "   macro avg      0.504     0.491     0.493      5323\n",
            "weighted avg      0.568     0.555     0.558      5323\n",
            "\n"
          ]
        }
      ]
    },
    {
      "cell_type": "markdown",
      "source": [
        "# Inference"
      ],
      "metadata": {
        "id": "OFzqvlqlfFLN"
      }
    },
    {
      "cell_type": "code",
      "source": [
        "from keras.models import load_model\n",
        "\n",
        "# Load model\n",
        "model = load_model('w2v_ws_lstm.h5')\n",
        "\n",
        "def predict_class(text):\n",
        "    '''Function to predict sentiment class of the passed text'''\n",
        "    \n",
        "    sentiment_classes = ['Positive', 'Neutral', 'Negative']\n",
        "    max_len=40\n",
        "    \n",
        "    # Transforms text to a sequence of integers using a tokenizer object\n",
        "    t = [text]\n",
        "    df2 = pd.DataFrame(list(t), columns = ['text'])\n",
        "    df2.loc[:,'text'] = df2.loc[:,'text'].map(word_tokenize)\n",
        "    # Pad sequences to the same length\n",
        "    X = pad_sequences(tokenizer.texts_to_sequences(df2.text), maxlen=40)\n",
        "    # Do the prediction using the loaded model\n",
        "    yt = model.predict(X).argmax(axis=1)\n",
        "    # Print the predicted sentiment\n",
        "    print('The predicted sentiment is', sentiment_classes[yt[0]])"
      ],
      "metadata": {
        "id": "xv0add7Alvu3"
      },
      "execution_count": null,
      "outputs": []
    },
    {
      "cell_type": "code",
      "source": [
        "predict_class('ดีครับ')"
      ],
      "metadata": {
        "colab": {
          "base_uri": "https://localhost:8080/"
        },
        "id": "W-yO6omwmAMM",
        "outputId": "17f4da37-9813-4fa4-9435-04ca4d8d43cc"
      },
      "execution_count": null,
      "outputs": [
        {
          "output_type": "stream",
          "name": "stdout",
          "text": [
            "1/1 [==============================] - 3s 3s/step\n",
            "The predicted sentiment is Positive\n"
          ]
        }
      ]
    },
    {
      "cell_type": "code",
      "source": [
        "predict_class('ลุงตู่')"
      ],
      "metadata": {
        "colab": {
          "base_uri": "https://localhost:8080/"
        },
        "id": "Io4pSY7KjWU2",
        "outputId": "e811f9eb-df00-47ef-91ca-f50ec9ccd4d3"
      },
      "execution_count": null,
      "outputs": [
        {
          "output_type": "stream",
          "name": "stdout",
          "text": [
            "1/1 [==============================] - 0s 28ms/step\n",
            "The predicted sentiment is Neutral\n"
          ]
        }
      ]
    },
    {
      "cell_type": "code",
      "source": [
        "predict_class('ไอ้ส้นตีน')"
      ],
      "metadata": {
        "colab": {
          "base_uri": "https://localhost:8080/"
        },
        "id": "hS7jg8gWmJpk",
        "outputId": "65b6a74e-cdbd-4369-c9cb-0b91f0e2c595"
      },
      "execution_count": null,
      "outputs": [
        {
          "output_type": "stream",
          "name": "stdout",
          "text": [
            "1/1 [==============================] - 0s 45ms/step\n",
            "The predicted sentiment is Positive\n"
          ]
        }
      ]
    },
    {
      "cell_type": "code",
      "source": [
        "predict_class('สวัสดีวันจันทร์')"
      ],
      "metadata": {
        "colab": {
          "base_uri": "https://localhost:8080/"
        },
        "id": "Re5QShaKmLLs",
        "outputId": "e064d8a9-f1e3-4a63-a5a4-90c760fb03b8"
      },
      "execution_count": null,
      "outputs": [
        {
          "output_type": "stream",
          "name": "stdout",
          "text": [
            "1/1 [==============================] - 0s 48ms/step\n",
            "The predicted sentiment is Neutral\n"
          ]
        }
      ]
    },
    {
      "cell_type": "code",
      "source": [],
      "metadata": {
        "id": "cCvW3XqFm396"
      },
      "execution_count": null,
      "outputs": []
    }
  ]
}
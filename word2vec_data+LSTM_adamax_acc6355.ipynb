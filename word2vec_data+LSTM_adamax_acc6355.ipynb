{
  "nbformat": 4,
  "nbformat_minor": 0,
  "metadata": {
    "colab": {
      "provenance": [],
      "collapsed_sections": [
        "rRWdXZimclOE",
        "2J9PRSxBeKVG"
      ],
      "authorship_tag": "ABX9TyOk3L/fzI8YzGNI4mOyqVD+",
      "include_colab_link": true
    },
    "kernelspec": {
      "name": "python3",
      "display_name": "Python 3"
    },
    "language_info": {
      "name": "python"
    }
  },
  "cells": [
    {
      "cell_type": "markdown",
      "metadata": {
        "id": "view-in-github",
        "colab_type": "text"
      },
      "source": [
        "<a href=\"https://colab.research.google.com/github/macgyver121/IS_DADS/blob/main/word2vec_data%2BLSTM_adamax_acc6355.ipynb\" target=\"_parent\"><img src=\"https://colab.research.google.com/assets/colab-badge.svg\" alt=\"Open In Colab\"/></a>"
      ]
    },
    {
      "cell_type": "markdown",
      "source": [
        "https://github.com/RaRe-Technologies/gensim/wiki/Migrating-from-Gensim-3.x-to-4"
      ],
      "metadata": {
        "id": "ZOL5LrxfqGjB"
      }
    },
    {
      "cell_type": "markdown",
      "source": [
        "# Install Library"
      ],
      "metadata": {
        "id": "TwCgcCEjaaIC"
      }
    },
    {
      "cell_type": "code",
      "source": [
        "pip install pythainlp"
      ],
      "metadata": {
        "colab": {
          "base_uri": "https://localhost:8080/"
        },
        "id": "nciBDatAaZt4",
        "outputId": "4afebd9f-ead5-4186-a3eb-4c2e00614547"
      },
      "execution_count": 1,
      "outputs": [
        {
          "output_type": "stream",
          "name": "stdout",
          "text": [
            "Looking in indexes: https://pypi.org/simple, https://us-python.pkg.dev/colab-wheels/public/simple/\n",
            "Requirement already satisfied: pythainlp in /usr/local/lib/python3.10/dist-packages (4.0.1)\n",
            "Requirement already satisfied: requests>=2.22.0 in /usr/local/lib/python3.10/dist-packages (from pythainlp) (2.27.1)\n",
            "Requirement already satisfied: urllib3<1.27,>=1.21.1 in /usr/local/lib/python3.10/dist-packages (from requests>=2.22.0->pythainlp) (1.26.15)\n",
            "Requirement already satisfied: certifi>=2017.4.17 in /usr/local/lib/python3.10/dist-packages (from requests>=2.22.0->pythainlp) (2022.12.7)\n",
            "Requirement already satisfied: charset-normalizer~=2.0.0 in /usr/local/lib/python3.10/dist-packages (from requests>=2.22.0->pythainlp) (2.0.12)\n",
            "Requirement already satisfied: idna<4,>=2.5 in /usr/local/lib/python3.10/dist-packages (from requests>=2.22.0->pythainlp) (3.4)\n"
          ]
        }
      ]
    },
    {
      "cell_type": "code",
      "execution_count": 2,
      "metadata": {
        "colab": {
          "base_uri": "https://localhost:8080/"
        },
        "id": "CKY_yhYiaODS",
        "outputId": "25f1b2db-19de-4bae-f7e3-d77af3fc1007"
      },
      "outputs": [
        {
          "output_type": "stream",
          "name": "stdout",
          "text": [
            "Looking in indexes: https://pypi.org/simple, https://us-python.pkg.dev/colab-wheels/public/simple/\n",
            "Requirement already satisfied: emoji in /usr/local/lib/python3.10/dist-packages (2.2.0)\n"
          ]
        }
      ],
      "source": [
        "pip install emoji"
      ]
    },
    {
      "cell_type": "code",
      "source": [
        "!pip install gensim"
      ],
      "metadata": {
        "id": "zpJJ3lVwbVWp",
        "colab": {
          "base_uri": "https://localhost:8080/"
        },
        "outputId": "f6df22d0-001c-4492-9b52-2ad51b6c3567"
      },
      "execution_count": 3,
      "outputs": [
        {
          "output_type": "stream",
          "name": "stdout",
          "text": [
            "Looking in indexes: https://pypi.org/simple, https://us-python.pkg.dev/colab-wheels/public/simple/\n",
            "Requirement already satisfied: gensim in /usr/local/lib/python3.10/dist-packages (4.3.1)\n",
            "Requirement already satisfied: numpy>=1.18.5 in /usr/local/lib/python3.10/dist-packages (from gensim) (1.22.4)\n",
            "Requirement already satisfied: scipy>=1.7.0 in /usr/local/lib/python3.10/dist-packages (from gensim) (1.10.1)\n",
            "Requirement already satisfied: smart-open>=1.8.1 in /usr/local/lib/python3.10/dist-packages (from gensim) (6.3.0)\n"
          ]
        }
      ]
    },
    {
      "cell_type": "code",
      "source": [
        "import pandas as pd\n",
        "import numpy as np\n",
        "import re\n",
        "import emoji\n",
        "\n",
        "from pythainlp.tokenize import word_tokenize\n",
        "from keras.preprocessing.text import Tokenizer\n",
        "from keras.utils import pad_sequences\n",
        "\n",
        "from gensim.test.utils import common_texts\n",
        "from gensim.models import Word2Vec\n",
        "\n",
        "from keras.layers import Embedding\n",
        "from keras.models import Sequential\n",
        "from keras.layers import LSTM, Dense, Dropout, Bidirectional\n",
        "from keras.metrics import Precision, Recall\n",
        "from keras.callbacks import History\n",
        "\n",
        "import tensorflow as tf\n",
        "\n",
        "from sklearn.model_selection import train_test_split\n",
        "from imblearn.over_sampling import SMOTE\n",
        "\n",
        "import matplotlib.pyplot as plt\n",
        "\n",
        "from datetime import datetime\n",
        "from keras import callbacks\n",
        "\n",
        "import keras.backend as K"
      ],
      "metadata": {
        "id": "dBo6iDSfagPi"
      },
      "execution_count": 4,
      "outputs": []
    },
    {
      "cell_type": "markdown",
      "source": [
        "# Import file"
      ],
      "metadata": {
        "id": "h-mDrdOSamlA"
      }
    },
    {
      "cell_type": "code",
      "source": [
        "from google.colab import drive\n",
        "drive.mount('/content/drive')"
      ],
      "metadata": {
        "colab": {
          "base_uri": "https://localhost:8080/"
        },
        "id": "QpRBwP_nvB0X",
        "outputId": "a8ff76cc-2815-4f7e-c1e4-beb4f40f6dd6"
      },
      "execution_count": 5,
      "outputs": [
        {
          "output_type": "stream",
          "name": "stdout",
          "text": [
            "Drive already mounted at /content/drive; to attempt to forcibly remount, call drive.mount(\"/content/drive\", force_remount=True).\n"
          ]
        }
      ]
    },
    {
      "cell_type": "code",
      "source": [
        "# import csv file\n",
        "df = pd.read_csv('/content/drive/MyDrive/data_all.csv', delimiter=',')"
      ],
      "metadata": {
        "id": "ZIw44sCVanmY"
      },
      "execution_count": 6,
      "outputs": []
    },
    {
      "cell_type": "code",
      "source": [
        "df.loc[:,'text'] = df.loc[:,'text'].map(word_tokenize)"
      ],
      "metadata": {
        "id": "C5x-zshqazP1"
      },
      "execution_count": 7,
      "outputs": []
    },
    {
      "cell_type": "code",
      "source": [
        "df"
      ],
      "metadata": {
        "colab": {
          "base_uri": "https://localhost:8080/",
          "height": 423
        },
        "id": "QaM7YZzBa0rX",
        "outputId": "38de9d64-7ffb-45f1-eb9b-eb873e8aa094"
      },
      "execution_count": 8,
      "outputs": [
        {
          "output_type": "execute_result",
          "data": {
            "text/plain": [
              "       label                                   text\n",
              "0        1.0                                    [1]\n",
              "1        1.0                               [สวัสดี]\n",
              "2        1.0             [อรุณสวัสดิ์,  , ดู, ข่าว]\n",
              "3        1.0                            [D,  , jai]\n",
              "4        1.0                       [สวัสดี, ชาวโลก]\n",
              "...      ...                                    ...\n",
              "11954    1.0    [จุดแข็ง, หัว,  , จุดอ่อน, ที่อยู่]\n",
              "11955    1.0                                     []\n",
              "11956    1.0  [เจอ, ไฟไหม้,  , โทร, แจ้ง,  , เบอร์]\n",
              "11957    0.0                         [แม่, ง, เก่ง]\n",
              "11958    1.0                                  [งัว]\n",
              "\n",
              "[11959 rows x 2 columns]"
            ],
            "text/html": [
              "\n",
              "  <div id=\"df-cdb4ae87-81bd-4f8e-a37b-1f1119a6fed1\">\n",
              "    <div class=\"colab-df-container\">\n",
              "      <div>\n",
              "<style scoped>\n",
              "    .dataframe tbody tr th:only-of-type {\n",
              "        vertical-align: middle;\n",
              "    }\n",
              "\n",
              "    .dataframe tbody tr th {\n",
              "        vertical-align: top;\n",
              "    }\n",
              "\n",
              "    .dataframe thead th {\n",
              "        text-align: right;\n",
              "    }\n",
              "</style>\n",
              "<table border=\"1\" class=\"dataframe\">\n",
              "  <thead>\n",
              "    <tr style=\"text-align: right;\">\n",
              "      <th></th>\n",
              "      <th>label</th>\n",
              "      <th>text</th>\n",
              "    </tr>\n",
              "  </thead>\n",
              "  <tbody>\n",
              "    <tr>\n",
              "      <th>0</th>\n",
              "      <td>1.0</td>\n",
              "      <td>[1]</td>\n",
              "    </tr>\n",
              "    <tr>\n",
              "      <th>1</th>\n",
              "      <td>1.0</td>\n",
              "      <td>[สวัสดี]</td>\n",
              "    </tr>\n",
              "    <tr>\n",
              "      <th>2</th>\n",
              "      <td>1.0</td>\n",
              "      <td>[อรุณสวัสดิ์,  , ดู, ข่าว]</td>\n",
              "    </tr>\n",
              "    <tr>\n",
              "      <th>3</th>\n",
              "      <td>1.0</td>\n",
              "      <td>[D,  , jai]</td>\n",
              "    </tr>\n",
              "    <tr>\n",
              "      <th>4</th>\n",
              "      <td>1.0</td>\n",
              "      <td>[สวัสดี, ชาวโลก]</td>\n",
              "    </tr>\n",
              "    <tr>\n",
              "      <th>...</th>\n",
              "      <td>...</td>\n",
              "      <td>...</td>\n",
              "    </tr>\n",
              "    <tr>\n",
              "      <th>11954</th>\n",
              "      <td>1.0</td>\n",
              "      <td>[จุดแข็ง, หัว,  , จุดอ่อน, ที่อยู่]</td>\n",
              "    </tr>\n",
              "    <tr>\n",
              "      <th>11955</th>\n",
              "      <td>1.0</td>\n",
              "      <td>[]</td>\n",
              "    </tr>\n",
              "    <tr>\n",
              "      <th>11956</th>\n",
              "      <td>1.0</td>\n",
              "      <td>[เจอ, ไฟไหม้,  , โทร, แจ้ง,  , เบอร์]</td>\n",
              "    </tr>\n",
              "    <tr>\n",
              "      <th>11957</th>\n",
              "      <td>0.0</td>\n",
              "      <td>[แม่, ง, เก่ง]</td>\n",
              "    </tr>\n",
              "    <tr>\n",
              "      <th>11958</th>\n",
              "      <td>1.0</td>\n",
              "      <td>[งัว]</td>\n",
              "    </tr>\n",
              "  </tbody>\n",
              "</table>\n",
              "<p>11959 rows × 2 columns</p>\n",
              "</div>\n",
              "      <button class=\"colab-df-convert\" onclick=\"convertToInteractive('df-cdb4ae87-81bd-4f8e-a37b-1f1119a6fed1')\"\n",
              "              title=\"Convert this dataframe to an interactive table.\"\n",
              "              style=\"display:none;\">\n",
              "        \n",
              "  <svg xmlns=\"http://www.w3.org/2000/svg\" height=\"24px\"viewBox=\"0 0 24 24\"\n",
              "       width=\"24px\">\n",
              "    <path d=\"M0 0h24v24H0V0z\" fill=\"none\"/>\n",
              "    <path d=\"M18.56 5.44l.94 2.06.94-2.06 2.06-.94-2.06-.94-.94-2.06-.94 2.06-2.06.94zm-11 1L8.5 8.5l.94-2.06 2.06-.94-2.06-.94L8.5 2.5l-.94 2.06-2.06.94zm10 10l.94 2.06.94-2.06 2.06-.94-2.06-.94-.94-2.06-.94 2.06-2.06.94z\"/><path d=\"M17.41 7.96l-1.37-1.37c-.4-.4-.92-.59-1.43-.59-.52 0-1.04.2-1.43.59L10.3 9.45l-7.72 7.72c-.78.78-.78 2.05 0 2.83L4 21.41c.39.39.9.59 1.41.59.51 0 1.02-.2 1.41-.59l7.78-7.78 2.81-2.81c.8-.78.8-2.07 0-2.86zM5.41 20L4 18.59l7.72-7.72 1.47 1.35L5.41 20z\"/>\n",
              "  </svg>\n",
              "      </button>\n",
              "      \n",
              "  <style>\n",
              "    .colab-df-container {\n",
              "      display:flex;\n",
              "      flex-wrap:wrap;\n",
              "      gap: 12px;\n",
              "    }\n",
              "\n",
              "    .colab-df-convert {\n",
              "      background-color: #E8F0FE;\n",
              "      border: none;\n",
              "      border-radius: 50%;\n",
              "      cursor: pointer;\n",
              "      display: none;\n",
              "      fill: #1967D2;\n",
              "      height: 32px;\n",
              "      padding: 0 0 0 0;\n",
              "      width: 32px;\n",
              "    }\n",
              "\n",
              "    .colab-df-convert:hover {\n",
              "      background-color: #E2EBFA;\n",
              "      box-shadow: 0px 1px 2px rgba(60, 64, 67, 0.3), 0px 1px 3px 1px rgba(60, 64, 67, 0.15);\n",
              "      fill: #174EA6;\n",
              "    }\n",
              "\n",
              "    [theme=dark] .colab-df-convert {\n",
              "      background-color: #3B4455;\n",
              "      fill: #D2E3FC;\n",
              "    }\n",
              "\n",
              "    [theme=dark] .colab-df-convert:hover {\n",
              "      background-color: #434B5C;\n",
              "      box-shadow: 0px 1px 3px 1px rgba(0, 0, 0, 0.15);\n",
              "      filter: drop-shadow(0px 1px 2px rgba(0, 0, 0, 0.3));\n",
              "      fill: #FFFFFF;\n",
              "    }\n",
              "  </style>\n",
              "\n",
              "      <script>\n",
              "        const buttonEl =\n",
              "          document.querySelector('#df-cdb4ae87-81bd-4f8e-a37b-1f1119a6fed1 button.colab-df-convert');\n",
              "        buttonEl.style.display =\n",
              "          google.colab.kernel.accessAllowed ? 'block' : 'none';\n",
              "\n",
              "        async function convertToInteractive(key) {\n",
              "          const element = document.querySelector('#df-cdb4ae87-81bd-4f8e-a37b-1f1119a6fed1');\n",
              "          const dataTable =\n",
              "            await google.colab.kernel.invokeFunction('convertToInteractive',\n",
              "                                                     [key], {});\n",
              "          if (!dataTable) return;\n",
              "\n",
              "          const docLinkHtml = 'Like what you see? Visit the ' +\n",
              "            '<a target=\"_blank\" href=https://colab.research.google.com/notebooks/data_table.ipynb>data table notebook</a>'\n",
              "            + ' to learn more about interactive tables.';\n",
              "          element.innerHTML = '';\n",
              "          dataTable['output_type'] = 'display_data';\n",
              "          await google.colab.output.renderOutput(dataTable, element);\n",
              "          const docLink = document.createElement('div');\n",
              "          docLink.innerHTML = docLinkHtml;\n",
              "          element.appendChild(docLink);\n",
              "        }\n",
              "      </script>\n",
              "    </div>\n",
              "  </div>\n",
              "  "
            ]
          },
          "metadata": {},
          "execution_count": 8
        }
      ]
    },
    {
      "cell_type": "markdown",
      "source": [
        "## create list of text"
      ],
      "metadata": {
        "id": "P6iE5yv0a4dR"
      }
    },
    {
      "cell_type": "code",
      "source": [
        "sent = [row for row in df['text']]"
      ],
      "metadata": {
        "id": "0fGheMYJa3Vz"
      },
      "execution_count": 9,
      "outputs": []
    },
    {
      "cell_type": "code",
      "source": [
        "# Average String lengths in list\n",
        "# using map() + sum() + len()\n",
        "res = sum(map(len, sent))/float(len(sent))\n",
        " \n",
        "# printing result\n",
        "print(\"The Average length of String in list is : \" + str(res))"
      ],
      "metadata": {
        "colab": {
          "base_uri": "https://localhost:8080/"
        },
        "id": "ccDq9eSAxmAO",
        "outputId": "f423be44-4b69-4b4b-b144-0f3437151b0f"
      },
      "execution_count": 10,
      "outputs": [
        {
          "output_type": "stream",
          "name": "stdout",
          "text": [
            "The Average length of String in list is : 5.186804916799064\n"
          ]
        }
      ]
    },
    {
      "cell_type": "markdown",
      "source": [
        "## Tokenize and pad sequence"
      ],
      "metadata": {
        "id": "G9iQPFgna-dD"
      }
    },
    {
      "cell_type": "code",
      "source": [
        "tokenizer = Tokenizer()\n",
        "tokenizer.fit_on_texts(df.text)"
      ],
      "metadata": {
        "id": "Bam1i31QbBa3"
      },
      "execution_count": 11,
      "outputs": []
    },
    {
      "cell_type": "code",
      "source": [
        "# create X\n",
        "X = pad_sequences(tokenizer.texts_to_sequences(df.text), maxlen=10)\n",
        "X"
      ],
      "metadata": {
        "colab": {
          "base_uri": "https://localhost:8080/"
        },
        "id": "vB2-Kx73bC1l",
        "outputId": "79392549-1e03-4d2d-fcd8-32d412ec9817"
      },
      "execution_count": 12,
      "outputs": [
        {
          "output_type": "execute_result",
          "data": {
            "text/plain": [
              "array([[   0,    0,    0, ...,    0,    0,  133],\n",
              "       [   0,    0,    0, ...,    0,    0,   39],\n",
              "       [   0,    0,    0, ...,    1,   25,   20],\n",
              "       ...,\n",
              "       [   0,    0,    0, ...,  692,    1,  891],\n",
              "       [   0,    0,    0, ...,   19,   71,   41],\n",
              "       [   0,    0,    0, ...,    0,    0, 3979]], dtype=int32)"
            ]
          },
          "metadata": {},
          "execution_count": 12
        }
      ]
    },
    {
      "cell_type": "code",
      "source": [
        "# create y\n",
        "y = df['label']\n",
        "y.shape"
      ],
      "metadata": {
        "colab": {
          "base_uri": "https://localhost:8080/"
        },
        "id": "v8oFFUKBcZhi",
        "outputId": "4ecf3cee-c5c7-4a26-d566-a871e4635fcc"
      },
      "execution_count": 13,
      "outputs": [
        {
          "output_type": "execute_result",
          "data": {
            "text/plain": [
              "(11959,)"
            ]
          },
          "metadata": {},
          "execution_count": 13
        }
      ]
    },
    {
      "cell_type": "markdown",
      "source": [
        "# Load Word2Vec(TNCc5model)"
      ],
      "metadata": {
        "id": "MQ3L6jt0bHkH"
      }
    },
    {
      "cell_type": "code",
      "source": [
        "# load pretrained model\n",
        "model = Word2Vec.load(\"http://www.arts.chula.ac.th/ling/wp-content/uploads/TNCc5model.bin\") "
      ],
      "metadata": {
        "id": "f6UYLwSWbFU2"
      },
      "execution_count": 14,
      "outputs": []
    },
    {
      "cell_type": "code",
      "source": [
        "# model.save(\"TNCc5model.model\")"
      ],
      "metadata": {
        "id": "_tgHSsMylxAB"
      },
      "execution_count": 15,
      "outputs": []
    },
    {
      "cell_type": "code",
      "source": [
        "# model = Word2Vec.load(\"TNCc5model.model\")"
      ],
      "metadata": {
        "id": "853UbEKTlyXp"
      },
      "execution_count": 16,
      "outputs": []
    },
    {
      "cell_type": "code",
      "source": [
        "# create vocab_size, embedding_dim and embedding_matrix\n",
        "vocab_size = len(model.wv)\n",
        "embedding_dim = model.vector_size\n",
        "embedding_matrix = np.zeros((vocab_size, embedding_dim))"
      ],
      "metadata": {
        "id": "KsMBJPPNbYqS"
      },
      "execution_count": 17,
      "outputs": []
    },
    {
      "cell_type": "code",
      "source": [
        "for i, word in enumerate(model.wv):\n",
        "    embedding_matrix[i] = word"
      ],
      "metadata": {
        "id": "Qytn5MUgbxxi"
      },
      "execution_count": null,
      "outputs": []
    },
    {
      "cell_type": "code",
      "source": [
        "embedding_matrix[31077]"
      ],
      "metadata": {
        "colab": {
          "base_uri": "https://localhost:8080/"
        },
        "id": "i2A5tQDHbyZJ",
        "outputId": "b1891950-29c6-441e-c636-db7c68603255"
      },
      "execution_count": 19,
      "outputs": [
        {
          "output_type": "execute_result",
          "data": {
            "text/plain": [
              "array([-0.08747477, -0.03003867,  0.0696032 ,  0.03697103, -0.04840473,\n",
              "        0.04570374,  0.08035568,  0.09319719,  0.0328302 ,  0.0205396 ,\n",
              "        0.05725439,  0.07493409, -0.05307385,  0.06657625,  0.02432919,\n",
              "       -0.01523621, -0.03918364,  0.00505913,  0.09474613,  0.07713508,\n",
              "        0.01310679,  0.01618158,  0.03159253, -0.05961249, -0.00540888,\n",
              "        0.01102536,  0.03336877, -0.09733387, -0.0455462 ,  0.00984617,\n",
              "        0.0461374 ,  0.04063138, -0.01614906,  0.02336541, -0.05779864,\n",
              "       -0.01610914, -0.09162895, -0.06487005, -0.01570138,  0.01779037,\n",
              "       -0.01921744, -0.01817694,  0.12782034,  0.0127709 , -0.00602525,\n",
              "       -0.03969072,  0.01731815,  0.00555995,  0.04609034,  0.05480786,\n",
              "        0.05582551, -0.02981856, -0.01753935, -0.03173018,  0.03811059,\n",
              "        0.08742324, -0.03593688, -0.08428604,  0.00821297, -0.03246153,\n",
              "       -0.04117111,  0.11976431, -0.02667627, -0.03977206, -0.01023334,\n",
              "        0.09782189,  0.02933291, -0.05686831,  0.0734435 , -0.03232438,\n",
              "        0.03366319,  0.02777745, -0.01323282,  0.04059448,  0.01851271,\n",
              "        0.02541859, -0.01944041, -0.00204206, -0.02037049,  0.09079952,\n",
              "        0.06050802, -0.0402979 ,  0.06670228,  0.09467505, -0.00335809,\n",
              "       -0.01529406, -0.05300978, -0.00702781, -0.0264109 , -0.04785226,\n",
              "        0.07884577,  0.05271694, -0.05227912, -0.06690811,  0.03541892,\n",
              "       -0.03044322,  0.03644468, -0.03583029,  0.00813333,  0.00560054])"
            ]
          },
          "metadata": {},
          "execution_count": 19
        }
      ]
    },
    {
      "cell_type": "markdown",
      "source": [
        "# Create model"
      ],
      "metadata": {
        "id": "T7e4AD-Rb3u-"
      }
    },
    {
      "cell_type": "code",
      "source": [
        "embedding_layer = Embedding(vocab_size, embedding_dim, weights=[embedding_matrix], input_length=10, trainable=False)"
      ],
      "metadata": {
        "id": "RegMnGBtb0Q-"
      },
      "execution_count": 74,
      "outputs": []
    },
    {
      "cell_type": "code",
      "source": [
        "import keras\n",
        "from tensorflow.keras.layers import SpatialDropout1D"
      ],
      "metadata": {
        "id": "WdgivC151MN1"
      },
      "execution_count": 75,
      "outputs": []
    },
    {
      "cell_type": "code",
      "source": [
        "model = Sequential()\n",
        "model.add(embedding_layer)\n",
        "model.add(SpatialDropout1D(0.2))\n",
        "model.add(LSTM(128, return_sequences=True))\n",
        "model.add(Dropout(0.2))\n",
        "model.add(LSTM(128))\n",
        "#model.add(Bidirectional(keras.layers.LSTM(64)))\n",
        "model.add(Dropout(0.2))\n",
        "model.add(Dense(3, activation='softmax'))\n",
        "\n",
        "model.compile(optimizer='adamax', loss='categorical_crossentropy', metrics=['accuracy', Precision(), Recall()])\n",
        "print(model.summary())"
      ],
      "metadata": {
        "colab": {
          "base_uri": "https://localhost:8080/"
        },
        "id": "NBnkmoUccBwR",
        "outputId": "8b92359c-9a14-4d52-8920-99968a8d01d7"
      },
      "execution_count": 76,
      "outputs": [
        {
          "output_type": "stream",
          "name": "stdout",
          "text": [
            "Model: \"sequential_2\"\n",
            "_________________________________________________________________\n",
            " Layer (type)                Output Shape              Param #   \n",
            "=================================================================\n",
            " embedding_2 (Embedding)     (None, 10, 100)           3107800   \n",
            "                                                                 \n",
            " spatial_dropout1d_2 (Spatia  (None, 10, 100)          0         \n",
            " lDropout1D)                                                     \n",
            "                                                                 \n",
            " lstm_2 (LSTM)               (None, 10, 128)           117248    \n",
            "                                                                 \n",
            " dropout (Dropout)           (None, 10, 128)           0         \n",
            "                                                                 \n",
            " lstm_3 (LSTM)               (None, 128)               131584    \n",
            "                                                                 \n",
            " dropout_1 (Dropout)         (None, 128)               0         \n",
            "                                                                 \n",
            " dense_2 (Dense)             (None, 3)                 387       \n",
            "                                                                 \n",
            "=================================================================\n",
            "Total params: 3,357,019\n",
            "Trainable params: 249,219\n",
            "Non-trainable params: 3,107,800\n",
            "_________________________________________________________________\n",
            "None\n"
          ]
        }
      ]
    },
    {
      "cell_type": "code",
      "source": [
        "tf.keras.utils.plot_model(model, show_shapes=True)"
      ],
      "metadata": {
        "colab": {
          "base_uri": "https://localhost:8080/",
          "height": 865
        },
        "id": "t03HOARhcIb1",
        "outputId": "89431d8e-fa68-4493-bee8-2a48d0db1d55"
      },
      "execution_count": 77,
      "outputs": [
        {
          "output_type": "execute_result",
          "data": {
            "image/png": "[encoded data removed]",
            "text/plain": [
              "<IPython.core.display.Image object>"
            ]
          },
          "metadata": {},
          "execution_count": 77
        }
      ]
    },
    {
      "cell_type": "markdown",
      "source": [
        "# Splitting Data and prepare X and y"
      ],
      "metadata": {
        "id": "rRWdXZimclOE"
      }
    },
    {
      "cell_type": "code",
      "source": [
        "# Split the data into training and testing sets\n",
        "X_train, X_test, y_train, y_test = train_test_split(X, y, test_size=0.2, random_state=42)"
      ],
      "metadata": {
        "id": "6ai4XKN3cP2O"
      },
      "execution_count": 78,
      "outputs": []
    },
    {
      "cell_type": "code",
      "source": [
        "# Apply SMOTE to the training data\n",
        "smote = SMOTE()\n",
        "X_train_oversampled, y_train_oversampled = smote.fit_resample(X_train, y_train)"
      ],
      "metadata": {
        "id": "nY8UOEWncs10"
      },
      "execution_count": 79,
      "outputs": []
    },
    {
      "cell_type": "code",
      "source": [
        "X_train, X_val, y_train, y_val = train_test_split(X_train_oversampled, y_train_oversampled, test_size=0.25, random_state=1)\n",
        "print('Train Set ->', X_train.shape, y_train.shape)\n",
        "print('Validation Set ->', X_val.shape, y_val.shape)\n",
        "print('Test Set ->', X_test.shape, y_test.shape)"
      ],
      "metadata": {
        "colab": {
          "base_uri": "https://localhost:8080/"
        },
        "id": "kX3ExR2qcuuc",
        "outputId": "ccea3a44-0a5b-4d42-dd5f-762551b70191"
      },
      "execution_count": 80,
      "outputs": [
        {
          "output_type": "stream",
          "name": "stdout",
          "text": [
            "Train Set -> (13599, 10) (13599,)\n",
            "Validation Set -> (4533, 10) (4533,)\n",
            "Test Set -> (2392, 10) (2392,)\n"
          ]
        }
      ]
    },
    {
      "cell_type": "markdown",
      "source": [
        "## Data distribution"
      ],
      "metadata": {
        "id": "1yT0l_ggcybn"
      }
    },
    {
      "cell_type": "code",
      "source": [
        "CountStatus = pd.value_counts(y_train.values)\n",
        "CountStatus.plot.bar()"
      ],
      "metadata": {
        "colab": {
          "base_uri": "https://localhost:8080/",
          "height": 0
        },
        "id": "wDoKDBTjcwWh",
        "outputId": "d5f35542-eb83-4b80-cfc7-ba64cb270ea4"
      },
      "execution_count": 81,
      "outputs": [
        {
          "output_type": "execute_result",
          "data": {
            "text/plain": [
              "<Axes: >"
            ]
          },
          "metadata": {},
          "execution_count": 81
        },
        {
          "output_type": "display_data",
          "data": {
            "text/plain": [
              "<Figure size 640x480 with 1 Axes>"
            ],
            "image/png": "[encoded data removed]"
          },
          "metadata": {}
        }
      ]
    },
    {
      "cell_type": "code",
      "source": [
        "#CountStatus = pd.value_counts(y_val.values)\n",
        "#CountStatus.plot.bar()"
      ],
      "metadata": {
        "id": "1R7kruwdc1cu"
      },
      "execution_count": 82,
      "outputs": []
    },
    {
      "cell_type": "code",
      "source": [
        "CountStatus = pd.value_counts(y_test.values)\n",
        "CountStatus.plot.bar()"
      ],
      "metadata": {
        "colab": {
          "base_uri": "https://localhost:8080/",
          "height": 0
        },
        "id": "sLqJiC4Pc7HN",
        "outputId": "537b735b-3d06-48bb-ec24-cce8cb612c2d"
      },
      "execution_count": 83,
      "outputs": [
        {
          "output_type": "execute_result",
          "data": {
            "text/plain": [
              "<Axes: >"
            ]
          },
          "metadata": {},
          "execution_count": 83
        },
        {
          "output_type": "display_data",
          "data": {
            "text/plain": [
              "<Figure size 640x480 with 1 Axes>"
            ],
            "image/png": "[encoded data removed]"
          },
          "metadata": {}
        }
      ]
    },
    {
      "cell_type": "markdown",
      "source": [
        "## create y to 3 output"
      ],
      "metadata": {
        "id": "P1lpVh22dAv1"
      }
    },
    {
      "cell_type": "code",
      "source": [
        "y_train = pd.get_dummies(y_train)\n",
        "y_val = pd.get_dummies(y_val)\n",
        "y_test = pd.get_dummies(y_test)"
      ],
      "metadata": {
        "id": "k36qeckOc-iV"
      },
      "execution_count": 84,
      "outputs": []
    },
    {
      "cell_type": "code",
      "source": [
        "print('Train Set ->', X_train.shape, y_train.shape)\n",
        "print('Validation Set ->', X_val.shape, y_val.shape)\n",
        "print('Test Set ->', X_test.shape, y_test.shape)"
      ],
      "metadata": {
        "colab": {
          "base_uri": "https://localhost:8080/"
        },
        "id": "AHpCNw3rdMUD",
        "outputId": "5aa6b49f-89b8-4d05-bc67-d55cd1aa47c3"
      },
      "execution_count": 85,
      "outputs": [
        {
          "output_type": "stream",
          "name": "stdout",
          "text": [
            "Train Set -> (13599, 10) (13599, 3)\n",
            "Validation Set -> (4533, 10) (4533, 3)\n",
            "Test Set -> (2392, 10) (2392, 3)\n"
          ]
        }
      ]
    },
    {
      "cell_type": "markdown",
      "source": [
        "# Train Data"
      ],
      "metadata": {
        "id": "ocHjThyJdQA4"
      }
    },
    {
      "cell_type": "code",
      "source": [
        "start_time = datetime.now()\n",
        "\n",
        "checkpointer = tf.keras.callbacks.ModelCheckpoint(filepath=\"weights.hdf5\", monitor = 'val_accuracy', verbose=1, save_best_only=True)\n",
        "\n",
        "history = model.fit(X_train, y_train, validation_data=(X_val, y_val), epochs=20, batch_size=16, callbacks=[checkpointer])\n",
        "\n",
        "model.load_weights('weights.hdf5')\n",
        "\n",
        "end_time = datetime.now()\n",
        "print('Duration: {}'.format(end_time - start_time))"
      ],
      "metadata": {
        "colab": {
          "base_uri": "https://localhost:8080/"
        },
        "id": "Lv5wx0OidNXi",
        "outputId": "6ae168a3-2d23-4adb-acf1-97b7261156ad"
      },
      "execution_count": 86,
      "outputs": [
        {
          "output_type": "stream",
          "name": "stdout",
          "text": [
            "Epoch 1/20\n",
            "849/850 [============================>.] - ETA: 0s - loss: 1.0339 - accuracy: 0.4495 - precision_2: 0.6194 - recall_2: 0.1530\n",
            "Epoch 1: val_accuracy improved from -inf to 0.48401, saving model to weights.hdf5\n",
            "850/850 [==============================] - 33s 33ms/step - loss: 1.0338 - accuracy: 0.4495 - precision_2: 0.6197 - recall_2: 0.1530 - val_loss: 0.9982 - val_accuracy: 0.4840 - val_precision_2: 0.5787 - val_recall_2: 0.2612\n",
            "Epoch 2/20\n",
            "850/850 [==============================] - ETA: 0s - loss: 0.9653 - accuracy: 0.5122 - precision_2: 0.6380 - recall_2: 0.2785\n",
            "Epoch 2: val_accuracy improved from 0.48401 to 0.52548, saving model to weights.hdf5\n",
            "850/850 [==============================] - 26s 30ms/step - loss: 0.9653 - accuracy: 0.5122 - precision_2: 0.6380 - recall_2: 0.2785 - val_loss: 0.9490 - val_accuracy: 0.5255 - val_precision_2: 0.6358 - val_recall_2: 0.3223\n",
            "Epoch 3/20\n",
            "850/850 [==============================] - ETA: 0s - loss: 0.9321 - accuracy: 0.5359 - precision_2: 0.6484 - recall_2: 0.3293\n",
            "Epoch 3: val_accuracy improved from 0.52548 to 0.53276, saving model to weights.hdf5\n",
            "850/850 [==============================] - 28s 32ms/step - loss: 0.9321 - accuracy: 0.5359 - precision_2: 0.6484 - recall_2: 0.3293 - val_loss: 0.9314 - val_accuracy: 0.5328 - val_precision_2: 0.6310 - val_recall_2: 0.3783\n",
            "Epoch 4/20\n",
            "849/850 [============================>.] - ETA: 0s - loss: 0.8991 - accuracy: 0.5663 - precision_2: 0.6614 - recall_2: 0.3739\n",
            "Epoch 4: val_accuracy improved from 0.53276 to 0.54203, saving model to weights.hdf5\n",
            "850/850 [==============================] - 27s 32ms/step - loss: 0.8993 - accuracy: 0.5661 - precision_2: 0.6614 - recall_2: 0.3738 - val_loss: 0.9295 - val_accuracy: 0.5420 - val_precision_2: 0.6124 - val_recall_2: 0.3977\n",
            "Epoch 5/20\n",
            "849/850 [============================>.] - ETA: 0s - loss: 0.8753 - accuracy: 0.5834 - precision_2: 0.6714 - recall_2: 0.4159\n",
            "Epoch 5: val_accuracy improved from 0.54203 to 0.55306, saving model to weights.hdf5\n",
            "850/850 [==============================] - 28s 32ms/step - loss: 0.8753 - accuracy: 0.5835 - precision_2: 0.6715 - recall_2: 0.4160 - val_loss: 0.9103 - val_accuracy: 0.5531 - val_precision_2: 0.6364 - val_recall_2: 0.4174\n",
            "Epoch 6/20\n",
            "849/850 [============================>.] - ETA: 0s - loss: 0.8483 - accuracy: 0.5940 - precision_2: 0.6779 - recall_2: 0.4468\n",
            "Epoch 6: val_accuracy improved from 0.55306 to 0.55636, saving model to weights.hdf5\n",
            "850/850 [==============================] - 28s 33ms/step - loss: 0.8481 - accuracy: 0.5942 - precision_2: 0.6782 - recall_2: 0.4469 - val_loss: 0.9127 - val_accuracy: 0.5564 - val_precision_2: 0.6436 - val_recall_2: 0.3940\n",
            "Epoch 7/20\n",
            "850/850 [==============================] - ETA: 0s - loss: 0.8199 - accuracy: 0.6170 - precision_2: 0.6922 - recall_2: 0.4843\n",
            "Epoch 7: val_accuracy improved from 0.55636 to 0.56453, saving model to weights.hdf5\n",
            "850/850 [==============================] - 29s 34ms/step - loss: 0.8199 - accuracy: 0.6170 - precision_2: 0.6922 - recall_2: 0.4843 - val_loss: 0.9080 - val_accuracy: 0.5645 - val_precision_2: 0.6228 - val_recall_2: 0.4458\n",
            "Epoch 8/20\n",
            "849/850 [============================>.] - ETA: 0s - loss: 0.8027 - accuracy: 0.6274 - precision_2: 0.7013 - recall_2: 0.5117\n",
            "Epoch 8: val_accuracy improved from 0.56453 to 0.57203, saving model to weights.hdf5\n",
            "850/850 [==============================] - 29s 34ms/step - loss: 0.8026 - accuracy: 0.6275 - precision_2: 0.7014 - recall_2: 0.5118 - val_loss: 0.9109 - val_accuracy: 0.5720 - val_precision_2: 0.6226 - val_recall_2: 0.4578\n",
            "Epoch 9/20\n",
            "850/850 [==============================] - ETA: 0s - loss: 0.7770 - accuracy: 0.6414 - precision_2: 0.7095 - recall_2: 0.5357\n",
            "Epoch 9: val_accuracy improved from 0.57203 to 0.57335, saving model to weights.hdf5\n",
            "850/850 [==============================] - 28s 33ms/step - loss: 0.7770 - accuracy: 0.6414 - precision_2: 0.7095 - recall_2: 0.5357 - val_loss: 0.9285 - val_accuracy: 0.5734 - val_precision_2: 0.6192 - val_recall_2: 0.4917\n",
            "Epoch 10/20\n",
            "850/850 [==============================] - ETA: 0s - loss: 0.7588 - accuracy: 0.6542 - precision_2: 0.7158 - recall_2: 0.5596\n",
            "Epoch 10: val_accuracy improved from 0.57335 to 0.57379, saving model to weights.hdf5\n",
            "850/850 [==============================] - 28s 33ms/step - loss: 0.7588 - accuracy: 0.6542 - precision_2: 0.7158 - recall_2: 0.5596 - val_loss: 0.9162 - val_accuracy: 0.5738 - val_precision_2: 0.6229 - val_recall_2: 0.4769\n",
            "Epoch 11/20\n",
            "849/850 [============================>.] - ETA: 0s - loss: 0.7331 - accuracy: 0.6715 - precision_2: 0.7290 - recall_2: 0.5813\n",
            "Epoch 11: val_accuracy improved from 0.57379 to 0.57578, saving model to weights.hdf5\n",
            "850/850 [==============================] - 28s 33ms/step - loss: 0.7331 - accuracy: 0.6717 - precision_2: 0.7291 - recall_2: 0.5814 - val_loss: 0.9445 - val_accuracy: 0.5758 - val_precision_2: 0.6194 - val_recall_2: 0.4983\n",
            "Epoch 12/20\n",
            "850/850 [==============================] - ETA: 0s - loss: 0.7247 - accuracy: 0.6773 - precision_2: 0.7316 - recall_2: 0.5904\n",
            "Epoch 12: val_accuracy improved from 0.57578 to 0.57622, saving model to weights.hdf5\n",
            "850/850 [==============================] - 29s 34ms/step - loss: 0.7247 - accuracy: 0.6773 - precision_2: 0.7316 - recall_2: 0.5904 - val_loss: 0.9428 - val_accuracy: 0.5762 - val_precision_2: 0.6182 - val_recall_2: 0.4972\n",
            "Epoch 13/20\n",
            "849/850 [============================>.] - ETA: 0s - loss: 0.6946 - accuracy: 0.6910 - precision_2: 0.7451 - recall_2: 0.6141\n",
            "Epoch 13: val_accuracy did not improve from 0.57622\n",
            "850/850 [==============================] - 29s 34ms/step - loss: 0.6943 - accuracy: 0.6912 - precision_2: 0.7454 - recall_2: 0.6143 - val_loss: 0.9584 - val_accuracy: 0.5740 - val_precision_2: 0.6035 - val_recall_2: 0.5023\n",
            "Epoch 14/20\n",
            "850/850 [==============================] - ETA: 0s - loss: 0.6878 - accuracy: 0.6912 - precision_2: 0.7408 - recall_2: 0.6183\n",
            "Epoch 14: val_accuracy did not improve from 0.57622\n",
            "850/850 [==============================] - 29s 34ms/step - loss: 0.6878 - accuracy: 0.6912 - precision_2: 0.7408 - recall_2: 0.6183 - val_loss: 0.9721 - val_accuracy: 0.5696 - val_precision_2: 0.6015 - val_recall_2: 0.5032\n",
            "Epoch 15/20\n",
            "850/850 [==============================] - ETA: 0s - loss: 0.6650 - accuracy: 0.7098 - precision_2: 0.7566 - recall_2: 0.6376\n",
            "Epoch 15: val_accuracy improved from 0.57622 to 0.57644, saving model to weights.hdf5\n",
            "850/850 [==============================] - 55s 65ms/step - loss: 0.6650 - accuracy: 0.7098 - precision_2: 0.7566 - recall_2: 0.6376 - val_loss: 0.9901 - val_accuracy: 0.5764 - val_precision_2: 0.6055 - val_recall_2: 0.5129\n",
            "Epoch 16/20\n",
            "850/850 [==============================] - ETA: 0s - loss: 0.6457 - accuracy: 0.7207 - precision_2: 0.7621 - recall_2: 0.6553\n",
            "Epoch 16: val_accuracy did not improve from 0.57644\n",
            "850/850 [==============================] - 29s 34ms/step - loss: 0.6457 - accuracy: 0.7207 - precision_2: 0.7621 - recall_2: 0.6553 - val_loss: 1.0106 - val_accuracy: 0.5729 - val_precision_2: 0.6006 - val_recall_2: 0.5244\n",
            "Epoch 17/20\n",
            "850/850 [==============================] - ETA: 0s - loss: 0.6306 - accuracy: 0.7284 - precision_2: 0.7684 - recall_2: 0.6676\n",
            "Epoch 17: val_accuracy did not improve from 0.57644\n",
            "850/850 [==============================] - 28s 33ms/step - loss: 0.6306 - accuracy: 0.7284 - precision_2: 0.7684 - recall_2: 0.6676 - val_loss: 1.0516 - val_accuracy: 0.5550 - val_precision_2: 0.5766 - val_recall_2: 0.5100\n",
            "Epoch 18/20\n",
            "850/850 [==============================] - ETA: 0s - loss: 0.6106 - accuracy: 0.7384 - precision_2: 0.7767 - recall_2: 0.6828\n",
            "Epoch 18: val_accuracy did not improve from 0.57644\n",
            "850/850 [==============================] - 31s 37ms/step - loss: 0.6106 - accuracy: 0.7384 - precision_2: 0.7767 - recall_2: 0.6828 - val_loss: 1.0284 - val_accuracy: 0.5738 - val_precision_2: 0.5997 - val_recall_2: 0.5255\n",
            "Epoch 19/20\n",
            "850/850 [==============================] - ETA: 0s - loss: 0.6018 - accuracy: 0.7442 - precision_2: 0.7781 - recall_2: 0.6904\n",
            "Epoch 19: val_accuracy did not improve from 0.57644\n",
            "850/850 [==============================] - 28s 33ms/step - loss: 0.6018 - accuracy: 0.7442 - precision_2: 0.7781 - recall_2: 0.6904 - val_loss: 1.0218 - val_accuracy: 0.5619 - val_precision_2: 0.5919 - val_recall_2: 0.5109\n",
            "Epoch 20/20\n",
            "850/850 [==============================] - ETA: 0s - loss: 0.5933 - accuracy: 0.7459 - precision_2: 0.7839 - recall_2: 0.6920\n",
            "Epoch 20: val_accuracy did not improve from 0.57644\n",
            "850/850 [==============================] - 39s 46ms/step - loss: 0.5933 - accuracy: 0.7459 - precision_2: 0.7839 - recall_2: 0.6920 - val_loss: 1.0393 - val_accuracy: 0.5725 - val_precision_2: 0.5967 - val_recall_2: 0.5233\n",
            "Duration: 0:10:08.764756\n"
          ]
        }
      ]
    },
    {
      "cell_type": "markdown",
      "source": [
        "# Save model"
      ],
      "metadata": {
        "id": "2J9PRSxBeKVG"
      }
    },
    {
      "cell_type": "code",
      "source": [
        "# Save the model architecture & the weights\n",
        "model.save('w2v_lstm.h5')\n",
        "print('Best model saved')"
      ],
      "metadata": {
        "colab": {
          "base_uri": "https://localhost:8080/"
        },
        "id": "Zl9WvBU8eGJw",
        "outputId": "f99ce42c-9b71-4d15-bf01-5b2005267c8d"
      },
      "execution_count": 87,
      "outputs": [
        {
          "output_type": "stream",
          "name": "stdout",
          "text": [
            "Best model saved\n"
          ]
        }
      ]
    },
    {
      "cell_type": "markdown",
      "source": [
        "# Evaluation"
      ],
      "metadata": {
        "id": "eMevlvowe1nZ"
      }
    },
    {
      "cell_type": "code",
      "source": [
        "def f1_score(precision, recall):\n",
        "    ''' Function to calculate f1 score '''\n",
        "    f1_val = 2*(precision*recall)/(precision+recall+K.epsilon())\n",
        "    return f1_val"
      ],
      "metadata": {
        "id": "bSnCB4aJe2jz"
      },
      "execution_count": 88,
      "outputs": []
    },
    {
      "cell_type": "code",
      "source": [
        "# Evaluate model on the test set\n",
        "loss, accuracy, precision, recall = model.evaluate(X_test, y_test, verbose=0)\n",
        "# Print metrics\n",
        "print('')\n",
        "print('Accuracy  : {:.4f}'.format(accuracy))\n",
        "print('Precision : {:.4f}'.format(precision))\n",
        "print('Recall    : {:.4f}'.format(recall))\n",
        "print('F1 Score  : {:.4f}'.format(f1_score(precision, recall)))"
      ],
      "metadata": {
        "colab": {
          "base_uri": "https://localhost:8080/"
        },
        "id": "-cYm57Uie7nQ",
        "outputId": "d69af259-468d-4bdc-95c4-c3db5f6abb1d"
      },
      "execution_count": 89,
      "outputs": [
        {
          "output_type": "stream",
          "name": "stdout",
          "text": [
            "\n",
            "Accuracy  : 0.6355\n",
            "Precision : 0.6690\n",
            "Recall    : 0.5686\n",
            "F1 Score  : 0.6147\n"
          ]
        }
      ]
    },
    {
      "cell_type": "code",
      "source": [
        "def plot_training_hist(history):\n",
        "    '''Function to plot history for accuracy and loss'''    \n",
        "    fig, ax = plt.subplots(1, 2, figsize=(10,4))\n",
        "    # first plot\n",
        "    ax[0].plot(history.history['accuracy'])\n",
        "    ax[0].plot(history.history['val_accuracy'])\n",
        "    ax[0].set_title('Model Accuracy')\n",
        "    ax[0].set_xlabel('epoch')\n",
        "    ax[0].set_ylabel('accuracy')\n",
        "    ax[0].legend(['train', 'validation'], loc='best')\n",
        "    # second plot\n",
        "    ax[1].plot(history.history['loss'])\n",
        "    ax[1].plot(history.history['val_loss'])\n",
        "    ax[1].set_title('Model Loss')\n",
        "    ax[1].set_xlabel('epoch')\n",
        "    ax[1].set_ylabel('loss')\n",
        "    ax[1].legend(['train', 'validation'], loc='best')\n",
        "    \n",
        "plot_training_hist(history)"
      ],
      "metadata": {
        "id": "-OdBkWCpe9pv",
        "colab": {
          "base_uri": "https://localhost:8080/",
          "height": 410
        },
        "outputId": "12569da5-ab35-46e2-ad10-5a5dfaea53fc"
      },
      "execution_count": 90,
      "outputs": [
        {
          "output_type": "display_data",
          "data": {
            "text/plain": [
              "<Figure size 1000x400 with 2 Axes>"
            ],
            "image/png": "[encoded data removed]"
          },
          "metadata": {}
        }
      ]
    },
    {
      "cell_type": "code",
      "source": [
        "from sklearn.metrics import confusion_matrix\n",
        "import seaborn as sns\n",
        "\n",
        "def plot_confusion_matrix(model, X_test, y_test):\n",
        "    '''Function to plot confusion matrix for the passed model and the data'''\n",
        "    \n",
        "    sentiment_classes = ['Positive', 'Neutral', 'Negative']\n",
        "    # use model to do the prediction\n",
        "    y_pred = model.predict(X_test)\n",
        "    # compute confusion matrix\n",
        "    cm = confusion_matrix(np.argmax(np.array(y_test),axis=1), np.argmax(y_pred, axis=1))\n",
        "    # plot confusion matrix\n",
        "    plt.figure(figsize=(8,6))\n",
        "    sns.heatmap(cm, cmap=plt.cm.Blues, annot=True, fmt='d', \n",
        "                xticklabels=sentiment_classes,\n",
        "                yticklabels=sentiment_classes)\n",
        "    plt.title('Confusion matrix', fontsize=16)\n",
        "    plt.xlabel('Predicted label', fontsize=12)\n",
        "    plt.ylabel('Actual label', fontsize=12)\n",
        "    \n",
        "plot_confusion_matrix(model, X_test, y_test)"
      ],
      "metadata": {
        "id": "9HkjfClNfBhy",
        "colab": {
          "base_uri": "https://localhost:8080/",
          "height": 587
        },
        "outputId": "fd76cfe1-8d67-4143-f192-29f1f9e32929"
      },
      "execution_count": 91,
      "outputs": [
        {
          "output_type": "stream",
          "name": "stdout",
          "text": [
            "75/75 [==============================] - 3s 28ms/step\n"
          ]
        },
        {
          "output_type": "display_data",
          "data": {
            "text/plain": [
              "<Figure size 800x600 with 2 Axes>"
            ],
            "image/png": "[encoded data removed]"
          },
          "metadata": {}
        }
      ]
    },
    {
      "cell_type": "code",
      "source": [
        "from keras.models import load_model\n",
        "\n",
        "# Load model\n",
        "model = load_model('w2v_lstm.h5')\n",
        "y_pred = model.predict(X_test)"
      ],
      "metadata": {
        "id": "7CxMSqKPp-fz",
        "colab": {
          "base_uri": "https://localhost:8080/"
        },
        "outputId": "572da30c-f126-4dab-904d-6742a4975265"
      },
      "execution_count": 92,
      "outputs": [
        {
          "output_type": "stream",
          "name": "stdout",
          "text": [
            "75/75 [==============================] - 2s 15ms/step\n"
          ]
        }
      ]
    },
    {
      "cell_type": "code",
      "source": [
        "y_pred_lst = np.argmax(np.array(y_pred),axis=1)"
      ],
      "metadata": {
        "id": "xf1Zd_xfz4N0"
      },
      "execution_count": 93,
      "outputs": []
    },
    {
      "cell_type": "code",
      "source": [
        "# create y\n",
        "y = df['label']\n",
        "y.shape\n",
        "X_train, X_test, y_train, y_test = train_test_split(X, y, test_size=0.2, random_state=42)\n",
        "y_pred_lst = list(y_pred_lst)\n",
        "y_test = list(y_test.astype(int))"
      ],
      "metadata": {
        "id": "FyVq2Tvr03YN"
      },
      "execution_count": 94,
      "outputs": []
    },
    {
      "cell_type": "code",
      "source": [
        "# Print the precision and recall, among other metrics\n",
        "from sklearn import metrics\n",
        "# Print the confusion matrix\n",
        "print(confusion_matrix(y_test, y_pred_lst))\n",
        "\n",
        "# Print the precision and recall, among other metrics\n",
        "print(metrics.classification_report(y_test, y_pred_lst, digits=3))"
      ],
      "metadata": {
        "id": "w5TmPFDRqHFY",
        "colab": {
          "base_uri": "https://localhost:8080/"
        },
        "outputId": "457b82e3-6b78-44a5-e132-9e599827c1ad"
      },
      "execution_count": 95,
      "outputs": [
        {
          "output_type": "stream",
          "name": "stdout",
          "text": [
            "[[ 120  117   29]\n",
            " [ 179 1117  181]\n",
            " [  78  288  283]]\n",
            "              precision    recall  f1-score   support\n",
            "\n",
            "           0      0.318     0.451     0.373       266\n",
            "           1      0.734     0.756     0.745      1477\n",
            "           2      0.574     0.436     0.496       649\n",
            "\n",
            "    accuracy                          0.635      2392\n",
            "   macro avg      0.542     0.548     0.538      2392\n",
            "weighted avg      0.644     0.635     0.636      2392\n",
            "\n"
          ]
        }
      ]
    },
    {
      "cell_type": "markdown",
      "source": [
        "# Inference"
      ],
      "metadata": {
        "id": "OFzqvlqlfFLN"
      }
    },
    {
      "cell_type": "code",
      "source": [
        "from keras.models import load_model\n",
        "\n",
        "# Load model\n",
        "model = load_model('w2v_lstm.h5')\n",
        "\n",
        "def predict_class(text):\n",
        "    '''Function to predict sentiment class of the passed text'''\n",
        "    \n",
        "    sentiment_classes = ['Positive', 'Neutral', 'Negative']\n",
        "    max_len=10\n",
        "    \n",
        "    # Transforms text to a sequence of integers using a tokenizer object\n",
        "    t = [text]\n",
        "    df2 = pd.DataFrame(list(t), columns = ['text'])\n",
        "    df2.loc[:,'text'] = df2.loc[:,'text'].map(word_tokenize)\n",
        "    # Pad sequences to the same length\n",
        "    X = pad_sequences(tokenizer.texts_to_sequences(df2.text), maxlen=10)\n",
        "    # Do the prediction using the loaded model\n",
        "    yt = model.predict(X).argmax(axis=1)\n",
        "    # Print the predicted sentiment\n",
        "    print('The predicted sentiment is', sentiment_classes[yt[0]])"
      ],
      "metadata": {
        "id": "xv0add7Alvu3"
      },
      "execution_count": 96,
      "outputs": []
    },
    {
      "cell_type": "code",
      "source": [
        "predict_class('ดีครับ')"
      ],
      "metadata": {
        "colab": {
          "base_uri": "https://localhost:8080/"
        },
        "id": "W-yO6omwmAMM",
        "outputId": "505e6056-4071-498e-d99c-ea86a132b125"
      },
      "execution_count": 97,
      "outputs": [
        {
          "output_type": "stream",
          "name": "stdout",
          "text": [
            "1/1 [==============================] - 1s 1s/step\n",
            "The predicted sentiment is Positive\n"
          ]
        }
      ]
    },
    {
      "cell_type": "code",
      "source": [
        "predict_class('ลุงตู่')"
      ],
      "metadata": {
        "colab": {
          "base_uri": "https://localhost:8080/"
        },
        "id": "Io4pSY7KjWU2",
        "outputId": "fec3ff59-625c-4d8c-ccc7-d59a5d1e88c8"
      },
      "execution_count": 98,
      "outputs": [
        {
          "output_type": "stream",
          "name": "stdout",
          "text": [
            "1/1 [==============================] - 0s 84ms/step\n",
            "The predicted sentiment is Neutral\n"
          ]
        }
      ]
    },
    {
      "cell_type": "code",
      "source": [
        "predict_class('คคคคค')"
      ],
      "metadata": {
        "colab": {
          "base_uri": "https://localhost:8080/"
        },
        "id": "hS7jg8gWmJpk",
        "outputId": "11ecbfe3-8b52-4e57-af3a-61a392f93062"
      },
      "execution_count": 99,
      "outputs": [
        {
          "output_type": "stream",
          "name": "stdout",
          "text": [
            "1/1 [==============================] - 0s 67ms/step\n",
            "The predicted sentiment is Negative\n"
          ]
        }
      ]
    },
    {
      "cell_type": "code",
      "source": [
        "predict_class('สวัสดีวันจันทร์')"
      ],
      "metadata": {
        "colab": {
          "base_uri": "https://localhost:8080/"
        },
        "id": "Re5QShaKmLLs",
        "outputId": "aa455b52-46f6-4da3-f28c-315f48a46aec"
      },
      "execution_count": 100,
      "outputs": [
        {
          "output_type": "stream",
          "name": "stdout",
          "text": [
            "1/1 [==============================] - 0s 91ms/step\n",
            "The predicted sentiment is Neutral\n"
          ]
        }
      ]
    },
    {
      "cell_type": "code",
      "source": [
        "predict_class('เยี่ยมไปเลย')"
      ],
      "metadata": {
        "id": "cCvW3XqFm396",
        "colab": {
          "base_uri": "https://localhost:8080/"
        },
        "outputId": "1408655b-f5f1-4cc7-b635-339c6caf990f"
      },
      "execution_count": 101,
      "outputs": [
        {
          "output_type": "stream",
          "name": "stdout",
          "text": [
            "1/1 [==============================] - 0s 45ms/step\n",
            "The predicted sentiment is Positive\n"
          ]
        }
      ]
    },
    {
      "cell_type": "code",
      "source": [
        "predict_class('สู้ๆครับ')"
      ],
      "metadata": {
        "colab": {
          "base_uri": "https://localhost:8080/"
        },
        "id": "Sj6a1d4U8ZNc",
        "outputId": "b7e3ff41-234f-4a36-d275-80d5c9a49ef6"
      },
      "execution_count": 102,
      "outputs": [
        {
          "output_type": "stream",
          "name": "stdout",
          "text": [
            "1/1 [==============================] - 0s 24ms/step\n",
            "The predicted sentiment is Positive\n"
          ]
        }
      ]
    },
    {
      "cell_type": "code",
      "source": [
        "predict_class('แย่มาก')"
      ],
      "metadata": {
        "colab": {
          "base_uri": "https://localhost:8080/"
        },
        "id": "FW4eU99v8ekv",
        "outputId": "53ae4f29-e0c7-4dad-d3ec-404c4cb9d838"
      },
      "execution_count": 103,
      "outputs": [
        {
          "output_type": "stream",
          "name": "stdout",
          "text": [
            "1/1 [==============================] - 0s 24ms/step\n",
            "The predicted sentiment is Negative\n"
          ]
        }
      ]
    },
    {
      "cell_type": "code",
      "source": [
        "predict_class('ไม่โอเค')"
      ],
      "metadata": {
        "colab": {
          "base_uri": "https://localhost:8080/"
        },
        "id": "LQZLs8Gn8gTq",
        "outputId": "c285b073-bc47-4b2b-f5bc-74c4949525e9"
      },
      "execution_count": 104,
      "outputs": [
        {
          "output_type": "stream",
          "name": "stdout",
          "text": [
            "1/1 [==============================] - 0s 22ms/step\n",
            "The predicted sentiment is Neutral\n"
          ]
        }
      ]
    },
    {
      "cell_type": "code",
      "source": [
        "predict_class('อย่างห่วย')"
      ],
      "metadata": {
        "colab": {
          "base_uri": "https://localhost:8080/"
        },
        "id": "fEMiOyd39ctv",
        "outputId": "e6ea9a4e-7a19-4cb9-fca7-5f1a2a836216"
      },
      "execution_count": 105,
      "outputs": [
        {
          "output_type": "stream",
          "name": "stdout",
          "text": [
            "1/1 [==============================] - 0s 215ms/step\n",
            "The predicted sentiment is Negative\n"
          ]
        }
      ]
    },
    {
      "cell_type": "code",
      "source": [],
      "metadata": {
        "id": "GZL1A9T19iIx"
      },
      "execution_count": null,
      "outputs": []
    }
  ]
}
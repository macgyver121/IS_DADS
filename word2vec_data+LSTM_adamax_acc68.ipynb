{
  "nbformat": 4,
  "nbformat_minor": 0,
  "metadata": {
    "colab": {
      "provenance": [],
      "collapsed_sections": [
        "T7e4AD-Rb3u-",
        "rRWdXZimclOE",
        "2J9PRSxBeKVG",
        "OFzqvlqlfFLN"
      ],
      "authorship_tag": "ABX9TyNDnNSiA+t+4PNPdOUO1tsW",
      "include_colab_link": true
    },
    "kernelspec": {
      "name": "python3",
      "display_name": "Python 3"
    },
    "language_info": {
      "name": "python"
    }
  },
  "cells": [
    {
      "cell_type": "markdown",
      "metadata": {
        "id": "view-in-github",
        "colab_type": "text"
      },
      "source": [
        "<a href=\"https://colab.research.google.com/github/macgyver121/IS_DADS/blob/main/word2vec_data%2BLSTM_adamax_acc68.ipynb\" target=\"_parent\"><img src=\"https://colab.research.google.com/assets/colab-badge.svg\" alt=\"Open In Colab\"/></a>"
      ]
    },
    {
      "cell_type": "markdown",
      "source": [
        "https://github.com/RaRe-Technologies/gensim/wiki/Migrating-from-Gensim-3.x-to-4"
      ],
      "metadata": {
        "id": "ZOL5LrxfqGjB"
      }
    },
    {
      "cell_type": "markdown",
      "source": [
        "# Install Library"
      ],
      "metadata": {
        "id": "TwCgcCEjaaIC"
      }
    },
    {
      "cell_type": "code",
      "source": [
        "pip install pythainlp"
      ],
      "metadata": {
        "colab": {
          "base_uri": "https://localhost:8080/"
        },
        "id": "nciBDatAaZt4",
        "outputId": "48498214-7f68-410c-c4ca-3fec7fb7c9a5"
      },
      "execution_count": 1,
      "outputs": [
        {
          "output_type": "stream",
          "name": "stdout",
          "text": [
            "Looking in indexes: https://pypi.org/simple, https://us-python.pkg.dev/colab-wheels/public/simple/\n",
            "Collecting pythainlp\n",
            "  Downloading pythainlp-4.0.1-py3-none-any.whl (13.4 MB)\n",
            "\u001b[2K     \u001b[90m━━━━━━━━━━━━━━━━━━━━━━━━━━━━━━━━━━━━━━━━\u001b[0m \u001b[32m13.4/13.4 MB\u001b[0m \u001b[31m52.7 MB/s\u001b[0m eta \u001b[36m0:00:00\u001b[0m\n",
            "\u001b[?25hRequirement already satisfied: requests>=2.22.0 in /usr/local/lib/python3.10/dist-packages (from pythainlp) (2.27.1)\n",
            "Requirement already satisfied: urllib3<1.27,>=1.21.1 in /usr/local/lib/python3.10/dist-packages (from requests>=2.22.0->pythainlp) (1.26.15)\n",
            "Requirement already satisfied: certifi>=2017.4.17 in /usr/local/lib/python3.10/dist-packages (from requests>=2.22.0->pythainlp) (2022.12.7)\n",
            "Requirement already satisfied: charset-normalizer~=2.0.0 in /usr/local/lib/python3.10/dist-packages (from requests>=2.22.0->pythainlp) (2.0.12)\n",
            "Requirement already satisfied: idna<4,>=2.5 in /usr/local/lib/python3.10/dist-packages (from requests>=2.22.0->pythainlp) (3.4)\n",
            "Installing collected packages: pythainlp\n",
            "Successfully installed pythainlp-4.0.1\n"
          ]
        }
      ]
    },
    {
      "cell_type": "code",
      "execution_count": 2,
      "metadata": {
        "colab": {
          "base_uri": "https://localhost:8080/"
        },
        "id": "CKY_yhYiaODS",
        "outputId": "316cd1c3-ab81-4270-adf8-c5cf763e904c"
      },
      "outputs": [
        {
          "output_type": "stream",
          "name": "stdout",
          "text": [
            "Looking in indexes: https://pypi.org/simple, https://us-python.pkg.dev/colab-wheels/public/simple/\n",
            "Collecting emoji\n",
            "  Downloading emoji-2.2.0.tar.gz (240 kB)\n",
            "\u001b[2K     \u001b[90m━━━━━━━━━━━━━━━━━━━━━━━━━━━━━━━━━━━━━━\u001b[0m \u001b[32m240.9/240.9 kB\u001b[0m \u001b[31m16.7 MB/s\u001b[0m eta \u001b[36m0:00:00\u001b[0m\n",
            "\u001b[?25h  Preparing metadata (setup.py) ... \u001b[?25l\u001b[?25hdone\n",
            "Building wheels for collected packages: emoji\n",
            "  Building wheel for emoji (setup.py) ... \u001b[?25l\u001b[?25hdone\n",
            "  Created wheel for emoji: filename=emoji-2.2.0-py3-none-any.whl size=234911 sha256=e811d743752c95cace7649ca99bccd39328ebeb3806048cd18fb68aa92f4885f\n",
            "  Stored in directory: /root/.cache/pip/wheels/02/3d/88/51a592b9ad17e7899126563698b4e3961983ebe85747228ba6\n",
            "Successfully built emoji\n",
            "Installing collected packages: emoji\n",
            "Successfully installed emoji-2.2.0\n"
          ]
        }
      ],
      "source": [
        "pip install emoji"
      ]
    },
    {
      "cell_type": "code",
      "source": [
        "!pip install gensim"
      ],
      "metadata": {
        "id": "zpJJ3lVwbVWp",
        "colab": {
          "base_uri": "https://localhost:8080/"
        },
        "outputId": "3fa28498-89bd-47ff-c3d0-80953b2d0357"
      },
      "execution_count": 3,
      "outputs": [
        {
          "output_type": "stream",
          "name": "stdout",
          "text": [
            "Looking in indexes: https://pypi.org/simple, https://us-python.pkg.dev/colab-wheels/public/simple/\n",
            "Requirement already satisfied: gensim in /usr/local/lib/python3.10/dist-packages (4.3.1)\n",
            "Requirement already satisfied: numpy>=1.18.5 in /usr/local/lib/python3.10/dist-packages (from gensim) (1.22.4)\n",
            "Requirement already satisfied: scipy>=1.7.0 in /usr/local/lib/python3.10/dist-packages (from gensim) (1.10.1)\n",
            "Requirement already satisfied: smart-open>=1.8.1 in /usr/local/lib/python3.10/dist-packages (from gensim) (6.3.0)\n"
          ]
        }
      ]
    },
    {
      "cell_type": "code",
      "source": [
        "import pandas as pd\n",
        "import numpy as np\n",
        "import re\n",
        "import emoji\n",
        "\n",
        "from pythainlp.tokenize import word_tokenize\n",
        "from keras.preprocessing.text import Tokenizer\n",
        "from keras.utils import pad_sequences\n",
        "\n",
        "from gensim.test.utils import common_texts\n",
        "from gensim.models import Word2Vec\n",
        "\n",
        "from keras.layers import Embedding\n",
        "from keras.models import Sequential\n",
        "from keras.layers import LSTM, Dense, Dropout, Bidirectional\n",
        "from keras.metrics import Precision, Recall\n",
        "from keras.callbacks import History\n",
        "\n",
        "import tensorflow as tf\n",
        "\n",
        "from sklearn.model_selection import train_test_split\n",
        "from imblearn.over_sampling import SMOTE\n",
        "\n",
        "import matplotlib.pyplot as plt\n",
        "\n",
        "from datetime import datetime\n",
        "from keras import callbacks\n",
        "\n",
        "import keras.backend as K"
      ],
      "metadata": {
        "id": "dBo6iDSfagPi"
      },
      "execution_count": 4,
      "outputs": []
    },
    {
      "cell_type": "markdown",
      "source": [
        "# Import file"
      ],
      "metadata": {
        "id": "h-mDrdOSamlA"
      }
    },
    {
      "cell_type": "code",
      "source": [
        "from google.colab import drive\n",
        "drive.mount('/content/drive')"
      ],
      "metadata": {
        "colab": {
          "base_uri": "https://localhost:8080/"
        },
        "id": "QpRBwP_nvB0X",
        "outputId": "3d030d70-d06e-4df4-dc68-a98a8bde26a2"
      },
      "execution_count": 5,
      "outputs": [
        {
          "output_type": "stream",
          "name": "stdout",
          "text": [
            "Mounted at /content/drive\n"
          ]
        }
      ]
    },
    {
      "cell_type": "code",
      "source": [
        "# import csv file\n",
        "df = pd.read_csv('/content/drive/MyDrive/data_all.csv', delimiter=',')"
      ],
      "metadata": {
        "id": "ZIw44sCVanmY"
      },
      "execution_count": 6,
      "outputs": []
    },
    {
      "cell_type": "code",
      "source": [
        "df.loc[:,'text'] = df.loc[:,'text'].map(word_tokenize)"
      ],
      "metadata": {
        "id": "C5x-zshqazP1"
      },
      "execution_count": 7,
      "outputs": []
    },
    {
      "cell_type": "code",
      "source": [
        "df"
      ],
      "metadata": {
        "colab": {
          "base_uri": "https://localhost:8080/",
          "height": 423
        },
        "id": "QaM7YZzBa0rX",
        "outputId": "146a093f-2720-4780-9248-daba6db3e8c6"
      },
      "execution_count": 8,
      "outputs": [
        {
          "output_type": "execute_result",
          "data": {
            "text/plain": [
              "       label                                   text\n",
              "0        1.0                                    [1]\n",
              "1        1.0                               [สวัสดี]\n",
              "2        1.0             [อรุณสวัสดิ์,  , ดู, ข่าว]\n",
              "3        1.0                            [D,  , jai]\n",
              "4        1.0                       [สวัสดี, ชาวโลก]\n",
              "...      ...                                    ...\n",
              "11954    1.0    [จุดแข็ง, หัว,  , จุดอ่อน, ที่อยู่]\n",
              "11955    1.0                                     []\n",
              "11956    1.0  [เจอ, ไฟไหม้,  , โทร, แจ้ง,  , เบอร์]\n",
              "11957    0.0                         [แม่, ง, เก่ง]\n",
              "11958    1.0                                  [งัว]\n",
              "\n",
              "[11959 rows x 2 columns]"
            ],
            "text/html": [
              "\n",
              "  <div id=\"df-6a75b17f-5f63-480e-bbec-8611e1320c9c\">\n",
              "    <div class=\"colab-df-container\">\n",
              "      <div>\n",
              "<style scoped>\n",
              "    .dataframe tbody tr th:only-of-type {\n",
              "        vertical-align: middle;\n",
              "    }\n",
              "\n",
              "    .dataframe tbody tr th {\n",
              "        vertical-align: top;\n",
              "    }\n",
              "\n",
              "    .dataframe thead th {\n",
              "        text-align: right;\n",
              "    }\n",
              "</style>\n",
              "<table border=\"1\" class=\"dataframe\">\n",
              "  <thead>\n",
              "    <tr style=\"text-align: right;\">\n",
              "      <th></th>\n",
              "      <th>label</th>\n",
              "      <th>text</th>\n",
              "    </tr>\n",
              "  </thead>\n",
              "  <tbody>\n",
              "    <tr>\n",
              "      <th>0</th>\n",
              "      <td>1.0</td>\n",
              "      <td>[1]</td>\n",
              "    </tr>\n",
              "    <tr>\n",
              "      <th>1</th>\n",
              "      <td>1.0</td>\n",
              "      <td>[สวัสดี]</td>\n",
              "    </tr>\n",
              "    <tr>\n",
              "      <th>2</th>\n",
              "      <td>1.0</td>\n",
              "      <td>[อรุณสวัสดิ์,  , ดู, ข่าว]</td>\n",
              "    </tr>\n",
              "    <tr>\n",
              "      <th>3</th>\n",
              "      <td>1.0</td>\n",
              "      <td>[D,  , jai]</td>\n",
              "    </tr>\n",
              "    <tr>\n",
              "      <th>4</th>\n",
              "      <td>1.0</td>\n",
              "      <td>[สวัสดี, ชาวโลก]</td>\n",
              "    </tr>\n",
              "    <tr>\n",
              "      <th>...</th>\n",
              "      <td>...</td>\n",
              "      <td>...</td>\n",
              "    </tr>\n",
              "    <tr>\n",
              "      <th>11954</th>\n",
              "      <td>1.0</td>\n",
              "      <td>[จุดแข็ง, หัว,  , จุดอ่อน, ที่อยู่]</td>\n",
              "    </tr>\n",
              "    <tr>\n",
              "      <th>11955</th>\n",
              "      <td>1.0</td>\n",
              "      <td>[]</td>\n",
              "    </tr>\n",
              "    <tr>\n",
              "      <th>11956</th>\n",
              "      <td>1.0</td>\n",
              "      <td>[เจอ, ไฟไหม้,  , โทร, แจ้ง,  , เบอร์]</td>\n",
              "    </tr>\n",
              "    <tr>\n",
              "      <th>11957</th>\n",
              "      <td>0.0</td>\n",
              "      <td>[แม่, ง, เก่ง]</td>\n",
              "    </tr>\n",
              "    <tr>\n",
              "      <th>11958</th>\n",
              "      <td>1.0</td>\n",
              "      <td>[งัว]</td>\n",
              "    </tr>\n",
              "  </tbody>\n",
              "</table>\n",
              "<p>11959 rows × 2 columns</p>\n",
              "</div>\n",
              "      <button class=\"colab-df-convert\" onclick=\"convertToInteractive('df-6a75b17f-5f63-480e-bbec-8611e1320c9c')\"\n",
              "              title=\"Convert this dataframe to an interactive table.\"\n",
              "              style=\"display:none;\">\n",
              "        \n",
              "  <svg xmlns=\"http://www.w3.org/2000/svg\" height=\"24px\"viewBox=\"0 0 24 24\"\n",
              "       width=\"24px\">\n",
              "    <path d=\"M0 0h24v24H0V0z\" fill=\"none\"/>\n",
              "    <path d=\"M18.56 5.44l.94 2.06.94-2.06 2.06-.94-2.06-.94-.94-2.06-.94 2.06-2.06.94zm-11 1L8.5 8.5l.94-2.06 2.06-.94-2.06-.94L8.5 2.5l-.94 2.06-2.06.94zm10 10l.94 2.06.94-2.06 2.06-.94-2.06-.94-.94-2.06-.94 2.06-2.06.94z\"/><path d=\"M17.41 7.96l-1.37-1.37c-.4-.4-.92-.59-1.43-.59-.52 0-1.04.2-1.43.59L10.3 9.45l-7.72 7.72c-.78.78-.78 2.05 0 2.83L4 21.41c.39.39.9.59 1.41.59.51 0 1.02-.2 1.41-.59l7.78-7.78 2.81-2.81c.8-.78.8-2.07 0-2.86zM5.41 20L4 18.59l7.72-7.72 1.47 1.35L5.41 20z\"/>\n",
              "  </svg>\n",
              "      </button>\n",
              "      \n",
              "  <style>\n",
              "    .colab-df-container {\n",
              "      display:flex;\n",
              "      flex-wrap:wrap;\n",
              "      gap: 12px;\n",
              "    }\n",
              "\n",
              "    .colab-df-convert {\n",
              "      background-color: #E8F0FE;\n",
              "      border: none;\n",
              "      border-radius: 50%;\n",
              "      cursor: pointer;\n",
              "      display: none;\n",
              "      fill: #1967D2;\n",
              "      height: 32px;\n",
              "      padding: 0 0 0 0;\n",
              "      width: 32px;\n",
              "    }\n",
              "\n",
              "    .colab-df-convert:hover {\n",
              "      background-color: #E2EBFA;\n",
              "      box-shadow: 0px 1px 2px rgba(60, 64, 67, 0.3), 0px 1px 3px 1px rgba(60, 64, 67, 0.15);\n",
              "      fill: #174EA6;\n",
              "    }\n",
              "\n",
              "    [theme=dark] .colab-df-convert {\n",
              "      background-color: #3B4455;\n",
              "      fill: #D2E3FC;\n",
              "    }\n",
              "\n",
              "    [theme=dark] .colab-df-convert:hover {\n",
              "      background-color: #434B5C;\n",
              "      box-shadow: 0px 1px 3px 1px rgba(0, 0, 0, 0.15);\n",
              "      filter: drop-shadow(0px 1px 2px rgba(0, 0, 0, 0.3));\n",
              "      fill: #FFFFFF;\n",
              "    }\n",
              "  </style>\n",
              "\n",
              "      <script>\n",
              "        const buttonEl =\n",
              "          document.querySelector('#df-6a75b17f-5f63-480e-bbec-8611e1320c9c button.colab-df-convert');\n",
              "        buttonEl.style.display =\n",
              "          google.colab.kernel.accessAllowed ? 'block' : 'none';\n",
              "\n",
              "        async function convertToInteractive(key) {\n",
              "          const element = document.querySelector('#df-6a75b17f-5f63-480e-bbec-8611e1320c9c');\n",
              "          const dataTable =\n",
              "            await google.colab.kernel.invokeFunction('convertToInteractive',\n",
              "                                                     [key], {});\n",
              "          if (!dataTable) return;\n",
              "\n",
              "          const docLinkHtml = 'Like what you see? Visit the ' +\n",
              "            '<a target=\"_blank\" href=https://colab.research.google.com/notebooks/data_table.ipynb>data table notebook</a>'\n",
              "            + ' to learn more about interactive tables.';\n",
              "          element.innerHTML = '';\n",
              "          dataTable['output_type'] = 'display_data';\n",
              "          await google.colab.output.renderOutput(dataTable, element);\n",
              "          const docLink = document.createElement('div');\n",
              "          docLink.innerHTML = docLinkHtml;\n",
              "          element.appendChild(docLink);\n",
              "        }\n",
              "      </script>\n",
              "    </div>\n",
              "  </div>\n",
              "  "
            ]
          },
          "metadata": {},
          "execution_count": 8
        }
      ]
    },
    {
      "cell_type": "markdown",
      "source": [
        "## create list of text"
      ],
      "metadata": {
        "id": "P6iE5yv0a4dR"
      }
    },
    {
      "cell_type": "code",
      "source": [
        "sent = [row for row in df['text']]"
      ],
      "metadata": {
        "id": "0fGheMYJa3Vz"
      },
      "execution_count": 9,
      "outputs": []
    },
    {
      "cell_type": "code",
      "source": [
        "# Average String lengths in list\n",
        "# using map() + sum() + len()\n",
        "res = sum(map(len, sent))/float(len(sent))\n",
        " \n",
        "# printing result\n",
        "print(\"The Average length of String in list is : \" + str(res))"
      ],
      "metadata": {
        "colab": {
          "base_uri": "https://localhost:8080/"
        },
        "id": "ccDq9eSAxmAO",
        "outputId": "4177e75b-4ee2-4f73-9cfe-ea296dd2ec54"
      },
      "execution_count": 10,
      "outputs": [
        {
          "output_type": "stream",
          "name": "stdout",
          "text": [
            "The Average length of String in list is : 5.186804916799064\n"
          ]
        }
      ]
    },
    {
      "cell_type": "markdown",
      "source": [
        "## Tokenize and pad sequence"
      ],
      "metadata": {
        "id": "G9iQPFgna-dD"
      }
    },
    {
      "cell_type": "code",
      "source": [
        "tokenizer = Tokenizer()\n",
        "tokenizer.fit_on_texts(df.text)"
      ],
      "metadata": {
        "id": "Bam1i31QbBa3"
      },
      "execution_count": 52,
      "outputs": []
    },
    {
      "cell_type": "code",
      "source": [
        "# create X\n",
        "X = pad_sequences(tokenizer.texts_to_sequences(df.text), maxlen=20)\n",
        "X"
      ],
      "metadata": {
        "colab": {
          "base_uri": "https://localhost:8080/"
        },
        "id": "vB2-Kx73bC1l",
        "outputId": "d8de3085-3d35-441b-86a9-bf0566fb408e"
      },
      "execution_count": 53,
      "outputs": [
        {
          "output_type": "execute_result",
          "data": {
            "text/plain": [
              "array([[   0,    0,    0, ...,    0,    0,  133],\n",
              "       [   0,    0,    0, ...,    0,    0,   39],\n",
              "       [   0,    0,    0, ...,    1,   25,   20],\n",
              "       ...,\n",
              "       [   0,    0,    0, ...,  692,    1,  891],\n",
              "       [   0,    0,    0, ...,   19,   71,   41],\n",
              "       [   0,    0,    0, ...,    0,    0, 3979]], dtype=int32)"
            ]
          },
          "metadata": {},
          "execution_count": 53
        }
      ]
    },
    {
      "cell_type": "code",
      "source": [
        "# create y\n",
        "y = df['label']\n",
        "y.shape"
      ],
      "metadata": {
        "colab": {
          "base_uri": "https://localhost:8080/"
        },
        "id": "v8oFFUKBcZhi",
        "outputId": "0006bf90-97bc-41d6-9a44-2e69c199a3a8"
      },
      "execution_count": 54,
      "outputs": [
        {
          "output_type": "execute_result",
          "data": {
            "text/plain": [
              "(11959,)"
            ]
          },
          "metadata": {},
          "execution_count": 54
        }
      ]
    },
    {
      "cell_type": "markdown",
      "source": [
        "# Load Word2Vec(TNCc5model)"
      ],
      "metadata": {
        "id": "MQ3L6jt0bHkH"
      }
    },
    {
      "cell_type": "code",
      "source": [
        "# load pretrained model\n",
        "model = Word2Vec.load(\"http://www.arts.chula.ac.th/ling/wp-content/uploads/TNCc5model.bin\") "
      ],
      "metadata": {
        "id": "f6UYLwSWbFU2"
      },
      "execution_count": 14,
      "outputs": []
    },
    {
      "cell_type": "code",
      "source": [
        "# model.save(\"TNCc5model.model\")"
      ],
      "metadata": {
        "id": "_tgHSsMylxAB"
      },
      "execution_count": 15,
      "outputs": []
    },
    {
      "cell_type": "code",
      "source": [
        "# model = Word2Vec.load(\"TNCc5model.model\")"
      ],
      "metadata": {
        "id": "853UbEKTlyXp"
      },
      "execution_count": 16,
      "outputs": []
    },
    {
      "cell_type": "code",
      "source": [
        "# create vocab_size, embedding_dim and embedding_matrix\n",
        "vocab_size = len(model.wv)\n",
        "embedding_dim = model.vector_size\n",
        "embedding_matrix = np.zeros((vocab_size, embedding_dim))"
      ],
      "metadata": {
        "id": "KsMBJPPNbYqS"
      },
      "execution_count": 17,
      "outputs": []
    },
    {
      "cell_type": "code",
      "source": [
        "for i, word in enumerate(model.wv):\n",
        "    embedding_matrix[i] = word"
      ],
      "metadata": {
        "id": "Qytn5MUgbxxi"
      },
      "execution_count": null,
      "outputs": []
    },
    {
      "cell_type": "code",
      "source": [
        "embedding_matrix[31077]"
      ],
      "metadata": {
        "colab": {
          "base_uri": "https://localhost:8080/"
        },
        "id": "i2A5tQDHbyZJ",
        "outputId": "245079b3-9cf2-4e58-f88d-4eb0a77632ff"
      },
      "execution_count": 19,
      "outputs": [
        {
          "output_type": "execute_result",
          "data": {
            "text/plain": [
              "array([-0.08747477, -0.03003867,  0.0696032 ,  0.03697103, -0.04840473,\n",
              "        0.04570374,  0.08035568,  0.09319719,  0.0328302 ,  0.0205396 ,\n",
              "        0.05725439,  0.07493409, -0.05307385,  0.06657625,  0.02432919,\n",
              "       -0.01523621, -0.03918364,  0.00505913,  0.09474613,  0.07713508,\n",
              "        0.01310679,  0.01618158,  0.03159253, -0.05961249, -0.00540888,\n",
              "        0.01102536,  0.03336877, -0.09733387, -0.0455462 ,  0.00984617,\n",
              "        0.0461374 ,  0.04063138, -0.01614906,  0.02336541, -0.05779864,\n",
              "       -0.01610914, -0.09162895, -0.06487005, -0.01570138,  0.01779037,\n",
              "       -0.01921744, -0.01817694,  0.12782034,  0.0127709 , -0.00602525,\n",
              "       -0.03969072,  0.01731815,  0.00555995,  0.04609034,  0.05480786,\n",
              "        0.05582551, -0.02981856, -0.01753935, -0.03173018,  0.03811059,\n",
              "        0.08742324, -0.03593688, -0.08428604,  0.00821297, -0.03246153,\n",
              "       -0.04117111,  0.11976431, -0.02667627, -0.03977206, -0.01023334,\n",
              "        0.09782189,  0.02933291, -0.05686831,  0.0734435 , -0.03232438,\n",
              "        0.03366319,  0.02777745, -0.01323282,  0.04059448,  0.01851271,\n",
              "        0.02541859, -0.01944041, -0.00204206, -0.02037049,  0.09079952,\n",
              "        0.06050802, -0.0402979 ,  0.06670228,  0.09467505, -0.00335809,\n",
              "       -0.01529406, -0.05300978, -0.00702781, -0.0264109 , -0.04785226,\n",
              "        0.07884577,  0.05271694, -0.05227912, -0.06690811,  0.03541892,\n",
              "       -0.03044322,  0.03644468, -0.03583029,  0.00813333,  0.00560054])"
            ]
          },
          "metadata": {},
          "execution_count": 19
        }
      ]
    },
    {
      "cell_type": "markdown",
      "source": [
        "# Create model"
      ],
      "metadata": {
        "id": "T7e4AD-Rb3u-"
      }
    },
    {
      "cell_type": "code",
      "source": [
        "embedding_layer = Embedding(vocab_size, embedding_dim, weights=[embedding_matrix], input_length=20, trainable=False)"
      ],
      "metadata": {
        "id": "RegMnGBtb0Q-"
      },
      "execution_count": 87,
      "outputs": []
    },
    {
      "cell_type": "code",
      "source": [
        "import keras\n",
        "from tensorflow.keras.layers import SpatialDropout1D"
      ],
      "metadata": {
        "id": "WdgivC151MN1"
      },
      "execution_count": 88,
      "outputs": []
    },
    {
      "cell_type": "code",
      "source": [
        "model = Sequential()\n",
        "model.add(embedding_layer)\n",
        "model.add(Dropout(0.1))\n",
        "#model.add(SpatialDropout1D(0.2))\n",
        "model.add(LSTM(128, return_sequences=True))\n",
        "model.add(Dropout(0.1))\n",
        "model.add(LSTM(128))\n",
        "#model.add(Bidirectional(keras.layers.LSTM(128)))\n",
        "model.add(Dropout(0.2))\n",
        "model.add(Dense(3, activation='softmax'))\n",
        "\n",
        "model.compile(optimizer='adamax', loss='categorical_crossentropy', metrics=['accuracy', Precision(), Recall()])\n",
        "print(model.summary())"
      ],
      "metadata": {
        "colab": {
          "base_uri": "https://localhost:8080/"
        },
        "id": "NBnkmoUccBwR",
        "outputId": "012c8496-3ed1-40ab-ab8e-49c62c6cb3df"
      },
      "execution_count": 89,
      "outputs": [
        {
          "output_type": "stream",
          "name": "stdout",
          "text": [
            "Model: \"sequential_2\"\n",
            "_________________________________________________________________\n",
            " Layer (type)                Output Shape              Param #   \n",
            "=================================================================\n",
            " embedding_2 (Embedding)     (None, 20, 100)           3107800   \n",
            "                                                                 \n",
            " dropout_4 (Dropout)         (None, 20, 100)           0         \n",
            "                                                                 \n",
            " lstm_4 (LSTM)               (None, 20, 128)           117248    \n",
            "                                                                 \n",
            " dropout_5 (Dropout)         (None, 20, 128)           0         \n",
            "                                                                 \n",
            " lstm_5 (LSTM)               (None, 128)               131584    \n",
            "                                                                 \n",
            " dropout_6 (Dropout)         (None, 128)               0         \n",
            "                                                                 \n",
            " dense_2 (Dense)             (None, 3)                 387       \n",
            "                                                                 \n",
            "=================================================================\n",
            "Total params: 3,357,019\n",
            "Trainable params: 249,219\n",
            "Non-trainable params: 3,107,800\n",
            "_________________________________________________________________\n",
            "None\n"
          ]
        }
      ]
    },
    {
      "cell_type": "code",
      "source": [
        "tf.keras.utils.plot_model(model, show_shapes=True)"
      ],
      "metadata": {
        "colab": {
          "base_uri": "https://localhost:8080/",
          "height": 0
        },
        "id": "t03HOARhcIb1",
        "outputId": "10e4d344-d3ae-465f-d700-3a689f06a9be"
      },
      "execution_count": 90,
      "outputs": [
        {
          "output_type": "execute_result",
          "data": {
            "image/png": "[encoded data removed]",
            "text/plain": [
              "<IPython.core.display.Image object>"
            ]
          },
          "metadata": {},
          "execution_count": 90
        }
      ]
    },
    {
      "cell_type": "markdown",
      "source": [
        "# Splitting Data and prepare X and y"
      ],
      "metadata": {
        "id": "rRWdXZimclOE"
      }
    },
    {
      "cell_type": "code",
      "source": [
        "# Split the data into training and testing sets\n",
        "X_train, X_test, y_train, y_test = train_test_split(X, y, test_size=0.2, random_state=42)"
      ],
      "metadata": {
        "id": "6ai4XKN3cP2O"
      },
      "execution_count": 91,
      "outputs": []
    },
    {
      "cell_type": "code",
      "source": [
        "# Apply SMOTE to the training data\n",
        "smote = SMOTE()\n",
        "X_train_oversampled, y_train_oversampled = smote.fit_resample(X_train, y_train)"
      ],
      "metadata": {
        "id": "nY8UOEWncs10"
      },
      "execution_count": 92,
      "outputs": []
    },
    {
      "cell_type": "code",
      "source": [
        "X_train, X_val, y_train, y_val = train_test_split(X_train_oversampled, y_train_oversampled, test_size=0.25, random_state=1)\n",
        "print('Train Set ->', X_train.shape, y_train.shape)\n",
        "print('Validation Set ->', X_val.shape, y_val.shape)\n",
        "print('Test Set ->', X_test.shape, y_test.shape)"
      ],
      "metadata": {
        "colab": {
          "base_uri": "https://localhost:8080/"
        },
        "id": "kX3ExR2qcuuc",
        "outputId": "00704183-066c-4bb4-cf6b-29ef86e55b26"
      },
      "execution_count": 93,
      "outputs": [
        {
          "output_type": "stream",
          "name": "stdout",
          "text": [
            "Train Set -> (13599, 20) (13599,)\n",
            "Validation Set -> (4533, 20) (4533,)\n",
            "Test Set -> (2392, 20) (2392,)\n"
          ]
        }
      ]
    },
    {
      "cell_type": "markdown",
      "source": [
        "## Data distribution"
      ],
      "metadata": {
        "id": "1yT0l_ggcybn"
      }
    },
    {
      "cell_type": "code",
      "source": [
        "CountStatus = pd.value_counts(y_train.values)\n",
        "CountStatus.plot.bar()"
      ],
      "metadata": {
        "colab": {
          "base_uri": "https://localhost:8080/",
          "height": 0
        },
        "id": "wDoKDBTjcwWh",
        "outputId": "cc0a746b-943f-4930-81e4-cfe75eb06e95"
      },
      "execution_count": 94,
      "outputs": [
        {
          "output_type": "execute_result",
          "data": {
            "text/plain": [
              "<Axes: >"
            ]
          },
          "metadata": {},
          "execution_count": 94
        },
        {
          "output_type": "display_data",
          "data": {
            "text/plain": [
              "<Figure size 640x480 with 1 Axes>"
            ],
            "image/png": "[encoded data removed]"
          },
          "metadata": {}
        }
      ]
    },
    {
      "cell_type": "code",
      "source": [
        "#CountStatus = pd.value_counts(y_val.values)\n",
        "#CountStatus.plot.bar()"
      ],
      "metadata": {
        "id": "1R7kruwdc1cu"
      },
      "execution_count": 95,
      "outputs": []
    },
    {
      "cell_type": "code",
      "source": [
        "CountStatus = pd.value_counts(y_test.values)\n",
        "CountStatus.plot.bar()"
      ],
      "metadata": {
        "colab": {
          "base_uri": "https://localhost:8080/",
          "height": 0
        },
        "id": "sLqJiC4Pc7HN",
        "outputId": "b7ebe352-21be-4e84-da90-3b0ef43b70cc"
      },
      "execution_count": 96,
      "outputs": [
        {
          "output_type": "execute_result",
          "data": {
            "text/plain": [
              "<Axes: >"
            ]
          },
          "metadata": {},
          "execution_count": 96
        },
        {
          "output_type": "display_data",
          "data": {
            "text/plain": [
              "<Figure size 640x480 with 1 Axes>"
            ],
            "image/png": "[encoded data removed]"
          },
          "metadata": {}
        }
      ]
    },
    {
      "cell_type": "markdown",
      "source": [
        "## create y to 3 output"
      ],
      "metadata": {
        "id": "P1lpVh22dAv1"
      }
    },
    {
      "cell_type": "code",
      "source": [
        "y_train = pd.get_dummies(y_train)\n",
        "y_val = pd.get_dummies(y_val)\n",
        "y_test = pd.get_dummies(y_test)"
      ],
      "metadata": {
        "id": "k36qeckOc-iV"
      },
      "execution_count": 97,
      "outputs": []
    },
    {
      "cell_type": "code",
      "source": [
        "print('Train Set ->', X_train.shape, y_train.shape)\n",
        "print('Validation Set ->', X_val.shape, y_val.shape)\n",
        "print('Test Set ->', X_test.shape, y_test.shape)"
      ],
      "metadata": {
        "colab": {
          "base_uri": "https://localhost:8080/"
        },
        "id": "AHpCNw3rdMUD",
        "outputId": "a873390b-791d-4813-87b2-6051d2619e07"
      },
      "execution_count": 98,
      "outputs": [
        {
          "output_type": "stream",
          "name": "stdout",
          "text": [
            "Train Set -> (13599, 20) (13599, 3)\n",
            "Validation Set -> (4533, 20) (4533, 3)\n",
            "Test Set -> (2392, 20) (2392, 3)\n"
          ]
        }
      ]
    },
    {
      "cell_type": "markdown",
      "source": [
        "# Train Data"
      ],
      "metadata": {
        "id": "ocHjThyJdQA4"
      }
    },
    {
      "cell_type": "code",
      "source": [
        "start_time = datetime.now()\n",
        "\n",
        "checkpointer = tf.keras.callbacks.ModelCheckpoint(filepath=\"weights.hdf5\", monitor = 'val_accuracy', verbose=1, save_best_only=True)\n",
        "\n",
        "history = model.fit(X_train, y_train, validation_data=(X_val, y_val), epochs=15, batch_size=8, callbacks=[checkpointer])\n",
        "\n",
        "model.load_weights('weights.hdf5')\n",
        "\n",
        "end_time = datetime.now()\n",
        "print('Duration: {}'.format(end_time - start_time))"
      ],
      "metadata": {
        "colab": {
          "base_uri": "https://localhost:8080/"
        },
        "id": "Lv5wx0OidNXi",
        "outputId": "35530b51-d3da-4e0f-ae49-1f2559af5f19"
      },
      "execution_count": 99,
      "outputs": [
        {
          "output_type": "stream",
          "name": "stdout",
          "text": [
            "Epoch 1/25\n",
            "850/850 [==============================] - ETA: 0s - loss: 1.0151 - accuracy: 0.4679 - precision_2: 0.6390 - recall_2: 0.1882\n",
            "Epoch 1: val_accuracy improved from -inf to 0.50827, saving model to weights.hdf5\n",
            "850/850 [==============================] - 51s 55ms/step - loss: 1.0151 - accuracy: 0.4679 - precision_2: 0.6390 - recall_2: 0.1882 - val_loss: 0.9657 - val_accuracy: 0.5083 - val_precision_2: 0.6285 - val_recall_2: 0.2660\n",
            "Epoch 2/25\n",
            "850/850 [==============================] - ETA: 0s - loss: 0.9425 - accuracy: 0.5314 - precision_2: 0.6598 - recall_2: 0.3088\n",
            "Epoch 2: val_accuracy improved from 0.50827 to 0.51335, saving model to weights.hdf5\n",
            "850/850 [==============================] - 42s 50ms/step - loss: 0.9425 - accuracy: 0.5314 - precision_2: 0.6598 - recall_2: 0.3088 - val_loss: 0.9449 - val_accuracy: 0.5133 - val_precision_2: 0.6421 - val_recall_2: 0.2826\n",
            "Epoch 3/25\n",
            "850/850 [==============================] - ETA: 0s - loss: 0.8960 - accuracy: 0.5662 - precision_2: 0.6818 - recall_2: 0.3714\n",
            "Epoch 3: val_accuracy improved from 0.51335 to 0.53144, saving model to weights.hdf5\n",
            "850/850 [==============================] - 43s 51ms/step - loss: 0.8960 - accuracy: 0.5662 - precision_2: 0.6818 - recall_2: 0.3714 - val_loss: 0.9300 - val_accuracy: 0.5314 - val_precision_2: 0.6050 - val_recall_2: 0.4125\n",
            "Epoch 4/25\n",
            "850/850 [==============================] - ETA: 0s - loss: 0.8529 - accuracy: 0.5961 - precision_2: 0.6928 - recall_2: 0.4333\n",
            "Epoch 4: val_accuracy improved from 0.53144 to 0.55769, saving model to weights.hdf5\n",
            "850/850 [==============================] - 41s 49ms/step - loss: 0.8529 - accuracy: 0.5961 - precision_2: 0.6928 - recall_2: 0.4333 - val_loss: 0.9035 - val_accuracy: 0.5577 - val_precision_2: 0.6401 - val_recall_2: 0.4174\n",
            "Epoch 5/25\n",
            "849/850 [============================>.] - ETA: 0s - loss: 0.8151 - accuracy: 0.6251 - precision_2: 0.7066 - recall_2: 0.4928\n",
            "Epoch 5: val_accuracy improved from 0.55769 to 0.55923, saving model to weights.hdf5\n",
            "850/850 [==============================] - 45s 53ms/step - loss: 0.8151 - accuracy: 0.6250 - precision_2: 0.7067 - recall_2: 0.4928 - val_loss: 0.8972 - val_accuracy: 0.5592 - val_precision_2: 0.6319 - val_recall_2: 0.4280\n",
            "Epoch 6/25\n",
            "850/850 [==============================] - ETA: 0s - loss: 0.7726 - accuracy: 0.6489 - precision_2: 0.7215 - recall_2: 0.5339\n",
            "Epoch 6: val_accuracy improved from 0.55923 to 0.57335, saving model to weights.hdf5\n",
            "850/850 [==============================] - 45s 53ms/step - loss: 0.7726 - accuracy: 0.6489 - precision_2: 0.7215 - recall_2: 0.5339 - val_loss: 0.9184 - val_accuracy: 0.5734 - val_precision_2: 0.6138 - val_recall_2: 0.4961\n",
            "Epoch 7/25\n",
            "849/850 [============================>.] - ETA: 0s - loss: 0.7356 - accuracy: 0.6706 - precision_2: 0.7362 - recall_2: 0.5721\n",
            "Epoch 7: val_accuracy did not improve from 0.57335\n",
            "850/850 [==============================] - 42s 49ms/step - loss: 0.7357 - accuracy: 0.6706 - precision_2: 0.7362 - recall_2: 0.5720 - val_loss: 0.9222 - val_accuracy: 0.5698 - val_precision_2: 0.6181 - val_recall_2: 0.4816\n",
            "Epoch 8/25\n",
            "849/850 [============================>.] - ETA: 0s - loss: 0.7022 - accuracy: 0.6858 - precision_2: 0.7413 - recall_2: 0.6045\n",
            "Epoch 8: val_accuracy did not improve from 0.57335\n",
            "850/850 [==============================] - 43s 51ms/step - loss: 0.7022 - accuracy: 0.6857 - precision_2: 0.7413 - recall_2: 0.6044 - val_loss: 0.9344 - val_accuracy: 0.5634 - val_precision_2: 0.6037 - val_recall_2: 0.5014\n",
            "Epoch 9/25\n",
            "850/850 [==============================] - ETA: 0s - loss: 0.6599 - accuracy: 0.7137 - precision_2: 0.7642 - recall_2: 0.6408\n",
            "Epoch 9: val_accuracy did not improve from 0.57335\n",
            "850/850 [==============================] - 42s 50ms/step - loss: 0.6599 - accuracy: 0.7137 - precision_2: 0.7642 - recall_2: 0.6408 - val_loss: 0.9600 - val_accuracy: 0.5727 - val_precision_2: 0.6043 - val_recall_2: 0.5092\n",
            "Epoch 10/25\n",
            "849/850 [============================>.] - ETA: 0s - loss: 0.6294 - accuracy: 0.7287 - precision_2: 0.7734 - recall_2: 0.6628\n",
            "Epoch 10: val_accuracy did not improve from 0.57335\n",
            "850/850 [==============================] - 42s 50ms/step - loss: 0.6295 - accuracy: 0.7287 - precision_2: 0.7733 - recall_2: 0.6628 - val_loss: 0.9840 - val_accuracy: 0.5692 - val_precision_2: 0.5946 - val_recall_2: 0.5180\n",
            "Epoch 11/25\n",
            "849/850 [============================>.] - ETA: 0s - loss: 0.5951 - accuracy: 0.7437 - precision_2: 0.7877 - recall_2: 0.6849\n",
            "Epoch 11: val_accuracy did not improve from 0.57335\n",
            "850/850 [==============================] - 42s 50ms/step - loss: 0.5954 - accuracy: 0.7437 - precision_2: 0.7876 - recall_2: 0.6848 - val_loss: 1.0064 - val_accuracy: 0.5661 - val_precision_2: 0.5976 - val_recall_2: 0.5153\n",
            "Epoch 12/25\n",
            "850/850 [==============================] - ETA: 0s - loss: 0.5586 - accuracy: 0.7617 - precision_2: 0.8003 - recall_2: 0.7142\n",
            "Epoch 12: val_accuracy did not improve from 0.57335\n",
            "850/850 [==============================] - 42s 50ms/step - loss: 0.5586 - accuracy: 0.7617 - precision_2: 0.8003 - recall_2: 0.7142 - val_loss: 1.0408 - val_accuracy: 0.5617 - val_precision_2: 0.5859 - val_recall_2: 0.5065\n",
            "Epoch 13/25\n",
            "850/850 [==============================] - ETA: 0s - loss: 0.5332 - accuracy: 0.7734 - precision_2: 0.8108 - recall_2: 0.7306\n",
            "Epoch 13: val_accuracy did not improve from 0.57335\n",
            "850/850 [==============================] - 52s 61ms/step - loss: 0.5332 - accuracy: 0.7734 - precision_2: 0.8108 - recall_2: 0.7306 - val_loss: 1.1185 - val_accuracy: 0.5564 - val_precision_2: 0.5772 - val_recall_2: 0.5213\n",
            "Epoch 14/25\n",
            "850/850 [==============================] - ETA: 0s - loss: 0.5094 - accuracy: 0.7882 - precision_2: 0.8196 - recall_2: 0.7485\n",
            "Epoch 14: val_accuracy did not improve from 0.57335\n",
            "850/850 [==============================] - 42s 50ms/step - loss: 0.5094 - accuracy: 0.7882 - precision_2: 0.8196 - recall_2: 0.7485 - val_loss: 1.0928 - val_accuracy: 0.5711 - val_precision_2: 0.5893 - val_recall_2: 0.5283\n",
            "Epoch 15/25\n",
            "850/850 [==============================] - ETA: 0s - loss: 0.4807 - accuracy: 0.8012 - precision_2: 0.8311 - recall_2: 0.7622\n",
            "Epoch 15: val_accuracy did not improve from 0.57335\n",
            "850/850 [==============================] - 43s 50ms/step - loss: 0.4807 - accuracy: 0.8012 - precision_2: 0.8311 - recall_2: 0.7622 - val_loss: 1.1637 - val_accuracy: 0.5678 - val_precision_2: 0.5855 - val_recall_2: 0.5297\n",
            "Epoch 16/25\n",
            "849/850 [============================>.] - ETA: 0s - loss: 0.4528 - accuracy: 0.8157 - precision_2: 0.8428 - recall_2: 0.7822\n",
            "Epoch 16: val_accuracy did not improve from 0.57335\n",
            "850/850 [==============================] - 45s 53ms/step - loss: 0.4525 - accuracy: 0.8158 - precision_2: 0.8429 - recall_2: 0.7823 - val_loss: 1.1901 - val_accuracy: 0.5650 - val_precision_2: 0.5834 - val_recall_2: 0.5314\n",
            "Epoch 17/25\n",
            "849/850 [============================>.] - ETA: 0s - loss: 0.4299 - accuracy: 0.8260 - precision_2: 0.8498 - recall_2: 0.7965\n",
            "Epoch 17: val_accuracy did not improve from 0.57335\n",
            "850/850 [==============================] - 43s 50ms/step - loss: 0.4299 - accuracy: 0.8259 - precision_2: 0.8498 - recall_2: 0.7965 - val_loss: 1.2255 - val_accuracy: 0.5559 - val_precision_2: 0.5728 - val_recall_2: 0.5224\n",
            "Epoch 18/25\n",
            "850/850 [==============================] - ETA: 0s - loss: 0.4175 - accuracy: 0.8281 - precision_2: 0.8519 - recall_2: 0.8009\n",
            "Epoch 18: val_accuracy did not improve from 0.57335\n",
            "850/850 [==============================] - 44s 52ms/step - loss: 0.4175 - accuracy: 0.8281 - precision_2: 0.8519 - recall_2: 0.8009 - val_loss: 1.2571 - val_accuracy: 0.5643 - val_precision_2: 0.5864 - val_recall_2: 0.5317\n",
            "Epoch 19/25\n",
            "850/850 [==============================] - ETA: 0s - loss: 0.3972 - accuracy: 0.8350 - precision_2: 0.8570 - recall_2: 0.8081\n",
            "Epoch 19: val_accuracy did not improve from 0.57335\n",
            "850/850 [==============================] - 45s 53ms/step - loss: 0.3972 - accuracy: 0.8350 - precision_2: 0.8570 - recall_2: 0.8081 - val_loss: 1.2541 - val_accuracy: 0.5656 - val_precision_2: 0.5818 - val_recall_2: 0.5392\n",
            "Epoch 20/25\n",
            "849/850 [============================>.] - ETA: 0s - loss: 0.3768 - accuracy: 0.8465 - precision_2: 0.8681 - recall_2: 0.8235\n",
            "Epoch 20: val_accuracy did not improve from 0.57335\n",
            "850/850 [==============================] - 45s 52ms/step - loss: 0.3767 - accuracy: 0.8465 - precision_2: 0.8681 - recall_2: 0.8235 - val_loss: 1.3474 - val_accuracy: 0.5619 - val_precision_2: 0.5766 - val_recall_2: 0.5306\n",
            "Epoch 21/25\n",
            "850/850 [==============================] - ETA: 0s - loss: 0.3680 - accuracy: 0.8525 - precision_2: 0.8732 - recall_2: 0.8312\n",
            "Epoch 21: val_accuracy did not improve from 0.57335\n",
            "850/850 [==============================] - 44s 52ms/step - loss: 0.3680 - accuracy: 0.8525 - precision_2: 0.8732 - recall_2: 0.8312 - val_loss: 1.3576 - val_accuracy: 0.5597 - val_precision_2: 0.5775 - val_recall_2: 0.5295\n",
            "Epoch 22/25\n",
            "849/850 [============================>.] - ETA: 0s - loss: 0.3477 - accuracy: 0.8594 - precision_2: 0.8763 - recall_2: 0.8379\n",
            "Epoch 22: val_accuracy did not improve from 0.57335\n",
            "850/850 [==============================] - 41s 49ms/step - loss: 0.3478 - accuracy: 0.8594 - precision_2: 0.8763 - recall_2: 0.8379 - val_loss: 1.3838 - val_accuracy: 0.5577 - val_precision_2: 0.5705 - val_recall_2: 0.5286\n",
            "Epoch 23/25\n",
            "849/850 [============================>.] - ETA: 0s - loss: 0.3344 - accuracy: 0.8668 - precision_2: 0.8834 - recall_2: 0.8459\n",
            "Epoch 23: val_accuracy did not improve from 0.57335\n",
            "850/850 [==============================] - 42s 49ms/step - loss: 0.3345 - accuracy: 0.8667 - precision_2: 0.8833 - recall_2: 0.8458 - val_loss: 1.4687 - val_accuracy: 0.5625 - val_precision_2: 0.5712 - val_recall_2: 0.5389\n",
            "Epoch 24/25\n",
            "850/850 [==============================] - ETA: 0s - loss: 0.3273 - accuracy: 0.8692 - precision_2: 0.8864 - recall_2: 0.8507\n",
            "Epoch 24: val_accuracy did not improve from 0.57335\n",
            "850/850 [==============================] - 44s 52ms/step - loss: 0.3273 - accuracy: 0.8692 - precision_2: 0.8864 - recall_2: 0.8507 - val_loss: 1.4375 - val_accuracy: 0.5692 - val_precision_2: 0.5803 - val_recall_2: 0.5467\n",
            "Epoch 25/25\n",
            "850/850 [==============================] - ETA: 0s - loss: 0.3151 - accuracy: 0.8720 - precision_2: 0.8891 - recall_2: 0.8551\n",
            "Epoch 25: val_accuracy did not improve from 0.57335\n",
            "850/850 [==============================] - 44s 52ms/step - loss: 0.3151 - accuracy: 0.8720 - precision_2: 0.8891 - recall_2: 0.8551 - val_loss: 1.4771 - val_accuracy: 0.5628 - val_precision_2: 0.5759 - val_recall_2: 0.5374\n",
            "Duration: 0:18:25.915241\n"
          ]
        }
      ]
    },
    {
      "cell_type": "markdown",
      "source": [
        "# Save model"
      ],
      "metadata": {
        "id": "2J9PRSxBeKVG"
      }
    },
    {
      "cell_type": "code",
      "source": [
        "# Save the model architecture & the weights\n",
        "model.save('w2v_lstm.h5')\n",
        "print('Best model saved')"
      ],
      "metadata": {
        "colab": {
          "base_uri": "https://localhost:8080/"
        },
        "id": "Zl9WvBU8eGJw",
        "outputId": "b893185f-10d4-44f2-ac99-96fe1acfcecc"
      },
      "execution_count": 100,
      "outputs": [
        {
          "output_type": "stream",
          "name": "stdout",
          "text": [
            "Best model saved\n"
          ]
        }
      ]
    },
    {
      "cell_type": "markdown",
      "source": [
        "# Evaluation"
      ],
      "metadata": {
        "id": "eMevlvowe1nZ"
      }
    },
    {
      "cell_type": "code",
      "source": [
        "def f1_score(precision, recall):\n",
        "    ''' Function to calculate f1 score '''\n",
        "    f1_val = 2*(precision*recall)/(precision+recall+K.epsilon())\n",
        "    return f1_val"
      ],
      "metadata": {
        "id": "bSnCB4aJe2jz"
      },
      "execution_count": 101,
      "outputs": []
    },
    {
      "cell_type": "code",
      "source": [
        "# Evaluate model on the test set\n",
        "loss, accuracy, precision, recall = model.evaluate(X_test, y_test, verbose=0)\n",
        "# Print metrics\n",
        "print('')\n",
        "print('Accuracy  : {:.4f}'.format(accuracy))\n",
        "print('Precision : {:.4f}'.format(precision))\n",
        "print('Recall    : {:.4f}'.format(recall))\n",
        "print('F1 Score  : {:.4f}'.format(f1_score(precision, recall)))"
      ],
      "metadata": {
        "colab": {
          "base_uri": "https://localhost:8080/"
        },
        "id": "-cYm57Uie7nQ",
        "outputId": "63f31e2f-1b07-4bf8-8c6e-5d1c6979d1b8"
      },
      "execution_count": 102,
      "outputs": [
        {
          "output_type": "stream",
          "name": "stdout",
          "text": [
            "\n",
            "Accuracy  : 0.6827\n",
            "Precision : 0.7254\n",
            "Recall    : 0.5832\n",
            "F1 Score  : 0.6466\n"
          ]
        }
      ]
    },
    {
      "cell_type": "code",
      "source": [
        "def plot_training_hist(history):\n",
        "    '''Function to plot history for accuracy and loss'''    \n",
        "    fig, ax = plt.subplots(1, 2, figsize=(10,4))\n",
        "    # first plot\n",
        "    ax[0].plot(history.history['accuracy'])\n",
        "    ax[0].plot(history.history['val_accuracy'])\n",
        "    ax[0].set_title('Model Accuracy')\n",
        "    ax[0].set_xlabel('epoch')\n",
        "    ax[0].set_ylabel('accuracy')\n",
        "    ax[0].legend(['train', 'validation'], loc='best')\n",
        "    # second plot\n",
        "    ax[1].plot(history.history['loss'])\n",
        "    ax[1].plot(history.history['val_loss'])\n",
        "    ax[1].set_title('Model Loss')\n",
        "    ax[1].set_xlabel('epoch')\n",
        "    ax[1].set_ylabel('loss')\n",
        "    ax[1].legend(['train', 'validation'], loc='best')\n",
        "    \n",
        "plot_training_hist(history)"
      ],
      "metadata": {
        "id": "-OdBkWCpe9pv",
        "colab": {
          "base_uri": "https://localhost:8080/",
          "height": 410
        },
        "outputId": "a197046e-ad6d-4a31-e56b-856ca9d540fb"
      },
      "execution_count": 103,
      "outputs": [
        {
          "output_type": "display_data",
          "data": {
            "text/plain": [
              "<Figure size 1000x400 with 2 Axes>"
            ],
            "image/png": "[encoded data removed]"
          },
          "metadata": {}
        }
      ]
    },
    {
      "cell_type": "code",
      "source": [
        "from sklearn.metrics import confusion_matrix\n",
        "import seaborn as sns\n",
        "\n",
        "def plot_confusion_matrix(model, X_test, y_test):\n",
        "    '''Function to plot confusion matrix for the passed model and the data'''\n",
        "    \n",
        "    sentiment_classes = ['Positive', 'Neutral', 'Negative']\n",
        "    # use model to do the prediction\n",
        "    y_pred = model.predict(X_test)\n",
        "    # compute confusion matrix\n",
        "    cm = confusion_matrix(np.argmax(np.array(y_test),axis=1), np.argmax(y_pred, axis=1))\n",
        "    # plot confusion matrix\n",
        "    plt.figure(figsize=(8,6))\n",
        "    sns.heatmap(cm, cmap=plt.cm.Blues, annot=True, fmt='d', \n",
        "                xticklabels=sentiment_classes,\n",
        "                yticklabels=sentiment_classes)\n",
        "    plt.title('Confusion matrix', fontsize=16)\n",
        "    plt.xlabel('Predicted label', fontsize=12)\n",
        "    plt.ylabel('Actual label', fontsize=12)\n",
        "    \n",
        "plot_confusion_matrix(model, X_test, y_test)"
      ],
      "metadata": {
        "id": "9HkjfClNfBhy",
        "colab": {
          "base_uri": "https://localhost:8080/",
          "height": 587
        },
        "outputId": "084797b6-1e30-4feb-fb25-8ae7afef0242"
      },
      "execution_count": 104,
      "outputs": [
        {
          "output_type": "stream",
          "name": "stdout",
          "text": [
            "75/75 [==============================] - 2s 22ms/step\n"
          ]
        },
        {
          "output_type": "display_data",
          "data": {
            "text/plain": [
              "<Figure size 800x600 with 2 Axes>"
            ],
            "image/png": "[encoded data removed]"
          },
          "metadata": {}
        }
      ]
    },
    {
      "cell_type": "code",
      "source": [
        "from keras.models import load_model\n",
        "\n",
        "# Load model\n",
        "model = load_model('w2v_lstm.h5')\n",
        "y_pred = model.predict(X_test)"
      ],
      "metadata": {
        "id": "7CxMSqKPp-fz",
        "colab": {
          "base_uri": "https://localhost:8080/"
        },
        "outputId": "6ed7d3d0-c183-4065-84f9-0136fd430721"
      },
      "execution_count": 105,
      "outputs": [
        {
          "output_type": "stream",
          "name": "stdout",
          "text": [
            "75/75 [==============================] - 4s 39ms/step\n"
          ]
        }
      ]
    },
    {
      "cell_type": "code",
      "source": [
        "y_pred_lst = np.argmax(np.array(y_pred),axis=1)"
      ],
      "metadata": {
        "id": "xf1Zd_xfz4N0"
      },
      "execution_count": 106,
      "outputs": []
    },
    {
      "cell_type": "code",
      "source": [
        "# create y\n",
        "y = df['label']\n",
        "y.shape\n",
        "X_train, X_test, y_train, y_test = train_test_split(X, y, test_size=0.2, random_state=42)\n",
        "y_pred_lst = list(y_pred_lst)\n",
        "y_test = list(y_test.astype(int))"
      ],
      "metadata": {
        "id": "FyVq2Tvr03YN"
      },
      "execution_count": 107,
      "outputs": []
    },
    {
      "cell_type": "code",
      "source": [
        "# Print the precision and recall, among other metrics\n",
        "from sklearn import metrics\n",
        "# Print the confusion matrix\n",
        "print(confusion_matrix(y_test, y_pred_lst))\n",
        "\n",
        "# Print the precision and recall, among other metrics\n",
        "print(metrics.classification_report(y_test, y_pred_lst, digits=3))"
      ],
      "metadata": {
        "id": "w5TmPFDRqHFY",
        "colab": {
          "base_uri": "https://localhost:8080/"
        },
        "outputId": "57608929-cf1a-4711-e067-5a2d52b55ab1"
      },
      "execution_count": 108,
      "outputs": [
        {
          "output_type": "stream",
          "name": "stdout",
          "text": [
            "[[ 112  136   18]\n",
            " [ 109 1255  113]\n",
            " [  45  338  266]]\n",
            "              precision    recall  f1-score   support\n",
            "\n",
            "           0      0.421     0.421     0.421       266\n",
            "           1      0.726     0.850     0.783      1477\n",
            "           2      0.670     0.410     0.509       649\n",
            "\n",
            "    accuracy                          0.683      2392\n",
            "   macro avg      0.606     0.560     0.571      2392\n",
            "weighted avg      0.677     0.683     0.668      2392\n",
            "\n"
          ]
        }
      ]
    },
    {
      "cell_type": "markdown",
      "source": [
        "# Inference"
      ],
      "metadata": {
        "id": "OFzqvlqlfFLN"
      }
    },
    {
      "cell_type": "code",
      "source": [
        "from keras.models import load_model\n",
        "\n",
        "# Load model\n",
        "model = load_model('w2v_lstm.h5')\n",
        "\n",
        "def predict_class(text):\n",
        "    '''Function to predict sentiment class of the passed text'''\n",
        "    \n",
        "    sentiment_classes = ['Positive', 'Neutral', 'Negative']\n",
        "    max_len=20\n",
        "    \n",
        "    # Transforms text to a sequence of integers using a tokenizer object\n",
        "    t = [text]\n",
        "    df2 = pd.DataFrame(list(t), columns = ['text'])\n",
        "    df2.loc[:,'text'] = df2.loc[:,'text'].map(word_tokenize)\n",
        "    # Pad sequences to the same length\n",
        "    X = pad_sequences(tokenizer.texts_to_sequences(df2.text), maxlen=20)\n",
        "    # Do the prediction using the loaded model\n",
        "    yt = model.predict(X).argmax(axis=1)\n",
        "    # Print the predicted sentiment\n",
        "    print('The predicted sentiment is', sentiment_classes[yt[0]])"
      ],
      "metadata": {
        "id": "xv0add7Alvu3"
      },
      "execution_count": 109,
      "outputs": []
    },
    {
      "cell_type": "code",
      "source": [
        "predict_class('ดีครับ')"
      ],
      "metadata": {
        "colab": {
          "base_uri": "https://localhost:8080/"
        },
        "id": "W-yO6omwmAMM",
        "outputId": "2c3a1867-dab5-4591-878b-e2ff4438de4d"
      },
      "execution_count": 110,
      "outputs": [
        {
          "output_type": "stream",
          "name": "stdout",
          "text": [
            "1/1 [==============================] - 1s 764ms/step\n",
            "The predicted sentiment is Positive\n"
          ]
        }
      ]
    },
    {
      "cell_type": "code",
      "source": [
        "predict_class('ลุงตู่')"
      ],
      "metadata": {
        "colab": {
          "base_uri": "https://localhost:8080/"
        },
        "id": "Io4pSY7KjWU2",
        "outputId": "4ec08d6c-58ba-469f-ab86-49c97dce264f"
      },
      "execution_count": 111,
      "outputs": [
        {
          "output_type": "stream",
          "name": "stdout",
          "text": [
            "1/1 [==============================] - 0s 24ms/step\n",
            "The predicted sentiment is Neutral\n"
          ]
        }
      ]
    },
    {
      "cell_type": "code",
      "source": [
        "predict_class('คคคคค')"
      ],
      "metadata": {
        "colab": {
          "base_uri": "https://localhost:8080/"
        },
        "id": "hS7jg8gWmJpk",
        "outputId": "539b3008-970b-4c5f-cf81-e89d7d3164c2"
      },
      "execution_count": 112,
      "outputs": [
        {
          "output_type": "stream",
          "name": "stdout",
          "text": [
            "1/1 [==============================] - 0s 28ms/step\n",
            "The predicted sentiment is Negative\n"
          ]
        }
      ]
    },
    {
      "cell_type": "code",
      "source": [
        "predict_class('สวัสดีวันจันทร์')"
      ],
      "metadata": {
        "colab": {
          "base_uri": "https://localhost:8080/"
        },
        "id": "Re5QShaKmLLs",
        "outputId": "55410d2a-6150-4f1b-f1f6-7c3282ee5406"
      },
      "execution_count": 113,
      "outputs": [
        {
          "output_type": "stream",
          "name": "stdout",
          "text": [
            "1/1 [==============================] - 0s 25ms/step\n",
            "The predicted sentiment is Neutral\n"
          ]
        }
      ]
    },
    {
      "cell_type": "code",
      "source": [
        "predict_class('เยี่ยมไปเลย')"
      ],
      "metadata": {
        "id": "cCvW3XqFm396",
        "colab": {
          "base_uri": "https://localhost:8080/"
        },
        "outputId": "7601ffe2-e0ce-43bc-fe56-85e27f314058"
      },
      "execution_count": 114,
      "outputs": [
        {
          "output_type": "stream",
          "name": "stdout",
          "text": [
            "1/1 [==============================] - 0s 25ms/step\n",
            "The predicted sentiment is Neutral\n"
          ]
        }
      ]
    },
    {
      "cell_type": "code",
      "source": [
        "predict_class('สู้ๆครับ')"
      ],
      "metadata": {
        "colab": {
          "base_uri": "https://localhost:8080/"
        },
        "id": "Sj6a1d4U8ZNc",
        "outputId": "6d470e40-ed8c-4950-e600-8cf3643dbf87"
      },
      "execution_count": 115,
      "outputs": [
        {
          "output_type": "stream",
          "name": "stdout",
          "text": [
            "1/1 [==============================] - 0s 24ms/step\n",
            "The predicted sentiment is Positive\n"
          ]
        }
      ]
    },
    {
      "cell_type": "code",
      "source": [
        "predict_class('แย่มาก')"
      ],
      "metadata": {
        "colab": {
          "base_uri": "https://localhost:8080/"
        },
        "id": "FW4eU99v8ekv",
        "outputId": "e9508b43-ae01-4416-d794-c44a7978aea0"
      },
      "execution_count": 116,
      "outputs": [
        {
          "output_type": "stream",
          "name": "stdout",
          "text": [
            "1/1 [==============================] - 0s 25ms/step\n",
            "The predicted sentiment is Neutral\n"
          ]
        }
      ]
    },
    {
      "cell_type": "code",
      "source": [
        "predict_class('ไม่โอเค')"
      ],
      "metadata": {
        "colab": {
          "base_uri": "https://localhost:8080/"
        },
        "id": "LQZLs8Gn8gTq",
        "outputId": "3775a996-6709-40ef-d29f-73037428a1d2"
      },
      "execution_count": 117,
      "outputs": [
        {
          "output_type": "stream",
          "name": "stdout",
          "text": [
            "1/1 [==============================] - 0s 25ms/step\n",
            "The predicted sentiment is Neutral\n"
          ]
        }
      ]
    },
    {
      "cell_type": "code",
      "source": [
        "predict_class('อย่างห่วย')"
      ],
      "metadata": {
        "colab": {
          "base_uri": "https://localhost:8080/"
        },
        "id": "fEMiOyd39ctv",
        "outputId": "87889235-5689-4021-8fb5-09e99b481dbf"
      },
      "execution_count": 118,
      "outputs": [
        {
          "output_type": "stream",
          "name": "stdout",
          "text": [
            "1/1 [==============================] - 0s 24ms/step\n",
            "The predicted sentiment is Neutral\n"
          ]
        }
      ]
    },
    {
      "cell_type": "code",
      "source": [],
      "metadata": {
        "id": "GZL1A9T19iIx"
      },
      "execution_count": 118,
      "outputs": []
    }
  ]
}
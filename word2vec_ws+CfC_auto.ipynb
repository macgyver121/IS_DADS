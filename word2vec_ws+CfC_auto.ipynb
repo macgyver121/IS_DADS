{
  "nbformat": 4,
  "nbformat_minor": 0,
  "metadata": {
    "colab": {
      "provenance": [],
      "collapsed_sections": [
        "TwCgcCEjaaIC",
        "rRWdXZimclOE"
      ],
      "toc_visible": true,
      "authorship_tag": "ABX9TyNHFyYQoZCp8haL0w3IlL4O",
      "include_colab_link": true
    },
    "kernelspec": {
      "name": "python3",
      "display_name": "Python 3"
    },
    "language_info": {
      "name": "python"
    }
  },
  "cells": [
    {
      "cell_type": "markdown",
      "metadata": {
        "id": "view-in-github",
        "colab_type": "text"
      },
      "source": [
        "<a href=\"https://colab.research.google.com/github/macgyver121/IS_DADS/blob/main/word2vec_ws%2BCfC_auto.ipynb\" target=\"_parent\"><img src=\"https://colab.research.google.com/assets/colab-badge.svg\" alt=\"Open In Colab\"/></a>"
      ]
    },
    {
      "cell_type": "markdown",
      "source": [
        "https://github.com/RaRe-Technologies/gensim/wiki/Migrating-from-Gensim-3.x-to-4"
      ],
      "metadata": {
        "id": "ZOL5LrxfqGjB"
      }
    },
    {
      "cell_type": "markdown",
      "source": [
        "# Install Library"
      ],
      "metadata": {
        "id": "TwCgcCEjaaIC"
      }
    },
    {
      "cell_type": "code",
      "source": [
        "pip install pythainlp"
      ],
      "metadata": {
        "colab": {
          "base_uri": "https://localhost:8080/"
        },
        "id": "nciBDatAaZt4",
        "outputId": "9d037235-e452-4f9f-eba6-f52968bfea53"
      },
      "execution_count": 1,
      "outputs": [
        {
          "output_type": "stream",
          "name": "stdout",
          "text": [
            "Looking in indexes: https://pypi.org/simple, https://us-python.pkg.dev/colab-wheels/public/simple/\n",
            "Collecting pythainlp\n",
            "  Downloading pythainlp-4.0.1-py3-none-any.whl (13.4 MB)\n",
            "\u001b[2K     \u001b[90m━━━━━━━━━━━━━━━━━━━━━━━━━━━━━━━━━━━━━━━━\u001b[0m \u001b[32m13.4/13.4 MB\u001b[0m \u001b[31m19.4 MB/s\u001b[0m eta \u001b[36m0:00:00\u001b[0m\n",
            "\u001b[?25hRequirement already satisfied: requests>=2.22.0 in /usr/local/lib/python3.10/dist-packages (from pythainlp) (2.27.1)\n",
            "Requirement already satisfied: urllib3<1.27,>=1.21.1 in /usr/local/lib/python3.10/dist-packages (from requests>=2.22.0->pythainlp) (1.26.15)\n",
            "Requirement already satisfied: certifi>=2017.4.17 in /usr/local/lib/python3.10/dist-packages (from requests>=2.22.0->pythainlp) (2022.12.7)\n",
            "Requirement already satisfied: charset-normalizer~=2.0.0 in /usr/local/lib/python3.10/dist-packages (from requests>=2.22.0->pythainlp) (2.0.12)\n",
            "Requirement already satisfied: idna<4,>=2.5 in /usr/local/lib/python3.10/dist-packages (from requests>=2.22.0->pythainlp) (3.4)\n",
            "Installing collected packages: pythainlp\n",
            "Successfully installed pythainlp-4.0.1\n"
          ]
        }
      ]
    },
    {
      "cell_type": "code",
      "execution_count": 2,
      "metadata": {
        "colab": {
          "base_uri": "https://localhost:8080/"
        },
        "id": "CKY_yhYiaODS",
        "outputId": "02a819eb-5a49-40ec-a6b8-40d67751ac04"
      },
      "outputs": [
        {
          "output_type": "stream",
          "name": "stdout",
          "text": [
            "Looking in indexes: https://pypi.org/simple, https://us-python.pkg.dev/colab-wheels/public/simple/\n",
            "Collecting emoji\n",
            "  Downloading emoji-2.2.0.tar.gz (240 kB)\n",
            "\u001b[2K     \u001b[90m━━━━━━━━━━━━━━━━━━━━━━━━━━━━━━━━━━━━━━━\u001b[0m \u001b[32m240.9/240.9 kB\u001b[0m \u001b[31m6.0 MB/s\u001b[0m eta \u001b[36m0:00:00\u001b[0m\n",
            "\u001b[?25h  Preparing metadata (setup.py) ... \u001b[?25l\u001b[?25hdone\n",
            "Building wheels for collected packages: emoji\n",
            "  Building wheel for emoji (setup.py) ... \u001b[?25l\u001b[?25hdone\n",
            "  Created wheel for emoji: filename=emoji-2.2.0-py3-none-any.whl size=234911 sha256=b2b3ed562771c659a38d3d786e155c43a64aec6183a58e713d607dbd49442098\n",
            "  Stored in directory: /root/.cache/pip/wheels/02/3d/88/51a592b9ad17e7899126563698b4e3961983ebe85747228ba6\n",
            "Successfully built emoji\n",
            "Installing collected packages: emoji\n",
            "Successfully installed emoji-2.2.0\n"
          ]
        }
      ],
      "source": [
        "pip install emoji"
      ]
    },
    {
      "cell_type": "code",
      "source": [
        "!pip install gensim"
      ],
      "metadata": {
        "id": "zpJJ3lVwbVWp",
        "colab": {
          "base_uri": "https://localhost:8080/"
        },
        "outputId": "e9ed6dd6-9b52-4b70-fd09-866bf680a98c"
      },
      "execution_count": 3,
      "outputs": [
        {
          "output_type": "stream",
          "name": "stdout",
          "text": [
            "Looking in indexes: https://pypi.org/simple, https://us-python.pkg.dev/colab-wheels/public/simple/\n",
            "Requirement already satisfied: gensim in /usr/local/lib/python3.10/dist-packages (4.3.1)\n",
            "Requirement already satisfied: numpy>=1.18.5 in /usr/local/lib/python3.10/dist-packages (from gensim) (1.22.4)\n",
            "Requirement already satisfied: scipy>=1.7.0 in /usr/local/lib/python3.10/dist-packages (from gensim) (1.10.1)\n",
            "Requirement already satisfied: smart-open>=1.8.1 in /usr/local/lib/python3.10/dist-packages (from gensim) (6.3.0)\n"
          ]
        }
      ]
    },
    {
      "cell_type": "code",
      "source": [
        "import pandas as pd\n",
        "import numpy as np\n",
        "import re\n",
        "import emoji\n",
        "\n",
        "from pythainlp.tokenize import word_tokenize\n",
        "from keras.preprocessing.text import Tokenizer\n",
        "from keras.utils import pad_sequences\n",
        "\n",
        "from gensim.test.utils import common_texts\n",
        "from gensim.models import Word2Vec\n",
        "\n",
        "from keras.layers import Embedding\n",
        "from keras.models import Sequential\n",
        "from keras.layers import LSTM, Dense, Dropout\n",
        "from keras.metrics import Precision, Recall\n",
        "from keras.callbacks import History\n",
        "\n",
        "import tensorflow as tf\n",
        "\n",
        "from sklearn.model_selection import train_test_split\n",
        "from imblearn.over_sampling import SMOTE\n",
        "\n",
        "import matplotlib.pyplot as plt\n",
        "\n",
        "from datetime import datetime\n",
        "from keras import callbacks\n",
        "\n",
        "import keras.backend as K"
      ],
      "metadata": {
        "id": "dBo6iDSfagPi"
      },
      "execution_count": 4,
      "outputs": []
    },
    {
      "cell_type": "markdown",
      "source": [
        "# Import file"
      ],
      "metadata": {
        "id": "h-mDrdOSamlA"
      }
    },
    {
      "cell_type": "code",
      "source": [
        "from google.colab import drive\n",
        "drive.mount('/content/drive')"
      ],
      "metadata": {
        "colab": {
          "base_uri": "https://localhost:8080/"
        },
        "id": "QpRBwP_nvB0X",
        "outputId": "4c8110ef-06c7-4f60-ae89-fc0b2dbf955c"
      },
      "execution_count": 5,
      "outputs": [
        {
          "output_type": "stream",
          "name": "stdout",
          "text": [
            "Mounted at /content/drive\n"
          ]
        }
      ]
    },
    {
      "cell_type": "code",
      "source": [
        "# import csv file\n",
        "df = pd.read_csv('/content/drive/MyDrive/wsdata_all.csv', delimiter=',')"
      ],
      "metadata": {
        "id": "ZIw44sCVanmY"
      },
      "execution_count": 6,
      "outputs": []
    },
    {
      "cell_type": "code",
      "source": [
        "df.loc[:,'text'] = df.loc[:,'text'].map(word_tokenize)"
      ],
      "metadata": {
        "id": "C5x-zshqazP1"
      },
      "execution_count": 7,
      "outputs": []
    },
    {
      "cell_type": "code",
      "source": [
        "df"
      ],
      "metadata": {
        "colab": {
          "base_uri": "https://localhost:8080/",
          "height": 423
        },
        "id": "QaM7YZzBa0rX",
        "outputId": "e5e7c821-3373-4704-cb1c-76d5cec58ba5"
      },
      "execution_count": 8,
      "outputs": [
        {
          "output_type": "execute_result",
          "data": {
            "text/plain": [
              "       label                                               text\n",
              "0          1  [จองแล้ว, นา, จา,  , Mitsubishi,  , Attrage,  ...\n",
              "1          1  [ศักราช, !,  , นายกฯ,  , แถลงข่าว, การแข่งขัน,...\n",
              "2          1                         [บัตรสมาชิก, ลด, ไหม, คับ]\n",
              "3          1                        [สนใจ,  , new,  , mazda, 2]\n",
              "4          0  [,,  , Juke,  , :,  , รถ, วะ,  , ประหลาด,  , C...\n",
              "...      ...                                                ...\n",
              "26608      0  [ลงมา,  , ดี, เท่าเดิม,   , แวะ, มาหา, เซเว่น,...\n",
              "26609      1  [แพนด้า, ซิ่ง,  , มุมมอง, แตกต่าง, ลงตัว, สไตล...\n",
              "26610      0                                              [ดอม]\n",
              "26611      1  [เจมส์,  , บอนด์,  , ขับ, โตโยต้า, อัลติส,  , ...\n",
              "26612      1                            [สิ,  , บาร์, บี, ก้อน]\n",
              "\n",
              "[26613 rows x 2 columns]"
            ],
            "text/html": [
              "\n",
              "  <div id=\"df-11aa2d49-ca7a-4002-8725-227b118730c0\">\n",
              "    <div class=\"colab-df-container\">\n",
              "      <div>\n",
              "<style scoped>\n",
              "    .dataframe tbody tr th:only-of-type {\n",
              "        vertical-align: middle;\n",
              "    }\n",
              "\n",
              "    .dataframe tbody tr th {\n",
              "        vertical-align: top;\n",
              "    }\n",
              "\n",
              "    .dataframe thead th {\n",
              "        text-align: right;\n",
              "    }\n",
              "</style>\n",
              "<table border=\"1\" class=\"dataframe\">\n",
              "  <thead>\n",
              "    <tr style=\"text-align: right;\">\n",
              "      <th></th>\n",
              "      <th>label</th>\n",
              "      <th>text</th>\n",
              "    </tr>\n",
              "  </thead>\n",
              "  <tbody>\n",
              "    <tr>\n",
              "      <th>0</th>\n",
              "      <td>1</td>\n",
              "      <td>[จองแล้ว, นา, จา,  , Mitsubishi,  , Attrage,  ...</td>\n",
              "    </tr>\n",
              "    <tr>\n",
              "      <th>1</th>\n",
              "      <td>1</td>\n",
              "      <td>[ศักราช, !,  , นายกฯ,  , แถลงข่าว, การแข่งขัน,...</td>\n",
              "    </tr>\n",
              "    <tr>\n",
              "      <th>2</th>\n",
              "      <td>1</td>\n",
              "      <td>[บัตรสมาชิก, ลด, ไหม, คับ]</td>\n",
              "    </tr>\n",
              "    <tr>\n",
              "      <th>3</th>\n",
              "      <td>1</td>\n",
              "      <td>[สนใจ,  , new,  , mazda, 2]</td>\n",
              "    </tr>\n",
              "    <tr>\n",
              "      <th>4</th>\n",
              "      <td>0</td>\n",
              "      <td>[,,  , Juke,  , :,  , รถ, วะ,  , ประหลาด,  , C...</td>\n",
              "    </tr>\n",
              "    <tr>\n",
              "      <th>...</th>\n",
              "      <td>...</td>\n",
              "      <td>...</td>\n",
              "    </tr>\n",
              "    <tr>\n",
              "      <th>26608</th>\n",
              "      <td>0</td>\n",
              "      <td>[ลงมา,  , ดี, เท่าเดิม,   , แวะ, มาหา, เซเว่น,...</td>\n",
              "    </tr>\n",
              "    <tr>\n",
              "      <th>26609</th>\n",
              "      <td>1</td>\n",
              "      <td>[แพนด้า, ซิ่ง,  , มุมมอง, แตกต่าง, ลงตัว, สไตล...</td>\n",
              "    </tr>\n",
              "    <tr>\n",
              "      <th>26610</th>\n",
              "      <td>0</td>\n",
              "      <td>[ดอม]</td>\n",
              "    </tr>\n",
              "    <tr>\n",
              "      <th>26611</th>\n",
              "      <td>1</td>\n",
              "      <td>[เจมส์,  , บอนด์,  , ขับ, โตโยต้า, อัลติส,  , ...</td>\n",
              "    </tr>\n",
              "    <tr>\n",
              "      <th>26612</th>\n",
              "      <td>1</td>\n",
              "      <td>[สิ,  , บาร์, บี, ก้อน]</td>\n",
              "    </tr>\n",
              "  </tbody>\n",
              "</table>\n",
              "<p>26613 rows × 2 columns</p>\n",
              "</div>\n",
              "      <button class=\"colab-df-convert\" onclick=\"convertToInteractive('df-11aa2d49-ca7a-4002-8725-227b118730c0')\"\n",
              "              title=\"Convert this dataframe to an interactive table.\"\n",
              "              style=\"display:none;\">\n",
              "        \n",
              "  <svg xmlns=\"http://www.w3.org/2000/svg\" height=\"24px\"viewBox=\"0 0 24 24\"\n",
              "       width=\"24px\">\n",
              "    <path d=\"M0 0h24v24H0V0z\" fill=\"none\"/>\n",
              "    <path d=\"M18.56 5.44l.94 2.06.94-2.06 2.06-.94-2.06-.94-.94-2.06-.94 2.06-2.06.94zm-11 1L8.5 8.5l.94-2.06 2.06-.94-2.06-.94L8.5 2.5l-.94 2.06-2.06.94zm10 10l.94 2.06.94-2.06 2.06-.94-2.06-.94-.94-2.06-.94 2.06-2.06.94z\"/><path d=\"M17.41 7.96l-1.37-1.37c-.4-.4-.92-.59-1.43-.59-.52 0-1.04.2-1.43.59L10.3 9.45l-7.72 7.72c-.78.78-.78 2.05 0 2.83L4 21.41c.39.39.9.59 1.41.59.51 0 1.02-.2 1.41-.59l7.78-7.78 2.81-2.81c.8-.78.8-2.07 0-2.86zM5.41 20L4 18.59l7.72-7.72 1.47 1.35L5.41 20z\"/>\n",
              "  </svg>\n",
              "      </button>\n",
              "      \n",
              "  <style>\n",
              "    .colab-df-container {\n",
              "      display:flex;\n",
              "      flex-wrap:wrap;\n",
              "      gap: 12px;\n",
              "    }\n",
              "\n",
              "    .colab-df-convert {\n",
              "      background-color: #E8F0FE;\n",
              "      border: none;\n",
              "      border-radius: 50%;\n",
              "      cursor: pointer;\n",
              "      display: none;\n",
              "      fill: #1967D2;\n",
              "      height: 32px;\n",
              "      padding: 0 0 0 0;\n",
              "      width: 32px;\n",
              "    }\n",
              "\n",
              "    .colab-df-convert:hover {\n",
              "      background-color: #E2EBFA;\n",
              "      box-shadow: 0px 1px 2px rgba(60, 64, 67, 0.3), 0px 1px 3px 1px rgba(60, 64, 67, 0.15);\n",
              "      fill: #174EA6;\n",
              "    }\n",
              "\n",
              "    [theme=dark] .colab-df-convert {\n",
              "      background-color: #3B4455;\n",
              "      fill: #D2E3FC;\n",
              "    }\n",
              "\n",
              "    [theme=dark] .colab-df-convert:hover {\n",
              "      background-color: #434B5C;\n",
              "      box-shadow: 0px 1px 3px 1px rgba(0, 0, 0, 0.15);\n",
              "      filter: drop-shadow(0px 1px 2px rgba(0, 0, 0, 0.3));\n",
              "      fill: #FFFFFF;\n",
              "    }\n",
              "  </style>\n",
              "\n",
              "      <script>\n",
              "        const buttonEl =\n",
              "          document.querySelector('#df-11aa2d49-ca7a-4002-8725-227b118730c0 button.colab-df-convert');\n",
              "        buttonEl.style.display =\n",
              "          google.colab.kernel.accessAllowed ? 'block' : 'none';\n",
              "\n",
              "        async function convertToInteractive(key) {\n",
              "          const element = document.querySelector('#df-11aa2d49-ca7a-4002-8725-227b118730c0');\n",
              "          const dataTable =\n",
              "            await google.colab.kernel.invokeFunction('convertToInteractive',\n",
              "                                                     [key], {});\n",
              "          if (!dataTable) return;\n",
              "\n",
              "          const docLinkHtml = 'Like what you see? Visit the ' +\n",
              "            '<a target=\"_blank\" href=https://colab.research.google.com/notebooks/data_table.ipynb>data table notebook</a>'\n",
              "            + ' to learn more about interactive tables.';\n",
              "          element.innerHTML = '';\n",
              "          dataTable['output_type'] = 'display_data';\n",
              "          await google.colab.output.renderOutput(dataTable, element);\n",
              "          const docLink = document.createElement('div');\n",
              "          docLink.innerHTML = docLinkHtml;\n",
              "          element.appendChild(docLink);\n",
              "        }\n",
              "      </script>\n",
              "    </div>\n",
              "  </div>\n",
              "  "
            ]
          },
          "metadata": {},
          "execution_count": 8
        }
      ]
    },
    {
      "cell_type": "markdown",
      "source": [
        "## create list of text"
      ],
      "metadata": {
        "id": "P6iE5yv0a4dR"
      }
    },
    {
      "cell_type": "code",
      "source": [
        "sent = [row for row in df['text']]"
      ],
      "metadata": {
        "id": "0fGheMYJa3Vz"
      },
      "execution_count": 9,
      "outputs": []
    },
    {
      "cell_type": "code",
      "source": [
        "# Average String lengths in list\n",
        "# using map() + sum() + len()\n",
        "res = sum(map(len, sent))/float(len(sent))\n",
        " \n",
        "# printing result\n",
        "print(\"The Average length of String in list is : \" + str(res))"
      ],
      "metadata": {
        "colab": {
          "base_uri": "https://localhost:8080/"
        },
        "id": "_7CKV5q0dSpQ",
        "outputId": "fcadd256-7057-4a34-8d98-1c40d06ee547"
      },
      "execution_count": 10,
      "outputs": [
        {
          "output_type": "stream",
          "name": "stdout",
          "text": [
            "The Average length of String in list is : 18.96629466801939\n"
          ]
        }
      ]
    },
    {
      "cell_type": "code",
      "source": [
        "sent[2]"
      ],
      "metadata": {
        "colab": {
          "base_uri": "https://localhost:8080/"
        },
        "id": "TEuYfxmXeY2S",
        "outputId": "d88f6179-f16a-4e5d-ace9-a4f1531c7e36"
      },
      "execution_count": 11,
      "outputs": [
        {
          "output_type": "execute_result",
          "data": {
            "text/plain": [
              "['บัตรสมาชิก', 'ลด', 'ไหม', 'คับ']"
            ]
          },
          "metadata": {},
          "execution_count": 11
        }
      ]
    },
    {
      "cell_type": "code",
      "source": [
        "#len(max(sent))"
      ],
      "metadata": {
        "id": "LodFZCWjeqwE"
      },
      "execution_count": 12,
      "outputs": []
    },
    {
      "cell_type": "markdown",
      "source": [
        "## Tokenize and pad sequence"
      ],
      "metadata": {
        "id": "G9iQPFgna-dD"
      }
    },
    {
      "cell_type": "code",
      "source": [
        "tokenizer = Tokenizer()\n",
        "tokenizer.fit_on_texts(df.text)"
      ],
      "metadata": {
        "id": "Bam1i31QbBa3"
      },
      "execution_count": 13,
      "outputs": []
    },
    {
      "cell_type": "code",
      "source": [
        "# create X\n",
        "X = pad_sequences(tokenizer.texts_to_sequences(df.text), maxlen=40)\n",
        "X"
      ],
      "metadata": {
        "colab": {
          "base_uri": "https://localhost:8080/"
        },
        "id": "vB2-Kx73bC1l",
        "outputId": "c3769955-8efb-43e0-dc5b-bd9b745120e4"
      },
      "execution_count": 14,
      "outputs": [
        {
          "output_type": "execute_result",
          "data": {
            "text/plain": [
              "array([[   0,    0,    0, ...,    1,  350, 3862],\n",
              "       [   0,    0,    0, ...,    1,  770, 3047],\n",
              "       [   0,    0,    0, ...,   76,   40,   56],\n",
              "       ...,\n",
              "       [   0,    0,    0, ...,    0,    0, 8041],\n",
              "       [   0,    0,    0, ..., 1043,    1, 3983],\n",
              "       [   0,    0,    0, ...,  588,  330,   39]], dtype=int32)"
            ]
          },
          "metadata": {},
          "execution_count": 14
        }
      ]
    },
    {
      "cell_type": "code",
      "source": [
        "# create y\n",
        "y = df['label']\n",
        "y.shape"
      ],
      "metadata": {
        "colab": {
          "base_uri": "https://localhost:8080/"
        },
        "id": "v8oFFUKBcZhi",
        "outputId": "fd4dd91a-00d0-44d7-fedf-907b33dce0f6"
      },
      "execution_count": 15,
      "outputs": [
        {
          "output_type": "execute_result",
          "data": {
            "text/plain": [
              "(26613,)"
            ]
          },
          "metadata": {},
          "execution_count": 15
        }
      ]
    },
    {
      "cell_type": "markdown",
      "source": [
        "# Load Word2Vec(TNCc5model)"
      ],
      "metadata": {
        "id": "MQ3L6jt0bHkH"
      }
    },
    {
      "cell_type": "code",
      "source": [
        "# load pretrained model\n",
        "model = Word2Vec.load(\"http://www.arts.chula.ac.th/ling/wp-content/uploads/TNCc5model.bin\") "
      ],
      "metadata": {
        "id": "f6UYLwSWbFU2"
      },
      "execution_count": 16,
      "outputs": []
    },
    {
      "cell_type": "code",
      "source": [
        "# model.save(\"TNCc5model.model\")"
      ],
      "metadata": {
        "id": "_tgHSsMylxAB"
      },
      "execution_count": 17,
      "outputs": []
    },
    {
      "cell_type": "code",
      "source": [
        "# model = Word2Vec.load(\"TNCc5model.model\")"
      ],
      "metadata": {
        "id": "853UbEKTlyXp"
      },
      "execution_count": 18,
      "outputs": []
    },
    {
      "cell_type": "code",
      "source": [
        "# create vocab_size, embedding_dim and embedding_matrix\n",
        "vocab_size = len(model.wv)\n",
        "embedding_dim = model.vector_size\n",
        "embedding_matrix = np.zeros((vocab_size, embedding_dim))"
      ],
      "metadata": {
        "id": "KsMBJPPNbYqS"
      },
      "execution_count": 19,
      "outputs": []
    },
    {
      "cell_type": "code",
      "source": [
        "for i, word in enumerate(model.wv):\n",
        "    embedding_matrix[i] = word"
      ],
      "metadata": {
        "id": "Qytn5MUgbxxi"
      },
      "execution_count": null,
      "outputs": []
    },
    {
      "cell_type": "code",
      "source": [
        "embedding_matrix[31077]"
      ],
      "metadata": {
        "colab": {
          "base_uri": "https://localhost:8080/"
        },
        "id": "i2A5tQDHbyZJ",
        "outputId": "5afada8c-e252-442a-ef82-75d6a6810b17"
      },
      "execution_count": 21,
      "outputs": [
        {
          "output_type": "execute_result",
          "data": {
            "text/plain": [
              "array([-0.08747477, -0.03003867,  0.0696032 ,  0.03697103, -0.04840473,\n",
              "        0.04570374,  0.08035568,  0.09319719,  0.0328302 ,  0.0205396 ,\n",
              "        0.05725439,  0.07493409, -0.05307385,  0.06657625,  0.02432919,\n",
              "       -0.01523621, -0.03918364,  0.00505913,  0.09474613,  0.07713508,\n",
              "        0.01310679,  0.01618158,  0.03159253, -0.05961249, -0.00540888,\n",
              "        0.01102536,  0.03336877, -0.09733387, -0.0455462 ,  0.00984617,\n",
              "        0.0461374 ,  0.04063138, -0.01614906,  0.02336541, -0.05779864,\n",
              "       -0.01610914, -0.09162895, -0.06487005, -0.01570138,  0.01779037,\n",
              "       -0.01921744, -0.01817694,  0.12782034,  0.0127709 , -0.00602525,\n",
              "       -0.03969072,  0.01731815,  0.00555995,  0.04609034,  0.05480786,\n",
              "        0.05582551, -0.02981856, -0.01753935, -0.03173018,  0.03811059,\n",
              "        0.08742324, -0.03593688, -0.08428604,  0.00821297, -0.03246153,\n",
              "       -0.04117111,  0.11976431, -0.02667627, -0.03977206, -0.01023334,\n",
              "        0.09782189,  0.02933291, -0.05686831,  0.0734435 , -0.03232438,\n",
              "        0.03366319,  0.02777745, -0.01323282,  0.04059448,  0.01851271,\n",
              "        0.02541859, -0.01944041, -0.00204206, -0.02037049,  0.09079952,\n",
              "        0.06050802, -0.0402979 ,  0.06670228,  0.09467505, -0.00335809,\n",
              "       -0.01529406, -0.05300978, -0.00702781, -0.0264109 , -0.04785226,\n",
              "        0.07884577,  0.05271694, -0.05227912, -0.06690811,  0.03541892,\n",
              "       -0.03044322,  0.03644468, -0.03583029,  0.00813333,  0.00560054])"
            ]
          },
          "metadata": {},
          "execution_count": 21
        }
      ]
    },
    {
      "cell_type": "markdown",
      "source": [
        "# Create model"
      ],
      "metadata": {
        "id": "T7e4AD-Rb3u-"
      }
    },
    {
      "cell_type": "code",
      "source": [
        "embedding_layer = Embedding(vocab_size, embedding_dim, weights=[embedding_matrix], input_length=40, trainable=False)"
      ],
      "metadata": {
        "id": "RegMnGBtb0Q-"
      },
      "execution_count": 22,
      "outputs": []
    },
    {
      "cell_type": "code",
      "source": [
        "import keras\n",
        "from tensorflow.keras.layers import SpatialDropout1D"
      ],
      "metadata": {
        "id": "WdgivC151MN1"
      },
      "execution_count": 23,
      "outputs": []
    },
    {
      "cell_type": "code",
      "source": [
        "!pip install seaborn ncps"
      ],
      "metadata": {
        "colab": {
          "base_uri": "https://localhost:8080/"
        },
        "id": "h3l3ZIioSM2P",
        "outputId": "599d4569-ac9c-4269-b7f3-d91d8e20b1a9"
      },
      "execution_count": 24,
      "outputs": [
        {
          "output_type": "stream",
          "name": "stdout",
          "text": [
            "Looking in indexes: https://pypi.org/simple, https://us-python.pkg.dev/colab-wheels/public/simple/\n",
            "Requirement already satisfied: seaborn in /usr/local/lib/python3.10/dist-packages (0.12.2)\n",
            "Collecting ncps\n",
            "  Downloading ncps-0.0.7-py3-none-any.whl (44 kB)\n",
            "\u001b[2K     \u001b[90m━━━━━━━━━━━━━━━━━━━━━━━━━━━━━━━━━━━━━━━━\u001b[0m \u001b[32m44.8/44.8 kB\u001b[0m \u001b[31m2.4 MB/s\u001b[0m eta \u001b[36m0:00:00\u001b[0m\n",
            "\u001b[?25hRequirement already satisfied: numpy!=1.24.0,>=1.17 in /usr/local/lib/python3.10/dist-packages (from seaborn) (1.22.4)\n",
            "Requirement already satisfied: pandas>=0.25 in /usr/local/lib/python3.10/dist-packages (from seaborn) (1.5.3)\n",
            "Requirement already satisfied: matplotlib!=3.6.1,>=3.1 in /usr/local/lib/python3.10/dist-packages (from seaborn) (3.7.1)\n",
            "Requirement already satisfied: future in /usr/local/lib/python3.10/dist-packages (from ncps) (0.18.3)\n",
            "Requirement already satisfied: packaging in /usr/local/lib/python3.10/dist-packages (from ncps) (23.1)\n",
            "Requirement already satisfied: contourpy>=1.0.1 in /usr/local/lib/python3.10/dist-packages (from matplotlib!=3.6.1,>=3.1->seaborn) (1.0.7)\n",
            "Requirement already satisfied: cycler>=0.10 in /usr/local/lib/python3.10/dist-packages (from matplotlib!=3.6.1,>=3.1->seaborn) (0.11.0)\n",
            "Requirement already satisfied: fonttools>=4.22.0 in /usr/local/lib/python3.10/dist-packages (from matplotlib!=3.6.1,>=3.1->seaborn) (4.39.3)\n",
            "Requirement already satisfied: kiwisolver>=1.0.1 in /usr/local/lib/python3.10/dist-packages (from matplotlib!=3.6.1,>=3.1->seaborn) (1.4.4)\n",
            "Requirement already satisfied: pillow>=6.2.0 in /usr/local/lib/python3.10/dist-packages (from matplotlib!=3.6.1,>=3.1->seaborn) (8.4.0)\n",
            "Requirement already satisfied: pyparsing>=2.3.1 in /usr/local/lib/python3.10/dist-packages (from matplotlib!=3.6.1,>=3.1->seaborn) (3.0.9)\n",
            "Requirement already satisfied: python-dateutil>=2.7 in /usr/local/lib/python3.10/dist-packages (from matplotlib!=3.6.1,>=3.1->seaborn) (2.8.2)\n",
            "Requirement already satisfied: pytz>=2020.1 in /usr/local/lib/python3.10/dist-packages (from pandas>=0.25->seaborn) (2022.7.1)\n",
            "Requirement already satisfied: six>=1.5 in /usr/local/lib/python3.10/dist-packages (from python-dateutil>=2.7->matplotlib!=3.6.1,>=3.1->seaborn) (1.16.0)\n",
            "Installing collected packages: ncps\n",
            "Successfully installed ncps-0.0.7\n"
          ]
        }
      ]
    },
    {
      "cell_type": "code",
      "source": [
        "import numpy as np\n",
        "import os\n",
        "from tensorflow import keras\n",
        "from ncps import wirings\n",
        "from ncps.tf import LTC, CfC\n",
        "import matplotlib.pyplot as plt\n",
        "import seaborn as sns"
      ],
      "metadata": {
        "id": "1UadVAVoSPfZ"
      },
      "execution_count": 25,
      "outputs": []
    },
    {
      "cell_type": "code",
      "source": [
        "fc_wiring = wirings.FullyConnected(8, 3)  # 8 units, 1 of which is a motor neuron\n",
        "rnd_wiring = wirings.Random(8, 3,sparsity_level=0.5)  # 8 units, 1 motor neuron\n",
        "ncp_arch = wirings.AutoNCP(8,3) # 8 units, 1 motor neuron"
      ],
      "metadata": {
        "id": "l8rIt4c8SSNI"
      },
      "execution_count": 26,
      "outputs": []
    },
    {
      "cell_type": "code",
      "source": [
        "model = Sequential()\n",
        "model.add(embedding_layer)\n",
        "model.add(Dropout(0.1))\n",
        "#model.add(LSTM(128, return_sequences=True))\n",
        "#model.add(Dropout(0.1))\n",
        "#model.add(LTC(fc_wiring, return_sequences=True))\n",
        "#model.add(LSTM(128, return_sequences=True))\n",
        "#model.add(LTC(rnd_wiring))\n",
        "#model.add(LTC(fc_wiring, return_sequences=True))\n",
        "#model.add(Dropout(0.1))\n",
        "#model.add(LSTM(128))\n",
        "model.add(CfC(ncp_arch))\n",
        "#model.add(LTC(rnd_wiring, return_sequences=True))\n",
        "model.add(Dropout(0.2))\n",
        "model.add(Dense(3, activation='softmax'))\n",
        "#model.add(LTC(rnd_wiring))\n",
        "\n",
        "model.compile(optimizer='adamax', loss='categorical_crossentropy', metrics=['accuracy', Precision(), Recall()])\n",
        "print(model.summary())"
      ],
      "metadata": {
        "colab": {
          "base_uri": "https://localhost:8080/"
        },
        "id": "NBnkmoUccBwR",
        "outputId": "51262e11-b1cb-4cae-e413-1c9e8ccd4d33"
      },
      "execution_count": 27,
      "outputs": [
        {
          "output_type": "stream",
          "name": "stdout",
          "text": [
            "Model: \"sequential\"\n",
            "_________________________________________________________________\n",
            " Layer (type)                Output Shape              Param #   \n",
            "=================================================================\n",
            " embedding (Embedding)       (None, 40, 100)           3107800   \n",
            "                                                                 \n",
            " dropout (Dropout)           (None, 40, 100)           0         \n",
            "                                                                 \n",
            " cf_c (CfC)                  (None, 3)                 1368      \n",
            "                                                                 \n",
            " dropout_1 (Dropout)         (None, 3)                 0         \n",
            "                                                                 \n",
            " dense (Dense)               (None, 3)                 12        \n",
            "                                                                 \n",
            "=================================================================\n",
            "Total params: 3,109,180\n",
            "Trainable params: 1,380\n",
            "Non-trainable params: 3,107,800\n",
            "_________________________________________________________________\n",
            "None\n"
          ]
        }
      ]
    },
    {
      "cell_type": "code",
      "source": [
        "tf.keras.utils.plot_model(model, show_shapes=True)"
      ],
      "metadata": {
        "colab": {
          "base_uri": "https://localhost:8080/",
          "height": 644
        },
        "id": "t03HOARhcIb1",
        "outputId": "b5e01cdf-878e-45d4-a0bb-810ff980716a"
      },
      "execution_count": 28,
      "outputs": [
        {
          "output_type": "execute_result",
          "data": {
            "image/png": "[encoded data removed]",
            "text/plain": [
              "<IPython.core.display.Image object>"
            ]
          },
          "metadata": {},
          "execution_count": 28
        }
      ]
    },
    {
      "cell_type": "markdown",
      "source": [
        "# Splitting Data and prepare X and y"
      ],
      "metadata": {
        "id": "rRWdXZimclOE"
      }
    },
    {
      "cell_type": "code",
      "source": [
        "# Split the data into training and testing sets\n",
        "X_train, X_test, y_train, y_test = train_test_split(X, y, test_size=0.2, random_state=42)"
      ],
      "metadata": {
        "id": "6ai4XKN3cP2O"
      },
      "execution_count": 29,
      "outputs": []
    },
    {
      "cell_type": "code",
      "source": [
        "# Apply SMOTE to the training data\n",
        "smote = SMOTE()\n",
        "X_train_oversampled, y_train_oversampled = smote.fit_resample(X_train, y_train)"
      ],
      "metadata": {
        "id": "nY8UOEWncs10"
      },
      "execution_count": 30,
      "outputs": []
    },
    {
      "cell_type": "code",
      "source": [
        "X_train, X_val, y_train, y_val = train_test_split(X_train_oversampled, y_train_oversampled, test_size=0.25, random_state=1)\n",
        "print('Train Set ->', X_train.shape, y_train.shape)\n",
        "print('Validation Set ->', X_val.shape, y_val.shape)\n",
        "print('Test Set ->', X_test.shape, y_test.shape)"
      ],
      "metadata": {
        "colab": {
          "base_uri": "https://localhost:8080/"
        },
        "id": "kX3ExR2qcuuc",
        "outputId": "9c7936a7-072e-4ab3-c9fe-6feef7c04f47"
      },
      "execution_count": 31,
      "outputs": [
        {
          "output_type": "stream",
          "name": "stdout",
          "text": [
            "Train Set -> (27240, 40) (27240,)\n",
            "Validation Set -> (9081, 40) (9081,)\n",
            "Test Set -> (5323, 40) (5323,)\n"
          ]
        }
      ]
    },
    {
      "cell_type": "markdown",
      "source": [
        "## Data distribution"
      ],
      "metadata": {
        "id": "1yT0l_ggcybn"
      }
    },
    {
      "cell_type": "code",
      "source": [
        "CountStatus = pd.value_counts(y_train.values)\n",
        "CountStatus.plot.bar()"
      ],
      "metadata": {
        "colab": {
          "base_uri": "https://localhost:8080/",
          "height": 0
        },
        "id": "wDoKDBTjcwWh",
        "outputId": "c62ae88f-eeff-404e-ab3e-f906c2821a82"
      },
      "execution_count": 32,
      "outputs": [
        {
          "output_type": "execute_result",
          "data": {
            "text/plain": [
              "<Axes: >"
            ]
          },
          "metadata": {},
          "execution_count": 32
        },
        {
          "output_type": "display_data",
          "data": {
            "text/plain": [
              "<Figure size 640x480 with 1 Axes>"
            ],
            "image/png": "[encoded data removed]"
          },
          "metadata": {}
        }
      ]
    },
    {
      "cell_type": "code",
      "source": [
        "#CountStatus = pd.value_counts(y_val.values)\n",
        "#CountStatus.plot.bar()"
      ],
      "metadata": {
        "id": "1R7kruwdc1cu"
      },
      "execution_count": 33,
      "outputs": []
    },
    {
      "cell_type": "code",
      "source": [
        "CountStatus = pd.value_counts(y_test.values)\n",
        "CountStatus.plot.bar()"
      ],
      "metadata": {
        "colab": {
          "base_uri": "https://localhost:8080/",
          "height": 0
        },
        "id": "sLqJiC4Pc7HN",
        "outputId": "53f2b224-6a3b-469a-ab65-d776563333f2"
      },
      "execution_count": 34,
      "outputs": [
        {
          "output_type": "execute_result",
          "data": {
            "text/plain": [
              "<Axes: >"
            ]
          },
          "metadata": {},
          "execution_count": 34
        },
        {
          "output_type": "display_data",
          "data": {
            "text/plain": [
              "<Figure size 640x480 with 1 Axes>"
            ],
            "image/png": "[encoded data removed]"
          },
          "metadata": {}
        }
      ]
    },
    {
      "cell_type": "markdown",
      "source": [
        "## create y to 3 output"
      ],
      "metadata": {
        "id": "P1lpVh22dAv1"
      }
    },
    {
      "cell_type": "code",
      "source": [
        "y_train = pd.get_dummies(y_train)\n",
        "y_val = pd.get_dummies(y_val)\n",
        "y_test = pd.get_dummies(y_test)"
      ],
      "metadata": {
        "id": "k36qeckOc-iV"
      },
      "execution_count": 35,
      "outputs": []
    },
    {
      "cell_type": "code",
      "source": [
        "print('Train Set ->', X_train.shape, y_train.shape)\n",
        "print('Validation Set ->', X_val.shape, y_val.shape)\n",
        "print('Test Set ->', X_test.shape, y_test.shape)"
      ],
      "metadata": {
        "colab": {
          "base_uri": "https://localhost:8080/"
        },
        "id": "AHpCNw3rdMUD",
        "outputId": "690fa77d-1fec-4dfa-d93c-ed30df133c36"
      },
      "execution_count": 36,
      "outputs": [
        {
          "output_type": "stream",
          "name": "stdout",
          "text": [
            "Train Set -> (27240, 40) (27240, 3)\n",
            "Validation Set -> (9081, 40) (9081, 3)\n",
            "Test Set -> (5323, 40) (5323, 3)\n"
          ]
        }
      ]
    },
    {
      "cell_type": "markdown",
      "source": [
        "# Train Data"
      ],
      "metadata": {
        "id": "ocHjThyJdQA4"
      }
    },
    {
      "cell_type": "code",
      "source": [
        "start_time = datetime.now()\n",
        "\n",
        "history = model.fit(X_train, y_train, validation_data=(X_val, y_val), epochs=30, batch_size=8)\n",
        "#callbacks=[checkpointer]\n",
        "\n",
        "#model.load_weights('weights.hdf5')\n",
        "\n",
        "end_time = datetime.now()\n",
        "print('Duration: {}'.format(end_time - start_time))"
      ],
      "metadata": {
        "colab": {
          "base_uri": "https://localhost:8080/"
        },
        "id": "Lv5wx0OidNXi",
        "outputId": "155c44fa-d82e-4e53-dbdf-047ea4a86907"
      },
      "execution_count": 37,
      "outputs": [
        {
          "output_type": "stream",
          "name": "stdout",
          "text": [
            "Epoch 1/30\n",
            "3405/3405 [==============================] - 184s 49ms/step - loss: 1.0836 - accuracy: 0.3837 - precision: 0.4872 - recall: 0.0238 - val_loss: 1.0386 - val_accuracy: 0.4582 - val_precision: 0.6114 - val_recall: 0.0955\n",
            "Epoch 2/30\n",
            "3405/3405 [==============================] - 157s 46ms/step - loss: 1.1117 - accuracy: 0.4475 - precision: 0.5711 - recall: 0.1234 - val_loss: 1.0307 - val_accuracy: 0.4640 - val_precision: 0.6163 - val_recall: 0.1150\n",
            "Epoch 3/30\n",
            "3405/3405 [==============================] - 145s 43ms/step - loss: 1.0418 - accuracy: 0.4453 - precision: 0.5642 - recall: 0.1232 - val_loss: 1.0290 - val_accuracy: 0.4582 - val_precision: 0.6125 - val_recall: 0.1211\n",
            "Epoch 4/30\n",
            "3405/3405 [==============================] - 154s 45ms/step - loss: 1.0377 - accuracy: 0.4518 - precision: 0.5705 - recall: 0.1324 - val_loss: 1.0233 - val_accuracy: 0.4589 - val_precision: 0.6284 - val_recall: 0.1285\n",
            "Epoch 5/30\n",
            "3405/3405 [==============================] - 155s 45ms/step - loss: 1.0323 - accuracy: 0.4555 - precision: 0.5797 - recall: 0.1414 - val_loss: 1.0209 - val_accuracy: 0.4680 - val_precision: 0.6321 - val_recall: 0.1470\n",
            "Epoch 6/30\n",
            "3405/3405 [==============================] - 144s 42ms/step - loss: 1.0243 - accuracy: 0.4593 - precision: 0.5959 - recall: 0.1603 - val_loss: 1.0184 - val_accuracy: 0.4711 - val_precision: 0.6354 - val_recall: 0.1765\n",
            "Epoch 7/30\n",
            "3405/3405 [==============================] - 141s 42ms/step - loss: 1.0471 - accuracy: 0.4601 - precision: 0.6065 - recall: 0.1536 - val_loss: 1.0136 - val_accuracy: 0.4712 - val_precision: 0.6476 - val_recall: 0.1580\n",
            "Epoch 8/30\n",
            "3405/3405 [==============================] - 155s 46ms/step - loss: 1.0203 - accuracy: 0.4610 - precision: 0.6090 - recall: 0.1604 - val_loss: 1.0153 - val_accuracy: 0.4704 - val_precision: 0.6032 - val_recall: 0.1915\n",
            "Epoch 9/30\n",
            "3405/3405 [==============================] - 144s 42ms/step - loss: 1.0182 - accuracy: 0.4613 - precision: 0.6130 - recall: 0.1699 - val_loss: 1.0076 - val_accuracy: 0.4775 - val_precision: 0.6511 - val_recall: 0.1798\n",
            "Epoch 10/30\n",
            "3405/3405 [==============================] - 153s 45ms/step - loss: 1.0146 - accuracy: 0.4736 - precision: 0.6176 - recall: 0.1758 - val_loss: 1.0055 - val_accuracy: 0.4820 - val_precision: 0.6554 - val_recall: 0.1872\n",
            "Epoch 11/30\n",
            "3405/3405 [==============================] - 143s 42ms/step - loss: 1.0114 - accuracy: 0.4741 - precision: 0.6206 - recall: 0.1754 - val_loss: 1.0075 - val_accuracy: 0.4773 - val_precision: 0.6216 - val_recall: 0.1950\n",
            "Epoch 12/30\n",
            "3405/3405 [==============================] - 146s 43ms/step - loss: 1.0090 - accuracy: 0.4763 - precision: 0.6259 - recall: 0.1848 - val_loss: 1.0041 - val_accuracy: 0.4784 - val_precision: 0.6233 - val_recall: 0.2161\n",
            "Epoch 13/30\n",
            "3405/3405 [==============================] - 144s 42ms/step - loss: 1.0063 - accuracy: 0.4786 - precision: 0.6240 - recall: 0.1896 - val_loss: 0.9987 - val_accuracy: 0.4843 - val_precision: 0.6445 - val_recall: 0.2112\n",
            "Epoch 14/30\n",
            "3405/3405 [==============================] - 154s 45ms/step - loss: 1.0253 - accuracy: 0.4862 - precision: 0.6303 - recall: 0.1921 - val_loss: 0.9953 - val_accuracy: 0.4850 - val_precision: 0.6471 - val_recall: 0.2110\n",
            "Epoch 15/30\n",
            "3405/3405 [==============================] - 155s 46ms/step - loss: 1.0001 - accuracy: 0.4845 - precision: 0.6307 - recall: 0.1895 - val_loss: 0.9937 - val_accuracy: 0.4939 - val_precision: 0.6577 - val_recall: 0.2135\n",
            "Epoch 16/30\n",
            "3405/3405 [==============================] - 141s 41ms/step - loss: 0.9997 - accuracy: 0.4869 - precision: 0.6357 - recall: 0.1962 - val_loss: 0.9914 - val_accuracy: 0.4981 - val_precision: 0.6570 - val_recall: 0.2187\n",
            "Epoch 17/30\n",
            "3405/3405 [==============================] - 152s 45ms/step - loss: 0.9994 - accuracy: 0.4845 - precision: 0.6377 - recall: 0.1981 - val_loss: 0.9893 - val_accuracy: 0.5016 - val_precision: 0.6632 - val_recall: 0.2235\n",
            "Epoch 18/30\n",
            "3405/3405 [==============================] - 156s 46ms/step - loss: 0.9977 - accuracy: 0.4887 - precision: 0.6315 - recall: 0.2001 - val_loss: 0.9867 - val_accuracy: 0.4979 - val_precision: 0.6504 - val_recall: 0.2288\n",
            "Epoch 19/30\n",
            "3405/3405 [==============================] - 154s 45ms/step - loss: 0.9966 - accuracy: 0.4925 - precision: 0.6390 - recall: 0.2040 - val_loss: 0.9837 - val_accuracy: 0.5026 - val_precision: 0.6642 - val_recall: 0.2183\n",
            "Epoch 20/30\n",
            "3405/3405 [==============================] - 140s 41ms/step - loss: 0.9941 - accuracy: 0.4954 - precision: 0.6443 - recall: 0.2020 - val_loss: 0.9827 - val_accuracy: 0.5068 - val_precision: 0.6653 - val_recall: 0.2278\n",
            "Epoch 21/30\n",
            "3405/3405 [==============================] - 143s 42ms/step - loss: 0.9903 - accuracy: 0.4919 - precision: 0.6393 - recall: 0.2108 - val_loss: 0.9839 - val_accuracy: 0.4928 - val_precision: 0.6340 - val_recall: 0.2415\n",
            "Epoch 22/30\n",
            "3405/3405 [==============================] - 144s 42ms/step - loss: 0.9918 - accuracy: 0.4979 - precision: 0.6397 - recall: 0.2105 - val_loss: 0.9814 - val_accuracy: 0.5028 - val_precision: 0.6491 - val_recall: 0.2418\n",
            "Epoch 23/30\n",
            "3405/3405 [==============================] - 146s 43ms/step - loss: 0.9861 - accuracy: 0.5010 - precision: 0.6459 - recall: 0.2137 - val_loss: 0.9801 - val_accuracy: 0.5153 - val_precision: 0.6706 - val_recall: 0.2217\n",
            "Epoch 24/30\n",
            "3405/3405 [==============================] - 145s 42ms/step - loss: 0.9933 - accuracy: 0.4985 - precision: 0.6507 - recall: 0.2139 - val_loss: 0.9795 - val_accuracy: 0.5121 - val_precision: 0.6656 - val_recall: 0.2332\n",
            "Epoch 25/30\n",
            "3405/3405 [==============================] - 160s 47ms/step - loss: 0.9855 - accuracy: 0.4981 - precision: 0.6510 - recall: 0.2112 - val_loss: 0.9805 - val_accuracy: 0.4908 - val_precision: 0.6394 - val_recall: 0.2468\n",
            "Epoch 26/30\n",
            "3405/3405 [==============================] - 147s 43ms/step - loss: 0.9863 - accuracy: 0.5012 - precision: 0.6454 - recall: 0.2094 - val_loss: 0.9736 - val_accuracy: 0.5162 - val_precision: 0.6717 - val_recall: 0.2292\n",
            "Epoch 27/30\n",
            "3405/3405 [==============================] - 145s 43ms/step - loss: 0.9826 - accuracy: 0.5027 - precision: 0.6536 - recall: 0.2164 - val_loss: 0.9760 - val_accuracy: 0.4963 - val_precision: 0.6585 - val_recall: 0.2276\n",
            "Epoch 28/30\n",
            "3405/3405 [==============================] - 144s 42ms/step - loss: 0.9808 - accuracy: 0.4997 - precision: 0.6512 - recall: 0.2144 - val_loss: 0.9777 - val_accuracy: 0.5031 - val_precision: 0.6521 - val_recall: 0.2419\n",
            "Epoch 29/30\n",
            "3405/3405 [==============================] - 158s 47ms/step - loss: 0.9817 - accuracy: 0.5025 - precision: 0.6489 - recall: 0.2102 - val_loss: 0.9684 - val_accuracy: 0.5028 - val_precision: 0.6759 - val_recall: 0.2278\n",
            "Epoch 30/30\n",
            "3405/3405 [==============================] - 155s 45ms/step - loss: 0.9796 - accuracy: 0.5005 - precision: 0.6525 - recall: 0.2155 - val_loss: 0.9651 - val_accuracy: 0.5181 - val_precision: 0.6701 - val_recall: 0.2340\n",
            "Duration: 1:15:38.187941\n"
          ]
        }
      ]
    },
    {
      "cell_type": "code",
      "source": [
        "#model.load_weights('weights.hdf5')"
      ],
      "metadata": {
        "id": "NO__e9k6nUbw"
      },
      "execution_count": null,
      "outputs": []
    },
    {
      "cell_type": "markdown",
      "source": [
        "# Save model"
      ],
      "metadata": {
        "id": "2J9PRSxBeKVG"
      }
    },
    {
      "cell_type": "code",
      "source": [
        "# Save the model architecture & the weights\n",
        "#model.save('w2v_ws_lstm.h5')\n",
        "#print('Best model saved')"
      ],
      "metadata": {
        "colab": {
          "base_uri": "https://localhost:8080/"
        },
        "id": "Zl9WvBU8eGJw",
        "outputId": "6c4edd70-5c41-46d7-a057-bcb5760cdd3e"
      },
      "execution_count": null,
      "outputs": [
        {
          "output_type": "stream",
          "name": "stdout",
          "text": [
            "Best model saved\n"
          ]
        }
      ]
    },
    {
      "cell_type": "code",
      "source": [
        "def plot_training_hist(history):\n",
        "    '''Function to plot history for accuracy and loss'''    \n",
        "    fig, ax = plt.subplots(1, 2, figsize=(10,4))\n",
        "    # first plot\n",
        "    ax[0].plot(history.history['accuracy'])\n",
        "    ax[0].plot(history.history['val_accuracy'])\n",
        "    ax[0].set_title('Model Accuracy')\n",
        "    ax[0].set_xlabel('epoch')\n",
        "    ax[0].set_ylabel('accuracy')\n",
        "    ax[0].legend(['train', 'validation'], loc='best')\n",
        "    # second plot\n",
        "    ax[1].plot(history.history['loss'])\n",
        "    ax[1].plot(history.history['val_loss'])\n",
        "    ax[1].set_title('Model Loss')\n",
        "    ax[1].set_xlabel('epoch')\n",
        "    ax[1].set_ylabel('loss')\n",
        "    ax[1].legend(['train', 'validation'], loc='best')\n",
        "    \n",
        "plot_training_hist(history)"
      ],
      "metadata": {
        "id": "-OdBkWCpe9pv",
        "colab": {
          "base_uri": "https://localhost:8080/",
          "height": 410
        },
        "outputId": "f4ee4e55-6b77-4044-a3c1-9d26fcd370b2"
      },
      "execution_count": 38,
      "outputs": [
        {
          "output_type": "display_data",
          "data": {
            "text/plain": [
              "<Figure size 1000x400 with 2 Axes>"
            ],
            "image/png": "[encoded data removed]"
          },
          "metadata": {}
        }
      ]
    },
    {
      "cell_type": "markdown",
      "source": [
        "epoch = 25"
      ],
      "metadata": {
        "id": "xLt4dhFr_GVr"
      }
    },
    {
      "cell_type": "markdown",
      "source": [
        "# Train Again from graph"
      ],
      "metadata": {
        "id": "9bpAorsEr8hs"
      }
    },
    {
      "cell_type": "code",
      "source": [
        "model = Sequential()\n",
        "model.add(embedding_layer)\n",
        "model.add(Dropout(0.1))\n",
        "model.add(LSTM(128, return_sequences=True))\n",
        "model.add(Dropout(0.1))\n",
        "#model.add(LTC(fc_wiring, return_sequences=True))\n",
        "#model.add(LSTM(128, return_sequences=True))\n",
        "#model.add(LTC(rnd_wiring))\n",
        "#model.add(LTC(fc_wiring, return_sequences=True))\n",
        "#model.add(Dropout(0.1))\n",
        "#model.add(LSTM(128))\n",
        "model.add(CfC(rnd_wiring))\n",
        "#model.add(LTC(rnd_wiring, return_sequences=True))\n",
        "model.add(Dropout(0.2))\n",
        "model.add(Dense(3, activation='softmax'))\n",
        "#model.add(LTC(rnd_wiring))\n",
        "\n",
        "model.compile(optimizer='adamax', loss='categorical_crossentropy', metrics=['accuracy', Precision(), Recall()])\n",
        "print(model.summary())"
      ],
      "metadata": {
        "colab": {
          "base_uri": "https://localhost:8080/"
        },
        "id": "eDuVavSpsD3d",
        "outputId": "631fabc5-cf73-4125-fa10-65dc111db9e2"
      },
      "execution_count": null,
      "outputs": [
        {
          "output_type": "stream",
          "name": "stdout",
          "text": [
            "Model: \"sequential_1\"\n",
            "_________________________________________________________________\n",
            " Layer (type)                Output Shape              Param #   \n",
            "=================================================================\n",
            " embedding (Embedding)       (None, 40, 100)           3107800   \n",
            "                                                                 \n",
            " dropout_3 (Dropout)         (None, 40, 100)           0         \n",
            "                                                                 \n",
            " lstm_1 (LSTM)               (None, 40, 128)           117248    \n",
            "                                                                 \n",
            " dropout_4 (Dropout)         (None, 40, 128)           0         \n",
            "                                                                 \n",
            " cf_c_1 (CfC)                (None, 3)                 4384      \n",
            "                                                                 \n",
            " dropout_5 (Dropout)         (None, 3)                 0         \n",
            "                                                                 \n",
            " dense_1 (Dense)             (None, 3)                 12        \n",
            "                                                                 \n",
            "=================================================================\n",
            "Total params: 3,229,444\n",
            "Trainable params: 121,644\n",
            "Non-trainable params: 3,107,800\n",
            "_________________________________________________________________\n",
            "None\n"
          ]
        }
      ]
    },
    {
      "cell_type": "code",
      "source": [
        "start_time = datetime.now()\n",
        "\n",
        "history = model.fit(X_train, y_train, validation_data=(X_val, y_val), epochs=7, batch_size=8)\n",
        "#callbacks=[checkpointer]\n",
        "\n",
        "#model.load_weights('weights.hdf5')\n",
        "\n",
        "end_time = datetime.now()\n",
        "print('Duration: {}'.format(end_time - start_time))"
      ],
      "metadata": {
        "colab": {
          "base_uri": "https://localhost:8080/"
        },
        "id": "HX04D70RsETZ",
        "outputId": "c4b8d9a4-ac28-4045-fb05-663d586a94a5"
      },
      "execution_count": null,
      "outputs": [
        {
          "output_type": "stream",
          "name": "stdout",
          "text": [
            "Epoch 1/7\n",
            "3405/3405 [==============================] - 140s 40ms/step - loss: 0.9743 - accuracy: 0.5180 - precision_1: 0.5999 - recall_1: 0.3004 - val_loss: 0.9166 - val_accuracy: 0.5619 - val_precision_1: 0.6345 - val_recall_1: 0.3723\n",
            "Epoch 2/7\n",
            "3405/3405 [==============================] - 143s 42ms/step - loss: 0.9133 - accuracy: 0.5545 - precision_1: 0.6298 - recall_1: 0.3672 - val_loss: 0.9021 - val_accuracy: 0.5525 - val_precision_1: 0.6058 - val_recall_1: 0.3885\n",
            "Epoch 3/7\n",
            "3405/3405 [==============================] - 144s 42ms/step - loss: 0.8815 - accuracy: 0.5753 - precision_1: 0.6523 - recall_1: 0.4091 - val_loss: 0.8766 - val_accuracy: 0.5743 - val_precision_1: 0.6272 - val_recall_1: 0.4551\n",
            "Epoch 4/7\n",
            "3405/3405 [==============================] - 135s 40ms/step - loss: 0.8421 - accuracy: 0.6039 - precision_1: 0.6719 - recall_1: 0.4504 - val_loss: 0.8588 - val_accuracy: 0.5840 - val_precision_1: 0.6281 - val_recall_1: 0.4766\n",
            "Epoch 5/7\n",
            "3405/3405 [==============================] - 134s 39ms/step - loss: 0.8145 - accuracy: 0.6205 - precision_1: 0.6886 - recall_1: 0.4820 - val_loss: 0.8558 - val_accuracy: 0.5862 - val_precision_1: 0.6309 - val_recall_1: 0.4783\n",
            "Epoch 6/7\n",
            "3405/3405 [==============================] - 133s 39ms/step - loss: 0.7915 - accuracy: 0.6342 - precision_1: 0.6982 - recall_1: 0.5063 - val_loss: 0.8520 - val_accuracy: 0.5941 - val_precision_1: 0.6388 - val_recall_1: 0.4922\n",
            "Epoch 7/7\n",
            "3405/3405 [==============================] - 133s 39ms/step - loss: 0.7670 - accuracy: 0.6468 - precision_1: 0.7121 - recall_1: 0.5325 - val_loss: 0.8518 - val_accuracy: 0.5906 - val_precision_1: 0.6297 - val_recall_1: 0.5099\n",
            "Duration: 0:16:25.274693\n"
          ]
        }
      ]
    },
    {
      "cell_type": "markdown",
      "source": [
        "# Evaluation"
      ],
      "metadata": {
        "id": "eMevlvowe1nZ"
      }
    },
    {
      "cell_type": "code",
      "source": [
        "def f1_score(precision, recall):\n",
        "    ''' Function to calculate f1 score '''\n",
        "    f1_val = 2*(precision*recall)/(precision+recall+K.epsilon())\n",
        "    return f1_val"
      ],
      "metadata": {
        "id": "bSnCB4aJe2jz"
      },
      "execution_count": 39,
      "outputs": []
    },
    {
      "cell_type": "code",
      "source": [
        "# Evaluate model on the test set\n",
        "loss, accuracy, precision, recall = model.evaluate(X_test, y_test, verbose=0)\n",
        "# Print metrics\n",
        "print('')\n",
        "print('Accuracy  : {:.4f}'.format(accuracy))\n",
        "print('Precision : {:.4f}'.format(precision))\n",
        "print('Recall    : {:.4f}'.format(recall))\n",
        "print('F1 Score  : {:.4f}'.format(f1_score(precision, recall)))"
      ],
      "metadata": {
        "id": "-cYm57Uie7nQ",
        "colab": {
          "base_uri": "https://localhost:8080/"
        },
        "outputId": "22cce789-f532-4eb2-a4b0-95ab35a90eff"
      },
      "execution_count": 40,
      "outputs": [
        {
          "output_type": "stream",
          "name": "stdout",
          "text": [
            "\n",
            "Accuracy  : 0.5050\n",
            "Precision : 0.7104\n",
            "Recall    : 0.2217\n",
            "F1 Score  : 0.3379\n"
          ]
        }
      ]
    },
    {
      "cell_type": "code",
      "source": [
        "from sklearn.metrics import confusion_matrix\n",
        "import seaborn as sns\n",
        "\n",
        "def plot_confusion_matrix(model, X_test, y_test):\n",
        "    '''Function to plot confusion matrix for the passed model and the data'''\n",
        "    \n",
        "    sentiment_classes = ['Positive', 'Neutral', 'Negative']\n",
        "    # use model to do the prediction\n",
        "    y_pred = model.predict(X_test)\n",
        "    # compute confusion matrix\n",
        "    cm = confusion_matrix(np.argmax(np.array(y_test),axis=1), np.argmax(y_pred, axis=1))\n",
        "    # plot confusion matrix\n",
        "    plt.figure(figsize=(8,6))\n",
        "    sns.heatmap(cm, cmap=plt.cm.Blues, annot=True, fmt='d', \n",
        "                xticklabels=sentiment_classes,\n",
        "                yticklabels=sentiment_classes)\n",
        "    plt.title('Confusion matrix', fontsize=16)\n",
        "    plt.xlabel('Predicted label', fontsize=12)\n",
        "    plt.ylabel('Actual label', fontsize=12)\n",
        "    \n",
        "plot_confusion_matrix(model, X_test, y_test)"
      ],
      "metadata": {
        "id": "9HkjfClNfBhy",
        "colab": {
          "base_uri": "https://localhost:8080/",
          "height": 587
        },
        "outputId": "19d52f52-5589-4c1d-9efa-85c79958aa2d"
      },
      "execution_count": null,
      "outputs": [
        {
          "output_type": "stream",
          "name": "stdout",
          "text": [
            "167/167 [==============================] - 1s 7ms/step\n"
          ]
        },
        {
          "output_type": "display_data",
          "data": {
            "text/plain": [
              "<Figure size 800x600 with 2 Axes>"
            ],
            "image/png": "[encoded data removed]"
          },
          "metadata": {}
        }
      ]
    },
    {
      "cell_type": "code",
      "source": [
        "from keras.models import load_model\n",
        "\n",
        "# Load model\n",
        "model = load_model('w2v_ws_lstm.h5')\n"
      ],
      "metadata": {
        "id": "7CxMSqKPp-fz",
        "colab": {
          "base_uri": "https://localhost:8080/"
        },
        "outputId": "dd01abf7-2068-4d82-dd65-4a17b37d4ae4"
      },
      "execution_count": null,
      "outputs": [
        {
          "output_type": "stream",
          "name": "stdout",
          "text": [
            "167/167 [==============================] - 14s 68ms/step\n"
          ]
        }
      ]
    },
    {
      "cell_type": "code",
      "source": [
        "y_pred = model.predict(X_test)\n",
        "y_pred_lst = np.argmax(np.array(y_pred),axis=1)"
      ],
      "metadata": {
        "id": "xf1Zd_xfz4N0",
        "colab": {
          "base_uri": "https://localhost:8080/"
        },
        "outputId": "f8e4473d-2fc6-479d-ec42-d0d9f7fc3d71"
      },
      "execution_count": null,
      "outputs": [
        {
          "output_type": "stream",
          "name": "stdout",
          "text": [
            "167/167 [==============================] - 1s 7ms/step\n"
          ]
        }
      ]
    },
    {
      "cell_type": "code",
      "source": [
        "# create y\n",
        "y = df['label']\n",
        "y.shape\n",
        "X_train, X_test, y_train, y_test = train_test_split(X, y, test_size=0.2, random_state=42)\n",
        "y_pred_lst = list(y_pred_lst)\n",
        "y_test = list(y_test.astype(int))"
      ],
      "metadata": {
        "id": "FyVq2Tvr03YN"
      },
      "execution_count": null,
      "outputs": []
    },
    {
      "cell_type": "code",
      "source": [
        "# Print the precision and recall, among other metrics\n",
        "from sklearn import metrics\n",
        "# Print the confusion matrix\n",
        "print(confusion_matrix(y_test, y_pred_lst))\n",
        "\n",
        "# Print the precision and recall, among other metrics\n",
        "print(metrics.classification_report(y_test, y_pred_lst, digits=3))"
      ],
      "metadata": {
        "id": "w5TmPFDRqHFY",
        "colab": {
          "base_uri": "https://localhost:8080/"
        },
        "outputId": "fde83687-49d1-44f0-9699-4ab005b26842"
      },
      "execution_count": null,
      "outputs": [
        {
          "output_type": "stream",
          "name": "stdout",
          "text": [
            "[[ 326  433  149]\n",
            " [ 671 1979  319]\n",
            " [ 163  634  649]]\n",
            "              precision    recall  f1-score   support\n",
            "\n",
            "           0      0.281     0.359     0.315       908\n",
            "           1      0.650     0.667     0.658      2969\n",
            "           2      0.581     0.449     0.506      1446\n",
            "\n",
            "    accuracy                          0.555      5323\n",
            "   macro avg      0.504     0.491     0.493      5323\n",
            "weighted avg      0.568     0.555     0.558      5323\n",
            "\n"
          ]
        }
      ]
    },
    {
      "cell_type": "markdown",
      "source": [
        "# Inference"
      ],
      "metadata": {
        "id": "OFzqvlqlfFLN"
      }
    },
    {
      "cell_type": "code",
      "source": [
        "from keras.models import load_model\n",
        "\n",
        "# Load model\n",
        "model = load_model('w2v_ws_lstm.h5')\n",
        "\n",
        "def predict_class(text):\n",
        "    '''Function to predict sentiment class of the passed text'''\n",
        "    \n",
        "    sentiment_classes = ['Positive', 'Neutral', 'Negative']\n",
        "    max_len=40\n",
        "    \n",
        "    # Transforms text to a sequence of integers using a tokenizer object\n",
        "    t = [text]\n",
        "    df2 = pd.DataFrame(list(t), columns = ['text'])\n",
        "    df2.loc[:,'text'] = df2.loc[:,'text'].map(word_tokenize)\n",
        "    # Pad sequences to the same length\n",
        "    X = pad_sequences(tokenizer.texts_to_sequences(df2.text), maxlen=40)\n",
        "    # Do the prediction using the loaded model\n",
        "    yt = model.predict(X).argmax(axis=1)\n",
        "    # Print the predicted sentiment\n",
        "    print('The predicted sentiment is', sentiment_classes[yt[0]])"
      ],
      "metadata": {
        "id": "xv0add7Alvu3"
      },
      "execution_count": null,
      "outputs": []
    },
    {
      "cell_type": "code",
      "source": [
        "predict_class('ดีครับ')"
      ],
      "metadata": {
        "colab": {
          "base_uri": "https://localhost:8080/"
        },
        "id": "W-yO6omwmAMM",
        "outputId": "17f4da37-9813-4fa4-9435-04ca4d8d43cc"
      },
      "execution_count": null,
      "outputs": [
        {
          "output_type": "stream",
          "name": "stdout",
          "text": [
            "1/1 [==============================] - 3s 3s/step\n",
            "The predicted sentiment is Positive\n"
          ]
        }
      ]
    },
    {
      "cell_type": "code",
      "source": [
        "predict_class('ลุงตู่')"
      ],
      "metadata": {
        "colab": {
          "base_uri": "https://localhost:8080/"
        },
        "id": "Io4pSY7KjWU2",
        "outputId": "e811f9eb-df00-47ef-91ca-f50ec9ccd4d3"
      },
      "execution_count": null,
      "outputs": [
        {
          "output_type": "stream",
          "name": "stdout",
          "text": [
            "1/1 [==============================] - 0s 28ms/step\n",
            "The predicted sentiment is Neutral\n"
          ]
        }
      ]
    },
    {
      "cell_type": "code",
      "source": [
        "predict_class('ไอ้ส้นตีน')"
      ],
      "metadata": {
        "colab": {
          "base_uri": "https://localhost:8080/"
        },
        "id": "hS7jg8gWmJpk",
        "outputId": "65b6a74e-cdbd-4369-c9cb-0b91f0e2c595"
      },
      "execution_count": null,
      "outputs": [
        {
          "output_type": "stream",
          "name": "stdout",
          "text": [
            "1/1 [==============================] - 0s 45ms/step\n",
            "The predicted sentiment is Positive\n"
          ]
        }
      ]
    },
    {
      "cell_type": "code",
      "source": [
        "predict_class('สวัสดีวันจันทร์')"
      ],
      "metadata": {
        "colab": {
          "base_uri": "https://localhost:8080/"
        },
        "id": "Re5QShaKmLLs",
        "outputId": "e064d8a9-f1e3-4a63-a5a4-90c760fb03b8"
      },
      "execution_count": null,
      "outputs": [
        {
          "output_type": "stream",
          "name": "stdout",
          "text": [
            "1/1 [==============================] - 0s 48ms/step\n",
            "The predicted sentiment is Neutral\n"
          ]
        }
      ]
    },
    {
      "cell_type": "code",
      "source": [],
      "metadata": {
        "id": "cCvW3XqFm396"
      },
      "execution_count": null,
      "outputs": []
    }
  ]
}
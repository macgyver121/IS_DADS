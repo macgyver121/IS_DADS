{
  "nbformat": 4,
  "nbformat_minor": 0,
  "metadata": {
    "colab": {
      "provenance": [],
      "collapsed_sections": [
        "PGMx8EEB70G5",
        "V1MXcWzn7-Gq",
        "WDq4evdR8bmc",
        "DRMdQ7Co9ZIe"
      ],
      "authorship_tag": "ABX9TyM10SM3PiKvi8xAMCHczKz3",
      "include_colab_link": true
    },
    "kernelspec": {
      "name": "python3",
      "display_name": "Python 3"
    },
    "language_info": {
      "name": "python"
    }
  },
  "cells": [
    {
      "cell_type": "markdown",
      "metadata": {
        "id": "view-in-github",
        "colab_type": "text"
      },
      "source": [
        "<a href=\"https://colab.research.google.com/github/macgyver121/IS_DADS/blob/main/word2vec%2BNCP%2BLSTM_arch_acc6145.ipynb\" target=\"_parent\"><img src=\"https://colab.research.google.com/assets/colab-badge.svg\" alt=\"Open In Colab\"/></a>"
      ]
    },
    {
      "cell_type": "markdown",
      "source": [
        "https://github.com/mlech26l/keras-ncp/"
      ],
      "metadata": {
        "id": "BDp8mHGqUBxm"
      }
    },
    {
      "cell_type": "markdown",
      "source": [
        "# Install Library"
      ],
      "metadata": {
        "id": "PGMx8EEB70G5"
      }
    },
    {
      "cell_type": "code",
      "execution_count": 1,
      "metadata": {
        "id": "RcmZmvrxT_Y7",
        "colab": {
          "base_uri": "https://localhost:8080/"
        },
        "outputId": "9c62e4b9-52d3-41e9-f722-faee89b99274"
      },
      "outputs": [
        {
          "output_type": "stream",
          "name": "stdout",
          "text": [
            "Looking in indexes: https://pypi.org/simple, https://us-python.pkg.dev/colab-wheels/public/simple/\n",
            "Collecting pythainlp\n",
            "  Downloading pythainlp-4.0.1-py3-none-any.whl (13.4 MB)\n",
            "\u001b[2K     \u001b[90m━━━━━━━━━━━━━━━━━━━━━━━━━━━━━━━━━━━━━━━━\u001b[0m \u001b[32m13.4/13.4 MB\u001b[0m \u001b[31m43.5 MB/s\u001b[0m eta \u001b[36m0:00:00\u001b[0m\n",
            "\u001b[?25hRequirement already satisfied: requests>=2.22.0 in /usr/local/lib/python3.10/dist-packages (from pythainlp) (2.27.1)\n",
            "Requirement already satisfied: urllib3<1.27,>=1.21.1 in /usr/local/lib/python3.10/dist-packages (from requests>=2.22.0->pythainlp) (1.26.15)\n",
            "Requirement already satisfied: certifi>=2017.4.17 in /usr/local/lib/python3.10/dist-packages (from requests>=2.22.0->pythainlp) (2022.12.7)\n",
            "Requirement already satisfied: charset-normalizer~=2.0.0 in /usr/local/lib/python3.10/dist-packages (from requests>=2.22.0->pythainlp) (2.0.12)\n",
            "Requirement already satisfied: idna<4,>=2.5 in /usr/local/lib/python3.10/dist-packages (from requests>=2.22.0->pythainlp) (3.4)\n",
            "Installing collected packages: pythainlp\n",
            "Successfully installed pythainlp-4.0.1\n"
          ]
        }
      ],
      "source": [
        "pip install pythainlp"
      ]
    },
    {
      "cell_type": "code",
      "source": [
        "pip install emoji"
      ],
      "metadata": {
        "colab": {
          "base_uri": "https://localhost:8080/"
        },
        "id": "lYnrODjY72m8",
        "outputId": "09a93a39-e234-4280-ce1c-905e9b74bd58"
      },
      "execution_count": 2,
      "outputs": [
        {
          "output_type": "stream",
          "name": "stdout",
          "text": [
            "Looking in indexes: https://pypi.org/simple, https://us-python.pkg.dev/colab-wheels/public/simple/\n",
            "Collecting emoji\n",
            "  Downloading emoji-2.2.0.tar.gz (240 kB)\n",
            "\u001b[2K     \u001b[90m━━━━━━━━━━━━━━━━━━━━━━━━━━━━━━━━━━━━━━━\u001b[0m \u001b[32m240.9/240.9 kB\u001b[0m \u001b[31m6.4 MB/s\u001b[0m eta \u001b[36m0:00:00\u001b[0m\n",
            "\u001b[?25h  Preparing metadata (setup.py) ... \u001b[?25l\u001b[?25hdone\n",
            "Building wheels for collected packages: emoji\n",
            "  Building wheel for emoji (setup.py) ... \u001b[?25l\u001b[?25hdone\n",
            "  Created wheel for emoji: filename=emoji-2.2.0-py3-none-any.whl size=234911 sha256=7147e57ece7589eb2102a8b885672ac7b38fa362975af74502198ec088bf96bc\n",
            "  Stored in directory: /root/.cache/pip/wheels/02/3d/88/51a592b9ad17e7899126563698b4e3961983ebe85747228ba6\n",
            "Successfully built emoji\n",
            "Installing collected packages: emoji\n",
            "Successfully installed emoji-2.2.0\n"
          ]
        }
      ]
    },
    {
      "cell_type": "code",
      "source": [
        "!pip install gensim"
      ],
      "metadata": {
        "colab": {
          "base_uri": "https://localhost:8080/"
        },
        "id": "xVmUezHi739T",
        "outputId": "84099665-0b4f-4034-e952-eaf5e418c051"
      },
      "execution_count": 3,
      "outputs": [
        {
          "output_type": "stream",
          "name": "stdout",
          "text": [
            "Looking in indexes: https://pypi.org/simple, https://us-python.pkg.dev/colab-wheels/public/simple/\n",
            "Requirement already satisfied: gensim in /usr/local/lib/python3.10/dist-packages (4.3.1)\n",
            "Requirement already satisfied: numpy>=1.18.5 in /usr/local/lib/python3.10/dist-packages (from gensim) (1.22.4)\n",
            "Requirement already satisfied: scipy>=1.7.0 in /usr/local/lib/python3.10/dist-packages (from gensim) (1.10.1)\n",
            "Requirement already satisfied: smart-open>=1.8.1 in /usr/local/lib/python3.10/dist-packages (from gensim) (6.3.0)\n"
          ]
        }
      ]
    },
    {
      "cell_type": "code",
      "source": [
        "import pandas as pd\n",
        "import numpy as np\n",
        "import re\n",
        "import emoji\n",
        "\n",
        "from pythainlp.tokenize import word_tokenize\n",
        "from keras.preprocessing.text import Tokenizer\n",
        "from keras.utils import pad_sequences\n",
        "\n",
        "from gensim.test.utils import common_texts\n",
        "from gensim.models import Word2Vec\n",
        "\n",
        "from keras.layers import Embedding\n",
        "from keras.models import Sequential\n",
        "from keras.layers import LSTM, Dense, Dropout, Bidirectional, Reshape\n",
        "from keras.metrics import Precision, Recall\n",
        "from keras.callbacks import History\n",
        "\n",
        "import tensorflow as tf\n",
        "\n",
        "from sklearn.model_selection import train_test_split\n",
        "from imblearn.over_sampling import SMOTE\n",
        "\n",
        "import matplotlib.pyplot as plt\n",
        "\n",
        "from datetime import datetime\n",
        "from keras import callbacks\n",
        "\n",
        "import keras.backend as K"
      ],
      "metadata": {
        "id": "vygu6kov75g1"
      },
      "execution_count": 4,
      "outputs": []
    },
    {
      "cell_type": "markdown",
      "source": [
        "# Import file"
      ],
      "metadata": {
        "id": "V1MXcWzn7-Gq"
      }
    },
    {
      "cell_type": "code",
      "source": [
        "from google.colab import drive\n",
        "drive.mount('/content/drive')"
      ],
      "metadata": {
        "colab": {
          "base_uri": "https://localhost:8080/"
        },
        "id": "pVPsZ7Q978LQ",
        "outputId": "e592ad14-5f4b-4605-c564-f66f7a946fb3"
      },
      "execution_count": 5,
      "outputs": [
        {
          "output_type": "stream",
          "name": "stdout",
          "text": [
            "Mounted at /content/drive\n"
          ]
        }
      ]
    },
    {
      "cell_type": "code",
      "source": [
        "# import csv file\n",
        "df = pd.read_csv('/content/drive/MyDrive/data_all.csv', delimiter=',')"
      ],
      "metadata": {
        "id": "tG88Wq-I8BQm"
      },
      "execution_count": 6,
      "outputs": []
    },
    {
      "cell_type": "code",
      "source": [
        "df.loc[:,'text'] = df.loc[:,'text'].map(word_tokenize)"
      ],
      "metadata": {
        "id": "Cdff_kar8Hxi"
      },
      "execution_count": 7,
      "outputs": []
    },
    {
      "cell_type": "code",
      "source": [
        "df"
      ],
      "metadata": {
        "colab": {
          "base_uri": "https://localhost:8080/",
          "height": 0
        },
        "id": "0MMkbvBR8IB3",
        "outputId": "113a463e-78a6-46c6-da61-0f699f70656f"
      },
      "execution_count": 8,
      "outputs": [
        {
          "output_type": "execute_result",
          "data": {
            "text/plain": [
              "       label                                   text\n",
              "0        1.0                                    [1]\n",
              "1        1.0                               [สวัสดี]\n",
              "2        1.0             [อรุณสวัสดิ์,  , ดู, ข่าว]\n",
              "3        1.0                            [D,  , jai]\n",
              "4        1.0                       [สวัสดี, ชาวโลก]\n",
              "...      ...                                    ...\n",
              "11954    1.0    [จุดแข็ง, หัว,  , จุดอ่อน, ที่อยู่]\n",
              "11955    1.0                                     []\n",
              "11956    1.0  [เจอ, ไฟไหม้,  , โทร, แจ้ง,  , เบอร์]\n",
              "11957    0.0                         [แม่, ง, เก่ง]\n",
              "11958    1.0                                  [งัว]\n",
              "\n",
              "[11959 rows x 2 columns]"
            ],
            "text/html": [
              "\n",
              "  <div id=\"df-13b3bddf-2d0f-4090-b95b-bc4853fb0d6b\">\n",
              "    <div class=\"colab-df-container\">\n",
              "      <div>\n",
              "<style scoped>\n",
              "    .dataframe tbody tr th:only-of-type {\n",
              "        vertical-align: middle;\n",
              "    }\n",
              "\n",
              "    .dataframe tbody tr th {\n",
              "        vertical-align: top;\n",
              "    }\n",
              "\n",
              "    .dataframe thead th {\n",
              "        text-align: right;\n",
              "    }\n",
              "</style>\n",
              "<table border=\"1\" class=\"dataframe\">\n",
              "  <thead>\n",
              "    <tr style=\"text-align: right;\">\n",
              "      <th></th>\n",
              "      <th>label</th>\n",
              "      <th>text</th>\n",
              "    </tr>\n",
              "  </thead>\n",
              "  <tbody>\n",
              "    <tr>\n",
              "      <th>0</th>\n",
              "      <td>1.0</td>\n",
              "      <td>[1]</td>\n",
              "    </tr>\n",
              "    <tr>\n",
              "      <th>1</th>\n",
              "      <td>1.0</td>\n",
              "      <td>[สวัสดี]</td>\n",
              "    </tr>\n",
              "    <tr>\n",
              "      <th>2</th>\n",
              "      <td>1.0</td>\n",
              "      <td>[อรุณสวัสดิ์,  , ดู, ข่าว]</td>\n",
              "    </tr>\n",
              "    <tr>\n",
              "      <th>3</th>\n",
              "      <td>1.0</td>\n",
              "      <td>[D,  , jai]</td>\n",
              "    </tr>\n",
              "    <tr>\n",
              "      <th>4</th>\n",
              "      <td>1.0</td>\n",
              "      <td>[สวัสดี, ชาวโลก]</td>\n",
              "    </tr>\n",
              "    <tr>\n",
              "      <th>...</th>\n",
              "      <td>...</td>\n",
              "      <td>...</td>\n",
              "    </tr>\n",
              "    <tr>\n",
              "      <th>11954</th>\n",
              "      <td>1.0</td>\n",
              "      <td>[จุดแข็ง, หัว,  , จุดอ่อน, ที่อยู่]</td>\n",
              "    </tr>\n",
              "    <tr>\n",
              "      <th>11955</th>\n",
              "      <td>1.0</td>\n",
              "      <td>[]</td>\n",
              "    </tr>\n",
              "    <tr>\n",
              "      <th>11956</th>\n",
              "      <td>1.0</td>\n",
              "      <td>[เจอ, ไฟไหม้,  , โทร, แจ้ง,  , เบอร์]</td>\n",
              "    </tr>\n",
              "    <tr>\n",
              "      <th>11957</th>\n",
              "      <td>0.0</td>\n",
              "      <td>[แม่, ง, เก่ง]</td>\n",
              "    </tr>\n",
              "    <tr>\n",
              "      <th>11958</th>\n",
              "      <td>1.0</td>\n",
              "      <td>[งัว]</td>\n",
              "    </tr>\n",
              "  </tbody>\n",
              "</table>\n",
              "<p>11959 rows × 2 columns</p>\n",
              "</div>\n",
              "      <button class=\"colab-df-convert\" onclick=\"convertToInteractive('df-13b3bddf-2d0f-4090-b95b-bc4853fb0d6b')\"\n",
              "              title=\"Convert this dataframe to an interactive table.\"\n",
              "              style=\"display:none;\">\n",
              "        \n",
              "  <svg xmlns=\"http://www.w3.org/2000/svg\" height=\"24px\"viewBox=\"0 0 24 24\"\n",
              "       width=\"24px\">\n",
              "    <path d=\"M0 0h24v24H0V0z\" fill=\"none\"/>\n",
              "    <path d=\"M18.56 5.44l.94 2.06.94-2.06 2.06-.94-2.06-.94-.94-2.06-.94 2.06-2.06.94zm-11 1L8.5 8.5l.94-2.06 2.06-.94-2.06-.94L8.5 2.5l-.94 2.06-2.06.94zm10 10l.94 2.06.94-2.06 2.06-.94-2.06-.94-.94-2.06-.94 2.06-2.06.94z\"/><path d=\"M17.41 7.96l-1.37-1.37c-.4-.4-.92-.59-1.43-.59-.52 0-1.04.2-1.43.59L10.3 9.45l-7.72 7.72c-.78.78-.78 2.05 0 2.83L4 21.41c.39.39.9.59 1.41.59.51 0 1.02-.2 1.41-.59l7.78-7.78 2.81-2.81c.8-.78.8-2.07 0-2.86zM5.41 20L4 18.59l7.72-7.72 1.47 1.35L5.41 20z\"/>\n",
              "  </svg>\n",
              "      </button>\n",
              "      \n",
              "  <style>\n",
              "    .colab-df-container {\n",
              "      display:flex;\n",
              "      flex-wrap:wrap;\n",
              "      gap: 12px;\n",
              "    }\n",
              "\n",
              "    .colab-df-convert {\n",
              "      background-color: #E8F0FE;\n",
              "      border: none;\n",
              "      border-radius: 50%;\n",
              "      cursor: pointer;\n",
              "      display: none;\n",
              "      fill: #1967D2;\n",
              "      height: 32px;\n",
              "      padding: 0 0 0 0;\n",
              "      width: 32px;\n",
              "    }\n",
              "\n",
              "    .colab-df-convert:hover {\n",
              "      background-color: #E2EBFA;\n",
              "      box-shadow: 0px 1px 2px rgba(60, 64, 67, 0.3), 0px 1px 3px 1px rgba(60, 64, 67, 0.15);\n",
              "      fill: #174EA6;\n",
              "    }\n",
              "\n",
              "    [theme=dark] .colab-df-convert {\n",
              "      background-color: #3B4455;\n",
              "      fill: #D2E3FC;\n",
              "    }\n",
              "\n",
              "    [theme=dark] .colab-df-convert:hover {\n",
              "      background-color: #434B5C;\n",
              "      box-shadow: 0px 1px 3px 1px rgba(0, 0, 0, 0.15);\n",
              "      filter: drop-shadow(0px 1px 2px rgba(0, 0, 0, 0.3));\n",
              "      fill: #FFFFFF;\n",
              "    }\n",
              "  </style>\n",
              "\n",
              "      <script>\n",
              "        const buttonEl =\n",
              "          document.querySelector('#df-13b3bddf-2d0f-4090-b95b-bc4853fb0d6b button.colab-df-convert');\n",
              "        buttonEl.style.display =\n",
              "          google.colab.kernel.accessAllowed ? 'block' : 'none';\n",
              "\n",
              "        async function convertToInteractive(key) {\n",
              "          const element = document.querySelector('#df-13b3bddf-2d0f-4090-b95b-bc4853fb0d6b');\n",
              "          const dataTable =\n",
              "            await google.colab.kernel.invokeFunction('convertToInteractive',\n",
              "                                                     [key], {});\n",
              "          if (!dataTable) return;\n",
              "\n",
              "          const docLinkHtml = 'Like what you see? Visit the ' +\n",
              "            '<a target=\"_blank\" href=https://colab.research.google.com/notebooks/data_table.ipynb>data table notebook</a>'\n",
              "            + ' to learn more about interactive tables.';\n",
              "          element.innerHTML = '';\n",
              "          dataTable['output_type'] = 'display_data';\n",
              "          await google.colab.output.renderOutput(dataTable, element);\n",
              "          const docLink = document.createElement('div');\n",
              "          docLink.innerHTML = docLinkHtml;\n",
              "          element.appendChild(docLink);\n",
              "        }\n",
              "      </script>\n",
              "    </div>\n",
              "  </div>\n",
              "  "
            ]
          },
          "metadata": {},
          "execution_count": 8
        }
      ]
    },
    {
      "cell_type": "markdown",
      "source": [
        "## create list of text"
      ],
      "metadata": {
        "id": "NhkpqUyr8PSs"
      }
    },
    {
      "cell_type": "code",
      "source": [
        "sent = [row for row in df['text']]"
      ],
      "metadata": {
        "id": "dDWK9iR08Lis"
      },
      "execution_count": 9,
      "outputs": []
    },
    {
      "cell_type": "code",
      "source": [
        "# Average String lengths in list\n",
        "# using map() + sum() + len()\n",
        "res = sum(map(len, sent))/float(len(sent))\n",
        " \n",
        "# printing result\n",
        "print(\"The Average length of String in list is : \" + str(res))"
      ],
      "metadata": {
        "colab": {
          "base_uri": "https://localhost:8080/"
        },
        "id": "csqXJJng8Rxq",
        "outputId": "c1104ee7-0ca5-4c5e-de76-cdc14c9afaf3"
      },
      "execution_count": 10,
      "outputs": [
        {
          "output_type": "stream",
          "name": "stdout",
          "text": [
            "The Average length of String in list is : 5.186804916799064\n"
          ]
        }
      ]
    },
    {
      "cell_type": "markdown",
      "source": [
        "## Tokenize and pad sequence"
      ],
      "metadata": {
        "id": "ADbLN7KZ8VUA"
      }
    },
    {
      "cell_type": "code",
      "source": [
        "tokenizer = Tokenizer()\n",
        "tokenizer.fit_on_texts(df.text)"
      ],
      "metadata": {
        "id": "kdOR5JnE8Tvu"
      },
      "execution_count": 11,
      "outputs": []
    },
    {
      "cell_type": "code",
      "source": [
        "# create X\n",
        "X = pad_sequences(tokenizer.texts_to_sequences(df.text), maxlen=20)\n",
        "X"
      ],
      "metadata": {
        "colab": {
          "base_uri": "https://localhost:8080/"
        },
        "id": "OO7W89Ep8XGX",
        "outputId": "e70131e7-32df-4d95-fda7-d498db5c9664"
      },
      "execution_count": 12,
      "outputs": [
        {
          "output_type": "execute_result",
          "data": {
            "text/plain": [
              "array([[   0,    0,    0, ...,    0,    0,  133],\n",
              "       [   0,    0,    0, ...,    0,    0,   39],\n",
              "       [   0,    0,    0, ...,    1,   25,   20],\n",
              "       ...,\n",
              "       [   0,    0,    0, ...,  692,    1,  891],\n",
              "       [   0,    0,    0, ...,   19,   71,   41],\n",
              "       [   0,    0,    0, ...,    0,    0, 3979]], dtype=int32)"
            ]
          },
          "metadata": {},
          "execution_count": 12
        }
      ]
    },
    {
      "cell_type": "code",
      "source": [
        "# create y\n",
        "y = df['label']\n",
        "y.shape"
      ],
      "metadata": {
        "colab": {
          "base_uri": "https://localhost:8080/"
        },
        "id": "vJth1wsJ8YVU",
        "outputId": "9b5e0e50-00d8-45a2-bbfc-aa99e96033c2"
      },
      "execution_count": 13,
      "outputs": [
        {
          "output_type": "execute_result",
          "data": {
            "text/plain": [
              "(11959,)"
            ]
          },
          "metadata": {},
          "execution_count": 13
        }
      ]
    },
    {
      "cell_type": "markdown",
      "source": [
        "# Load Word2Vec(TNCc5model)"
      ],
      "metadata": {
        "id": "WDq4evdR8bmc"
      }
    },
    {
      "cell_type": "code",
      "source": [
        "# load pretrained model\n",
        "model = Word2Vec.load(\"http://www.arts.chula.ac.th/ling/wp-content/uploads/TNCc5model.bin\") "
      ],
      "metadata": {
        "id": "O8VbwUNd8Zwm"
      },
      "execution_count": 14,
      "outputs": []
    },
    {
      "cell_type": "code",
      "source": [
        "# create vocab_size, embedding_dim and embedding_matrix\n",
        "vocab_size = len(model.wv)\n",
        "embedding_dim = model.vector_size\n",
        "embedding_matrix = np.zeros((vocab_size, embedding_dim))"
      ],
      "metadata": {
        "id": "untzcuJx8efA"
      },
      "execution_count": 15,
      "outputs": []
    },
    {
      "cell_type": "code",
      "source": [
        "for i, word in enumerate(model.wv):\n",
        "    embedding_matrix[i] = word"
      ],
      "metadata": {
        "id": "lYLSM-WA8g0i",
        "colab": {
          "base_uri": "https://localhost:8080/",
          "height": 328
        },
        "outputId": "38008452-ed8a-4018-e764-980291ca9ed8"
      },
      "execution_count": 16,
      "outputs": [
        {
          "output_type": "error",
          "ename": "KeyError",
          "evalue": "ignored",
          "traceback": [
            "\u001b[0;31m---------------------------------------------------------------------------\u001b[0m",
            "\u001b[0;31mKeyError\u001b[0m                                  Traceback (most recent call last)",
            "\u001b[0;32m<ipython-input-16-b54ef729434b>\u001b[0m in \u001b[0;36m<cell line: 1>\u001b[0;34m()\u001b[0m\n\u001b[0;32m----> 1\u001b[0;31m \u001b[0;32mfor\u001b[0m \u001b[0mi\u001b[0m\u001b[0;34m,\u001b[0m \u001b[0mword\u001b[0m \u001b[0;32min\u001b[0m \u001b[0menumerate\u001b[0m\u001b[0;34m(\u001b[0m\u001b[0mmodel\u001b[0m\u001b[0;34m.\u001b[0m\u001b[0mwv\u001b[0m\u001b[0;34m)\u001b[0m\u001b[0;34m:\u001b[0m\u001b[0;34m\u001b[0m\u001b[0;34m\u001b[0m\u001b[0m\n\u001b[0m\u001b[1;32m      2\u001b[0m     \u001b[0membedding_matrix\u001b[0m\u001b[0;34m[\u001b[0m\u001b[0mi\u001b[0m\u001b[0;34m]\u001b[0m \u001b[0;34m=\u001b[0m \u001b[0mword\u001b[0m\u001b[0;34m\u001b[0m\u001b[0;34m\u001b[0m\u001b[0m\n",
            "\u001b[0;32m/usr/local/lib/python3.10/dist-packages/gensim/models/keyedvectors.py\u001b[0m in \u001b[0;36m__getitem__\u001b[0;34m(self, key_or_keys)\u001b[0m\n\u001b[1;32m    401\u001b[0m         \"\"\"\n\u001b[1;32m    402\u001b[0m         \u001b[0;32mif\u001b[0m \u001b[0misinstance\u001b[0m\u001b[0;34m(\u001b[0m\u001b[0mkey_or_keys\u001b[0m\u001b[0;34m,\u001b[0m \u001b[0m_KEY_TYPES\u001b[0m\u001b[0;34m)\u001b[0m\u001b[0;34m:\u001b[0m\u001b[0;34m\u001b[0m\u001b[0;34m\u001b[0m\u001b[0m\n\u001b[0;32m--> 403\u001b[0;31m             \u001b[0;32mreturn\u001b[0m \u001b[0mself\u001b[0m\u001b[0;34m.\u001b[0m\u001b[0mget_vector\u001b[0m\u001b[0;34m(\u001b[0m\u001b[0mkey_or_keys\u001b[0m\u001b[0;34m)\u001b[0m\u001b[0;34m\u001b[0m\u001b[0;34m\u001b[0m\u001b[0m\n\u001b[0m\u001b[1;32m    404\u001b[0m \u001b[0;34m\u001b[0m\u001b[0m\n\u001b[1;32m    405\u001b[0m         \u001b[0;32mreturn\u001b[0m \u001b[0mvstack\u001b[0m\u001b[0;34m(\u001b[0m\u001b[0;34m[\u001b[0m\u001b[0mself\u001b[0m\u001b[0;34m.\u001b[0m\u001b[0mget_vector\u001b[0m\u001b[0;34m(\u001b[0m\u001b[0mkey\u001b[0m\u001b[0;34m)\u001b[0m \u001b[0;32mfor\u001b[0m \u001b[0mkey\u001b[0m \u001b[0;32min\u001b[0m \u001b[0mkey_or_keys\u001b[0m\u001b[0;34m]\u001b[0m\u001b[0;34m)\u001b[0m\u001b[0;34m\u001b[0m\u001b[0;34m\u001b[0m\u001b[0m\n",
            "\u001b[0;32m/usr/local/lib/python3.10/dist-packages/gensim/models/keyedvectors.py\u001b[0m in \u001b[0;36mget_vector\u001b[0;34m(self, key, norm)\u001b[0m\n\u001b[1;32m    444\u001b[0m \u001b[0;34m\u001b[0m\u001b[0m\n\u001b[1;32m    445\u001b[0m         \"\"\"\n\u001b[0;32m--> 446\u001b[0;31m         \u001b[0mindex\u001b[0m \u001b[0;34m=\u001b[0m \u001b[0mself\u001b[0m\u001b[0;34m.\u001b[0m\u001b[0mget_index\u001b[0m\u001b[0;34m(\u001b[0m\u001b[0mkey\u001b[0m\u001b[0;34m)\u001b[0m\u001b[0;34m\u001b[0m\u001b[0;34m\u001b[0m\u001b[0m\n\u001b[0m\u001b[1;32m    447\u001b[0m         \u001b[0;32mif\u001b[0m \u001b[0mnorm\u001b[0m\u001b[0;34m:\u001b[0m\u001b[0;34m\u001b[0m\u001b[0;34m\u001b[0m\u001b[0m\n\u001b[1;32m    448\u001b[0m             \u001b[0mself\u001b[0m\u001b[0;34m.\u001b[0m\u001b[0mfill_norms\u001b[0m\u001b[0;34m(\u001b[0m\u001b[0;34m)\u001b[0m\u001b[0;34m\u001b[0m\u001b[0;34m\u001b[0m\u001b[0m\n",
            "\u001b[0;32m/usr/local/lib/python3.10/dist-packages/gensim/models/keyedvectors.py\u001b[0m in \u001b[0;36mget_index\u001b[0;34m(self, key, default)\u001b[0m\n\u001b[1;32m    418\u001b[0m             \u001b[0;32mreturn\u001b[0m \u001b[0mdefault\u001b[0m\u001b[0;34m\u001b[0m\u001b[0;34m\u001b[0m\u001b[0m\n\u001b[1;32m    419\u001b[0m         \u001b[0;32melse\u001b[0m\u001b[0;34m:\u001b[0m\u001b[0;34m\u001b[0m\u001b[0;34m\u001b[0m\u001b[0m\n\u001b[0;32m--> 420\u001b[0;31m             \u001b[0;32mraise\u001b[0m \u001b[0mKeyError\u001b[0m\u001b[0;34m(\u001b[0m\u001b[0;34mf\"Key '{key}' not present\"\u001b[0m\u001b[0;34m)\u001b[0m\u001b[0;34m\u001b[0m\u001b[0;34m\u001b[0m\u001b[0m\n\u001b[0m\u001b[1;32m    421\u001b[0m \u001b[0;34m\u001b[0m\u001b[0m\n\u001b[1;32m    422\u001b[0m     \u001b[0;32mdef\u001b[0m \u001b[0mget_vector\u001b[0m\u001b[0;34m(\u001b[0m\u001b[0mself\u001b[0m\u001b[0;34m,\u001b[0m \u001b[0mkey\u001b[0m\u001b[0;34m,\u001b[0m \u001b[0mnorm\u001b[0m\u001b[0;34m=\u001b[0m\u001b[0;32mFalse\u001b[0m\u001b[0;34m)\u001b[0m\u001b[0;34m:\u001b[0m\u001b[0;34m\u001b[0m\u001b[0;34m\u001b[0m\u001b[0m\n",
            "\u001b[0;31mKeyError\u001b[0m: \"Key '31078' not present\""
          ]
        }
      ]
    },
    {
      "cell_type": "code",
      "source": [
        "embedding_matrix[31077]"
      ],
      "metadata": {
        "colab": {
          "base_uri": "https://localhost:8080/"
        },
        "id": "0G-7agqL8iF7",
        "outputId": "0ea7c548-81f8-4049-c622-2c56de0a2c0d"
      },
      "execution_count": 17,
      "outputs": [
        {
          "output_type": "execute_result",
          "data": {
            "text/plain": [
              "array([-0.08747477, -0.03003867,  0.0696032 ,  0.03697103, -0.04840473,\n",
              "        0.04570374,  0.08035568,  0.09319719,  0.0328302 ,  0.0205396 ,\n",
              "        0.05725439,  0.07493409, -0.05307385,  0.06657625,  0.02432919,\n",
              "       -0.01523621, -0.03918364,  0.00505913,  0.09474613,  0.07713508,\n",
              "        0.01310679,  0.01618158,  0.03159253, -0.05961249, -0.00540888,\n",
              "        0.01102536,  0.03336877, -0.09733387, -0.0455462 ,  0.00984617,\n",
              "        0.0461374 ,  0.04063138, -0.01614906,  0.02336541, -0.05779864,\n",
              "       -0.01610914, -0.09162895, -0.06487005, -0.01570138,  0.01779037,\n",
              "       -0.01921744, -0.01817694,  0.12782034,  0.0127709 , -0.00602525,\n",
              "       -0.03969072,  0.01731815,  0.00555995,  0.04609034,  0.05480786,\n",
              "        0.05582551, -0.02981856, -0.01753935, -0.03173018,  0.03811059,\n",
              "        0.08742324, -0.03593688, -0.08428604,  0.00821297, -0.03246153,\n",
              "       -0.04117111,  0.11976431, -0.02667627, -0.03977206, -0.01023334,\n",
              "        0.09782189,  0.02933291, -0.05686831,  0.0734435 , -0.03232438,\n",
              "        0.03366319,  0.02777745, -0.01323282,  0.04059448,  0.01851271,\n",
              "        0.02541859, -0.01944041, -0.00204206, -0.02037049,  0.09079952,\n",
              "        0.06050802, -0.0402979 ,  0.06670228,  0.09467505, -0.00335809,\n",
              "       -0.01529406, -0.05300978, -0.00702781, -0.0264109 , -0.04785226,\n",
              "        0.07884577,  0.05271694, -0.05227912, -0.06690811,  0.03541892,\n",
              "       -0.03044322,  0.03644468, -0.03583029,  0.00813333,  0.00560054])"
            ]
          },
          "metadata": {},
          "execution_count": 17
        }
      ]
    },
    {
      "cell_type": "markdown",
      "source": [
        "# Create model"
      ],
      "metadata": {
        "id": "ucjBC3g18lfy"
      }
    },
    {
      "cell_type": "code",
      "source": [
        "embedding_layer = Embedding(vocab_size, embedding_dim, weights=[embedding_matrix], input_length=20, trainable=False)"
      ],
      "metadata": {
        "id": "mxkhvOmK8jw2"
      },
      "execution_count": 133,
      "outputs": []
    },
    {
      "cell_type": "code",
      "source": [
        "import keras\n",
        "from tensorflow.keras.layers import SpatialDropout1D"
      ],
      "metadata": {
        "id": "HVxwwKXp8oVD"
      },
      "execution_count": 134,
      "outputs": []
    },
    {
      "cell_type": "code",
      "source": [
        "!pip install seaborn ncps"
      ],
      "metadata": {
        "colab": {
          "base_uri": "https://localhost:8080/"
        },
        "id": "h-kHW9o_82yF",
        "outputId": "5d1869f3-7330-4df0-8f13-a339482a583a"
      },
      "execution_count": 135,
      "outputs": [
        {
          "output_type": "stream",
          "name": "stdout",
          "text": [
            "Looking in indexes: https://pypi.org/simple, https://us-python.pkg.dev/colab-wheels/public/simple/\n",
            "Requirement already satisfied: seaborn in /usr/local/lib/python3.10/dist-packages (0.12.2)\n",
            "Requirement already satisfied: ncps in /usr/local/lib/python3.10/dist-packages (0.0.7)\n",
            "Requirement already satisfied: numpy!=1.24.0,>=1.17 in /usr/local/lib/python3.10/dist-packages (from seaborn) (1.22.4)\n",
            "Requirement already satisfied: pandas>=0.25 in /usr/local/lib/python3.10/dist-packages (from seaborn) (1.5.3)\n",
            "Requirement already satisfied: matplotlib!=3.6.1,>=3.1 in /usr/local/lib/python3.10/dist-packages (from seaborn) (3.7.1)\n",
            "Requirement already satisfied: future in /usr/local/lib/python3.10/dist-packages (from ncps) (0.18.3)\n",
            "Requirement already satisfied: packaging in /usr/local/lib/python3.10/dist-packages (from ncps) (23.1)\n",
            "Requirement already satisfied: contourpy>=1.0.1 in /usr/local/lib/python3.10/dist-packages (from matplotlib!=3.6.1,>=3.1->seaborn) (1.0.7)\n",
            "Requirement already satisfied: cycler>=0.10 in /usr/local/lib/python3.10/dist-packages (from matplotlib!=3.6.1,>=3.1->seaborn) (0.11.0)\n",
            "Requirement already satisfied: fonttools>=4.22.0 in /usr/local/lib/python3.10/dist-packages (from matplotlib!=3.6.1,>=3.1->seaborn) (4.39.3)\n",
            "Requirement already satisfied: kiwisolver>=1.0.1 in /usr/local/lib/python3.10/dist-packages (from matplotlib!=3.6.1,>=3.1->seaborn) (1.4.4)\n",
            "Requirement already satisfied: pillow>=6.2.0 in /usr/local/lib/python3.10/dist-packages (from matplotlib!=3.6.1,>=3.1->seaborn) (8.4.0)\n",
            "Requirement already satisfied: pyparsing>=2.3.1 in /usr/local/lib/python3.10/dist-packages (from matplotlib!=3.6.1,>=3.1->seaborn) (3.0.9)\n",
            "Requirement already satisfied: python-dateutil>=2.7 in /usr/local/lib/python3.10/dist-packages (from matplotlib!=3.6.1,>=3.1->seaborn) (2.8.2)\n",
            "Requirement already satisfied: pytz>=2020.1 in /usr/local/lib/python3.10/dist-packages (from pandas>=0.25->seaborn) (2022.7.1)\n",
            "Requirement already satisfied: six>=1.5 in /usr/local/lib/python3.10/dist-packages (from python-dateutil>=2.7->matplotlib!=3.6.1,>=3.1->seaborn) (1.16.0)\n"
          ]
        }
      ]
    },
    {
      "cell_type": "code",
      "source": [
        "import numpy as np\n",
        "import os\n",
        "from tensorflow import keras\n",
        "from ncps import wirings\n",
        "from ncps.tf import LTC\n",
        "import matplotlib.pyplot as plt\n",
        "import seaborn as sns"
      ],
      "metadata": {
        "id": "5brA10Z585qw"
      },
      "execution_count": 136,
      "outputs": []
    },
    {
      "cell_type": "code",
      "source": [
        "fc_wiring = wirings.FullyConnected(8, 3)  # 8 units, 1 of which is a motor neuron\n",
        "rnd_wiring = wirings.Random(8, 3,sparsity_level=0.1)  # 8 units, 1 motor neuron\n",
        "ncp_arch = wirings.AutoNCP(8,3) # 8 units, 1 motor neuron"
      ],
      "metadata": {
        "id": "oYBHtUSc89eT"
      },
      "execution_count": 137,
      "outputs": []
    },
    {
      "cell_type": "code",
      "source": [
        "model = Sequential()\n",
        "model.add(embedding_layer)\n",
        "model.add(Dropout(0.1))\n",
        "model.add(LSTM(128, return_sequences=True))\n",
        "model.add(Dropout(0.1))\n",
        "#model.add(LTC(fc_wiring, return_sequences=True))\n",
        "model.add(LTC(ncp_arch))\n",
        "model.add(Dropout(0.2))\n",
        "model.add(Dense(3, activation='softmax'))\n",
        "\n",
        "model.compile(optimizer='adamax', loss='categorical_crossentropy', metrics=['accuracy', Precision(), Recall()])\n",
        "print(model.summary())"
      ],
      "metadata": {
        "colab": {
          "base_uri": "https://localhost:8080/"
        },
        "id": "ldaPtooY8qJ3",
        "outputId": "145b1dfc-4b4e-4085-8c97-d8a61d54f38f"
      },
      "execution_count": 138,
      "outputs": [
        {
          "output_type": "stream",
          "name": "stdout",
          "text": [
            "Model: \"sequential_4\"\n",
            "_________________________________________________________________\n",
            " Layer (type)                Output Shape              Param #   \n",
            "=================================================================\n",
            " embedding_3 (Embedding)     (None, 20, 100)           3107800   \n",
            "                                                                 \n",
            " dropout_12 (Dropout)        (None, 20, 100)           0         \n",
            "                                                                 \n",
            " lstm_4 (LSTM)               (None, 20, 128)           117248    \n",
            "                                                                 \n",
            " dropout_13 (Dropout)        (None, 20, 128)           0         \n",
            "                                                                 \n",
            " ltc_4 (LTC)                 (None, 3)                 4638      \n",
            "                                                                 \n",
            " dropout_14 (Dropout)        (None, 3)                 0         \n",
            "                                                                 \n",
            " dense_4 (Dense)             (None, 3)                 12        \n",
            "                                                                 \n",
            "=================================================================\n",
            "Total params: 3,229,698\n",
            "Trainable params: 121,898\n",
            "Non-trainable params: 3,107,800\n",
            "_________________________________________________________________\n",
            "None\n"
          ]
        }
      ]
    },
    {
      "cell_type": "code",
      "source": [
        "tf.keras.utils.plot_model(model, show_shapes=True)"
      ],
      "metadata": {
        "colab": {
          "base_uri": "https://localhost:8080/",
          "height": 865
        },
        "id": "gYFzM72r8sXj",
        "outputId": "4a7c8665-83d8-46a3-9ecf-750dc23e7276"
      },
      "execution_count": 139,
      "outputs": [
        {
          "output_type": "execute_result",
          "data": {
            "image/png": "[encoded data removed]",
            "text/plain": [
              "<IPython.core.display.Image object>"
            ]
          },
          "metadata": {},
          "execution_count": 139
        }
      ]
    },
    {
      "cell_type": "markdown",
      "source": [
        "# Splitting Data and prepare X and y"
      ],
      "metadata": {
        "id": "DRMdQ7Co9ZIe"
      }
    },
    {
      "cell_type": "code",
      "source": [
        "# Split the data into training and testing sets\n",
        "X_train, X_test, y_train, y_test = train_test_split(X, y, test_size=0.2, random_state=42)"
      ],
      "metadata": {
        "id": "vwlSb8oZ9SWv"
      },
      "execution_count": 140,
      "outputs": []
    },
    {
      "cell_type": "code",
      "source": [
        "# Apply SMOTE to the training data\n",
        "smote = SMOTE()\n",
        "X_train_oversampled, y_train_oversampled = smote.fit_resample(X_train, y_train)"
      ],
      "metadata": {
        "id": "ZM-pOGod9bJ7"
      },
      "execution_count": 141,
      "outputs": []
    },
    {
      "cell_type": "code",
      "source": [
        "X_train, X_val, y_train, y_val = train_test_split(X_train_oversampled, y_train_oversampled, test_size=0.25, random_state=1)\n",
        "print('Train Set ->', X_train.shape, y_train.shape)\n",
        "print('Validation Set ->', X_val.shape, y_val.shape)\n",
        "print('Test Set ->', X_test.shape, y_test.shape)"
      ],
      "metadata": {
        "colab": {
          "base_uri": "https://localhost:8080/"
        },
        "id": "_NvfisZu9dTJ",
        "outputId": "8bc14e5e-4311-41ac-e10a-76651a60f38f"
      },
      "execution_count": 142,
      "outputs": [
        {
          "output_type": "stream",
          "name": "stdout",
          "text": [
            "Train Set -> (13599, 20) (13599,)\n",
            "Validation Set -> (4533, 20) (4533,)\n",
            "Test Set -> (2392, 20) (2392,)\n"
          ]
        }
      ]
    },
    {
      "cell_type": "markdown",
      "source": [
        "## Data distribution"
      ],
      "metadata": {
        "id": "GHHB4oRE9heq"
      }
    },
    {
      "cell_type": "code",
      "source": [
        "CountStatus = pd.value_counts(y_train.values)\n",
        "CountStatus.plot.bar()"
      ],
      "metadata": {
        "colab": {
          "base_uri": "https://localhost:8080/",
          "height": 0
        },
        "id": "2Br6rJnB9ei6",
        "outputId": "1a5b50d2-6f54-43d0-b5ae-8bb71e7cdf45"
      },
      "execution_count": 143,
      "outputs": [
        {
          "output_type": "execute_result",
          "data": {
            "text/plain": [
              "<Axes: >"
            ]
          },
          "metadata": {},
          "execution_count": 143
        },
        {
          "output_type": "display_data",
          "data": {
            "text/plain": [
              "<Figure size 640x480 with 1 Axes>"
            ],
            "image/png": "[encoded data removed]"
          },
          "metadata": {}
        }
      ]
    },
    {
      "cell_type": "code",
      "source": [
        "CountStatus = pd.value_counts(y_test.values)\n",
        "CountStatus.plot.bar()"
      ],
      "metadata": {
        "colab": {
          "base_uri": "https://localhost:8080/",
          "height": 0
        },
        "id": "CS8V7l7c9jyJ",
        "outputId": "fd7aff1d-3794-4080-e805-e2d768bf9349"
      },
      "execution_count": 144,
      "outputs": [
        {
          "output_type": "execute_result",
          "data": {
            "text/plain": [
              "<Axes: >"
            ]
          },
          "metadata": {},
          "execution_count": 144
        },
        {
          "output_type": "display_data",
          "data": {
            "text/plain": [
              "<Figure size 640x480 with 1 Axes>"
            ],
            "image/png": "[encoded data removed]"
          },
          "metadata": {}
        }
      ]
    },
    {
      "cell_type": "markdown",
      "source": [
        "## create y to 3 output"
      ],
      "metadata": {
        "id": "SubZW0969ms_"
      }
    },
    {
      "cell_type": "code",
      "source": [
        "y_train = pd.get_dummies(y_train)\n",
        "y_val = pd.get_dummies(y_val)\n",
        "y_test = pd.get_dummies(y_test)"
      ],
      "metadata": {
        "id": "XEHCaNqX9lBC"
      },
      "execution_count": 145,
      "outputs": []
    },
    {
      "cell_type": "code",
      "source": [
        "print('Train Set ->', X_train.shape, y_train.shape)\n",
        "print('Validation Set ->', X_val.shape, y_val.shape)\n",
        "print('Test Set ->', X_test.shape, y_test.shape)"
      ],
      "metadata": {
        "colab": {
          "base_uri": "https://localhost:8080/"
        },
        "id": "F-IiUf9U9o0z",
        "outputId": "2a5935cb-8615-4d19-e63e-c7b350dd3625"
      },
      "execution_count": 146,
      "outputs": [
        {
          "output_type": "stream",
          "name": "stdout",
          "text": [
            "Train Set -> (13599, 20) (13599, 3)\n",
            "Validation Set -> (4533, 20) (4533, 3)\n",
            "Test Set -> (2392, 20) (2392, 3)\n"
          ]
        }
      ]
    },
    {
      "cell_type": "markdown",
      "source": [
        "# Train Data"
      ],
      "metadata": {
        "id": "0OnIOhDi9w3k"
      }
    },
    {
      "cell_type": "code",
      "source": [
        "start_time = datetime.now()\n",
        "\n",
        "checkpointer = tf.keras.callbacks.ModelCheckpoint(filepath=\"weights.hdf5\", monitor = 'val_accuracy', verbose=1, save_best_only=True)\n",
        "\n",
        "history = model.fit(X_train, y_train, validation_data=(X_val, y_val), epochs=15, batch_size=8, callbacks=[checkpointer])\n",
        "\n",
        "model.load_weights('weights.hdf5')\n",
        "\n",
        "end_time = datetime.now()\n",
        "print('Duration: {}'.format(end_time - start_time))"
      ],
      "metadata": {
        "colab": {
          "base_uri": "https://localhost:8080/"
        },
        "id": "oQhFdhjC9qS8",
        "outputId": "6c26487a-e8dd-432f-d0a4-915b8efcc360"
      },
      "execution_count": 147,
      "outputs": [
        {
          "output_type": "stream",
          "name": "stdout",
          "text": [
            "Epoch 1/15\n",
            "1700/1700 [==============================] - ETA: 0s - loss: 1.0954 - accuracy: 0.3654 - precision_4: 1.0000 - recall_4: 2.2060e-04\n",
            "Epoch 1: val_accuracy improved from -inf to 0.44871, saving model to weights.hdf5\n",
            "1700/1700 [==============================] - 205s 105ms/step - loss: 1.0954 - accuracy: 0.3654 - precision_4: 1.0000 - recall_4: 2.2060e-04 - val_loss: 1.0831 - val_accuracy: 0.4487 - val_precision_4: 0.0000e+00 - val_recall_4: 0.0000e+00\n",
            "Epoch 2/15\n",
            "1700/1700 [==============================] - ETA: 0s - loss: 1.0575 - accuracy: 0.4590 - precision_4: 0.6059 - recall_4: 0.0271\n",
            "Epoch 2: val_accuracy improved from 0.44871 to 0.49305, saving model to weights.hdf5\n",
            "1700/1700 [==============================] - 166s 98ms/step - loss: 1.0575 - accuracy: 0.4590 - precision_4: 0.6059 - recall_4: 0.0271 - val_loss: 1.0332 - val_accuracy: 0.4931 - val_precision_4: 0.6199 - val_recall_4: 0.0604\n",
            "Epoch 3/15\n",
            "1700/1700 [==============================] - ETA: 0s - loss: 1.0095 - accuracy: 0.4997 - precision_4: 0.6371 - recall_4: 0.1739\n",
            "Epoch 3: val_accuracy improved from 0.49305 to 0.51820, saving model to weights.hdf5\n",
            "1700/1700 [==============================] - 167s 98ms/step - loss: 1.0095 - accuracy: 0.4997 - precision_4: 0.6371 - recall_4: 0.1739 - val_loss: 0.9981 - val_accuracy: 0.5182 - val_precision_4: 0.6492 - val_recall_4: 0.2702\n",
            "Epoch 4/15\n",
            "1700/1700 [==============================] - ETA: 0s - loss: 0.9648 - accuracy: 0.5366 - precision_4: 0.6390 - recall_4: 0.2898\n",
            "Epoch 4: val_accuracy improved from 0.51820 to 0.53320, saving model to weights.hdf5\n",
            "1700/1700 [==============================] - 163s 96ms/step - loss: 0.9648 - accuracy: 0.5366 - precision_4: 0.6390 - recall_4: 0.2898 - val_loss: 0.9660 - val_accuracy: 0.5332 - val_precision_4: 0.6289 - val_recall_4: 0.3605\n",
            "Epoch 5/15\n",
            "1700/1700 [==============================] - ETA: 0s - loss: 0.9336 - accuracy: 0.5493 - precision_4: 0.6476 - recall_4: 0.3547\n",
            "Epoch 5: val_accuracy improved from 0.53320 to 0.53475, saving model to weights.hdf5\n",
            "1700/1700 [==============================] - 167s 98ms/step - loss: 0.9336 - accuracy: 0.5493 - precision_4: 0.6476 - recall_4: 0.3547 - val_loss: 0.9618 - val_accuracy: 0.5347 - val_precision_4: 0.6205 - val_recall_4: 0.3823\n",
            "Epoch 6/15\n",
            "1700/1700 [==============================] - ETA: 0s - loss: 0.8993 - accuracy: 0.5742 - precision_4: 0.6542 - recall_4: 0.4075\n",
            "Epoch 6: val_accuracy improved from 0.53475 to 0.55063, saving model to weights.hdf5\n",
            "1700/1700 [==============================] - 168s 99ms/step - loss: 0.8993 - accuracy: 0.5742 - precision_4: 0.6542 - recall_4: 0.4075 - val_loss: 0.9345 - val_accuracy: 0.5506 - val_precision_4: 0.6206 - val_recall_4: 0.4183\n",
            "Epoch 7/15\n",
            "1700/1700 [==============================] - ETA: 0s - loss: 0.8669 - accuracy: 0.5940 - precision_4: 0.6716 - recall_4: 0.4561\n",
            "Epoch 7: val_accuracy improved from 0.55063 to 0.55703, saving model to weights.hdf5\n",
            "1700/1700 [==============================] - 166s 98ms/step - loss: 0.8669 - accuracy: 0.5940 - precision_4: 0.6716 - recall_4: 0.4561 - val_loss: 0.9308 - val_accuracy: 0.5570 - val_precision_4: 0.6191 - val_recall_4: 0.4428\n",
            "Epoch 8/15\n",
            "1700/1700 [==============================] - ETA: 0s - loss: 0.8400 - accuracy: 0.6133 - precision_4: 0.6845 - recall_4: 0.4814\n",
            "Epoch 8: val_accuracy improved from 0.55703 to 0.55989, saving model to weights.hdf5\n",
            "1700/1700 [==============================] - 171s 101ms/step - loss: 0.8400 - accuracy: 0.6133 - precision_4: 0.6845 - recall_4: 0.4814 - val_loss: 0.9243 - val_accuracy: 0.5599 - val_precision_4: 0.6216 - val_recall_4: 0.4642\n",
            "Epoch 9/15\n",
            "1700/1700 [==============================] - ETA: 0s - loss: 0.8160 - accuracy: 0.6259 - precision_4: 0.6943 - recall_4: 0.5114\n",
            "Epoch 9: val_accuracy improved from 0.55989 to 0.56188, saving model to weights.hdf5\n",
            "1700/1700 [==============================] - 183s 107ms/step - loss: 0.8160 - accuracy: 0.6259 - precision_4: 0.6943 - recall_4: 0.5114 - val_loss: 0.9291 - val_accuracy: 0.5619 - val_precision_4: 0.6174 - val_recall_4: 0.4739\n",
            "Epoch 10/15\n",
            "1700/1700 [==============================] - ETA: 0s - loss: 0.7920 - accuracy: 0.6413 - precision_4: 0.7071 - recall_4: 0.5355\n",
            "Epoch 10: val_accuracy improved from 0.56188 to 0.56806, saving model to weights.hdf5\n",
            "1700/1700 [==============================] - 168s 99ms/step - loss: 0.7920 - accuracy: 0.6413 - precision_4: 0.7071 - recall_4: 0.5355 - val_loss: 0.9286 - val_accuracy: 0.5681 - val_precision_4: 0.6069 - val_recall_4: 0.4939\n",
            "Epoch 11/15\n",
            "1700/1700 [==============================] - ETA: 0s - loss: 0.7686 - accuracy: 0.6562 - precision_4: 0.7187 - recall_4: 0.5577\n",
            "Epoch 11: val_accuracy improved from 0.56806 to 0.57159, saving model to weights.hdf5\n",
            "1700/1700 [==============================] - 166s 98ms/step - loss: 0.7686 - accuracy: 0.6562 - precision_4: 0.7187 - recall_4: 0.5577 - val_loss: 0.9294 - val_accuracy: 0.5716 - val_precision_4: 0.6128 - val_recall_4: 0.5021\n",
            "Epoch 12/15\n",
            "1700/1700 [==============================] - ETA: 0s - loss: 0.7414 - accuracy: 0.6714 - precision_4: 0.7321 - recall_4: 0.5761\n",
            "Epoch 12: val_accuracy did not improve from 0.57159\n",
            "1700/1700 [==============================] - 165s 97ms/step - loss: 0.7414 - accuracy: 0.6714 - precision_4: 0.7321 - recall_4: 0.5761 - val_loss: 0.9486 - val_accuracy: 0.5634 - val_precision_4: 0.5961 - val_recall_4: 0.4966\n",
            "Epoch 13/15\n",
            "1700/1700 [==============================] - ETA: 0s - loss: 0.7241 - accuracy: 0.6818 - precision_4: 0.7396 - recall_4: 0.5975\n",
            "Epoch 13: val_accuracy did not improve from 0.57159\n",
            "1700/1700 [==============================] - 167s 98ms/step - loss: 0.7241 - accuracy: 0.6818 - precision_4: 0.7396 - recall_4: 0.5975 - val_loss: 0.9537 - val_accuracy: 0.5656 - val_precision_4: 0.5992 - val_recall_4: 0.5111\n",
            "Epoch 14/15\n",
            "1700/1700 [==============================] - ETA: 0s - loss: 0.7005 - accuracy: 0.6915 - precision_4: 0.7471 - recall_4: 0.6117\n",
            "Epoch 14: val_accuracy did not improve from 0.57159\n",
            "1700/1700 [==============================] - 169s 99ms/step - loss: 0.7005 - accuracy: 0.6915 - precision_4: 0.7471 - recall_4: 0.6117 - val_loss: 0.9620 - val_accuracy: 0.5707 - val_precision_4: 0.6057 - val_recall_4: 0.5063\n",
            "Epoch 15/15\n",
            "1700/1700 [==============================] - ETA: 0s - loss: 0.6819 - accuracy: 0.6996 - precision_4: 0.7560 - recall_4: 0.6240\n",
            "Epoch 15: val_accuracy did not improve from 0.57159\n",
            "1700/1700 [==============================] - 165s 97ms/step - loss: 0.6819 - accuracy: 0.6996 - precision_4: 0.7560 - recall_4: 0.6240 - val_loss: 0.9745 - val_accuracy: 0.5692 - val_precision_4: 0.5972 - val_recall_4: 0.5151\n",
            "Duration: 0:42:47.693677\n"
          ]
        }
      ]
    },
    {
      "cell_type": "markdown",
      "source": [
        "# Save model"
      ],
      "metadata": {
        "id": "-FIoM9HXCOxN"
      }
    },
    {
      "cell_type": "code",
      "source": [
        "# Save the model architecture & the weights\n",
        "model.save('w2v_ltc.h5')\n",
        "print('Best model saved')"
      ],
      "metadata": {
        "colab": {
          "base_uri": "https://localhost:8080/"
        },
        "id": "BH2Nce1391nW",
        "outputId": "2da1b3cb-ef21-4f9d-d07e-735c0f6c1c64"
      },
      "execution_count": 34,
      "outputs": [
        {
          "output_type": "stream",
          "name": "stdout",
          "text": [
            "Best model saved\n"
          ]
        }
      ]
    },
    {
      "cell_type": "markdown",
      "source": [
        "# Evaluation"
      ],
      "metadata": {
        "id": "mK0f5PQyCVMF"
      }
    },
    {
      "cell_type": "code",
      "source": [
        "def f1_score(precision, recall):\n",
        "    ''' Function to calculate f1 score '''\n",
        "    f1_val = 2*(precision*recall)/(precision+recall+K.epsilon())\n",
        "    return f1_val"
      ],
      "metadata": {
        "id": "OXc0qiOkCRa_"
      },
      "execution_count": 148,
      "outputs": []
    },
    {
      "cell_type": "code",
      "source": [
        "# Evaluate model on the test set\n",
        "loss, accuracy, precision, recall = model.evaluate(X_test, y_test, verbose=0)\n",
        "# Print metrics\n",
        "print('')\n",
        "print('Accuracy  : {:.4f}'.format(accuracy))\n",
        "print('Precision : {:.4f}'.format(precision))\n",
        "print('Recall    : {:.4f}'.format(recall))\n",
        "print('F1 Score  : {:.4f}'.format(f1_score(precision, recall)))"
      ],
      "metadata": {
        "colab": {
          "base_uri": "https://localhost:8080/"
        },
        "id": "xn3p0ETKCXOL",
        "outputId": "964ce6ba-1846-4023-d842-edea0100e9cf"
      },
      "execution_count": 149,
      "outputs": [
        {
          "output_type": "stream",
          "name": "stdout",
          "text": [
            "\n",
            "Accuracy  : 0.6145\n",
            "Precision : 0.6560\n",
            "Recall    : 0.5230\n",
            "F1 Score  : 0.5820\n"
          ]
        }
      ]
    },
    {
      "cell_type": "code",
      "source": [
        "def plot_training_hist(history):\n",
        "    '''Function to plot history for accuracy and loss'''    \n",
        "    fig, ax = plt.subplots(1, 2, figsize=(10,4))\n",
        "    # first plot\n",
        "    ax[0].plot(history.history['accuracy'])\n",
        "    ax[0].plot(history.history['val_accuracy'])\n",
        "    ax[0].set_title('Model Accuracy')\n",
        "    ax[0].set_xlabel('epoch')\n",
        "    ax[0].set_ylabel('accuracy')\n",
        "    ax[0].legend(['train', 'validation'], loc='best')\n",
        "    # second plot\n",
        "    ax[1].plot(history.history['loss'])\n",
        "    ax[1].plot(history.history['val_loss'])\n",
        "    ax[1].set_title('Model Loss')\n",
        "    ax[1].set_xlabel('epoch')\n",
        "    ax[1].set_ylabel('loss')\n",
        "    ax[1].legend(['train', 'validation'], loc='best')\n",
        "    \n",
        "plot_training_hist(history)"
      ],
      "metadata": {
        "colab": {
          "base_uri": "https://localhost:8080/",
          "height": 410
        },
        "id": "8BqpLU9dCZyJ",
        "outputId": "78709028-1e68-40af-880b-28a6094171dc"
      },
      "execution_count": 150,
      "outputs": [
        {
          "output_type": "display_data",
          "data": {
            "text/plain": [
              "<Figure size 1000x400 with 2 Axes>"
            ],
            "image/png": "[encoded data removed]"
          },
          "metadata": {}
        }
      ]
    },
    {
      "cell_type": "code",
      "source": [
        "from sklearn.metrics import confusion_matrix\n",
        "import seaborn as sns\n",
        "\n",
        "def plot_confusion_matrix(model, X_test, y_test):\n",
        "    '''Function to plot confusion matrix for the passed model and the data'''\n",
        "    \n",
        "    sentiment_classes = ['Positive', 'Neutral', 'Negative']\n",
        "    # use model to do the prediction\n",
        "    y_pred = model.predict(X_test)\n",
        "    # compute confusion matrix\n",
        "    cm = confusion_matrix(np.argmax(np.array(y_test),axis=1), np.argmax(y_pred, axis=1))\n",
        "    # plot confusion matrix\n",
        "    plt.figure(figsize=(8,6))\n",
        "    sns.heatmap(cm, cmap=plt.cm.Blues, annot=True, fmt='d', \n",
        "                xticklabels=sentiment_classes,\n",
        "                yticklabels=sentiment_classes)\n",
        "    plt.title('Confusion matrix', fontsize=16)\n",
        "    plt.xlabel('Predicted label', fontsize=12)\n",
        "    plt.ylabel('Actual label', fontsize=12)\n",
        "    \n",
        "plot_confusion_matrix(model, X_test, y_test)"
      ],
      "metadata": {
        "colab": {
          "base_uri": "https://localhost:8080/",
          "height": 587
        },
        "id": "2ptLs_iuCdmo",
        "outputId": "ecccf36e-af3c-4858-d60a-aec82d367219"
      },
      "execution_count": 151,
      "outputs": [
        {
          "output_type": "stream",
          "name": "stdout",
          "text": [
            "75/75 [==============================] - 4s 43ms/step\n"
          ]
        },
        {
          "output_type": "display_data",
          "data": {
            "text/plain": [
              "<Figure size 800x600 with 2 Axes>"
            ],
            "image/png": "[encoded data removed]"
          },
          "metadata": {}
        }
      ]
    },
    {
      "cell_type": "code",
      "source": [
        "from keras.models import load_model\n",
        "\n",
        "# Load model\n",
        "model = load_model('w2v_ltc.h5')"
      ],
      "metadata": {
        "id": "On7QKn0eCfmc",
        "colab": {
          "base_uri": "https://localhost:8080/",
          "height": 363
        },
        "outputId": "71521cb9-aac1-4b4f-85c2-fe5607c225e9"
      },
      "execution_count": 119,
      "outputs": [
        {
          "output_type": "error",
          "ename": "TypeError",
          "evalue": "ignored",
          "traceback": [
            "\u001b[0;31m---------------------------------------------------------------------------\u001b[0m",
            "\u001b[0;31mTypeError\u001b[0m                                 Traceback (most recent call last)",
            "\u001b[0;32m<ipython-input-119-0cdb1abfafea>\u001b[0m in \u001b[0;36m<cell line: 4>\u001b[0;34m()\u001b[0m\n\u001b[1;32m      2\u001b[0m \u001b[0;34m\u001b[0m\u001b[0m\n\u001b[1;32m      3\u001b[0m \u001b[0;31m# Load model\u001b[0m\u001b[0;34m\u001b[0m\u001b[0;34m\u001b[0m\u001b[0m\n\u001b[0;32m----> 4\u001b[0;31m \u001b[0mmodel\u001b[0m \u001b[0;34m=\u001b[0m \u001b[0mload_model\u001b[0m\u001b[0;34m(\u001b[0m\u001b[0;34m'w2v_ltc.h5'\u001b[0m\u001b[0;34m)\u001b[0m\u001b[0;34m\u001b[0m\u001b[0;34m\u001b[0m\u001b[0m\n\u001b[0m",
            "\u001b[0;32m/usr/local/lib/python3.10/dist-packages/keras/saving/saving_api.py\u001b[0m in \u001b[0;36mload_model\u001b[0;34m(filepath, custom_objects, compile, safe_mode, **kwargs)\u001b[0m\n\u001b[1;32m    210\u001b[0m \u001b[0;34m\u001b[0m\u001b[0m\n\u001b[1;32m    211\u001b[0m     \u001b[0;31m# Legacy case.\u001b[0m\u001b[0;34m\u001b[0m\u001b[0;34m\u001b[0m\u001b[0m\n\u001b[0;32m--> 212\u001b[0;31m     return legacy_sm_saving_lib.load_model(\n\u001b[0m\u001b[1;32m    213\u001b[0m         \u001b[0mfilepath\u001b[0m\u001b[0;34m,\u001b[0m \u001b[0mcustom_objects\u001b[0m\u001b[0;34m=\u001b[0m\u001b[0mcustom_objects\u001b[0m\u001b[0;34m,\u001b[0m \u001b[0mcompile\u001b[0m\u001b[0;34m=\u001b[0m\u001b[0mcompile\u001b[0m\u001b[0;34m,\u001b[0m \u001b[0;34m**\u001b[0m\u001b[0mkwargs\u001b[0m\u001b[0;34m\u001b[0m\u001b[0;34m\u001b[0m\u001b[0m\n\u001b[1;32m    214\u001b[0m     )\n",
            "\u001b[0;32m/usr/local/lib/python3.10/dist-packages/keras/utils/traceback_utils.py\u001b[0m in \u001b[0;36merror_handler\u001b[0;34m(*args, **kwargs)\u001b[0m\n\u001b[1;32m     68\u001b[0m             \u001b[0;31m# To get the full stack trace, call:\u001b[0m\u001b[0;34m\u001b[0m\u001b[0;34m\u001b[0m\u001b[0m\n\u001b[1;32m     69\u001b[0m             \u001b[0;31m# `tf.debugging.disable_traceback_filtering()`\u001b[0m\u001b[0;34m\u001b[0m\u001b[0;34m\u001b[0m\u001b[0m\n\u001b[0;32m---> 70\u001b[0;31m             \u001b[0;32mraise\u001b[0m \u001b[0me\u001b[0m\u001b[0;34m.\u001b[0m\u001b[0mwith_traceback\u001b[0m\u001b[0;34m(\u001b[0m\u001b[0mfiltered_tb\u001b[0m\u001b[0;34m)\u001b[0m \u001b[0;32mfrom\u001b[0m \u001b[0;32mNone\u001b[0m\u001b[0;34m\u001b[0m\u001b[0;34m\u001b[0m\u001b[0m\n\u001b[0m\u001b[1;32m     71\u001b[0m         \u001b[0;32mfinally\u001b[0m\u001b[0;34m:\u001b[0m\u001b[0;34m\u001b[0m\u001b[0;34m\u001b[0m\u001b[0m\n\u001b[1;32m     72\u001b[0m             \u001b[0;32mdel\u001b[0m \u001b[0mfiltered_tb\u001b[0m\u001b[0;34m\u001b[0m\u001b[0;34m\u001b[0m\u001b[0m\n",
            "\u001b[0;32m/usr/local/lib/python3.10/dist-packages/ncps/tf/ltc_cell.py\u001b[0m in \u001b[0;36mfrom_config\u001b[0;34m(cls, config)\u001b[0m\n\u001b[1;32m    345\u001b[0m     \u001b[0;32mdef\u001b[0m \u001b[0mfrom_config\u001b[0m\u001b[0;34m(\u001b[0m\u001b[0mcls\u001b[0m\u001b[0;34m,\u001b[0m \u001b[0mconfig\u001b[0m\u001b[0;34m)\u001b[0m\u001b[0;34m:\u001b[0m\u001b[0;34m\u001b[0m\u001b[0;34m\u001b[0m\u001b[0m\n\u001b[1;32m    346\u001b[0m         \u001b[0mwiring\u001b[0m \u001b[0;34m=\u001b[0m \u001b[0mwirings\u001b[0m\u001b[0;34m.\u001b[0m\u001b[0mWiring\u001b[0m\u001b[0;34m.\u001b[0m\u001b[0mfrom_config\u001b[0m\u001b[0;34m(\u001b[0m\u001b[0mconfig\u001b[0m\u001b[0;34m)\u001b[0m\u001b[0;34m\u001b[0m\u001b[0;34m\u001b[0m\u001b[0m\n\u001b[0;32m--> 347\u001b[0;31m         \u001b[0;32mreturn\u001b[0m \u001b[0mcls\u001b[0m\u001b[0;34m(\u001b[0m\u001b[0mwiring\u001b[0m\u001b[0;34m=\u001b[0m\u001b[0mwiring\u001b[0m\u001b[0;34m,\u001b[0m \u001b[0;34m**\u001b[0m\u001b[0mconfig\u001b[0m\u001b[0;34m)\u001b[0m\u001b[0;34m\u001b[0m\u001b[0;34m\u001b[0m\u001b[0m\n\u001b[0m",
            "\u001b[0;32m/usr/local/lib/python3.10/dist-packages/ncps/tf/ltc_cell.py\u001b[0m in \u001b[0;36m__init__\u001b[0;34m(self, wiring, input_mapping, output_mapping, ode_unfolds, epsilon, initialization_ranges, **kwargs)\u001b[0m\n\u001b[1;32m     62\u001b[0m         \"\"\"\n\u001b[1;32m     63\u001b[0m \u001b[0;34m\u001b[0m\u001b[0m\n\u001b[0;32m---> 64\u001b[0;31m         \u001b[0msuper\u001b[0m\u001b[0;34m(\u001b[0m\u001b[0;34m)\u001b[0m\u001b[0;34m.\u001b[0m\u001b[0m__init__\u001b[0m\u001b[0;34m(\u001b[0m\u001b[0;34m**\u001b[0m\u001b[0mkwargs\u001b[0m\u001b[0;34m)\u001b[0m\u001b[0;34m\u001b[0m\u001b[0;34m\u001b[0m\u001b[0m\n\u001b[0m\u001b[1;32m     65\u001b[0m         self._init_ranges = {\n\u001b[1;32m     66\u001b[0m             \u001b[0;34m\"gleak\"\u001b[0m\u001b[0;34m:\u001b[0m \u001b[0;34m(\u001b[0m\u001b[0;36m0.001\u001b[0m\u001b[0;34m,\u001b[0m \u001b[0;36m1.0\u001b[0m\u001b[0;34m)\u001b[0m\u001b[0;34m,\u001b[0m\u001b[0;34m\u001b[0m\u001b[0;34m\u001b[0m\u001b[0m\n",
            "\u001b[0;31mTypeError\u001b[0m: ('Keyword argument not understood:', 'adjacency_matrix')"
          ]
        }
      ]
    },
    {
      "cell_type": "code",
      "source": [
        "y_pred = model.predict(X_test)\n",
        "y_pred_lst = np.argmax(np.array(y_pred),axis=1)"
      ],
      "metadata": {
        "colab": {
          "base_uri": "https://localhost:8080/"
        },
        "id": "7FV2FZ8DZnEK",
        "outputId": "04761f31-503e-4a57-f998-b6e68456f5b8"
      },
      "execution_count": 152,
      "outputs": [
        {
          "output_type": "stream",
          "name": "stdout",
          "text": [
            "75/75 [==============================] - 2s 24ms/step\n"
          ]
        }
      ]
    },
    {
      "cell_type": "code",
      "source": [
        "# create y\n",
        "y = df['label']\n",
        "y.shape\n",
        "X_train, X_test, y_train, y_test = train_test_split(X, y, test_size=0.2, random_state=42)\n",
        "y_pred_lst = list(y_pred_lst)\n",
        "y_test = list(y_test.astype(int))"
      ],
      "metadata": {
        "id": "0Xmi-OCnZppd"
      },
      "execution_count": 153,
      "outputs": []
    },
    {
      "cell_type": "code",
      "source": [
        "# Print the precision and recall, among other metrics\n",
        "from sklearn import metrics\n",
        "# Print the confusion matrix\n",
        "print(confusion_matrix(y_test, y_pred_lst))\n",
        "\n",
        "# Print the precision and recall, among other metrics\n",
        "print(metrics.classification_report(y_test, y_pred_lst, digits=3))"
      ],
      "metadata": {
        "colab": {
          "base_uri": "https://localhost:8080/"
        },
        "id": "LPlIjcwfZrGj",
        "outputId": "cf06cfa0-03c0-4754-bc0e-8101777a7594"
      },
      "execution_count": 154,
      "outputs": [
        {
          "output_type": "stream",
          "name": "stdout",
          "text": [
            "[[ 122  111   33]\n",
            " [ 189 1066  222]\n",
            " [  84  283  282]]\n",
            "              precision    recall  f1-score   support\n",
            "\n",
            "           0      0.309     0.459     0.369       266\n",
            "           1      0.730     0.722     0.726      1477\n",
            "           2      0.525     0.435     0.476       649\n",
            "\n",
            "    accuracy                          0.615      2392\n",
            "   macro avg      0.521     0.538     0.524      2392\n",
            "weighted avg      0.628     0.615     0.618      2392\n",
            "\n"
          ]
        }
      ]
    },
    {
      "cell_type": "markdown",
      "source": [
        "# Inference"
      ],
      "metadata": {
        "id": "WY2opoRRZuIu"
      }
    },
    {
      "cell_type": "code",
      "source": [
        "from keras.models import load_model\n",
        "\n",
        "# Load model\n",
        "#model = load_model('w2v_lstm.h5')\n",
        "\n",
        "def predict_class(text):\n",
        "    '''Function to predict sentiment class of the passed text'''\n",
        "    \n",
        "    sentiment_classes = ['Positive', 'Neutral', 'Negative']\n",
        "    max_len=20\n",
        "    \n",
        "    # Transforms text to a sequence of integers using a tokenizer object\n",
        "    t = [text]\n",
        "    df2 = pd.DataFrame(list(t), columns = ['text'])\n",
        "    df2.loc[:,'text'] = df2.loc[:,'text'].map(word_tokenize)\n",
        "    # Pad sequences to the same length\n",
        "    X = pad_sequences(tokenizer.texts_to_sequences(df2.text), maxlen=20)\n",
        "    # Do the prediction using the loaded model\n",
        "    yt = model.predict(X).argmax(axis=1)\n",
        "    # Print the predicted sentiment\n",
        "    print('The predicted sentiment is', sentiment_classes[yt[0]])"
      ],
      "metadata": {
        "id": "KoKXX7bwZsc3"
      },
      "execution_count": 155,
      "outputs": []
    },
    {
      "cell_type": "code",
      "source": [
        "predict_class('ดีครับ')"
      ],
      "metadata": {
        "colab": {
          "base_uri": "https://localhost:8080/"
        },
        "id": "ADcYshOPZwBX",
        "outputId": "4d4ecf35-2a45-43f8-c51e-b99043304895"
      },
      "execution_count": 156,
      "outputs": [
        {
          "output_type": "stream",
          "name": "stdout",
          "text": [
            "1/1 [==============================] - 0s 41ms/step\n",
            "The predicted sentiment is Positive\n"
          ]
        }
      ]
    },
    {
      "cell_type": "code",
      "source": [
        "predict_class('ลุงตู่')"
      ],
      "metadata": {
        "colab": {
          "base_uri": "https://localhost:8080/"
        },
        "id": "DhqOK5ywZxU_",
        "outputId": "47313649-c0d0-4c08-cec3-31f03fc85afb"
      },
      "execution_count": 157,
      "outputs": [
        {
          "output_type": "stream",
          "name": "stdout",
          "text": [
            "1/1 [==============================] - 0s 43ms/step\n",
            "The predicted sentiment is Neutral\n"
          ]
        }
      ]
    },
    {
      "cell_type": "code",
      "source": [
        "predict_class('คคคคค')"
      ],
      "metadata": {
        "colab": {
          "base_uri": "https://localhost:8080/"
        },
        "id": "L3HnzsCGZydK",
        "outputId": "a29a7072-83ee-4651-9319-70f89a03d9d5"
      },
      "execution_count": 158,
      "outputs": [
        {
          "output_type": "stream",
          "name": "stdout",
          "text": [
            "1/1 [==============================] - 0s 44ms/step\n",
            "The predicted sentiment is Negative\n"
          ]
        }
      ]
    },
    {
      "cell_type": "code",
      "source": [
        "predict_class('สวัสดีวันจันทร์')"
      ],
      "metadata": {
        "colab": {
          "base_uri": "https://localhost:8080/"
        },
        "id": "V6oiXrjbZzzy",
        "outputId": "529ffe34-6273-4146-a1c6-9a5839856b89"
      },
      "execution_count": 159,
      "outputs": [
        {
          "output_type": "stream",
          "name": "stdout",
          "text": [
            "1/1 [==============================] - 0s 44ms/step\n",
            "The predicted sentiment is Neutral\n"
          ]
        }
      ]
    },
    {
      "cell_type": "code",
      "source": [
        "predict_class('เยี่ยมไปเลย')"
      ],
      "metadata": {
        "colab": {
          "base_uri": "https://localhost:8080/"
        },
        "id": "oHtJhZ8sZ08g",
        "outputId": "6a14de6f-d0d0-4784-b55c-eef04c113c1e"
      },
      "execution_count": 160,
      "outputs": [
        {
          "output_type": "stream",
          "name": "stdout",
          "text": [
            "1/1 [==============================] - 0s 41ms/step\n",
            "The predicted sentiment is Neutral\n"
          ]
        }
      ]
    },
    {
      "cell_type": "code",
      "source": [
        "predict_class('สู้ๆครับ')"
      ],
      "metadata": {
        "colab": {
          "base_uri": "https://localhost:8080/"
        },
        "id": "5N_Q2dkkZ2R8",
        "outputId": "c233bf15-20ea-48d5-fdaa-6cefdd5c97f1"
      },
      "execution_count": 161,
      "outputs": [
        {
          "output_type": "stream",
          "name": "stdout",
          "text": [
            "1/1 [==============================] - 0s 39ms/step\n",
            "The predicted sentiment is Positive\n"
          ]
        }
      ]
    },
    {
      "cell_type": "code",
      "source": [
        "predict_class('แย่มาก')"
      ],
      "metadata": {
        "colab": {
          "base_uri": "https://localhost:8080/"
        },
        "id": "oQnh9K1SZ3e-",
        "outputId": "ac9abc1f-b435-4368-c4bd-5ce62fb7434b"
      },
      "execution_count": 162,
      "outputs": [
        {
          "output_type": "stream",
          "name": "stdout",
          "text": [
            "1/1 [==============================] - 0s 46ms/step\n",
            "The predicted sentiment is Positive\n"
          ]
        }
      ]
    },
    {
      "cell_type": "code",
      "source": [
        "predict_class('ไม่โอเค')"
      ],
      "metadata": {
        "colab": {
          "base_uri": "https://localhost:8080/"
        },
        "id": "oZOoQT4bZ5JC",
        "outputId": "9cde5089-bb77-47c7-a914-609cac67169b"
      },
      "execution_count": 163,
      "outputs": [
        {
          "output_type": "stream",
          "name": "stdout",
          "text": [
            "1/1 [==============================] - 0s 57ms/step\n",
            "The predicted sentiment is Negative\n"
          ]
        }
      ]
    },
    {
      "cell_type": "code",
      "source": [
        "predict_class('อย่างห่วย')"
      ],
      "metadata": {
        "colab": {
          "base_uri": "https://localhost:8080/"
        },
        "id": "0Z-hAP6-Z6XY",
        "outputId": "9561e69f-d835-4d47-df19-0521f126e6d9"
      },
      "execution_count": 164,
      "outputs": [
        {
          "output_type": "stream",
          "name": "stdout",
          "text": [
            "1/1 [==============================] - 0s 40ms/step\n",
            "The predicted sentiment is Neutral\n"
          ]
        }
      ]
    },
    {
      "cell_type": "code",
      "source": [],
      "metadata": {
        "id": "jCFcLmq-eXGJ"
      },
      "execution_count": null,
      "outputs": []
    }
  ]
}